{
  "cells": [
    {
      "cell_type": "markdown",
      "metadata": {
        "id": "hUpZAjdeSXEl"
      },
      "source": [
        "# Программирование и компьютерные науки\n",
        "\n",
        "## Семинар 9"
      ]
    },
    {
      "cell_type": "code",
      "execution_count": 1,
      "metadata": {
        "id": "bCPlLwMPSXEo",
        "outputId": "433bd457-c7d1-4626-a906-03d21731b7a0",
        "colab": {
          "base_uri": "https://localhost:8080/"
        }
      },
      "outputs": [
        {
          "output_type": "stream",
          "name": "stdout",
          "text": [
            "Populating the interactive namespace from numpy and matplotlib\n"
          ]
        }
      ],
      "source": [
        "%pylab inline"
      ]
    },
    {
      "cell_type": "markdown",
      "metadata": {
        "id": "QmU7cBiSSXEp"
      },
      "source": [
        "## Разреженные матрицы\n",
        "\n",
        "Разреженная матрица — это матрица, большинство элементов которой равны нулю. Такие матрицы возникают во многих областях науки, в том числе и в машинном обучении.\n",
        "\n",
        "Для разреженных матриц можно определить следующие характеристики:\n",
        "- разреженность (sparsity) — доля нулевых элементов матрицы,\n",
        "- плотность (density) — доля ненулевых элементов матрицы, или $1 - \\text{sparsity}$.\n",
        "\n",
        "Для разреженных матриц существуют специальные способы их хранения в памяти компьютера, при которых хранятся только ненулевые значения, тем самым сокращается объём занимаемой памяти. Эти способы реализованы в библиотеке [scipy.sparse](http://docs.scipy.org/doc/scipy/reference/sparse.html). Кроме того, разреженные матрицы поддерживаются большинством реализаций методов машинного обучения."
      ]
    },
    {
      "cell_type": "code",
      "execution_count": 2,
      "metadata": {
        "collapsed": true,
        "id": "v2Efaaq4SXEq"
      },
      "outputs": [],
      "source": [
        "import numpy as np\n",
        "import scipy.sparse as sp"
      ]
    },
    {
      "cell_type": "markdown",
      "metadata": {
        "id": "ybR28Es5SXEq"
      },
      "source": [
        "### COOrdinate format\n",
        "\n",
        "[Координатный формат](http://docs.scipy.org/doc/scipy/reference/generated/scipy.sparse.coo_matrix.html#scipy.sparse.coo_matrix) задаёт матрицу при помощи троек (индекс строки, индекс столбца, значение элемента), описывающих ненулевые элементы матрицы. Как правило, тройки сортируют по индексу строки, а затем индексу столбца для ускорения работы. \n",
        "\n",
        "Объём занимаемой памяти — $O(n),$ где $n$ — число ненулевых элементов в матрице."
      ]
    },
    {
      "cell_type": "code",
      "execution_count": 3,
      "metadata": {
        "id": "pXRRJfXBSXEr",
        "outputId": "61a0d5bf-4e69-446e-bb8b-cca81ac3286f",
        "colab": {
          "base_uri": "https://localhost:8080/"
        }
      },
      "outputs": [
        {
          "output_type": "stream",
          "name": "stdout",
          "text": [
            "[[1 2 3]\n",
            " [4 5 6]\n",
            " [7 8 9]]\n"
          ]
        }
      ],
      "source": [
        "m = (np.arange(9) + 1).reshape(3,3)\n",
        "print(m)\n",
        "sparse_m = sp.coo_matrix(m)"
      ]
    },
    {
      "cell_type": "code",
      "execution_count": 4,
      "metadata": {
        "id": "vSY06NAZSXEr",
        "outputId": "2f8ac483-5c80-4ed5-85ba-09476e4f16d6",
        "colab": {
          "base_uri": "https://localhost:8080/"
        }
      },
      "outputs": [
        {
          "output_type": "stream",
          "name": "stdout",
          "text": [
            "(0, 0, 1)\n",
            "(0, 1, 2)\n",
            "(0, 2, 3)\n",
            "(1, 0, 4)\n",
            "(1, 1, 5)\n",
            "(1, 2, 6)\n",
            "(2, 0, 7)\n",
            "(2, 1, 8)\n",
            "(2, 2, 9)\n"
          ]
        }
      ],
      "source": [
        "for i in range(len(sparse_m.data)):\n",
        "    print('(%d, %d, %d)' % (sparse_m.row[i], sparse_m.col[i], sparse_m.data[i]))"
      ]
    },
    {
      "cell_type": "markdown",
      "metadata": {
        "id": "nD1KbUvtSXEs"
      },
      "source": [
        "Для матрицы, содержащей нулевые элементы, имеем:"
      ]
    },
    {
      "cell_type": "code",
      "execution_count": 5,
      "metadata": {
        "id": "w_H6mkS4SXEs",
        "outputId": "712a32c5-cc4a-4f8d-d37b-7bc016b90066",
        "colab": {
          "base_uri": "https://localhost:8080/"
        }
      },
      "outputs": [
        {
          "output_type": "stream",
          "name": "stdout",
          "text": [
            "[[1. 0. 0.]\n",
            " [0. 2. 0.]\n",
            " [0. 0. 3.]]\n"
          ]
        }
      ],
      "source": [
        "m = np.eye(3)*np.arange(1,4)\n",
        "print(m)\n",
        "sparse_m = sp.coo_matrix(m)"
      ]
    },
    {
      "cell_type": "code",
      "execution_count": 7,
      "metadata": {
        "id": "ETxV48pASXEs",
        "outputId": "257c8602-7e3a-4f48-e2b2-968503186ccb",
        "colab": {
          "base_uri": "https://localhost:8080/"
        }
      },
      "outputs": [
        {
          "output_type": "stream",
          "name": "stdout",
          "text": [
            "(0, 0, 1)\n",
            "(1, 1, 2)\n",
            "(2, 2, 3)\n"
          ]
        }
      ],
      "source": [
        "for i in range(len(sparse_m.data)):\n",
        "    print('(%d, %d, %d)' % (sparse_m.row[i], sparse_m.col[i], sparse_m.data[i]))"
      ]
    },
    {
      "cell_type": "markdown",
      "metadata": {
        "id": "Ocnhxbg6SXEt"
      },
      "source": [
        "### Compressed Sparse Row matrix\n",
        "\n",
        "[CSR формат](http://docs.scipy.org/doc/scipy/reference/generated/scipy.sparse.csr_matrix.html#scipy.sparse.csr_matrix) — разреженная по строчкам матрица. \n",
        "\n",
        "<img src=\"https://github.com/esokolov/ml-course-hse/blob/master/2016-fall/seminars/images/arrays.png?raw=1\">\n",
        "\n",
        "Формат задаёт матрицу при помощи трёх массивов:\n",
        "1. $i$-ый элемент первого массива соответствует $i$-ой строке и содержит индекс некоторого элемента во втором массиве.\n",
        "2. Во втором массиве по порядку для каждой строки записаны индексы столбцов ненулевых элементов.\n",
        "3. Третий массив имеет такую же длину, как и второй, и содержит значения соответствующих ненулевых элементов.\n",
        "\n",
        "Обозначим описанные массивы $a,b,c$. Для получения элемента матрицы на позиции $(i, j)$ необходимо осуществить следующую последовательность действий:\n",
        "1. Получить значения $a[i]=k_{left}, a[i+1]=k_{right}$.\n",
        "2. Тогда индексы столбцов ненулевых элементов $i$-ой строки будут находиться в \"подмассиве\" $b[k_{left}:k_{right}]$.\n",
        "3. В цикле перебираем элементы подмассива $b[k_{left}:k_{right}]$, пока не встретим элемент, равный $j$.\n",
        "4. Если такой элемент обнаружен на позиции $m$ (в терминах массива $b$), то ответом является значение $c[m]$.\n",
        "5. Иначе ответом является 0.если мы не встретили элемент, равный $j$, то возвращаем $0$.\n",
        "\n",
        "Объём занимаемой памяти — $O(n)$, где $n$ — число ненулевых элементов."
      ]
    },
    {
      "cell_type": "code",
      "execution_count": 10,
      "metadata": {
        "id": "qczJd2IiSXEt",
        "outputId": "2da4c6bb-36bb-4d2c-8850-e5ec085b6f22",
        "colab": {
          "base_uri": "https://localhost:8080/"
        }
      },
      "outputs": [
        {
          "output_type": "stream",
          "name": "stdout",
          "text": [
            "[[1 2 3]\n",
            " [4 5 6]\n",
            " [7 8 9]]\n"
          ]
        }
      ],
      "source": [
        "m = (np.arange(9) + 1).reshape(3,3)\n",
        "print(m)\n",
        "sparse_m = sp.csr_matrix(m)"
      ]
    },
    {
      "cell_type": "code",
      "execution_count": 11,
      "metadata": {
        "id": "_xbcCOQmSXEu",
        "outputId": "84b94a2a-a0b9-495e-8646-537be1b8c0c7",
        "colab": {
          "base_uri": "https://localhost:8080/"
        }
      },
      "outputs": [
        {
          "output_type": "stream",
          "name": "stdout",
          "text": [
            "a [0 3 6 9]\n",
            "b [0 1 2 0 1 2 0 1 2]\n",
            "c [1 2 3 4 5 6 7 8 9]\n"
          ]
        }
      ],
      "source": [
        "print('a', sparse_m.indptr)\n",
        "print('b', sparse_m.indices)\n",
        "print('c', sparse_m.data)"
      ]
    },
    {
      "cell_type": "markdown",
      "metadata": {
        "id": "iVCNBuwwSXEu"
      },
      "source": [
        "Для матрицы, содержащей нулевые элементы:"
      ]
    },
    {
      "cell_type": "code",
      "execution_count": 12,
      "metadata": {
        "id": "TjgNNXSCSXEu",
        "outputId": "4de075b5-a8bc-4324-d811-36c2742cafea",
        "colab": {
          "base_uri": "https://localhost:8080/"
        }
      },
      "outputs": [
        {
          "output_type": "stream",
          "name": "stdout",
          "text": [
            "[[1 0 0]\n",
            " [1 2 0]\n",
            " [1 2 3]]\n"
          ]
        }
      ],
      "source": [
        "m = np.tril(np.arange(1,4))\n",
        "print(m)\n",
        "sparse_m = sp.csr_matrix(m)"
      ]
    },
    {
      "cell_type": "code",
      "execution_count": 13,
      "metadata": {
        "id": "bd4VAKZDSXEu",
        "outputId": "a6cd5a4f-ef8b-433d-97e1-c96bec9e91c7",
        "colab": {
          "base_uri": "https://localhost:8080/"
        }
      },
      "outputs": [
        {
          "output_type": "stream",
          "name": "stdout",
          "text": [
            "a [0 1 3 6]\n",
            "b [0 0 1 0 1 2]\n",
            "c [1 1 2 1 2 3]\n"
          ]
        }
      ],
      "source": [
        "print('a', sparse_m.indptr)\n",
        "print('b', sparse_m.indices)\n",
        "print('c', sparse_m.data)"
      ]
    },
    {
      "cell_type": "markdown",
      "metadata": {
        "id": "BF8a7UEDSXEv"
      },
      "source": [
        "### Compressed Sparse Column matrix\n",
        "\n",
        "[CSC формат](http://docs.scipy.org/doc/scipy/reference/generated/scipy.sparse.csc_matrix.html#scipy.sparse.csc_matrix) — разреженная по столбцам матрица. \n",
        "\n",
        "Формат CSC задаёт матрицу аналогично формату CSR, но при этом элементы первого массива соответствуют столбцам, а не строкам.\n",
        "\n",
        "Объём занимаемой памяти — $O(n)$, где $n$ — число ненулевых элементов."
      ]
    },
    {
      "cell_type": "code",
      "execution_count": 15,
      "metadata": {
        "id": "z5xK-yf9SXEv",
        "outputId": "4ebb3ed5-d37a-4c6d-941c-806da14056f5",
        "colab": {
          "base_uri": "https://localhost:8080/"
        }
      },
      "outputs": [
        {
          "output_type": "stream",
          "name": "stdout",
          "text": [
            "[[1 2 3]\n",
            " [4 5 6]\n",
            " [7 8 9]]\n"
          ]
        }
      ],
      "source": [
        "m = (np.arange(9) + 1).reshape(3,3)\n",
        "print(m)\n",
        "sparse_m = sp.csc_matrix(m)"
      ]
    },
    {
      "cell_type": "code",
      "execution_count": 16,
      "metadata": {
        "id": "e6u8W3eASXEv",
        "outputId": "7cf1bb7c-e706-430c-ab5b-36021e13c8b5",
        "colab": {
          "base_uri": "https://localhost:8080/"
        }
      },
      "outputs": [
        {
          "output_type": "stream",
          "name": "stdout",
          "text": [
            "a [0 3 6 9]\n",
            "b [0 1 2 0 1 2 0 1 2]\n",
            "c [1 4 7 2 5 8 3 6 9]\n"
          ]
        }
      ],
      "source": [
        "print('a', sparse_m.indptr)\n",
        "print('b', sparse_m.indices)\n",
        "print('c', sparse_m.data)"
      ]
    },
    {
      "cell_type": "code",
      "execution_count": 17,
      "metadata": {
        "id": "acsrGx64SXEv",
        "outputId": "18957b2f-4707-4d5a-d054-aa7a4faec01b",
        "colab": {
          "base_uri": "https://localhost:8080/"
        }
      },
      "outputs": [
        {
          "output_type": "stream",
          "name": "stdout",
          "text": [
            "[[1 0 0]\n",
            " [1 2 0]\n",
            " [1 2 3]]\n"
          ]
        }
      ],
      "source": [
        "m = np.tril(np.arange(1,4))\n",
        "print(m)\n",
        "sparse_m = sp.csc_matrix(m)"
      ]
    },
    {
      "cell_type": "code",
      "execution_count": 18,
      "metadata": {
        "id": "ViFP_SD2SXEw",
        "outputId": "af4d2f2b-84cc-43e2-dc09-b9c76487693e",
        "colab": {
          "base_uri": "https://localhost:8080/"
        }
      },
      "outputs": [
        {
          "output_type": "stream",
          "name": "stdout",
          "text": [
            "a [0 3 5 6]\n",
            "b [0 1 2 1 2 2]\n",
            "c [1 1 1 2 2 3]\n"
          ]
        }
      ],
      "source": [
        "print('a', sparse_m.indptr)\n",
        "print('b', sparse_m.indices)\n",
        "print('c', sparse_m.data)"
      ]
    },
    {
      "cell_type": "markdown",
      "metadata": {
        "id": "OpmwcylvSXEw"
      },
      "source": [
        "## Умножение разреженных матриц\n",
        "\n",
        "Как мы убедились, объём занимаемой памяти практически не отличается для всех вариантов хранения разреженных матриц. В таком случае использование какого из вариантов даёт больше преимуществ? Оказывается, что все три способа кардинально различаются по времени умножения матриц.\n",
        "\n",
        "Для начала вспомним правило умножения матриц:\n",
        "$$C = A\\cdot B$$\n",
        "$$C_{ij} = \\sum_k A_{ik}B_{kj}$$\n",
        "\n",
        "Для нахождения элемента $C_{ij}$ необходимо получить $i$-ую строчку матрицы $A$ и $j$-ый столбец матрицы $B$. Исследуем время выполнения этих операций для каждого из форматов:\n",
        "\n",
        "- **COO.** Стоимость получения строки — $O(n)$. Стоимость получения столбца — $O(n)$. При условии, что тройки отсортированы, время поиска можно сократить, воспользовавшись бинарным поиском.\n",
        "- **CSR.** Стоимость получения строки — $O(1)$. Стоимость получения столбца — $O(n)$.\n",
        "- **CSC.** Стоимость получения строки — $O(n)$. Стоимость получения столбца — $O(1)$.\n",
        "\n",
        "Таким образом, время перемножения матриц будет оптимальным, если матрица $A$ задаётся в формате CSR, а матрица $B$ — в формате CSC."
      ]
    },
    {
      "cell_type": "markdown",
      "metadata": {
        "id": "hIoIP0unSXEx"
      },
      "source": [
        "## Работа с текстовыми данными\n",
        "\n",
        "Разреженные матрицы имеют место в машинном обучении, в частности, в задачах обработки текстов. \n",
        "\n",
        "Как правило, модели машинного обучения действуют в предположении, что матрица \"объект-признак\" является вещественнозначной, поэтому при работе с текстами сперва для каждого из них необходимо составить его признаковое описание. Для этого широко используются техники векторизации, tf-idf и пр. Рассмотрим их на примере датасета отзывов о банках.\n",
        "\n",
        "Сперва загрузим данные:"
      ]
    },
    {
      "cell_type": "code",
      "execution_count": 42,
      "metadata": {
        "id": "Ry-6RmtfSXEx"
      },
      "outputs": [],
      "source": [
        "import json\n",
        "\n",
        "import bz2\n",
        "import regex\n",
        "from tqdm import tqdm"
      ]
    },
    {
      "cell_type": "code",
      "source": [
        "!wget -O banki_responses.json.bz2 -q https://www.dropbox.com/s/7v3s14tu0cy7cnv/banki_responses.json.bz2?dl=0"
      ],
      "metadata": {
        "id": "9HFvQ_KeHCWs"
      },
      "execution_count": 20,
      "outputs": []
    },
    {
      "cell_type": "code",
      "execution_count": 49,
      "metadata": {
        "id": "4xRPpBmZSXEx",
        "outputId": "d7e5f9c5-a158-49eb-d4a8-e34dfaa6ebd9",
        "colab": {
          "base_uri": "https://localhost:8080/"
        }
      },
      "outputs": [
        {
          "output_type": "stream",
          "name": "stderr",
          "text": [
            "201030it [00:50, 3990.53it/s]\n"
          ]
        }
      ],
      "source": [
        "responses = []\n",
        "with bz2.BZ2File('banki_responses.json.bz2', 'r') as thefile:\n",
        "    for row in tqdm(thefile):\n",
        "        resp = json.loads(row)\n",
        "        if not resp['rating_not_checked']:\n",
        "            responses.append(resp)"
      ]
    },
    {
      "cell_type": "markdown",
      "metadata": {
        "id": "Gp1dg1NMSXEx"
      },
      "source": [
        "Данные содержат тексты отзывов о банках, некоторую дополнительную информацию, а также оценку банка от 1 до 5. Посмотрим на пример отзыва:"
      ]
    },
    {
      "cell_type": "code",
      "execution_count": 52,
      "metadata": {
        "id": "jQcugDl3SXEx",
        "outputId": "dd1e1fe7-e3ca-414a-a553-452e473b799d",
        "colab": {
          "base_uri": "https://localhost:8080/"
        }
      },
      "outputs": [
        {
          "output_type": "stream",
          "name": "stdout",
          "text": [
            "Банк отказывается возвращать депозит после окончания срока действия договора. Предлагает обращаться в ЦО, где в порядке живой очереди можно забирать не более 500$/день в порядке живой очереди. Налицо отвратительное отношение к вкладчикам. Советую всем обращаться с жалобой в ЦБ и роспотребнадзор.\n"
          ]
        }
      ],
      "source": [
        "interesting_responses = list(filter(lambda r: u'отвратительно' in r['text'], responses))\n",
        "print(interesting_responses[0]['text'])"
      ]
    },
    {
      "cell_type": "markdown",
      "metadata": {
        "id": "XEPkun2qSXEy"
      },
      "source": [
        "Приведём текст отзыва в нижний регистр, а также избавимся от всех символов, кроме кириллицы:"
      ]
    },
    {
      "cell_type": "code",
      "execution_count": 55,
      "metadata": {
        "id": "pPUmea4BSXEy",
        "outputId": "bd86ed67-c042-4774-8585-bb40305f47a4",
        "colab": {
          "base_uri": "https://localhost:8080/"
        }
      },
      "outputs": [
        {
          "output_type": "stream",
          "name": "stdout",
          "text": [
            "банк отказывается возвращать депозит после окончания срока действия договора  предлагает обращаться в цо  где в порядке живой очереди можно забирать не более      день в порядке живой очереди  налицо отвратительное отношение к вкладчикам  советую всем обращаться с жалобой в цб и роспотребнадзор \n"
          ]
        }
      ],
      "source": [
        "print(regex.sub(r'[^\\p{Cyrillic}]', ' ', interesting_responses[0]['text'].lower()))"
      ]
    },
    {
      "cell_type": "markdown",
      "metadata": {
        "id": "bnBYJuXfSXEy"
      },
      "source": [
        "Сформируем выборку отзывов, предобработав их аналогичным образом, и вектор ответов:"
      ]
    },
    {
      "cell_type": "code",
      "execution_count": 57,
      "metadata": {
        "collapsed": true,
        "id": "40mJcmAQSXEy"
      },
      "outputs": [],
      "source": [
        "responses = list(filter(lambda r: r['rating_grade'] is not None, responses))\n",
        "texts = list(map(lambda r: regex.sub(r'[^\\p{Cyrillic}]', ' ', r['text'].lower()), responses))\n",
        "ratings = list(map(lambda r: r['rating_grade'], responses))"
      ]
    },
    {
      "cell_type": "code",
      "execution_count": 58,
      "metadata": {
        "id": "AmC9uovkSXEz",
        "outputId": "0c22cfa9-46be-450b-e7c2-b09235eb0285",
        "colab": {
          "base_uri": "https://localhost:8080/",
          "height": 430
        }
      },
      "outputs": [
        {
          "output_type": "display_data",
          "data": {
            "text/plain": [
              "<Figure size 640x480 with 1 Axes>"
            ],
            "image/png": "[encoded data removed]"
          },
          "metadata": {}
        }
      ],
      "source": [
        "import matplotlib.pyplot as plt\n",
        "%matplotlib inline\n",
        "plt.hist(ratings)\n",
        "plt.grid()"
      ]
    },
    {
      "cell_type": "markdown",
      "metadata": {
        "id": "LIKCi4ABSXEz"
      },
      "source": [
        "### Векторизация\n",
        "\n",
        "Самый очевидный способ формирования признакового описания текстов — векторизация. Пусть у нас имеется коллекция текстов $D = \\{d_i\\}_{i=1}^l$ и словарь всех слов, встречающихся в выборке $V = \\{v_j\\}_{j=1}^d.$ В этом случае некоторый текст $d_i$ описывается вектором $(x_{ij})_{j=1}^d,$ где\n",
        "$$x_{ij} = \\sum_{v \\in d_i} [v = v_j].$$\n",
        "\n",
        "Таким образом, текст $d_i$ описывается вектором количества вхождений каждого слова из словаря в данный текст."
      ]
    },
    {
      "cell_type": "code",
      "execution_count": 59,
      "metadata": {
        "id": "RfzOjmnbSXEz"
      },
      "outputs": [],
      "source": [
        "from sklearn.feature_extraction.text import CountVectorizer"
      ]
    },
    {
      "cell_type": "code",
      "execution_count": 71,
      "metadata": {
        "id": "AJZ3NTtzSXEz",
        "colab": {
          "base_uri": "https://localhost:8080/"
        },
        "outputId": "7b95ba3a-386f-41fd-8563-b96e756261e0"
      },
      "outputs": [
        {
          "output_type": "stream",
          "name": "stdout",
          "text": [
            "CPU times: user 14.6 s, sys: 178 ms, total: 14.8 s\n",
            "Wall time: 14.9 s\n"
          ]
        }
      ],
      "source": [
        "%%time\n",
        "vectorizer = CountVectorizer(encoding='utf8', min_df=5)\n",
        "_ = vectorizer.fit(texts)"
      ]
    },
    {
      "cell_type": "markdown",
      "metadata": {
        "id": "1Eua8iy9SXEz"
      },
      "source": [
        "Результатом является разреженная матрица."
      ]
    },
    {
      "cell_type": "code",
      "execution_count": 72,
      "metadata": {
        "id": "BsbEmFN0SXEz",
        "outputId": "d2c5b0ed-3be6-4104-868d-dbf396f8d442",
        "colab": {
          "base_uri": "https://localhost:8080/"
        }
      },
      "outputs": [
        {
          "output_type": "execute_result",
          "data": {
            "text/plain": [
              "<1x72477 sparse matrix of type '<class 'numpy.int64'>'\n",
              "\twith 166 stored elements in Compressed Sparse Row format>"
            ]
          },
          "metadata": {},
          "execution_count": 72
        }
      ],
      "source": [
        "vectorizer.transform(texts[:1])"
      ]
    },
    {
      "cell_type": "code",
      "source": [
        "vectorizer.transform(texts[:1]).data"
      ],
      "metadata": {
        "colab": {
          "base_uri": "https://localhost:8080/"
        },
        "id": "7CfNR1phlMSA",
        "outputId": "4cdb3ba0-f4cf-496a-972d-99379939de50"
      },
      "execution_count": 73,
      "outputs": [
        {
          "output_type": "execute_result",
          "data": {
            "text/plain": [
              "array([1, 1, 2, 1, 1, 1, 1, 2, 2, 1, 2, 1, 1, 1, 1, 1, 2, 1, 1, 1, 1, 3,\n",
              "       1, 1, 1, 1, 1, 1, 1, 1, 1, 1, 1, 1, 1, 1, 1, 1, 1, 1, 1, 1, 1, 1,\n",
              "       1, 1, 1, 1, 1, 1, 3, 3, 2, 1, 1, 1, 1, 1, 1, 1, 1, 1, 1, 1, 1, 1,\n",
              "       1, 1, 1, 1, 1, 1, 7, 1, 1, 8, 1, 2, 1, 1, 2, 1, 1, 1, 1, 1, 1, 1,\n",
              "       1, 1, 1, 2, 1, 1, 1, 1, 1, 1, 1, 1, 2, 1, 1, 1, 1, 1, 1, 1, 1, 1,\n",
              "       1, 1, 1, 2, 1, 1, 1, 1, 1, 1, 1, 1, 1, 1, 1, 1, 1, 1, 1, 1, 1, 1,\n",
              "       1, 1, 1, 1, 1, 1, 1, 1, 1, 1, 1, 1, 1, 2, 2, 1, 2, 1, 1, 2, 1, 1,\n",
              "       1, 1, 1, 1, 1, 1, 1, 1, 1, 7, 1, 1])"
            ]
          },
          "metadata": {},
          "execution_count": 73
        }
      ]
    },
    {
      "cell_type": "markdown",
      "metadata": {
        "id": "5Z2HfPB3SXFI"
      },
      "source": [
        "### TF-IDF\n",
        "\n",
        "Ещё один способ работы с текстовыми данными — [TF-IDF](https://en.wikipedia.org/wiki/Tf–idf) (**T**erm **F**requency–**I**nverse **D**ocument **F**requency). Рассмотрим коллекцию текстов $D$.  Для каждого уникального слова $t$ из документа $d \\in D$ вычислим следующие величины:\n",
        "\n",
        "1. Term Frequency – количество вхождений слова в отношении к общему числу слов в тексте:\n",
        "$$\\text{tf}(t, d) = \\frac{n_{td}}{\\sum_{t \\in d} n_{td}},$$\n",
        "где $n_{td}$ — количество вхождений слова $t$ в текст $d$.\n",
        "1. Inverse Document Frequency\n",
        "$$\\text{idf}(t, D) = \\log \\frac{\\left| D \\right|}{\\left| \\{d\\in D: t \\in d\\} \\right|},$$\n",
        "где $\\left| \\{d\\in D: t \\in d\\} \\right|$ – количество текстов в коллекции, содержащих слово $t$.\n",
        "\n",
        "Тогда для каждой пары (слово, текст) $(t, d)$ вычислим величину:\n",
        "$$\\text{tf-idf}(t,d, D) = \\text{tf}(t, d)\\cdot \\text{idf}(t, D).$$\n",
        "\n",
        "Отметим, что значение $\\text{tf}(t, d)$ корректируется для часто встречающихся общеупотребимых слов при помощи значения $\\text{idf}(t, D).$\n",
        "\n",
        "Признаковым описанием одного объекта $d \\in D$ будет вектор $\\bigg(\\text{tf-idf}(t,d, D)\\bigg)_{t\\in V}$, где $V$ – словарь всех слов, встречающихся в коллекции $D$."
      ]
    },
    {
      "cell_type": "code",
      "execution_count": 63,
      "metadata": {
        "collapsed": true,
        "id": "LNUbQw_ASXFI"
      },
      "outputs": [],
      "source": [
        "from sklearn.feature_extraction.text import TfidfVectorizer"
      ]
    },
    {
      "cell_type": "code",
      "execution_count": 74,
      "metadata": {
        "collapsed": true,
        "id": "APKjX7IGSXFI",
        "colab": {
          "base_uri": "https://localhost:8080/"
        },
        "outputId": "88d4566a-aad9-46bf-9de7-db4babf2fb3e"
      },
      "outputs": [
        {
          "output_type": "stream",
          "name": "stdout",
          "text": [
            "CPU times: user 14.4 s, sys: 161 ms, total: 14.5 s\n",
            "Wall time: 14.6 s\n"
          ]
        }
      ],
      "source": [
        "%%time\n",
        "vectorizer = TfidfVectorizer(encoding='utf8', min_df=5)\n",
        "_ = vectorizer.fit(texts)"
      ]
    },
    {
      "cell_type": "markdown",
      "metadata": {
        "id": "e8n9wjgYSXFI"
      },
      "source": [
        "На выходе получаем разреженную матрицу."
      ]
    },
    {
      "cell_type": "code",
      "execution_count": 75,
      "metadata": {
        "id": "Bw82zLbzSXFJ",
        "outputId": "45fe790f-5402-4c06-f9c0-6bc33a1afc01",
        "colab": {
          "base_uri": "https://localhost:8080/"
        }
      },
      "outputs": [
        {
          "output_type": "execute_result",
          "data": {
            "text/plain": [
              "<1x72477 sparse matrix of type '<class 'numpy.float64'>'\n",
              "\twith 166 stored elements in Compressed Sparse Row format>"
            ]
          },
          "metadata": {},
          "execution_count": 75
        }
      ],
      "source": [
        "vectorizer.transform(texts[:1])"
      ]
    },
    {
      "cell_type": "code",
      "source": [
        "vectorizer.transform(texts[:1]).data"
      ],
      "metadata": {
        "colab": {
          "base_uri": "https://localhost:8080/"
        },
        "id": "gwby1YXPlQXZ",
        "outputId": "d734a629-e3b3-4bab-80b8-9b8f8344a684"
      },
      "execution_count": 76,
      "outputs": [
        {
          "output_type": "execute_result",
          "data": {
            "text/plain": [
              "array([0.05140577, 0.12668783, 0.10612272, 0.08193637, 0.0248289 ,\n",
              "       0.05166677, 0.03590111, 0.05129787, 0.08873269, 0.09454437,\n",
              "       0.05191242, 0.12550273, 0.03851543, 0.04464916, 0.04226121,\n",
              "       0.08159327, 0.07495108, 0.198989  , 0.08752852, 0.07894877,\n",
              "       0.04408565, 0.07335611, 0.11606197, 0.08795419, 0.04919692,\n",
              "       0.08525054, 0.06207737, 0.04037283, 0.03823641, 0.03951032,\n",
              "       0.12441254, 0.04981359, 0.05392155, 0.10501699, 0.03027151,\n",
              "       0.09732307, 0.10167839, 0.1182089 , 0.11151977, 0.04671403,\n",
              "       0.03496325, 0.12389851, 0.03260637, 0.04823129, 0.07020873,\n",
              "       0.04905738, 0.12389851, 0.08545894, 0.10514369, 0.08125861,\n",
              "       0.09431253, 0.07115122, 0.09173376, 0.03312771, 0.07837006,\n",
              "       0.06430327, 0.08082481, 0.09402818, 0.08202934, 0.08125861,\n",
              "       0.05805574, 0.06574112, 0.06701952, 0.09538836, 0.05215997,\n",
              "       0.13847157, 0.12036393, 0.05724585, 0.12389851, 0.08267406,\n",
              "       0.08738954, 0.06379865, 0.04645995, 0.08528012, 0.03329734,\n",
              "       0.08304587, 0.09908048, 0.04857093, 0.02926569, 0.08335082,\n",
              "       0.06869073, 0.11151977, 0.06790785, 0.09595992, 0.06309544,\n",
              "       0.06822696, 0.04850709, 0.04202423, 0.03946924, 0.12340317,\n",
              "       0.11430331, 0.09932738, 0.09018044, 0.10115269, 0.03931334,\n",
              "       0.04298328, 0.03559308, 0.07772592, 0.0588444 , 0.04010175,\n",
              "       0.06610568, 0.02152751, 0.05476765, 0.10358196, 0.04779564,\n",
              "       0.08799027, 0.03861421, 0.04282763, 0.06173672, 0.07965928,\n",
              "       0.04371637, 0.07803548, 0.10592968, 0.05952014, 0.08545809,\n",
              "       0.0597    , 0.05138855, 0.02459478, 0.07470369, 0.04352039,\n",
              "       0.07523134, 0.07556094, 0.05069349, 0.07149121, 0.09776012,\n",
              "       0.03173102, 0.07917796, 0.07975763, 0.04554608, 0.06076308,\n",
              "       0.02498441, 0.10218103, 0.06624403, 0.03341379, 0.09386037,\n",
              "       0.10476707, 0.08061298, 0.08132489, 0.11193253, 0.09583082,\n",
              "       0.07649131, 0.0654067 , 0.08238374, 0.02135754, 0.08618662,\n",
              "       0.10690796, 0.03282988, 0.07878639, 0.09258752, 0.11940833,\n",
              "       0.06204507, 0.04653723, 0.03428121, 0.0305839 , 0.02886322,\n",
              "       0.06026069, 0.07977738, 0.07192711, 0.12057397, 0.0824317 ,\n",
              "       0.11578113, 0.03902659, 0.0515867 , 0.03691948, 0.0200837 ,\n",
              "       0.07226592])"
            ]
          },
          "metadata": {},
          "execution_count": 76
        }
      ]
    },
    {
      "cell_type": "markdown",
      "metadata": {
        "id": "VqjjORNbSXFJ"
      },
      "source": [
        "Заметим, что оба метода возвращают вектор длины 72477 (размер нашего словаря)."
      ]
    },
    {
      "cell_type": "markdown",
      "metadata": {
        "id": "M8x4wgTySXFJ"
      },
      "source": [
        "## Лемматизация и стемминг\n",
        "\n",
        "Заметим, что одно и то же слово может встречаться в различных формах (например, \"сотрудник\" и \"сотрудника\"), но описанные выше методы интерпретируют их как различные слова, что делает признаковое описание избыточным. Устранить эту проблему можно при помощи **лемматизации** и **стемминга**.\n",
        "\n",
        "### Стемминг\n",
        "\n",
        "[**Stemming**](https://en.wikipedia.org/wiki/Stemming) –  это процесс нахождения основы слова. В результате применения данной процедуры однокоренные слова, как правило, преобразуются к одинаковому виду.\n",
        "\n",
        "**Примеры стемминга:**\n",
        "\n",
        "| Word        | Stem           |\n",
        "| ----------- |:-------------:|\n",
        "| вагон | вагон |\n",
        "| вагона | вагон |\n",
        "| вагоне | вагон |\n",
        "| вагонов | вагон |\n",
        "| вагоном | вагон |\n",
        "| вагоны | вагон |\n",
        "| важная | важн |\n",
        "| важнее | важн |\n",
        "| важнейшие | важн |\n",
        "| важнейшими | важн |\n",
        "| важничал | важнича |\n",
        "| важно | важн |\n",
        "\n",
        "[Snowball](http://snowball.tartarus.org/) – фрэймворк для написания алгоритмов стемминга. Алгоритмы стемминга отличаются для разных языков и используют знания о конкретном языке – списки окончаний для разных частей речи, разных склонений и т.д. Пример алгоритма для русского языка – [Russian stemming](http://snowballstem.org/algorithms/russian/stemmer.html)."
      ]
    },
    {
      "cell_type": "code",
      "execution_count": 77,
      "metadata": {
        "id": "Q_BvyBM6SXFJ"
      },
      "outputs": [],
      "source": [
        "import nltk"
      ]
    },
    {
      "cell_type": "code",
      "execution_count": 78,
      "metadata": {
        "id": "26EDRtPkSXFK",
        "outputId": "d4ee0035-7432-418e-ab27-c5439236b4c1",
        "colab": {
          "base_uri": "https://localhost:8080/"
        }
      },
      "outputs": [
        {
          "output_type": "stream",
          "name": "stdout",
          "text": [
            "машин обучен\n"
          ]
        }
      ],
      "source": [
        "stemmer = nltk.stem.snowball.RussianStemmer()\n",
        "print(stemmer.stem(u'машинное'), stemmer.stem(u'обучение'))"
      ]
    },
    {
      "cell_type": "code",
      "execution_count": 79,
      "metadata": {
        "id": "tV9cWyFsSXFK",
        "outputId": "e22bb454-ab2b-4873-e162-f55f90778e45",
        "colab": {
          "base_uri": "https://localhost:8080/"
        }
      },
      "outputs": [
        {
          "output_type": "stream",
          "name": "stderr",
          "text": [
            "100%|██████████| 1000/1000 [00:07<00:00, 140.84it/s]\n"
          ]
        }
      ],
      "source": [
        "def stem_text(text, stemmer):\n",
        "    tokens = text.split()\n",
        "    return ' '.join(map(lambda w: stemmer.stem(w), tokens))\n",
        "\n",
        "stemmed_texts = []\n",
        "for t in tqdm(texts[:1000]):\n",
        "    stemmed_texts.append(stem_text(t, stemmer))"
      ]
    },
    {
      "cell_type": "code",
      "execution_count": 83,
      "metadata": {
        "id": "7BJw_EExSXFK",
        "outputId": "e5eb27ed-7b3f-42e9-ef65-f0f5c926b713",
        "colab": {
          "base_uri": "https://localhost:8080/"
        }
      },
      "outputs": [
        {
          "output_type": "stream",
          "name": "stdout",
          "text": [
            "для оплаты коммунальных платежей пользуюсь пластиковой картой и сайтом банка  с некоторых пор оплатить отчисления на капремонт стало невозможно  программа требует ввести лицевой счет  это номер квартиры   а после ввода пишет что счет не найден  при внешнем переводе из другого банка сумма возвращается обратно  т к  счет не найден  прошу проверить наличие счета                      и возможность его пополнения \n"
          ]
        }
      ],
      "source": [
        "print(texts[4])"
      ]
    },
    {
      "cell_type": "code",
      "execution_count": 82,
      "metadata": {
        "id": "5CMcDR2WSXFK",
        "outputId": "9b85f617-bfe9-47ad-fea3-89328d740022",
        "colab": {
          "base_uri": "https://localhost:8080/"
        }
      },
      "outputs": [
        {
          "output_type": "stream",
          "name": "stdout",
          "text": [
            "для оплат коммунальн платеж польз пластиков карт и сайт банк с некотор пор оплат отчислен на капремонт стал невозможн программ треб ввест лицев счет эт номер квартир а посл ввод пишет что счет не найд при внешн перевод из друг банк сумм возвраща обратн т к счет не найд прош провер налич счет и возможн ег пополнен\n"
          ]
        }
      ],
      "source": [
        "print(stemmed_texts[4])"
      ]
    },
    {
      "cell_type": "code",
      "execution_count": 84,
      "metadata": {
        "id": "j1VDR99kSXFL",
        "outputId": "d4544de6-b260-4e09-8c17-7ba496329054",
        "colab": {
          "base_uri": "https://localhost:8080/"
        }
      },
      "outputs": [
        {
          "output_type": "execute_result",
          "data": {
            "text/plain": [
              "88658"
            ]
          },
          "metadata": {},
          "execution_count": 84
        }
      ],
      "source": [
        "len(texts)"
      ]
    },
    {
      "cell_type": "markdown",
      "metadata": {
        "id": "uQGTSSBWSXFL"
      },
      "source": [
        "К сожалению, стеммер русского языка работает довольно медленно, – 1000 отзывов обрабатываются за 7 секунд, поэтому время обработки всей выборки можно грубо оценить в 23 минуты. В связи с этим в рамках семинара мы не будем проводить полную обработку всей выборки, однако вы можете проверить результат работы самостоятельно."
      ]
    },
    {
      "cell_type": "markdown",
      "metadata": {
        "id": "Q0NgA8XySXFL"
      },
      "source": [
        "### Лемматизация\n",
        "\n",
        "[Лемматизация](https://en.wikipedia.org/wiki/Lemmatisation) — процесс приведения слова к его нормальной форме (**лемме**):\n",
        "- для существительных — именительный падеж, единственное число;\n",
        "- для прилагательных — именительный падеж, единственное число, мужской род;\n",
        "- для глаголов, причастий, деепричастий — глагол в инфинитиве."
      ]
    },
    {
      "cell_type": "markdown",
      "metadata": {
        "id": "1Y4ZIy_WSXFL"
      },
      "source": [
        "## Классификация\n",
        "\n",
        "Воспользуемся изученными методами обработки текстов для решения задачи классификации отзывов на отзывы с положительной оценкой и отзывы с отрицательной оценкой. Будем считать отзывы с оценками 4-5 положительными, а остальные — отрицательными."
      ]
    },
    {
      "cell_type": "code",
      "execution_count": 85,
      "metadata": {
        "collapsed": true,
        "id": "CZTfwvpHSXFL"
      },
      "outputs": [],
      "source": [
        "vectorizer = CountVectorizer(encoding='utf8', min_df=5)\n",
        "_ = vectorizer.fit(texts)"
      ]
    },
    {
      "cell_type": "code",
      "execution_count": 86,
      "metadata": {
        "id": "9dhNZ9Y4SXFM"
      },
      "outputs": [],
      "source": [
        "X = vectorizer.transform(texts)\n",
        "Y = (np.array(ratings) > 3).astype(int)"
      ]
    },
    {
      "cell_type": "code",
      "execution_count": 94,
      "metadata": {
        "collapsed": true,
        "id": "2M4cxxsKSXFM"
      },
      "outputs": [],
      "source": [
        "from sklearn.model_selection import ShuffleSplit\n",
        "from sklearn.linear_model import LogisticRegression\n",
        "from sklearn.metrics import roc_auc_score, accuracy_score"
      ]
    },
    {
      "cell_type": "code",
      "source": [
        "cv = ShuffleSplit(n_splits=1, test_size=0.3)\n",
        "cv"
      ],
      "metadata": {
        "colab": {
          "base_uri": "https://localhost:8080/"
        },
        "id": "ET-fvQtSn8Vb",
        "outputId": "66b96ca4-9dc5-4a04-8b39-319a865b4394"
      },
      "execution_count": 97,
      "outputs": [
        {
          "output_type": "execute_result",
          "data": {
            "text/plain": [
              "ShuffleSplit(n_splits=1, random_state=None, test_size=0.3, train_size=None)"
            ]
          },
          "metadata": {},
          "execution_count": 97
        }
      ]
    },
    {
      "cell_type": "code",
      "execution_count": 104,
      "metadata": {
        "id": "i8Oqc9zASXFM",
        "outputId": "8b43d709-7962-49e8-e1d6-66b266a4a38a",
        "colab": {
          "base_uri": "https://localhost:8080/"
        }
      },
      "outputs": [
        {
          "output_type": "stream",
          "name": "stdout",
          "text": [
            "ROC-AUC: 0.963, ACC: 0.941\n"
          ]
        }
      ],
      "source": [
        "cv = ShuffleSplit(n_splits=1, test_size=0.3)\n",
        "for train_ids, test_ids in cv.split(X):\n",
        "    lr = LogisticRegression(solver='liblinear')\n",
        "    lr.fit(X[train_ids], Y[train_ids])\n",
        "    preds = lr.predict_proba(X[test_ids])[:,1]\n",
        "    print('ROC-AUC: %.3f, ACC: %.3f' % (roc_auc_score(Y[test_ids], preds), \n",
        "                                        accuracy_score(Y[test_ids], (preds > 0.5).astype(int))))"
      ]
    },
    {
      "cell_type": "code",
      "execution_count": 105,
      "metadata": {
        "collapsed": true,
        "id": "owf2kxPdSXFN"
      },
      "outputs": [],
      "source": [
        "vectorizer = TfidfVectorizer(encoding='utf8', min_df=5)\n",
        "_ = vectorizer.fit(texts)"
      ]
    },
    {
      "cell_type": "code",
      "execution_count": 106,
      "metadata": {
        "collapsed": true,
        "id": "KhC71bVqSXFN"
      },
      "outputs": [],
      "source": [
        "X = vectorizer.transform(texts)\n",
        "Y = (np.array(ratings) > 3).astype(int)"
      ]
    },
    {
      "cell_type": "code",
      "execution_count": 107,
      "metadata": {
        "id": "czWiIJe1SXFN",
        "outputId": "5b2a288c-e8ba-4d72-9f38-cae6f7434a87",
        "colab": {
          "base_uri": "https://localhost:8080/"
        }
      },
      "outputs": [
        {
          "output_type": "stream",
          "name": "stdout",
          "text": [
            "ROC-AUC: 0.975, ACC: 0.945\n"
          ]
        }
      ],
      "source": [
        "cv = ShuffleSplit(n_splits=1, test_size=0.3)\n",
        "for train_ids, test_ids in cv.split(X):\n",
        "    lr = LogisticRegression()\n",
        "    lr.fit(X[train_ids], Y[train_ids])\n",
        "    preds = lr.predict_proba(X[test_ids])[:,1]\n",
        "    print('ROC-AUC: %.3f, ACC: %.3f' % (roc_auc_score(Y[test_ids], preds), \n",
        "                                        accuracy_score(Y[test_ids], (preds > 0.5).astype(int))))"
      ]
    },
    {
      "cell_type": "markdown",
      "metadata": {
        "id": "qxf7p8FASXFN"
      },
      "source": [
        "## Важность признаков\n",
        "\n",
        "Как уже упоминалось ранее, веса признаков в линейной модели в случае, если признаки отмасштабированы, характеризуют степень их влияния на значение целевой переменной. В задаче классификации текстов, кроме того, признаки являются хорошо интерпретируемыми, поскольку каждый из них соответствует конкретному слову. Изучим влияние конкретных слов на значение целевой переменной:"
      ]
    },
    {
      "cell_type": "code",
      "execution_count": 109,
      "metadata": {
        "id": "YabkwHGZSXFO",
        "outputId": "a3dfff6a-8881-413b-b660-196c3333a961",
        "colab": {
          "base_uri": "https://localhost:8080/"
        }
      },
      "outputs": [
        {
          "output_type": "stream",
          "name": "stdout",
          "text": [
            "спасибо, 13.27\n",
            "приятно, 10.73\n",
            "благодарность, 8.82\n",
            "быстро, 8.14\n",
            "доволен, 6.73\n",
            "поблагодарить, 6.17\n",
            "очень, 5.68\n",
            "оперативно, 5.65\n",
            "оперативность, 5.23\n",
            "всегда, 5.14\n",
            "молодцы, 5.12\n",
            "вопросы, 5.03\n",
            "очередей, 5.02\n",
            "понравилось, 4.91\n",
            "все, 4.48\n",
            "проблем, 4.47\n",
            "выразить, 4.34\n",
            "нравится, 4.30\n",
            "большое, 4.18\n",
            "удобно, 4.09\n",
            "хочу, 4.08\n",
            "сразу, 4.00\n",
            "отметить, 4.00\n",
            "ткс, 3.98\n",
            "оценку, 3.91\n",
            "целом, 3.89\n",
            "четко, 3.87\n",
            "положительный, 3.73\n",
            "банков, 3.73\n",
            "...\n",
            "опять, -2.46\n",
            "пор, -2.47\n",
            "звонки, -2.47\n",
            "неужели, -2.48\n",
            "час, -2.53\n",
            "могут, -2.55\n",
            "дозвониться, -2.59\n",
            "ладно, -2.65\n",
            "вопрос, -2.66\n",
            "что, -2.66\n",
            "клиентов, -2.68\n",
            "сегодня, -2.69\n",
            "говорят, -2.76\n",
            "часа, -2.85\n",
            "ничего, -2.88\n",
            "якобы, -2.89\n",
            "нельзя, -2.93\n",
            "звоню, -2.96\n",
            "сказали, -3.01\n",
            "должен, -3.05\n",
            "видимо, -3.09\n",
            "нет, -3.36\n",
            "невозможно, -3.39\n",
            "никто, -3.51\n",
            "ответа, -3.54\n",
            "почему, -3.75\n",
            "зачем, -3.94\n",
            "вы, -3.95\n",
            "ответ, -4.32\n"
          ]
        }
      ],
      "source": [
        "f_weights = zip(vectorizer.get_feature_names_out(), lr.coef_[0])\n",
        "f_weights = sorted(f_weights, key=lambda i: i[1])\n",
        "for i in range(1,30):\n",
        "    print('%s, %.2f' % f_weights[-i])\n",
        "    \n",
        "print('...')\n",
        "for i in reversed(range(1,30)):\n",
        "    print('%s, %.2f' % f_weights[i])"
      ]
    },
    {
      "cell_type": "code",
      "source": [],
      "metadata": {
        "id": "47CVS72rpxv9"
      },
      "execution_count": null,
      "outputs": []
    }
  ],
  "metadata": {
    "kernelspec": {
      "display_name": "Python 2",
      "language": "python",
      "name": "python2"
    },
    "language_info": {
      "codemirror_mode": {
        "name": "ipython",
        "version": 2
      },
      "file_extension": ".py",
      "mimetype": "text/x-python",
      "name": "python",
      "nbconvert_exporter": "python",
      "pygments_lexer": "ipython2",
      "version": "2.7.10"
    },
    "colab": {
      "provenance": []
    }
  },
  "nbformat": 4,
  "nbformat_minor": 0
}