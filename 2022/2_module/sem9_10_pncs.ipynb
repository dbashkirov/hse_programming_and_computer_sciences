{
  "nbformat": 4,
  "nbformat_minor": 0,
  "metadata": {
    "colab": {
      "provenance": []
    },
    "kernelspec": {
      "name": "python3",
      "display_name": "Python 3"
    },
    "language_info": {
      "name": "python"
    }
  },
  "cells": [
    {
      "cell_type": "markdown",
      "source": [
        "## @dataclass"
      ],
      "metadata": {
        "id": "rbDkWOq62cs7"
      }
    },
    {
      "cell_type": "markdown",
      "source": [
        "Давайте попрактикуемся в написании этого декоратора. \\\\\n",
        "Предположим, что в университете есть экзамен и для его сдачи предоставляется 3 попытки. Нужно отсортировать студентов в порядке возрастания по количеству попыток, оценкам за экзамен и ФИО."
      ],
      "metadata": {
        "id": "xGAhRydfdNr2"
      }
    },
    {
      "cell_type": "code",
      "source": [
        "float('infinity') == float('infinity')"
      ],
      "metadata": {
        "colab": {
          "base_uri": "https://localhost:8080/"
        },
        "id": "BJzTBuAsf27g",
        "outputId": "b6cd6821-2726-47e9-a627-31ba55d2c553"
      },
      "execution_count": null,
      "outputs": [
        {
          "output_type": "execute_result",
          "data": {
            "text/plain": [
              "True"
            ]
          },
          "metadata": {},
          "execution_count": 1
        }
      ]
    },
    {
      "cell_type": "code",
      "source": [
        "from dataclasses import dataclass"
      ],
      "metadata": {
        "id": "44ffE4cDgDPT"
      },
      "execution_count": null,
      "outputs": []
    },
    {
      "cell_type": "code",
      "source": [
        "@dataclass(order=True)\n",
        "class Student:\n",
        "  exam1: float = float('infinity')\n",
        "  exam2: float = float('infinity')\n",
        "  exam3: float = float('infinity')\n",
        "  name: str = ''"
      ],
      "metadata": {
        "id": "BMQExhF5expL"
      },
      "execution_count": null,
      "outputs": []
    },
    {
      "cell_type": "code",
      "source": [
        "n = int(input())\n",
        "students = []\n",
        "for _ in range(n):\n",
        "  s = input().split()\n",
        "  if len(s) < 3:\n",
        "    st = Student(exam1=int(s[0]), name=s[1])\n",
        "  elif len(s) < 4:\n",
        "    st = Student(exam1=int(s[0]), exam2=int(s[1]), name=s[2])\n",
        "  else:\n",
        "    st = Student(exam1=int(s[0]), exam2=int(s[1]), exam3=int(s[2]), name=s[3])\n",
        "  students.append(st)"
      ],
      "metadata": {
        "colab": {
          "base_uri": "https://localhost:8080/"
        },
        "id": "wAf1-PfNgOrQ",
        "outputId": "66bdf25c-c01d-4a12-9bbb-e4cec6dd54a1"
      },
      "execution_count": null,
      "outputs": [
        {
          "name": "stdout",
          "output_type": "stream",
          "text": [
            "2\n",
            "2 3 4 Василий\n",
            "10 Иван\n"
          ]
        }
      ]
    },
    {
      "cell_type": "code",
      "source": [
        "print(*students)\n",
        "students.sort(reverse=True)\n",
        "print(*students)"
      ],
      "metadata": {
        "colab": {
          "base_uri": "https://localhost:8080/"
        },
        "id": "XLAGLkl9gSc2",
        "outputId": "dd7a8e75-f3d5-4290-8faa-090efac1e0d4"
      },
      "execution_count": null,
      "outputs": [
        {
          "output_type": "stream",
          "name": "stdout",
          "text": [
            "Student(exam1=2, exam2=3, exam3=4, name='Василий') Student(exam1=10, exam2=inf, exam3=inf, name='Иван')\n",
            "Student(exam1=10, exam2=inf, exam3=inf, name='Иван') Student(exam1=2, exam2=3, exam3=4, name='Василий')\n"
          ]
        }
      ]
    },
    {
      "cell_type": "markdown",
      "source": [
        "## O - нотация"
      ],
      "metadata": {
        "id": "JQRNTehu2jPD"
      }
    },
    {
      "cell_type": "markdown",
      "source": [
        "**Задача**: Для данного списка целых чисел `nums` и целого числа `target` найдите такие `i` и `j`, что $nums[i] + nums[j] = target$. Гарантируется, что решение существует и оно единственно"
      ],
      "metadata": {
        "id": "7DNKk5MlS29k"
      }
    },
    {
      "cell_type": "markdown",
      "source": [
        "$С_n^k = \\frac{n!}{k!(n-k)!}$ "
      ],
      "metadata": {
        "id": "eiO5GrEjjhhf"
      }
    },
    {
      "cell_type": "code",
      "source": [
        "import numpy as np"
      ],
      "metadata": {
        "id": "VlVi-p_IqAq-"
      },
      "execution_count": null,
      "outputs": []
    },
    {
      "cell_type": "code",
      "source": [
        "nums = np.arange(1, 10000)\n",
        "target = 420"
      ],
      "metadata": {
        "id": "9J8JqquhlJDG"
      },
      "execution_count": null,
      "outputs": []
    },
    {
      "cell_type": "markdown",
      "source": [
        "$F(x) = y$"
      ],
      "metadata": {
        "id": "adPdTnxlmo8T"
      }
    },
    {
      "cell_type": "code",
      "execution_count": null,
      "metadata": {
        "id": "sKivwkEh1ycz",
        "colab": {
          "base_uri": "https://localhost:8080/"
        },
        "outputId": "8b8301e6-b136-40b4-dc6b-5c0679b7dd9d"
      },
      "outputs": [
        {
          "output_type": "stream",
          "name": "stdout",
          "text": [
            "0 418\n",
            "CPU times: user 462 µs, sys: 0 ns, total: 462 µs\n",
            "Wall time: 477 µs\n"
          ]
        }
      ],
      "source": [
        "%%time\n",
        "n = len(nums)\n",
        "found = False\n",
        "for i in range(n): # O(n)\n",
        "  for j in range(i, n): # O(n)\n",
        "    if nums[i] + nums[j] == target:\n",
        "      print(i, j)\n",
        "      found = True\n",
        "      break\n",
        "  if found:\n",
        "    break"
      ]
    },
    {
      "cell_type": "code",
      "source": [
        "%%time\n",
        "d = {val: i for i, val in enumerate(nums)}\n",
        "for i in range(n): # n итераций\n",
        "  if target - nums[i] in d: # O(1)\n",
        "    print(i, d[target - nums[i]]) # O(n)\n",
        "    break"
      ],
      "metadata": {
        "colab": {
          "base_uri": "https://localhost:8080/"
        },
        "id": "dCN3pqxWpW1P",
        "outputId": "5cb8e5c6-2362-412c-8986-9df44df48722"
      },
      "execution_count": null,
      "outputs": [
        {
          "output_type": "stream",
          "name": "stdout",
          "text": [
            "0 418\n",
            "CPU times: user 5.09 ms, sys: 1.03 ms, total: 6.13 ms\n",
            "Wall time: 7.27 ms\n"
          ]
        }
      ]
    },
    {
      "cell_type": "markdown",
      "source": [
        "**Задача**: Даны два отсортированных в порядке возрастания списка `a` и `b`. Верните отсортированный список `c`, который будет состоять из элементов `a` и `b`"
      ],
      "metadata": {
        "id": "KAIA4UP-TbBJ"
      }
    },
    {
      "cell_type": "markdown",
      "source": [
        "$O(n * log(n))$"
      ],
      "metadata": {
        "id": "oesU8qr9r7Av"
      }
    },
    {
      "cell_type": "code",
      "source": [
        "a = list(np.arange(1, 1000, 2))\n",
        "b = list(np.arange(2, 1000, 2))"
      ],
      "metadata": {
        "id": "48ns9qyWUGTE"
      },
      "execution_count": null,
      "outputs": []
    },
    {
      "cell_type": "code",
      "source": [
        "%%time\n",
        "c = a + b # n + m\n",
        "c.sort() # nlog(n)\n",
        "#nlog(n) > n"
      ],
      "metadata": {
        "colab": {
          "base_uri": "https://localhost:8080/"
        },
        "id": "zOPwXmdwsKIY",
        "outputId": "754847f8-4ff4-4031-8c70-007783100745"
      },
      "execution_count": null,
      "outputs": [
        {
          "output_type": "stream",
          "name": "stdout",
          "text": [
            "CPU times: user 61 µs, sys: 8 µs, total: 69 µs\n",
            "Wall time: 70.6 µs\n"
          ]
        }
      ]
    },
    {
      "cell_type": "code",
      "source": [
        "a[:10], b[:10]"
      ],
      "metadata": {
        "colab": {
          "base_uri": "https://localhost:8080/"
        },
        "id": "aybH41iCueAz",
        "outputId": "0c70298a-ec5e-4dc4-d00f-9d3fcce6ad70"
      },
      "execution_count": null,
      "outputs": [
        {
          "output_type": "execute_result",
          "data": {
            "text/plain": [
              "([1, 3, 5, 7, 9, 11, 13, 15, 17, 19], [2, 4, 6, 8, 10, 12, 14, 16, 18, 20])"
            ]
          },
          "metadata": {},
          "execution_count": 21
        }
      ]
    },
    {
      "cell_type": "code",
      "source": [
        "a[-10:]"
      ],
      "metadata": {
        "colab": {
          "base_uri": "https://localhost:8080/"
        },
        "id": "FBd0yLNmuoRy",
        "outputId": "4ceb33be-fcfc-4ef9-e65a-a779d10cc5ae"
      },
      "execution_count": null,
      "outputs": [
        {
          "output_type": "execute_result",
          "data": {
            "text/plain": [
              "[981, 983, 985, 987, 989, 991, 993, 995, 997, 999]"
            ]
          },
          "metadata": {},
          "execution_count": 22
        }
      ]
    },
    {
      "cell_type": "code",
      "source": [
        "a_i, b_i = 0, 0\n",
        "c = []\n",
        "while a_i < len(a) or b_i < len(b): # O(n + m)\n",
        "  if b_i == len(b):\n",
        "    c.append(a[a_i])\n",
        "    a_i += 1\n",
        "  elif a[i] == len(a):\n",
        "    c.append(b[b_i])\n",
        "    b_i += 1\n",
        "  elif a[a_i] <= b[b_i]:\n",
        "    c.append(a[a_i])\n",
        "    a_i += 1\n",
        "  else:\n",
        "    c.append(b[b_i])\n",
        "    b_i += 1\n",
        "print(c[:10], c[-10:])"
      ],
      "metadata": {
        "colab": {
          "base_uri": "https://localhost:8080/"
        },
        "id": "FLxDilH6tdE0",
        "outputId": "c5b0793a-8ffc-447c-b82e-d5add565c685"
      },
      "execution_count": null,
      "outputs": [
        {
          "output_type": "stream",
          "name": "stdout",
          "text": [
            "[1, 2, 3, 4, 5, 6, 7, 8, 9, 10] [990, 991, 992, 993, 994, 995, 996, 997, 998, 999]\n"
          ]
        }
      ]
    },
    {
      "cell_type": "markdown",
      "source": [
        "**Задача**: Дан список strs, который состоит из строк произвольной длины, состоящих из латинских символов. Найти наибольший общий префикс этих строк"
      ],
      "metadata": {
        "id": "FqTKyl8cUQx5"
      }
    },
    {
      "cell_type": "markdown",
      "source": [
        "min(N) * min(N)"
      ],
      "metadata": {
        "id": "0mP1X51WQwT9"
      }
    },
    {
      "cell_type": "code",
      "source": [
        "import sys"
      ],
      "metadata": {
        "id": "u--CLokxUrex"
      },
      "execution_count": null,
      "outputs": []
    },
    {
      "cell_type": "code",
      "source": [
        "def solver(arr: list):\n",
        "  min_len = float('infinity')\n",
        "  min_idx = 0\n",
        "  for i, s in enumerate(arr):\n",
        "    l_s = len(s)\n",
        "    if l_s < min_len:\n",
        "      min_len = l_s\n",
        "      min_idx = i\n",
        "  comm_pref = ''\n",
        "  yes = True\n",
        "  for i, c in enumerate(arr[min_idx]):\n",
        "    for s in arr:\n",
        "      if s[i] != c:\n",
        "        yes = False\n",
        "        break\n",
        "    if yes:\n",
        "      comm_pref += c\n",
        "    else:\n",
        "      break\n",
        "  return comm_pref\n",
        "\n",
        "arr = [\n",
        "    'abbbccc',\n",
        "    'aaaaaab',\n",
        "    'aaaaaad',\n",
        "    'abbbbbb'\n",
        "]\n",
        "\n",
        "print(solver(arr))"
      ],
      "metadata": {
        "id": "u7dG3aecUmVx",
        "colab": {
          "base_uri": "https://localhost:8080/"
        },
        "outputId": "4f90f5f9-30ce-4b19-d52e-190a96cf0fe2"
      },
      "execution_count": null,
      "outputs": [
        {
          "output_type": "stream",
          "name": "stdout",
          "text": [
            "a\n"
          ]
        }
      ]
    },
    {
      "cell_type": "markdown",
      "source": [
        "**Задача**: дана строка `s`, состоящая из символов `(`, `)`, `[`, `]`, `{`, `}`. Определить, является ли строка правильной скобочной последовательностью"
      ],
      "metadata": {
        "id": "fdXOV1hIKl2a"
      }
    },
    {
      "cell_type": "code",
      "source": [
        "()()\n",
        "(())\n",
        "()()({})\n",
        "([)]"
      ],
      "metadata": {
        "id": "h8Z36g1jWEwD"
      },
      "execution_count": null,
      "outputs": []
    },
    {
      "cell_type": "code",
      "source": [
        "(((({((})[{})"
      ],
      "metadata": {
        "id": "QIGEuFc4K4l5"
      },
      "execution_count": null,
      "outputs": []
    },
    {
      "cell_type": "code",
      "source": [
        "from collections import deque"
      ],
      "metadata": {
        "id": "s9cAb9vIY-bl"
      },
      "execution_count": null,
      "outputs": []
    },
    {
      "cell_type": "code",
      "source": [
        "[()()[{"
      ],
      "metadata": {
        "id": "2SBD4xGfbJ02"
      },
      "execution_count": null,
      "outputs": []
    },
    {
      "cell_type": "code",
      "source": [
        "(((((((((((((((((((((((((((((((((((((((((((((((((((((((((((((((((((((((((((((((((((((((((((((((((((((((((((((((((((((((((((((((((((((((((((((())))))))))))))))))))))))))))))))))))))))))))))))))))))))))))))))))))))))))))))))))))))))))))))))))))))))))))))))))))))))))))))))))))))))))))))"
      ],
      "metadata": {
        "id": "Bxy6OZlwcqgj"
      },
      "execution_count": null,
      "outputs": []
    },
    {
      "cell_type": "code",
      "source": [
        "s = '()()(){}()[{}]'\n",
        "\n",
        "def solver(s: str):\n",
        "  d = deque()\n",
        "  for c in s:\n",
        "    if len(d) == 0:\n",
        "      d.append(c)\n",
        "    else:\n",
        "      last_elem = d.pop()\n",
        "      if (last_elem = '(' and c == ')') or (last_elem == '[' and c == ']') or (last_elem == '{' and c == '}'):\n",
        "        continue\n",
        "      elif c in {'(', '{', '['}:\n",
        "        d.append(last_elem)\n",
        "        d.append(c)\n",
        "      else:\n",
        "        return False\n",
        "  return len(d) == 0\n",
        "\n",
        "if solver(s):\n",
        "  print('YES')\n",
        "else:\n",
        "  print('NO')"
      ],
      "metadata": {
        "colab": {
          "base_uri": "https://localhost:8080/"
        },
        "id": "8RUT99KEZCzR",
        "outputId": "57164b5f-d1aa-44ee-ebd7-8e533c4c6c34"
      },
      "execution_count": null,
      "outputs": [
        {
          "output_type": "stream",
          "name": "stdout",
          "text": [
            "NO\n"
          ]
        }
      ]
    },
    {
      "cell_type": "markdown",
      "source": [
        "**Задача**: На вход подается массив целых положительных чисел, разделенных пробелом.\n",
        "Нужно найти максимальную сумму элементов массива, которая делится на 3."
      ],
      "metadata": {
        "id": "7KO7jLgrJTl4"
      }
    },
    {
      "cell_type": "code",
      "source": [],
      "metadata": {
        "id": "aYONTtNJJS6u"
      },
      "execution_count": null,
      "outputs": []
    },
    {
      "cell_type": "markdown",
      "source": [
        "**Задача**: Вам дано два положительных числа $a$ и $b$. \\\\\n",
        "За один ход вы можете: \n",
        "* выбрать любое положительное нечетное число $x$ и прибавить его к $a$\n",
        "* выбрать любое положительное четное число $y$ и вычесть его из $a$\n",
        "\n",
        "Ваша задача стостоит в том, чтобы найти минимальное количество ходов, необходимых для того чтобы получить $b$ из $a$"
      ],
      "metadata": {
        "id": "5dPlBXaHWeAu"
      }
    },
    {
      "cell_type": "code",
      "source": [],
      "metadata": {
        "id": "4KcD67V5XkSi"
      },
      "execution_count": null,
      "outputs": []
    },
    {
      "cell_type": "markdown",
      "source": [
        "**Задача**: Вам дан непустой массив чисел, в котором все элементы присутствуют в двух экземплярах кроме одного. Найдите этот элемент"
      ],
      "metadata": {
        "id": "CEsWIvI6Ztbg"
      }
    },
    {
      "cell_type": "code",
      "source": [
        "a = [2, 6, 5, 3, 5, 3, 2]"
      ],
      "metadata": {
        "id": "XSVWBR5zZ-l-"
      },
      "execution_count": null,
      "outputs": []
    },
    {
      "cell_type": "code",
      "source": [
        "%%time\n",
        "def solver(a: list):\n",
        "  s = set()\n",
        "  for elem in a:\n",
        "    if elem in s:\n",
        "      s.remove(elem) # O(1)\n",
        "    else:\n",
        "      s.add(elem) # O(1)\n",
        "  return s\n",
        "\n",
        "print(solver(a))"
      ],
      "metadata": {
        "colab": {
          "base_uri": "https://localhost:8080/"
        },
        "id": "cb7-kC5OeZI7",
        "outputId": "8cc5d07b-2259-4ee2-f3a4-8c3e4ce738c6"
      },
      "execution_count": null,
      "outputs": [
        {
          "output_type": "stream",
          "name": "stdout",
          "text": [
            "{1}\n",
            "CPU times: user 1.1 ms, sys: 0 ns, total: 1.1 ms\n",
            "Wall time: 1.11 ms\n"
          ]
        }
      ]
    },
    {
      "cell_type": "code",
      "source": [
        "def solver(a: list):\n",
        "  res = 0\n",
        "  for elem in a:\n",
        "    res ^= elem\n",
        "  return res\n",
        "\n",
        "print(solver(a))"
      ],
      "metadata": {
        "colab": {
          "base_uri": "https://localhost:8080/"
        },
        "id": "V8tKAj_6hNk6",
        "outputId": "cd3fb092-e967-44c8-a9da-3b3ea7305100"
      },
      "execution_count": null,
      "outputs": [
        {
          "output_type": "stream",
          "name": "stdout",
          "text": [
            "1\n"
          ]
        }
      ]
    },
    {
      "cell_type": "code",
      "source": [
        "010\n",
        "110\n",
        "101\n",
        "011\n",
        "101\n",
        "011\n",
        "010\n",
        "\n",
        "110"
      ],
      "metadata": {
        "id": "om5qaxfJgvyB"
      },
      "execution_count": null,
      "outputs": []
    },
    {
      "cell_type": "code",
      "source": [
        "010 xor 001 = 011\n",
        "011 xor 101 = 110\n",
        "110 xor 011 = 101\n",
        "101 xor 101 = 000\n",
        "000 xor 011 = 011\n",
        "011 xor 010 = 001"
      ],
      "metadata": {
        "id": "wHzLkIfFfgJn"
      },
      "execution_count": null,
      "outputs": []
    },
    {
      "cell_type": "code",
      "source": [
        "4 = 100\n",
        "2 = 10\n",
        "1 or 0 = 1\n",
        "1 and 0 = 0\n",
        "not 0 = 1\n",
        "\n",
        "0 xor 1 = 1\n",
        "0 xor 0 = 0\n",
        "1 xor 1 = 0\n",
        "1 xor 1 = 1"
      ],
      "metadata": {
        "id": "hwWFiKceetJj"
      },
      "execution_count": null,
      "outputs": []
    }
  ]
}