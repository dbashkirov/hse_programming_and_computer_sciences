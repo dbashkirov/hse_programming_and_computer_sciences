{
  "nbformat": 4,
  "nbformat_minor": 0,
  "metadata": {
    "colab": {
      "provenance": []
    },
    "kernelspec": {
      "name": "python3",
      "display_name": "Python 3"
    },
    "language_info": {
      "name": "python"
    }
  },
  "cells": [
    {
      "cell_type": "markdown",
      "source": [
        "## Декораторы"
      ],
      "metadata": {
        "id": "tuzcjlAoh4DB"
      }
    },
    {
      "cell_type": "markdown",
      "source": [
        "**Задание**: написать декоратор `reverse_args` который изменяет порядок позиционных аргументов, переданных функций на обратный "
      ],
      "metadata": {
        "id": "wXQKnDRmh8BI"
      }
    },
    {
      "cell_type": "code",
      "execution_count": 1,
      "metadata": {
        "id": "AYK34qE-hbAd"
      },
      "outputs": [],
      "source": [
        "def reverse_args(func):\n",
        "  def wrapped_function(*args, **kwargs):\n",
        "    return func(*args[::-1], **kwargs)\n",
        "  return wrapped_function"
      ]
    },
    {
      "cell_type": "code",
      "source": [
        "@reverse_args\n",
        "def test_func(a, b):\n",
        "  return 5 * a + 3 * b\n",
        "\n",
        "test_func(10, 5)"
      ],
      "metadata": {
        "colab": {
          "base_uri": "https://localhost:8080/"
        },
        "id": "DQQf6CHRis8I",
        "outputId": "40694450-ac1a-4bda-ef01-76354765fff3"
      },
      "execution_count": 2,
      "outputs": [
        {
          "output_type": "execute_result",
          "data": {
            "text/plain": [
              "55"
            ]
          },
          "metadata": {},
          "execution_count": 2
        }
      ]
    },
    {
      "cell_type": "code",
      "source": [
        "from functools import wraps"
      ],
      "metadata": {
        "id": "3ijXmEQkc2zs"
      },
      "execution_count": 3,
      "outputs": []
    },
    {
      "cell_type": "code",
      "source": [
        "def introduce_first(func):\n",
        "  @wraps(func)\n",
        "  def wrapped_function(*args, print_name=False, **kwargs):\n",
        "    if print_name:\n",
        "      print(func.__name__)\n",
        "    return func(*args, **kwargs)\n",
        "  return wrapped_function"
      ],
      "metadata": {
        "id": "SkvWK1_4jXT1"
      },
      "execution_count": 4,
      "outputs": []
    },
    {
      "cell_type": "code",
      "source": [
        "@introduce_first\n",
        "def test_func(a, b):\n",
        "  \"\"\"\n",
        "  some simple sum\n",
        "  \"\"\"\n",
        "  return 5 * a + 3 * b\n",
        "\n",
        "test_func(10, 5, print_name=True)"
      ],
      "metadata": {
        "colab": {
          "base_uri": "https://localhost:8080/"
        },
        "id": "IRH3Tqg1kwj8",
        "outputId": "f62f9653-a506-4e0c-a05d-691aadcff857"
      },
      "execution_count": 5,
      "outputs": [
        {
          "output_type": "stream",
          "name": "stdout",
          "text": [
            "test_func\n"
          ]
        },
        {
          "output_type": "execute_result",
          "data": {
            "text/plain": [
              "65"
            ]
          },
          "metadata": {},
          "execution_count": 5
        }
      ]
    },
    {
      "cell_type": "code",
      "source": [
        "print(test_func.__name__)"
      ],
      "metadata": {
        "colab": {
          "base_uri": "https://localhost:8080/"
        },
        "id": "XpLvWsd2h7iT",
        "outputId": "2c8ef42c-a126-4e17-879b-3a0f054869e7"
      },
      "execution_count": 6,
      "outputs": [
        {
          "output_type": "stream",
          "name": "stdout",
          "text": [
            "test_func\n"
          ]
        }
      ]
    },
    {
      "cell_type": "code",
      "source": [
        "print(test_func.__doc__)"
      ],
      "metadata": {
        "colab": {
          "base_uri": "https://localhost:8080/"
        },
        "id": "ziH9t6gzb74s",
        "outputId": "683deb0f-0757-4cea-eace-750c1dd277f6"
      },
      "execution_count": 7,
      "outputs": [
        {
          "output_type": "stream",
          "name": "stdout",
          "text": [
            "\n",
            "  some simple sum\n",
            "  \n"
          ]
        }
      ]
    },
    {
      "cell_type": "markdown",
      "source": [
        "## Классы"
      ],
      "metadata": {
        "id": "Ug_H-XPbh6Sr"
      }
    },
    {
      "cell_type": "markdown",
      "source": [
        "Реализуйте класс `Dot`. Для класа должна быть реализована возможность вывода с помощью функции `print`, а также возможность сравнивать точки *(точка $A(x_1, y_1)$ меньше точки $B(x_2, y_2)$, если $x_1 < x_2$)*. На вход конструктор принимает две координаты $x$ и $y$"
      ],
      "metadata": {
        "id": "gEyMHiy1z192"
      }
    },
    {
      "cell_type": "code",
      "source": [
        "class Dot:\n",
        "\n",
        "  def __init__(self, x: float, y: float):\n",
        "    self.x = x\n",
        "    self.y = y\n",
        "\n",
        "  def __lt__(self, other):\n",
        "    return self.x < other.x\n",
        "\n",
        "  def __gt__(self, other):\n",
        "    return self.x > other.x\n",
        "\n",
        "  def __sub__(self, other):\n",
        "    return (self.x - other.x, self.y - other.y)\n",
        "  \n",
        "  def __repr__(self):\n",
        "    return f\"Dot: ({self.x}, {self.y})\""
      ],
      "metadata": {
        "id": "BcqiWiso0gk8"
      },
      "execution_count": 8,
      "outputs": []
    },
    {
      "cell_type": "code",
      "source": [
        "d = Dot(1.0, 2.0)\n",
        "print(d)"
      ],
      "metadata": {
        "colab": {
          "base_uri": "https://localhost:8080/"
        },
        "id": "WKOm8hOcdw0o",
        "outputId": "1cbd5b27-0a76-4b88-9bce-1c98589b844c"
      },
      "execution_count": 9,
      "outputs": [
        {
          "output_type": "stream",
          "name": "stdout",
          "text": [
            "Dot: (1.0, 2.0)\n"
          ]
        }
      ]
    },
    {
      "cell_type": "code",
      "source": [
        "t = Dot(2, 0)\n",
        "d < t"
      ],
      "metadata": {
        "colab": {
          "base_uri": "https://localhost:8080/"
        },
        "id": "EI5Vxdozev7s",
        "outputId": "21de6078-6357-4e1a-f59e-0081037ffe3e"
      },
      "execution_count": 10,
      "outputs": [
        {
          "output_type": "execute_result",
          "data": {
            "text/plain": [
              "True"
            ]
          },
          "metadata": {},
          "execution_count": 10
        }
      ]
    },
    {
      "cell_type": "code",
      "source": [
        "t > d"
      ],
      "metadata": {
        "colab": {
          "base_uri": "https://localhost:8080/"
        },
        "id": "L4yAJSbZfWPQ",
        "outputId": "ff8916fd-f6aa-4fac-9c24-5baabecfb11c"
      },
      "execution_count": 11,
      "outputs": [
        {
          "output_type": "execute_result",
          "data": {
            "text/plain": [
              "True"
            ]
          },
          "metadata": {},
          "execution_count": 11
        }
      ]
    },
    {
      "cell_type": "markdown",
      "source": [
        "Задача: реализуйте класс `Vector`. В классе должны быть предусмотрены методы для сложения, вычитания, умножения на вектор и скаляр, печати, вычисления длины вектора, проверки на невырожденность. При инициализации экземпляр класса должен получать на вход два экземпляра класса `Dot`."
      ],
      "metadata": {
        "id": "UXdcFvnfyzg7"
      }
    },
    {
      "cell_type": "code",
      "source": [
        "class Vector:\n",
        "\n",
        "  def __init__(self, a: Dot, b: Dot):\n",
        "    self.x = (b - a)[0]\n",
        "    self.y = (b - a)[1]\n",
        "\n",
        "  def __add__(self, other):\n",
        "    return Vector(Dot(0, 0), Dot(self.x + other.x, self.y + other.y))\n",
        "\n",
        "  def __sub__(self, other):\n",
        "    return Vector(Dot(0, 0), Dot(self.x - other.x, self.y - other.y))\n",
        "\n",
        "  def __repr__(self):\n",
        "    return f\"Vector ({self.x}, {self.y})\"\n",
        "\n",
        "  def __abs__(self):\n",
        "    return round((self.x ** 2 + self.y ** 2) ** .5, 6)\n",
        "\n",
        "  def __bool__(self):\n",
        "    return self.x != 0 or self.y != 0\n",
        "\n",
        "  def __mul__(self, k: int):\n",
        "    return Vector(Dot(0, 0), Dot(self.x * k, self.y * k))\n",
        "\n",
        "  def product_mul(self, other):\n",
        "    return self.x * other.y - other.x * self.y\n",
        "\n",
        "  def cos(self, other):\n",
        "    scalar = self.x * other.x + self.y * other.y\n",
        "    return round(scalar / (abs(self) * abs(other)), 6)\n",
        "\n",
        "  def sin(self, other):\n",
        "    return round(1 - self.cos(other) ** 2, 6)"
      ],
      "metadata": {
        "id": "BTw6aJoimq5d"
      },
      "execution_count": 12,
      "outputs": []
    },
    {
      "cell_type": "code",
      "source": [
        "d1 = Dot(1, 3)\n",
        "v, w = Vector(t, d), Vector(d, t)\n",
        "v + w"
      ],
      "metadata": {
        "colab": {
          "base_uri": "https://localhost:8080/"
        },
        "id": "1VXZOLthg0o0",
        "outputId": "060b71bb-1959-48eb-c7ff-a7baf155532f"
      },
      "execution_count": 13,
      "outputs": [
        {
          "output_type": "execute_result",
          "data": {
            "text/plain": [
              "Vector (0.0, 0.0)"
            ]
          },
          "metadata": {},
          "execution_count": 13
        }
      ]
    },
    {
      "cell_type": "code",
      "source": [
        "abs(v) ** 2"
      ],
      "metadata": {
        "colab": {
          "base_uri": "https://localhost:8080/"
        },
        "id": "-vPJwuhNh5ZJ",
        "outputId": "5d057ca5-f72d-444d-fa01-9705002b556e"
      },
      "execution_count": 14,
      "outputs": [
        {
          "output_type": "execute_result",
          "data": {
            "text/plain": [
              "5.000000100624"
            ]
          },
          "metadata": {},
          "execution_count": 14
        }
      ]
    },
    {
      "cell_type": "code",
      "source": [
        "if v + w:\n",
        "  print('YES')"
      ],
      "metadata": {
        "id": "oT6wMMfkiXmK"
      },
      "execution_count": 15,
      "outputs": []
    },
    {
      "cell_type": "code",
      "source": [
        "v, w"
      ],
      "metadata": {
        "colab": {
          "base_uri": "https://localhost:8080/"
        },
        "id": "wnQigligjsqO",
        "outputId": "acba782d-4ad8-4ec9-a3a5-898744b47037"
      },
      "execution_count": 16,
      "outputs": [
        {
          "output_type": "execute_result",
          "data": {
            "text/plain": [
              "(Vector (-1.0, 2.0), Vector (1.0, -2.0))"
            ]
          },
          "metadata": {},
          "execution_count": 16
        }
      ]
    },
    {
      "cell_type": "code",
      "source": [
        "v * 10"
      ],
      "metadata": {
        "colab": {
          "base_uri": "https://localhost:8080/"
        },
        "id": "aydm2S03i1ko",
        "outputId": "77db5e9a-d3d8-4177-bc4a-3705f29c6689"
      },
      "execution_count": 17,
      "outputs": [
        {
          "output_type": "execute_result",
          "data": {
            "text/plain": [
              "Vector (-10.0, 20.0)"
            ]
          },
          "metadata": {},
          "execution_count": 17
        }
      ]
    },
    {
      "cell_type": "code",
      "source": [
        "v.product_mul(w)"
      ],
      "metadata": {
        "colab": {
          "base_uri": "https://localhost:8080/"
        },
        "id": "-NeN8BQMkXB8",
        "outputId": "a5bc6883-767f-4268-b8d4-18d7b05e45d0"
      },
      "execution_count": 18,
      "outputs": [
        {
          "output_type": "execute_result",
          "data": {
            "text/plain": [
              "0.0"
            ]
          },
          "metadata": {},
          "execution_count": 18
        }
      ]
    },
    {
      "cell_type": "code",
      "source": [
        "v - w"
      ],
      "metadata": {
        "colab": {
          "base_uri": "https://localhost:8080/"
        },
        "id": "yhMZzzIRk1Ia",
        "outputId": "165ae2f5-2ece-4f06-bc06-2428abf548af"
      },
      "execution_count": 19,
      "outputs": [
        {
          "output_type": "execute_result",
          "data": {
            "text/plain": [
              "Vector (-2.0, 4.0)"
            ]
          },
          "metadata": {},
          "execution_count": 19
        }
      ]
    },
    {
      "cell_type": "code",
      "source": [
        "p, q = Vector(Dot(0, 0), Dot(2, 0)), Vector(Dot(0, 0), Dot(0, 2))\n",
        "print(p, q)\n",
        "print(p.cos(q))"
      ],
      "metadata": {
        "colab": {
          "base_uri": "https://localhost:8080/"
        },
        "id": "-V2CU629QK0q",
        "outputId": "1ed3362b-e9ad-433b-8d67-fd4fc5ffb7fe"
      },
      "execution_count": 20,
      "outputs": [
        {
          "output_type": "stream",
          "name": "stdout",
          "text": [
            "Vector (2, 0) Vector (0, 2)\n",
            "0.0\n"
          ]
        }
      ]
    },
    {
      "cell_type": "code",
      "source": [
        "p.sin(q)"
      ],
      "metadata": {
        "colab": {
          "base_uri": "https://localhost:8080/"
        },
        "id": "Y1b0Fj-lTAfW",
        "outputId": "1688cd72-63c4-4913-dc64-b4bbc6fd5675"
      },
      "execution_count": 21,
      "outputs": [
        {
          "output_type": "execute_result",
          "data": {
            "text/plain": [
              "1.0"
            ]
          },
          "metadata": {},
          "execution_count": 21
        }
      ]
    },
    {
      "cell_type": "markdown",
      "source": [
        "Задача: реализуйте класс `Triangle`. В классе должны быть предусмотрены методы выводящие периметр, площадь, стороны треугольника, возможность существования треугольника с такими сторонами. При инициализации экземпляр класса должен получать на вход три экземпляра класса `Dot`."
      ],
      "metadata": {
        "id": "vFgUhhpV2io-"
      }
    },
    {
      "cell_type": "code",
      "source": [
        "class Triangle:\n",
        "\n",
        "  def __init__(self, a: Dot, b: Dot, c: Dot):\n",
        "    self.a = Vector(a, b) \n",
        "    self.b = Vector(a, c)\n",
        "    self.c = Vector(b, c)\n",
        "  \n",
        "  def perimeter(self):\n",
        "    return abs(self.a) + abs(self.b) + abs(self.c)\n",
        "\n",
        "  def square(self):\n",
        "    return .5 * self.a.product_mul(self.b)\n",
        "\n",
        "  def __bool__(self):\n",
        "    return ((abs(self.a) + abs(self.b) > abs(self.c)) and \\\n",
        "    (abs(self.b) + abs(self.c) > abs(self.a)) and (abs(self.c) + abs(self.a) > abs(self.b)))\n",
        "\n",
        "  def __repr__(self):\n",
        "    return f\"Triangle with sides ({abs(self.a):.2f}, {abs(self.b):.2f}, {abs(self.c):.2f}) and square equals to {self.square():.2f})\""
      ],
      "metadata": {
        "id": "wmwLAfiK2KtX"
      },
      "execution_count": 22,
      "outputs": []
    },
    {
      "cell_type": "code",
      "source": [
        "triang = Triangle(Dot(0, 0), Dot(2, 0), Dot(0, 2))"
      ],
      "metadata": {
        "id": "MeFw8_oulbTW"
      },
      "execution_count": 23,
      "outputs": []
    },
    {
      "cell_type": "code",
      "source": [
        "abs(triang.a), abs(triang.b), abs(triang.c)"
      ],
      "metadata": {
        "colab": {
          "base_uri": "https://localhost:8080/"
        },
        "id": "aBvuBBvYl8NY",
        "outputId": "9febd644-34fb-4980-e671-744b62937590"
      },
      "execution_count": 24,
      "outputs": [
        {
          "output_type": "execute_result",
          "data": {
            "text/plain": [
              "(2.0, 2.0, 2.828427)"
            ]
          },
          "metadata": {},
          "execution_count": 24
        }
      ]
    },
    {
      "cell_type": "code",
      "source": [
        "triang.perimeter()"
      ],
      "metadata": {
        "colab": {
          "base_uri": "https://localhost:8080/"
        },
        "id": "-1zuCcE8lzIo",
        "outputId": "6804a9b8-0974-4fca-edc9-3f0f8f13bd9f"
      },
      "execution_count": 25,
      "outputs": [
        {
          "output_type": "execute_result",
          "data": {
            "text/plain": [
              "6.828427"
            ]
          },
          "metadata": {},
          "execution_count": 25
        }
      ]
    },
    {
      "cell_type": "code",
      "source": [
        "triang.square()"
      ],
      "metadata": {
        "colab": {
          "base_uri": "https://localhost:8080/"
        },
        "id": "ig6XSSM1myk_",
        "outputId": "2c87af24-f51c-4b9d-a08b-fe65b494f265"
      },
      "execution_count": 26,
      "outputs": [
        {
          "output_type": "execute_result",
          "data": {
            "text/plain": [
              "2.0"
            ]
          },
          "metadata": {},
          "execution_count": 26
        }
      ]
    },
    {
      "cell_type": "code",
      "source": [
        "bool(triang)"
      ],
      "metadata": {
        "colab": {
          "base_uri": "https://localhost:8080/"
        },
        "id": "2rNpprHmKES8",
        "outputId": "fd9db553-12f1-4698-95d6-3b12f71630d2"
      },
      "execution_count": 27,
      "outputs": [
        {
          "output_type": "execute_result",
          "data": {
            "text/plain": [
              "True"
            ]
          },
          "metadata": {},
          "execution_count": 27
        }
      ]
    },
    {
      "cell_type": "code",
      "source": [
        "bool(triang) == True"
      ],
      "metadata": {
        "colab": {
          "base_uri": "https://localhost:8080/"
        },
        "id": "xHF4hzGGKKIB",
        "outputId": "d5cac1a2-6237-40a4-d5f9-a83edadc25ea"
      },
      "execution_count": 28,
      "outputs": [
        {
          "output_type": "execute_result",
          "data": {
            "text/plain": [
              "True"
            ]
          },
          "metadata": {},
          "execution_count": 28
        }
      ]
    },
    {
      "cell_type": "code",
      "source": [
        "triang"
      ],
      "metadata": {
        "colab": {
          "base_uri": "https://localhost:8080/"
        },
        "id": "BCo4IwH-K0F0",
        "outputId": "c17819c4-8d1a-49eb-c8bc-42fb7ae8e9ef"
      },
      "execution_count": 29,
      "outputs": [
        {
          "output_type": "execute_result",
          "data": {
            "text/plain": [
              "Triangle with sides (2.00, 2.00, 2.83) and square equals to 2.00)"
            ]
          },
          "metadata": {},
          "execution_count": 29
        }
      ]
    },
    {
      "cell_type": "code",
      "source": [
        "if triang:\n",
        "  print('YES')\n",
        "else:\n",
        "  print('NO')"
      ],
      "metadata": {
        "colab": {
          "base_uri": "https://localhost:8080/"
        },
        "id": "W87hMwKYI1-Y",
        "outputId": "b8780d5e-f0a8-4cb5-fc07-b4726faae7c2"
      },
      "execution_count": 30,
      "outputs": [
        {
          "output_type": "stream",
          "name": "stdout",
          "text": [
            "YES\n"
          ]
        }
      ]
    },
    {
      "cell_type": "markdown",
      "source": [
        "Задача: реализуйте класс `Quadrilateral`. В классе должны быть предусмотрены методы выводящие периметр, площадь, стороны четырехугольника, проверка на невырожденность. При инициализации экземпляр класса должен получать на вход четрые экземпляра класса `Dot`."
      ],
      "metadata": {
        "id": "6HCTEJChHgTL"
      }
    },
    {
      "cell_type": "code",
      "source": [
        "class Quadrilateral:\n",
        "\n",
        "  def __init__(self, a: Dot, b: Dot, c: Dot, d: Dot):\n",
        "    self.a = Vector(a, b)\n",
        "    self.b = Vector(b, d)\n",
        "    self.c = Vector(c, d)\n",
        "    self.d = Vector(c, a)\n",
        "    if not self:\n",
        "      raise Exception('Quadrilateral is not exist')\n",
        "\n",
        "\n",
        "  def perimeter(self):\n",
        "    return abs(self.a) + abs(self.b) + abs(self.c) + abs(self.d)\n",
        "\n",
        "  def square(self):\n",
        "    d1, d2 = Vector(b, c), Vector(a, d)\n",
        "    return round(0.5 * abs(d1) * abs(d2) * d1.sin(d2), 6)\n",
        "\n",
        "  def __bool__(self):\n",
        "    return abs(self.a) + abs(self.b) + abs(self.c) > abs(self.d) and \\\n",
        "    abs(self.c) + abs(self.b) + abs(self.d) > abs(self.a) and \\\n",
        "    abs(self.a) + abs(self.c) + abs(self.d) > abs(self.b) and \\\n",
        "    abs(self.a) + abs(self.b) + abs(self.d) > abs(self.c)\n",
        "  \n",
        "  def __del__(self):\n",
        "    del self.a\n",
        "    del self.b\n",
        "    del self.c\n",
        "    del self.d"
      ],
      "metadata": {
        "id": "uHVMKj0jH0wc"
      },
      "execution_count": 31,
      "outputs": []
    },
    {
      "cell_type": "code",
      "source": [
        "a, b, c, d = Dot(0, 0), Dot(2, 0), Dot(0, 2), Dot(2, 2)"
      ],
      "metadata": {
        "id": "LilDy9rxMbkR"
      },
      "execution_count": 32,
      "outputs": []
    },
    {
      "cell_type": "code",
      "source": [
        "quad = Quadrilateral(a, b, c, d)\n",
        "print(quad.perimeter())"
      ],
      "metadata": {
        "colab": {
          "base_uri": "https://localhost:8080/"
        },
        "id": "OOvZmjolMHSo",
        "outputId": "67a7b26a-0a3d-4940-be39-f4703f0d1619"
      },
      "execution_count": 33,
      "outputs": [
        {
          "output_type": "stream",
          "name": "stdout",
          "text": [
            "8.0\n"
          ]
        }
      ]
    },
    {
      "cell_type": "code",
      "source": [
        "t1, t2 = Triangle(a, b, c), Triangle(b, c, d)\n",
        "print(t1.perimeter() + t2.perimeter() - abs(t1.c) - abs(t2.a))"
      ],
      "metadata": {
        "colab": {
          "base_uri": "https://localhost:8080/"
        },
        "id": "RNzGdxRqNL1V",
        "outputId": "f0173ac8-8940-46e2-d247-cccf62190d66"
      },
      "execution_count": 34,
      "outputs": [
        {
          "output_type": "stream",
          "name": "stdout",
          "text": [
            "8.0\n"
          ]
        }
      ]
    },
    {
      "cell_type": "code",
      "source": [
        "quad.square()"
      ],
      "metadata": {
        "colab": {
          "base_uri": "https://localhost:8080/"
        },
        "id": "FkbMPqOaO9Pl",
        "outputId": "eed68e89-b735-4106-86fb-de7ca28a8ed6"
      },
      "execution_count": 35,
      "outputs": [
        {
          "output_type": "execute_result",
          "data": {
            "text/plain": [
              "4.0"
            ]
          },
          "metadata": {},
          "execution_count": 35
        }
      ]
    },
    {
      "cell_type": "code",
      "source": [
        "n = 6\n",
        "try:\n",
        "  if n / 0 == 6:\n",
        "    print('Even')\n",
        "except:\n",
        "  raise ValueError('Number is not event')"
      ],
      "metadata": {
        "colab": {
          "base_uri": "https://localhost:8080/",
          "height": 368
        },
        "id": "COAwmcfVV1LS",
        "outputId": "bea2edee-67c4-4079-a2d7-bc1166fe442e"
      },
      "execution_count": 36,
      "outputs": [
        {
          "output_type": "error",
          "ename": "ValueError",
          "evalue": "ignored",
          "traceback": [
            "\u001b[0;31m---------------------------------------------------------------------------\u001b[0m",
            "\u001b[0;31mZeroDivisionError\u001b[0m                         Traceback (most recent call last)",
            "\u001b[0;32m<ipython-input-36-c6ad331707cf>\u001b[0m in \u001b[0;36m<module>\u001b[0;34m\u001b[0m\n\u001b[1;32m      2\u001b[0m \u001b[0;32mtry\u001b[0m\u001b[0;34m:\u001b[0m\u001b[0;34m\u001b[0m\u001b[0;34m\u001b[0m\u001b[0m\n\u001b[0;32m----> 3\u001b[0;31m   \u001b[0;32mif\u001b[0m \u001b[0mn\u001b[0m \u001b[0;34m/\u001b[0m \u001b[0;36m0\u001b[0m \u001b[0;34m==\u001b[0m \u001b[0;36m6\u001b[0m\u001b[0;34m:\u001b[0m\u001b[0;34m\u001b[0m\u001b[0;34m\u001b[0m\u001b[0m\n\u001b[0m\u001b[1;32m      4\u001b[0m     \u001b[0mprint\u001b[0m\u001b[0;34m(\u001b[0m\u001b[0;34m'Even'\u001b[0m\u001b[0;34m)\u001b[0m\u001b[0;34m\u001b[0m\u001b[0;34m\u001b[0m\u001b[0m\n",
            "\u001b[0;31mZeroDivisionError\u001b[0m: division by zero",
            "\nDuring handling of the above exception, another exception occurred:\n",
            "\u001b[0;31mValueError\u001b[0m                                Traceback (most recent call last)",
            "\u001b[0;32m<ipython-input-36-c6ad331707cf>\u001b[0m in \u001b[0;36m<module>\u001b[0;34m\u001b[0m\n\u001b[1;32m      4\u001b[0m     \u001b[0mprint\u001b[0m\u001b[0;34m(\u001b[0m\u001b[0;34m'Even'\u001b[0m\u001b[0;34m)\u001b[0m\u001b[0;34m\u001b[0m\u001b[0;34m\u001b[0m\u001b[0m\n\u001b[1;32m      5\u001b[0m \u001b[0;32mexcept\u001b[0m\u001b[0;34m:\u001b[0m\u001b[0;34m\u001b[0m\u001b[0;34m\u001b[0m\u001b[0m\n\u001b[0;32m----> 6\u001b[0;31m   \u001b[0;32mraise\u001b[0m \u001b[0mValueError\u001b[0m\u001b[0;34m(\u001b[0m\u001b[0;34m'Number is not event'\u001b[0m\u001b[0;34m)\u001b[0m\u001b[0;34m\u001b[0m\u001b[0;34m\u001b[0m\u001b[0m\n\u001b[0m",
            "\u001b[0;31mValueError\u001b[0m: Number is not event"
          ]
        }
      ]
    },
    {
      "cell_type": "markdown",
      "source": [
        "Задача: реализуйте класс `Fraction`. На вход конструктор должен принимать два числа типа `Float`: числитель и знаменатель. В классе должны быть предусмотрены методы для сложения, вычитания, умножения, деления, возведения в степень, печати, ."
      ],
      "metadata": {
        "id": "oUOVh3y3ZDLT"
      }
    },
    {
      "cell_type": "code",
      "source": [
        "class Fraction:\n",
        "\n",
        "  def __init__(self, n: int, m: int):\n",
        "    self.up = n\n",
        "    self.down = m\n",
        "\n",
        "  def __repr__(self):\n",
        "    return f'{self.up}/{self.down}'\n",
        "\n",
        "  def __add__(self, other):\n",
        "    n = self.nok(self.down, other.down)\n",
        "    temp_up = self.up * n // self.down + other.up * n // other.down\n",
        "    temp_nod = self.nod(temp_up, n)\n",
        "    return Fraction(temp_up // temp_nod, n // temp_nod)\n",
        "\n",
        "  def nod(self, a: int, b: int):\n",
        "    while a != 0 and b != 0:\n",
        "      if a > b:\n",
        "        a = a % b\n",
        "      else:\n",
        "        b = b % a\n",
        "    return a + b\n",
        "\n",
        "  def nok(self, a, b):\n",
        "    return a * b // self.nod(a, b)"
      ],
      "metadata": {
        "id": "g1hSzY9PZg7x"
      },
      "execution_count": 37,
      "outputs": []
    },
    {
      "cell_type": "code",
      "source": [
        "f = Fraction(1, 2)\n",
        "f"
      ],
      "metadata": {
        "colab": {
          "base_uri": "https://localhost:8080/"
        },
        "id": "DShLyQrZatwX",
        "outputId": "7c92c2e3-fe46-4cf9-f8cf-b4b13c1f7aa1"
      },
      "execution_count": 38,
      "outputs": [
        {
          "output_type": "execute_result",
          "data": {
            "text/plain": [
              "1/2"
            ]
          },
          "metadata": {},
          "execution_count": 38
        }
      ]
    },
    {
      "cell_type": "code",
      "source": [
        "Fraction(1, 2) + Fraction(1, 3)"
      ],
      "metadata": {
        "colab": {
          "base_uri": "https://localhost:8080/"
        },
        "id": "lMMgBPQRav-S",
        "outputId": "4eec3319-3701-4fd6-896c-1d98f6f761e8"
      },
      "execution_count": 39,
      "outputs": [
        {
          "output_type": "execute_result",
          "data": {
            "text/plain": [
              "5/6"
            ]
          },
          "metadata": {},
          "execution_count": 39
        }
      ]
    },
    {
      "cell_type": "code",
      "source": [
        "Fraction(2, 9) + Fraction(4, 9)"
      ],
      "metadata": {
        "colab": {
          "base_uri": "https://localhost:8080/"
        },
        "id": "RBWuO_oZc4bS",
        "outputId": "6721bb1f-0fe1-4265-c073-6406f2497450"
      },
      "execution_count": 40,
      "outputs": [
        {
          "output_type": "execute_result",
          "data": {
            "text/plain": [
              "2/3"
            ]
          },
          "metadata": {},
          "execution_count": 40
        }
      ]
    }
  ]
}