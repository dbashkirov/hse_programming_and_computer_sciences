{
  "nbformat": 4,
  "nbformat_minor": 0,
  "metadata": {
    "colab": {
      "provenance": []
    },
    "kernelspec": {
      "name": "python3",
      "display_name": "Python 3"
    },
    "language_info": {
      "name": "python"
    }
  },
  "cells": [
    {
      "cell_type": "code",
      "source": [
        "NAME = 'Иван'"
      ],
      "metadata": {
        "id": "lSN8__ucaukx"
      },
      "execution_count": 1,
      "outputs": []
    },
    {
      "cell_type": "markdown",
      "source": [
        "# Инкапсуляция\n",
        "\n",
        "Вопрос в зал: Что это и зачем оно нам нужно? Разница между public, private и protected?\n",
        "\n",
        "Давайте напишем класс кредитной карты, в котором такие поля, как номер карты, пароль и баланс будут скрыты от пользователя, а поле имени будет доступно.\n",
        "\n",
        "Добавьте такому классу методы, позволяющие вносить деньги (`deposit_money`) и выводить деньги (`withdraw_money`), а также узнать баланс (`retrieve_balance`) и получить номер карты после проверки введенного пароля (`get_card_number`). Если в последнем методе пароль введен неправильно, вызовите ValueError. Сделайте проверку на то, что при вводе денег и выводе количество денег будет неотрицательное. Также если пользователь пытается вывести больше денег, чем на балансе, то метод должен вернуть сообщение \"Операция невозможна\". "
      ],
      "metadata": {
        "id": "sjB4CG2TCAz8"
      }
    },
    {
      "cell_type": "code",
      "execution_count": null,
      "metadata": {
        "id": "QSLppPHvB8An"
      },
      "outputs": [],
      "source": [
        "class CreditCard:\n",
        "\n",
        "    def __init__(self, number: int, name: str, balance: float, password: str):\n",
        "      self.name = name\n",
        "      self.__balance = balance\n",
        "      self.__password = password\n",
        "      self.__number = number\n",
        "\n",
        "    def deposit_money(self, amount):\n",
        "      if amount >= 0:\n",
        "        self.__balance += amount\n",
        "      else:\n",
        "        raise ValueError('Negative amount')\n",
        "\n",
        "    def withdraw_money(self, amount):\n",
        "      if amount >= 0 and amount <= self.__balance:\n",
        "        self.__balance -= amount\n",
        "      elif amount < 0:\n",
        "        raise ValueError('Negative amount')\n",
        "      else:\n",
        "        raise ValueError('Not enough money')\n",
        "\n",
        "    def get_card_number(self, password):\n",
        "      if self.__password == password:\n",
        "        print(self.__number)\n",
        "      else:\n",
        "        print('Incorrect password')\n",
        "\n",
        "    def retrieve_balance(self):\n",
        "      return self.__balance"
      ]
    },
    {
      "cell_type": "code",
      "source": [
        "cc = CreditCard(524698761236543, NAME, 0, 'qwerty12345')"
      ],
      "metadata": {
        "id": "rXXZcjluarXQ"
      },
      "execution_count": null,
      "outputs": []
    },
    {
      "cell_type": "code",
      "source": [
        "cc.withdraw_money(0)\n",
        "cc.deposit_money(300)\n",
        "print(cc.retrieve_balance())\n",
        "cc.get_card_number('qwerty1234')\n",
        "cc.get_card_number('qwerty12345')"
      ],
      "metadata": {
        "id": "1AUTrDj7a7Xx"
      },
      "execution_count": null,
      "outputs": []
    },
    {
      "cell_type": "code",
      "source": [
        "print(cc.get_card_number('qwerty1234'))"
      ],
      "metadata": {
        "id": "wzsw2Hoiewff"
      },
      "execution_count": null,
      "outputs": []
    },
    {
      "cell_type": "markdown",
      "source": [
        "# Наследование\n",
        "\n",
        "Давайте сделаем класс `Employee`, который при инициализации будет иметь 2 поля: `id` работника и `name`.  \n",
        "\n",
        "Далее, создайте класс `SalaryEmployee`, унаследовавшись от Employee и добавив в конструктор поле `weekly_salary`. Также добавьте метод `calculate_payroll`, который возвращает `weekly_salary`.\n",
        "\n",
        "Теперь сделайте класс `HourlyEmployee`, также унаследовавшись от Employee. Добавьте в конструктор `hours_worked` - количество отработанных часов и `hour_rate` - часовая ставка. Сделайте метод `calculate_payroll`, который вернет общий заработок.\n",
        "\n",
        "Далее, сделайте класс `CommissionEmployee`, который унаследуется от `HourlyEmployee` и в его конструктор нужно будет добавить поле `commision`. Метод `calculate_payroll` для этого класса должен быть модификацией аналогичного метода из родительского класса, но только с добавлением к итоговой выплате `commision`."
      ],
      "metadata": {
        "id": "IuN3tdP-F5gf"
      }
    },
    {
      "cell_type": "code",
      "source": [
        "class Employee:\n",
        "\n",
        "    def __init__(self, id, name):\n",
        "      self.id = id\n",
        "      self.name = name\n",
        "\n",
        "\n",
        "class SalaryEmployee(Employee):\n",
        "\n",
        "    def __init__(self, id, name, weekly_salary):\n",
        "      super().__init__(id, name)\n",
        "      self.weekly_salary = weekly_salary\n",
        "\n",
        "    def calculate_payroll(self):\n",
        "      return self.weekly_salary\n",
        "\n",
        "\n",
        "class HourlyEmployee(Employee):\n",
        "\n",
        "    def __init__(self, id, name, hours_worked, hour_rate):\n",
        "      super().__init__(id, name)\n",
        "      self.hours_worked = hours_worked\n",
        "      self.hour_rate = hour_rate\n",
        "\n",
        "    def calculate_payroll(self):\n",
        "      return self.hours_worked * self.hour_rate\n",
        "\n",
        "\n",
        "class CommissionEmployee(SalaryEmployee):\n",
        "  \n",
        "    def __init__(self, id, name, weekly_salary, commission: float, volume: int):\n",
        "      super().__init__(id, name, weekly_salary)\n",
        "      self.commission = commission\n",
        "      self.volume = volume\n",
        "\n",
        "    def calculate_payroll(self):\n",
        "      return self.weekly_salary + self.commission * self.volume"
      ],
      "metadata": {
        "id": "2-qLPbJhFAB-"
      },
      "execution_count": null,
      "outputs": []
    },
    {
      "cell_type": "code",
      "source": [
        "se = SalaryEmployee(1, NAME, 100)\n",
        "ce = CommissionEmployee(2, 'Василий', 50, .1, 100)"
      ],
      "metadata": {
        "id": "Go2mGQ-XjC1H"
      },
      "execution_count": null,
      "outputs": []
    },
    {
      "cell_type": "code",
      "source": [
        "print(se.name, se.calculate_payroll())\n",
        "print(ce.name, ce.calculate_payroll())"
      ],
      "metadata": {
        "id": "CCZAhEwyjWNC"
      },
      "execution_count": null,
      "outputs": []
    },
    {
      "cell_type": "markdown",
      "source": [
        "## Небольшой кейс про protected\n",
        "\n",
        "Сделайте класс `Company` в конструкторе которого определите protected поле `project`. Далее, сделайте класс `Employee`, унаследованный от `Company` и в его конструктор добавьте поле `name`. Сделайте метод `show`, который печатает поля `project` и `name`."
      ],
      "metadata": {
        "id": "CgJx41v8L-MN"
      }
    },
    {
      "cell_type": "code",
      "source": [
        "class Company:\n",
        "\n",
        "    def __init__(self, project):\n",
        "      pass\n",
        "\n",
        "\n",
        "class Employee(Company):\n",
        "  \n",
        "    def __init__(self, name, project):\n",
        "      pass"
      ],
      "metadata": {
        "id": "dJMGoaelL7H_"
      },
      "execution_count": null,
      "outputs": []
    },
    {
      "cell_type": "markdown",
      "source": [
        "# Множественное наследование\n",
        "\n",
        "Напишите класс `TeamMember` с полями `name` и `id`. Далее напишите класс `Worker` c полями `pay` и `jobtitle`. Отнаследуйте от них класс `TeamLeader` со всеми полями родителей, а также с полем `experience`. Создайте метод `greeting` для класса `TeamMember` и `representation` для `Worker`, которые выведут строки вида `'Hi, I am {name} and have an id {id}'` и `'I am {jobtitle} and recieve {pay}'`. У класса `TeamLeader` тоже напишите этот метод, который вызовет методы `greeting` и `representation` у родителей и вернет их конкатенацию."
      ],
      "metadata": {
        "id": "F60K085uNBg7"
      }
    },
    {
      "cell_type": "code",
      "source": [
        "class Person:\n",
        "\n",
        "  def __init__(self):\n",
        "    pass\n",
        "\n",
        "  def greeting(self):\n",
        "    pass\n",
        "\n",
        "\n",
        "class TeamMember(Person):           \n",
        "\n",
        "    def __init__(self, name, id): \n",
        "      self.name = name\n",
        "      self.id = id\n",
        "\n",
        "    # def greeting(self):\n",
        "    #   return f\"Hi, I am {self.name} and I have an id {self.id}\"\n",
        "\n",
        "\n",
        "class Worker(Person):       \n",
        "\n",
        "    def __init__(self, pay, jobtitle):\n",
        "      self.pay = pay\n",
        "      self.jobtitle = jobtitle\n",
        "\n",
        "    # def greeting(self):\n",
        "    #   return f\"Hi, I am {self.jobtitle} and I receive {self.pay}.\"\n",
        "  \n",
        "\n",
        "class TeamLeader(TeamMember, Worker):\n",
        "\n",
        "    def __init__(self, name, id, pay, jobtitle, experience): \n",
        "      TeamMember.__init__(self, name, id)\n",
        "      Worker.__init__(self, pay, jobtitle)\n",
        "      self.experience = experience\n",
        "\n",
        "    #def greeting(self):\n",
        "    #  return self.greeting(self) + ' ' + Worker.greeting(self)"
      ],
      "metadata": {
        "id": "Sz6nMu-wOqHM"
      },
      "execution_count": null,
      "outputs": []
    },
    {
      "cell_type": "code",
      "source": [
        "tl = TeamLeader(NAME, 213123, 100, 'Engineer', 10)"
      ],
      "metadata": {
        "id": "HTFoJQWHlzXu"
      },
      "execution_count": null,
      "outputs": []
    },
    {
      "cell_type": "code",
      "source": [
        "print(tl.greeting())"
      ],
      "metadata": {
        "id": "8lTMuB0ll_PO"
      },
      "execution_count": null,
      "outputs": []
    }
  ]
}