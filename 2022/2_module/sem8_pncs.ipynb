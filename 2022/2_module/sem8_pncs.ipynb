{
  "nbformat": 4,
  "nbformat_minor": 0,
  "metadata": {
    "colab": {
      "provenance": []
    },
    "kernelspec": {
      "name": "python3",
      "display_name": "Python 3"
    },
    "language_info": {
      "name": "python"
    }
  },
  "cells": [
    {
      "cell_type": "markdown",
      "source": [
        "## @classmethod / @staticmethod"
      ],
      "metadata": {
        "id": "i6IrgYNEiHvB"
      }
    },
    {
      "cell_type": "markdown",
      "source": [
        "Давайте напишем класс `Car`, конструктор которого принимает на вход возраст авто и производителя. Далее определите два метода, первый `from_year` позволит запустить конструктор, если вместо возраста передать год изготовления, а второй `from_str` позволит запустить конструктор, если в него передать строку, содержащую аргументы. Причем в такой строке возраст может идти как до изготовителя, так и после."
      ],
      "metadata": {
        "id": "yNq0Iu2UinHK"
      }
    },
    {
      "cell_type": "code",
      "source": [
        "from datetime import date"
      ],
      "metadata": {
        "id": "XVNiHz1AM0VH"
      },
      "execution_count": null,
      "outputs": []
    },
    {
      "cell_type": "code",
      "source": [
        "date.today().year"
      ],
      "metadata": {
        "colab": {
          "base_uri": "https://localhost:8080/"
        },
        "id": "HuS9IDbmM4ZK",
        "outputId": "a397352d-b7cb-4ba3-9cfd-b16c7248b80f"
      },
      "execution_count": null,
      "outputs": [
        {
          "output_type": "execute_result",
          "data": {
            "text/plain": [
              "2022"
            ]
          },
          "metadata": {},
          "execution_count": 3
        }
      ]
    },
    {
      "cell_type": "code",
      "execution_count": null,
      "metadata": {
        "id": "bgzLWIa3X6PI"
      },
      "outputs": [],
      "source": [
        "class Car:\n",
        "\n",
        "    name = 'car'\n",
        "  \n",
        "    def __init__(self, age: int, manufacturer: str):\n",
        "      self.age = age\n",
        "      self.manufacturer = manufacturer\n",
        "\n",
        "    @classmethod\n",
        "    def from_year(cls, year: int, manufacturer: str):\n",
        "      cls.name = 'not car'\n",
        "      return cls(date.today().year - year, manufacturer)\n",
        "\n",
        "    @classmethod \n",
        "    def from_str(cls, text: str):\n",
        "      print()\n",
        "      if text.split()[0].isdigit():\n",
        "        return cls(int(text.split()[0]), text.split()[1])\n",
        "      else:\n",
        "        return cls(int(text.split()[1]), text.split()[0])\n",
        "    \n",
        "    @staticmethod\n",
        "    def isImport(manufacturer:  str):\n",
        "      return manufacturer in {'BMW', 'Wolvo', 'Mercedes'}"
      ]
    },
    {
      "cell_type": "code",
      "source": [
        "Car.name"
      ],
      "metadata": {
        "colab": {
          "base_uri": "https://localhost:8080/",
          "height": 36
        },
        "id": "4MtnuU7ZQNyE",
        "outputId": "3b3321b4-8b94-4034-f32a-a2e193b57996"
      },
      "execution_count": null,
      "outputs": [
        {
          "output_type": "execute_result",
          "data": {
            "text/plain": [
              "'car'"
            ],
            "application/vnd.google.colaboratory.intrinsic+json": {
              "type": "string"
            }
          },
          "metadata": {},
          "execution_count": 35
        }
      ]
    },
    {
      "cell_type": "code",
      "source": [
        "c = Car.from_year(2014, 'Lada')\n",
        "print(c.age, c.manufacturer)"
      ],
      "metadata": {
        "colab": {
          "base_uri": "https://localhost:8080/"
        },
        "id": "Rjc792N1NOcd",
        "outputId": "84dc82a8-c899-4ce2-eaaf-cc1245f33ae3"
      },
      "execution_count": null,
      "outputs": [
        {
          "output_type": "stream",
          "name": "stdout",
          "text": [
            "8 Lada\n"
          ]
        }
      ]
    },
    {
      "cell_type": "code",
      "source": [
        "Car.name"
      ],
      "metadata": {
        "colab": {
          "base_uri": "https://localhost:8080/",
          "height": 36
        },
        "id": "xZI92LujQLR_",
        "outputId": "73b895c9-32b8-4187-9e7e-43ae9b9a76e2"
      },
      "execution_count": null,
      "outputs": [
        {
          "output_type": "execute_result",
          "data": {
            "text/plain": [
              "'not car'"
            ],
            "application/vnd.google.colaboratory.intrinsic+json": {
              "type": "string"
            }
          },
          "metadata": {},
          "execution_count": 33
        }
      ]
    },
    {
      "cell_type": "code",
      "source": [
        "d = Car.from_str('Lada 2010')\n",
        "print(d.age, d.manufacturer)"
      ],
      "metadata": {
        "colab": {
          "base_uri": "https://localhost:8080/"
        },
        "id": "Qn253tACOJ6y",
        "outputId": "e02e17a7-84e9-4ea3-ccee-6f1c2be19fe1"
      },
      "execution_count": null,
      "outputs": [
        {
          "output_type": "stream",
          "name": "stdout",
          "text": [
            "\n",
            "2010 Lada\n"
          ]
        }
      ]
    },
    {
      "cell_type": "code",
      "source": [
        "d = Car.from_str('2010 KaMaz')\n",
        "print(d.age, d.manufacturer)"
      ],
      "metadata": {
        "colab": {
          "base_uri": "https://localhost:8080/"
        },
        "id": "veDNkbMJOTMH",
        "outputId": "d8191bfe-049e-4824-8740-36df06d80f47"
      },
      "execution_count": null,
      "outputs": [
        {
          "output_type": "stream",
          "name": "stdout",
          "text": [
            "\n",
            "2010 KaMaz\n"
          ]
        }
      ]
    },
    {
      "cell_type": "code",
      "source": [
        "d.isImport(d.manufacturer)"
      ],
      "metadata": {
        "colab": {
          "base_uri": "https://localhost:8080/",
          "height": 269
        },
        "id": "VXi5njmLO0B-",
        "outputId": "f9119d16-cd86-4ea9-c070-e27b908b9272"
      },
      "execution_count": null,
      "outputs": [
        {
          "output_type": "error",
          "ename": "NameError",
          "evalue": "ignored",
          "traceback": [
            "\u001b[0;31m---------------------------------------------------------------------------\u001b[0m",
            "\u001b[0;31mNameError\u001b[0m                                 Traceback (most recent call last)",
            "\u001b[0;32m<ipython-input-29-709502deb070>\u001b[0m in \u001b[0;36m<module>\u001b[0;34m\u001b[0m\n\u001b[0;32m----> 1\u001b[0;31m \u001b[0md\u001b[0m\u001b[0;34m.\u001b[0m\u001b[0misImport\u001b[0m\u001b[0;34m(\u001b[0m\u001b[0md\u001b[0m\u001b[0;34m.\u001b[0m\u001b[0mmanufacturer\u001b[0m\u001b[0;34m)\u001b[0m\u001b[0;34m\u001b[0m\u001b[0;34m\u001b[0m\u001b[0m\n\u001b[0m",
            "\u001b[0;32m<ipython-input-25-04b6baa10c9d>\u001b[0m in \u001b[0;36misImport\u001b[0;34m(manufacturer)\u001b[0m\n\u001b[1;32m     22\u001b[0m     \u001b[0;34m@\u001b[0m\u001b[0mstaticmethod\u001b[0m\u001b[0;34m\u001b[0m\u001b[0;34m\u001b[0m\u001b[0m\n\u001b[1;32m     23\u001b[0m     \u001b[0;32mdef\u001b[0m \u001b[0misImport\u001b[0m\u001b[0;34m(\u001b[0m\u001b[0mmanufacturer\u001b[0m\u001b[0;34m:\u001b[0m  \u001b[0mstr\u001b[0m\u001b[0;34m)\u001b[0m\u001b[0;34m:\u001b[0m\u001b[0;34m\u001b[0m\u001b[0;34m\u001b[0m\u001b[0m\n\u001b[0;32m---> 24\u001b[0;31m       \u001b[0mprint\u001b[0m\u001b[0;34m(\u001b[0m\u001b[0mname\u001b[0m\u001b[0;34m)\u001b[0m\u001b[0;34m\u001b[0m\u001b[0;34m\u001b[0m\u001b[0m\n\u001b[0m\u001b[1;32m     25\u001b[0m       \u001b[0;32mreturn\u001b[0m \u001b[0mmanufacturer\u001b[0m \u001b[0;32min\u001b[0m \u001b[0;34m{\u001b[0m\u001b[0;34m'BMW'\u001b[0m\u001b[0;34m,\u001b[0m \u001b[0;34m'Wolvo'\u001b[0m\u001b[0;34m,\u001b[0m \u001b[0;34m'Mercedes'\u001b[0m\u001b[0;34m}\u001b[0m\u001b[0;34m\u001b[0m\u001b[0;34m\u001b[0m\u001b[0m\n",
            "\u001b[0;31mNameError\u001b[0m: name 'name' is not defined"
          ]
        }
      ]
    },
    {
      "cell_type": "code",
      "source": [
        "Car.isImport('KaMaZ')"
      ],
      "metadata": {
        "colab": {
          "base_uri": "https://localhost:8080/",
          "height": 269
        },
        "id": "G-Wa20BdPdkT",
        "outputId": "2cf46c3a-6faf-4ba7-dddd-2a4c5ce94431"
      },
      "execution_count": null,
      "outputs": [
        {
          "output_type": "error",
          "ename": "NameError",
          "evalue": "ignored",
          "traceback": [
            "\u001b[0;31m---------------------------------------------------------------------------\u001b[0m",
            "\u001b[0;31mNameError\u001b[0m                                 Traceback (most recent call last)",
            "\u001b[0;32m<ipython-input-30-18f7a3db3f0e>\u001b[0m in \u001b[0;36m<module>\u001b[0;34m\u001b[0m\n\u001b[0;32m----> 1\u001b[0;31m \u001b[0mCar\u001b[0m\u001b[0;34m.\u001b[0m\u001b[0misImport\u001b[0m\u001b[0;34m(\u001b[0m\u001b[0;34m'KaMaZ'\u001b[0m\u001b[0;34m)\u001b[0m\u001b[0;34m\u001b[0m\u001b[0;34m\u001b[0m\u001b[0m\n\u001b[0m",
            "\u001b[0;32m<ipython-input-25-04b6baa10c9d>\u001b[0m in \u001b[0;36misImport\u001b[0;34m(manufacturer)\u001b[0m\n\u001b[1;32m     22\u001b[0m     \u001b[0;34m@\u001b[0m\u001b[0mstaticmethod\u001b[0m\u001b[0;34m\u001b[0m\u001b[0;34m\u001b[0m\u001b[0m\n\u001b[1;32m     23\u001b[0m     \u001b[0;32mdef\u001b[0m \u001b[0misImport\u001b[0m\u001b[0;34m(\u001b[0m\u001b[0mmanufacturer\u001b[0m\u001b[0;34m:\u001b[0m  \u001b[0mstr\u001b[0m\u001b[0;34m)\u001b[0m\u001b[0;34m:\u001b[0m\u001b[0;34m\u001b[0m\u001b[0;34m\u001b[0m\u001b[0m\n\u001b[0;32m---> 24\u001b[0;31m       \u001b[0mprint\u001b[0m\u001b[0;34m(\u001b[0m\u001b[0mname\u001b[0m\u001b[0;34m)\u001b[0m\u001b[0;34m\u001b[0m\u001b[0;34m\u001b[0m\u001b[0m\n\u001b[0m\u001b[1;32m     25\u001b[0m       \u001b[0;32mreturn\u001b[0m \u001b[0mmanufacturer\u001b[0m \u001b[0;32min\u001b[0m \u001b[0;34m{\u001b[0m\u001b[0;34m'BMW'\u001b[0m\u001b[0;34m,\u001b[0m \u001b[0;34m'Wolvo'\u001b[0m\u001b[0;34m,\u001b[0m \u001b[0;34m'Mercedes'\u001b[0m\u001b[0;34m}\u001b[0m\u001b[0;34m\u001b[0m\u001b[0;34m\u001b[0m\u001b[0m\n",
            "\u001b[0;31mNameError\u001b[0m: name 'name' is not defined"
          ]
        }
      ]
    },
    {
      "cell_type": "markdown",
      "source": [
        "## @property"
      ],
      "metadata": {
        "id": "pydN7KpLiqsz"
      }
    },
    {
      "cell_type": "markdown",
      "source": [
        "Давайте напишем родительский класс `Vehicle`, от которого будет наследоваться класс `Car`. У класса `Vehicle` должны быть атрибуты `power`, `cost`, `weight` и `name`. У класса `Car` должен быть дополнительный атрибут `color`, а также `speed`, которое вычисляется как $\\frac{power}{weight} * 100$."
      ],
      "metadata": {
        "id": "NwHQAKL6IJr9"
      }
    },
    {
      "cell_type": "code",
      "source": [
        "class Vehicle:\n",
        "  \n",
        "  def __init__(self, power: float, cost: float, weight: float, name: str):\n",
        "    self.power = power\n",
        "    self.cost = cost\n",
        "    self.weight = weight\n",
        "    self.name = name\n",
        "\n",
        "  @property\n",
        "  def power(self):\n",
        "    print('Возвращаю значение')\n",
        "    return self.__power\n",
        "\n",
        "  @power.setter\n",
        "  def power(self, value: float):\n",
        "    print('Присваиваю значение')\n",
        "    if value < 0:\n",
        "      raise ValueError('Negative power')\n",
        "    self.__power = value\n",
        "\n",
        "class Car(Vehicle):\n",
        "\n",
        "  def __init__(self, power: float, cost: float, weight: float, name: str, color: str):\n",
        "    super().__init__(power, cost, weight, name)\n",
        "    self.color = color\n",
        "    self.speed = self.power / self.weight * 100\n"
      ],
      "metadata": {
        "id": "tp1-_2W_ip0P"
      },
      "execution_count": null,
      "outputs": []
    },
    {
      "cell_type": "code",
      "source": [
        "v = Vehicle(1000, 10, 100, 'Vehicle')\n",
        "v.power"
      ],
      "metadata": {
        "colab": {
          "base_uri": "https://localhost:8080/"
        },
        "id": "j9XfxwFCSYia",
        "outputId": "83f91ba2-7a3e-40f8-d54d-dd818a28f43d"
      },
      "execution_count": null,
      "outputs": [
        {
          "output_type": "stream",
          "name": "stdout",
          "text": [
            "Присваиваю значение\n",
            "Возвращаю значение\n"
          ]
        },
        {
          "output_type": "execute_result",
          "data": {
            "text/plain": [
              "1000"
            ]
          },
          "metadata": {},
          "execution_count": 69
        }
      ]
    },
    {
      "cell_type": "code",
      "source": [
        "c = Car(1000, 10, 100, 'Car', 'red')\n",
        "print(c.color, c.speed)"
      ],
      "metadata": {
        "colab": {
          "base_uri": "https://localhost:8080/"
        },
        "id": "hrZ980uoRf_q",
        "outputId": "6e08a2eb-0891-4745-b20f-1ea8f4737a80"
      },
      "execution_count": null,
      "outputs": [
        {
          "output_type": "stream",
          "name": "stdout",
          "text": [
            "Присваиваю значение\n",
            "Возвращаю значение\n",
            "red 1000.0\n"
          ]
        }
      ]
    },
    {
      "cell_type": "markdown",
      "source": [
        "## Динамические атрибуты"
      ],
      "metadata": {
        "id": "4ysAZpWqiKsj"
      }
    },
    {
      "cell_type": "code",
      "source": [
        "class AttrDict(dict):\n",
        "  \n",
        "  def __init__(self, d: dict):\n",
        "    for key, value in d.items():\n",
        "      self[key] = value\n",
        "\n",
        "  def __getattr__(self, key):\n",
        "    return self[key]"
      ],
      "metadata": {
        "id": "sYkOM07WDfBM"
      },
      "execution_count": null,
      "outputs": []
    },
    {
      "cell_type": "code",
      "source": [
        "d = {'aaaa': 1, 'dfgdf': {123123: 12312, 132123: 12312}, 'pop_': 123123}\n",
        "ad = AttrDict(d)\n",
        "print(ad.pop_)\n",
        "print(ad.dfgdf)"
      ],
      "metadata": {
        "colab": {
          "base_uri": "https://localhost:8080/"
        },
        "id": "tKRk1aEMWerO",
        "outputId": "fc420e81-a81c-480d-f418-6dd289e5d86a"
      },
      "execution_count": null,
      "outputs": [
        {
          "output_type": "stream",
          "name": "stdout",
          "text": [
            "123123\n",
            "{123123: 12312, 132123: 12312}\n"
          ]
        }
      ]
    },
    {
      "cell_type": "markdown",
      "source": [
        "Теперь давайте реализуем возможность создания динамических атрибутов у питоновских объектов. Представьте, что вам на вход подается словарь, в котором значениями могут быть разные типы данных, в том числе и словари. Например, на вход мы получили:\n",
        "\n",
        "```\n",
        "      {\n",
        "        \"title\": \"iPhone X\",\n",
        "        \"price\": 100,\n",
        "        \"class\": \"smartphone\",\n",
        "        \"location\": {\n",
        "        \"address\": \"город Самара, улица Мориса Тореза, 50\",\n",
        "        \"metro_stations\": [\"Спортивная\", \"Гагаринская\"]\n",
        "        }\n",
        "      }\n",
        "```\n",
        "\n",
        "И хотим суметь обратиться к `obj.location.address`.\n",
        "\n",
        "Отдельно подумайте, что нужно делать, если ключ словаря совпадает со встроенными командами питона."
      ],
      "metadata": {
        "id": "JQ-DlEQ9DtnJ"
      }
    },
    {
      "cell_type": "code",
      "source": [
        "import keyword\n",
        "import json"
      ],
      "metadata": {
        "id": "cihq3QXeDuWo"
      },
      "execution_count": null,
      "outputs": []
    },
    {
      "cell_type": "code",
      "source": [
        "class JSON2Python:\n",
        "\n",
        "  def __init__(self, json_obj):\n",
        "    for key, value in json_obj.items():\n",
        "      if type(value) == dict:\n",
        "        JSON2Python.dynamic_attr(key, AttrDict(value))\n",
        "      else:\n",
        "        JSON2Python.dynamic_attr(key, value)\n",
        "\n",
        "  @classmethod\n",
        "  def dynamic_attr(cls, key, value):\n",
        "    if keyword.iskeyword(key):\n",
        "      setattr(cls, str(key) + '_', value)\n",
        "    else:\n",
        "      setattr(cls, key, value)"
      ],
      "metadata": {
        "id": "ZKnSeab7EJlj"
      },
      "execution_count": null,
      "outputs": []
    },
    {
      "cell_type": "code",
      "source": [
        "example = \"\"\"\n",
        "{\n",
        "  \"title\": \"iPhone X\",\n",
        "  \"price\": 100,\n",
        "  \"class\": \"smartphone\",\n",
        "  \"location\": \n",
        "    {\n",
        "      \"address\": \"город Самара, улица Мориса Тореза, 50\",\n",
        "      \"metro_stations\": [\"Спортивная\", \"Гагаринская\"]\n",
        "    },\n",
        "  \"if\": \"pop\"\n",
        "}\n",
        "\"\"\""
      ],
      "metadata": {
        "id": "vLh1py2jEZo5"
      },
      "execution_count": null,
      "outputs": []
    },
    {
      "cell_type": "code",
      "source": [
        "jp = JSON2Python(json.loads(example))"
      ],
      "metadata": {
        "id": "-1EJx9TEZJne"
      },
      "execution_count": null,
      "outputs": []
    },
    {
      "cell_type": "code",
      "source": [
        "jp.if_"
      ],
      "metadata": {
        "colab": {
          "base_uri": "https://localhost:8080/",
          "height": 36
        },
        "id": "NXqmxgpQZq1V",
        "outputId": "5b6122cd-81d6-4aa4-9109-d2b1d634ab1d"
      },
      "execution_count": null,
      "outputs": [
        {
          "output_type": "execute_result",
          "data": {
            "text/plain": [
              "'pop'"
            ],
            "application/vnd.google.colaboratory.intrinsic+json": {
              "type": "string"
            }
          },
          "metadata": {},
          "execution_count": 137
        }
      ]
    },
    {
      "cell_type": "markdown",
      "source": [
        "**Задача**: написать класс DivStr, который будет наследоваться от класса str, а также будет поддерживать операции `//` и `%`."
      ],
      "metadata": {
        "id": "T2xq59vjE1Vz"
      }
    },
    {
      "cell_type": "code",
      "source": [
        "class DivStr(str):\n",
        "  \n",
        "  def __init__(self, *args, **kwargs):\n",
        "    super().__init__()\n",
        "\n",
        "  def __floordiv__(self, k: int):\n",
        "    if k <= 0:\n",
        "      raise ValueError('Nonpositive divisor')\n",
        "    d = len(self) // k\n",
        "    if d > 0:\n",
        "      return ' '.join(self[i * d: (i + 1) * d] for i in range(0, k))\n",
        "    return ''\n",
        "\n",
        "  def __mod__(self, k: int):\n",
        "    if len(self) % k == 0:\n",
        "      return ''\n",
        "    return self[-(len(self) % k):]"
      ],
      "metadata": {
        "id": "hG7P2NWAFG8b"
      },
      "execution_count": null,
      "outputs": []
    },
    {
      "cell_type": "code",
      "source": [
        "ds = DivStr('aaaaaaaaaaaaaaa')\n",
        "print(ds, len(ds), ds.strip())"
      ],
      "metadata": {
        "colab": {
          "base_uri": "https://localhost:8080/"
        },
        "id": "ndEKe-G4bp44",
        "outputId": "85768bc8-1d4c-4b03-f4d9-4afd827befbc"
      },
      "execution_count": null,
      "outputs": [
        {
          "output_type": "stream",
          "name": "stdout",
          "text": [
            "aaaaaaaaaaaaaaa 15 aaaaaaaaaaaaaaa\n"
          ]
        }
      ]
    },
    {
      "cell_type": "code",
      "source": [
        "print(ds // 17) # ''\n",
        "print(ds // 5) # 'aaa aaa ...'\n",
        "print(ds // 15) #"
      ],
      "metadata": {
        "colab": {
          "base_uri": "https://localhost:8080/"
        },
        "id": "wjrvNZpkdMy9",
        "outputId": "2676b60e-8816-415e-9fe3-49fa07536abc"
      },
      "execution_count": null,
      "outputs": [
        {
          "output_type": "stream",
          "name": "stdout",
          "text": [
            "\n",
            "aaa aaa aaa aaa aaa\n",
            "a a a a a a a a a a a a a a a\n"
          ]
        }
      ]
    },
    {
      "cell_type": "code",
      "source": [
        "ds // 7"
      ],
      "metadata": {
        "colab": {
          "base_uri": "https://localhost:8080/",
          "height": 36
        },
        "id": "-qet5m-FeMFL",
        "outputId": "5629b459-04dc-4d9d-ed76-8a93c68e1536"
      },
      "execution_count": null,
      "outputs": [
        {
          "output_type": "execute_result",
          "data": {
            "text/plain": [
              "'aa aa aa aa aa aa aa'"
            ],
            "application/vnd.google.colaboratory.intrinsic+json": {
              "type": "string"
            }
          },
          "metadata": {},
          "execution_count": 161
        }
      ]
    },
    {
      "cell_type": "code",
      "source": [
        "print(ds // 17, ds % 17)\n",
        "print(ds // 7, ds % 7)\n",
        "print(ds // 5, ds % 5)\n",
        "print(ds // 2, ds % 2)"
      ],
      "metadata": {
        "colab": {
          "base_uri": "https://localhost:8080/"
        },
        "id": "AmPNimP2d5V7",
        "outputId": "6141e502-6682-48fe-dc3e-480606e4b8de"
      },
      "execution_count": null,
      "outputs": [
        {
          "output_type": "stream",
          "name": "stdout",
          "text": [
            " aaaaaaaaaaaaaaa\n",
            "aa aa aa aa aa aa aa a\n",
            "aaa aaa aaa aaa aaa \n",
            "aaaaaaa aaaaaaa a\n"
          ]
        }
      ]
    },
    {
      "cell_type": "code",
      "source": [
        "s = 'a' * 15\n",
        "d = len(s) // 7\n",
        "for i in range(0, 7):\n",
        "  print(i * d, (i + 1) * d, s[i * d: (i + 1) * d])"
      ],
      "metadata": {
        "colab": {
          "base_uri": "https://localhost:8080/"
        },
        "id": "IiupVlxEc_fm",
        "outputId": "82607a57-6f89-491e-ff76-fe022a3763ba"
      },
      "execution_count": null,
      "outputs": [
        {
          "output_type": "stream",
          "name": "stdout",
          "text": [
            "0 2 aa\n",
            "2 4 aa\n",
            "4 6 aa\n",
            "6 8 aa\n",
            "8 10 aa\n",
            "10 12 aa\n",
            "12 14 aa\n"
          ]
        }
      ]
    },
    {
      "cell_type": "code",
      "source": [],
      "metadata": {
        "id": "K1Urkxt9e4SL"
      },
      "execution_count": null,
      "outputs": []
    }
  ]
}