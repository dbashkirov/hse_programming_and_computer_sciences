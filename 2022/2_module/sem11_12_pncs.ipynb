{
  "nbformat": 4,
  "nbformat_minor": 0,
  "metadata": {
    "colab": {
      "provenance": []
    },
    "kernelspec": {
      "name": "python3",
      "display_name": "Python 3"
    },
    "language_info": {
      "name": "python"
    }
  },
  "cells": [
    {
      "cell_type": "markdown",
      "source": [
        "## Сортировка пузырьком"
      ],
      "metadata": {
        "id": "fn1wXkZIyxKt"
      }
    },
    {
      "cell_type": "code",
      "source": [
        "def bubble_sort(a: list):\n",
        "  pass"
      ],
      "metadata": {
        "id": "ofeabjHJzKer"
      },
      "execution_count": null,
      "outputs": []
    },
    {
      "cell_type": "code",
      "execution_count": null,
      "metadata": {
        "colab": {
          "base_uri": "https://localhost:8080/"
        },
        "id": "tCfvmadnyr3Z",
        "outputId": "28c10bd2-1574-4002-f663-a7f71adb4be8"
      },
      "outputs": [
        {
          "output_type": "stream",
          "name": "stdout",
          "text": [
            "-1 0 1 1 1 2 2 3 3 4 4 5 5\n"
          ]
        }
      ],
      "source": [
        "a = [1, 2, 3, 4, 4, 1, 2, 3, 5, -1, 0, 5, 1]\n",
        "bubble_sort(a)\n",
        "print(*a)"
      ]
    },
    {
      "cell_type": "markdown",
      "source": [
        "## Сортировка выбором"
      ],
      "metadata": {
        "id": "DhryzL2_y2KZ"
      }
    },
    {
      "cell_type": "code",
      "source": [
        "def selection_sort(a: list):\n",
        "  n = len(a)\n",
        "  i = 0\n",
        "  while i < n:\n",
        "    min_idx = i\n",
        "    for j in range(i + 1, n):\n",
        "      if a[j] < a[min_idx]:\n",
        "        min_idx = j\n",
        "    a[i], a[min_idx] = a[min_idx], a[i]\n",
        "    i += 1"
      ],
      "metadata": {
        "id": "GT5Pdwjpy8cZ"
      },
      "execution_count": null,
      "outputs": []
    },
    {
      "cell_type": "code",
      "source": [
        "a = [1, 2, 3, 4, 4, 1, 2, 3, 5, -1, 0, 5, 1]\n",
        "selection_sort(a)\n",
        "print(*a)"
      ],
      "metadata": {
        "colab": {
          "base_uri": "https://localhost:8080/"
        },
        "id": "frwmJy_c_IVw",
        "outputId": "506ce603-82d0-4fb9-d7d3-478ad003a505"
      },
      "execution_count": null,
      "outputs": [
        {
          "output_type": "stream",
          "name": "stdout",
          "text": [
            "-1 0 1 1 1 2 2 3 3 4 4 5 5\n"
          ]
        }
      ]
    },
    {
      "cell_type": "markdown",
      "source": [
        "## Сортировка вставками"
      ],
      "metadata": {
        "id": "P9wjAhgby6OO"
      }
    },
    {
      "cell_type": "code",
      "source": [
        "def insertion_sort(a: list):\n",
        "  n = len(a)\n",
        "  for i in range(1, n):\n",
        "    j = i - 1\n",
        "    key = a[i]\n",
        "    while j >= 0 and a[j] > key:\n",
        "      a[j + 1] = a[j]\n",
        "      j -= 1\n",
        "    a[j + 1] = key"
      ],
      "metadata": {
        "id": "WNwlMNe5y5oa"
      },
      "execution_count": null,
      "outputs": []
    },
    {
      "cell_type": "code",
      "source": [
        "a = [1, 2, 3, 4, 4, 1, 2, 3, 5, -1, 0, 5, 1]\n",
        "selection_sort(a)\n",
        "print(*a)"
      ],
      "metadata": {
        "colab": {
          "base_uri": "https://localhost:8080/"
        },
        "id": "QGXILmB94ABN",
        "outputId": "9d121efc-7b9b-441f-8a2c-332cc7acbeb5"
      },
      "execution_count": null,
      "outputs": [
        {
          "output_type": "stream",
          "name": "stdout",
          "text": [
            "-1 0 1 1 1 2 2 3 3 4 4 5 5\n"
          ]
        }
      ]
    },
    {
      "cell_type": "markdown",
      "source": [
        "## Сортировка слиянием"
      ],
      "metadata": {
        "id": "X0PcYsdhy9_2"
      }
    },
    {
      "cell_type": "code",
      "source": [
        "def merge(left: list, right: list):\n",
        "  n, m = len(left), len(right)\n",
        "  res = [0] * (n + m)\n",
        "  i, j = 0, 0\n",
        "  while i + j < n + m:\n",
        "    if j == m or (i < n and left[i] <= right[j]):\n",
        "      res[i + j] = left[i]\n",
        "      i += 1\n",
        "    else:\n",
        "      res[i + j] = right[j]\n",
        "      j += 1\n",
        "  return res\n",
        "\n",
        "def merge_sort(a: list):\n",
        "  if len(a) <= 1:\n",
        "    return a\n",
        "  left = merge_sort(a[:len(a) // 2])\n",
        "  right = merge_sort(a[len(a) // 2:])\n",
        "  return merge(left, right)"
      ],
      "metadata": {
        "id": "WJTH5vGvzAej"
      },
      "execution_count": null,
      "outputs": []
    },
    {
      "cell_type": "code",
      "source": [
        "left, right = [1, 5, 6], [2, 3, 4]\n",
        "merge(left, right)"
      ],
      "metadata": {
        "colab": {
          "base_uri": "https://localhost:8080/"
        },
        "id": "QeV26Ypps8_2",
        "outputId": "41c0da35-b459-4709-9424-66b2a758758f"
      },
      "execution_count": null,
      "outputs": [
        {
          "output_type": "execute_result",
          "data": {
            "text/plain": [
              "[1, 2, 3, 4, 5]"
            ]
          },
          "metadata": {},
          "execution_count": 25
        }
      ]
    },
    {
      "cell_type": "code",
      "source": [
        "[1, 5, 6, 2, 3, 4]\n",
        "[1, 2, 3, 4, 5, 6]"
      ],
      "metadata": {
        "id": "w_p-Nhs0xYoS"
      },
      "execution_count": null,
      "outputs": []
    },
    {
      "cell_type": "markdown",
      "source": [
        "**Задача**: Дан массив `a`. Нужно посчитать количество пар $(i, j)$: $i < j$, но $a[i] > a[j]$"
      ],
      "metadata": {
        "id": "q3w7yajUwN1K"
      }
    },
    {
      "cell_type": "code",
      "source": [
        "k = 0\n",
        "\n",
        "def merge(left: list, right: list):\n",
        "  global k\n",
        "  n, m = len(left), len(right)\n",
        "  res = [0] * (n + m)\n",
        "  i, j = 0, 0\n",
        "  while i + j < n + m:\n",
        "    if j == m or (i < n and left[i] <= right[j]):\n",
        "      res[i + j] = left[i]\n",
        "      i += 1\n",
        "    else:\n",
        "      if i != n:\n",
        "        k += n - i\n",
        "      res[i + j] = right[j]\n",
        "      j += 1\n",
        "  return res\n",
        "\n",
        "def merge_sort(a: list):\n",
        "  if len(a) <= 1:\n",
        "    return a\n",
        "  left = merge_sort(a[:len(a) // 2])\n",
        "  right = merge_sort(a[len(a) // 2:])\n",
        "  return merge(left, right)"
      ],
      "metadata": {
        "id": "ty3X9G9tyCkn"
      },
      "execution_count": null,
      "outputs": []
    },
    {
      "cell_type": "code",
      "source": [
        "a = [6, 5, 4, 3, 2, 1]\n",
        "b = merge_sort(a)\n",
        "print(*b)\n",
        "print(k)"
      ],
      "metadata": {
        "colab": {
          "base_uri": "https://localhost:8080/"
        },
        "id": "klTapVZOttZL",
        "outputId": "4d811d95-78a8-44ee-d996-0c76fca40fa4"
      },
      "execution_count": null,
      "outputs": [
        {
          "output_type": "stream",
          "name": "stdout",
          "text": [
            "1 2 3 4 5 6\n",
            "15\n"
          ]
        }
      ]
    },
    {
      "cell_type": "markdown",
      "source": [
        "## Быстрая сортировка"
      ],
      "metadata": {
        "id": "2GO87f5Oqg2H"
      }
    },
    {
      "cell_type": "code",
      "source": [
        "import random\n",
        "\n",
        "a = [1, 2, 3, 4, 4, 1, 2, 3, 5, -1, 0, 5, 1]\n",
        "\n",
        "def split(a: list, l: int, r: int, x: int):\n",
        "  l_m, r_m = l - 1, r + 1\n",
        "  while True:\n",
        "    l_m += 1\n",
        "    while a[l_m] < x:\n",
        "      l_m += 1\n",
        "    r_m -= 1\n",
        "    while a[r_m] > x:\n",
        "      r_m -= 1\n",
        "    if l_m >= r_m:\n",
        "      return r_m\n",
        "    a[l_m], a[r_m] = a[r_m], a[l_m]\n",
        "\n",
        "def quick_sort(a: list, l: int, r: int):\n",
        "  if r - l < 1:\n",
        "    return\n",
        "  x = a[random.randint(l, r - 1)]\n",
        "  m = split(a, l, r, x)\n",
        "  quick_sort(a, l, m)\n",
        "  quick_sort(a, m + 1, r)\n",
        "\n",
        "quick_sort(a, 0, len(a) - 1)\n",
        "print(*a)"
      ],
      "metadata": {
        "colab": {
          "base_uri": "https://localhost:8080/"
        },
        "id": "ZQWgGowaqgNN",
        "outputId": "24f6a5d9-dd72-4796-ad8f-07474b06b2b4"
      },
      "execution_count": null,
      "outputs": [
        {
          "output_type": "stream",
          "name": "stdout",
          "text": [
            "-1 0 1 1 1 2 2 3 3 4 4 5 5\n"
          ]
        }
      ]
    },
    {
      "cell_type": "markdown",
      "source": [
        "## Сортировка подсчетом"
      ],
      "metadata": {
        "id": "GGq2Skj0oaV2"
      }
    },
    {
      "cell_type": "code",
      "source": [
        "def count_sort(a: list):\n",
        "  min_elem, max_elem = min(a), max(a)\n",
        "  size = max_elem - min_elem + 1\n",
        "  cnt = [0] * (size)\n",
        "  for elem in a:\n",
        "    cnt[elem - min_elem] += 1\n",
        "  for i in range(size):\n",
        "    if cnt[i] != 0:\n",
        "      for j in range(cnt[i]):\n",
        "        print(i + min_elem, end=' ')"
      ],
      "metadata": {
        "id": "MWBvQyBLocW7"
      },
      "execution_count": null,
      "outputs": []
    },
    {
      "cell_type": "code",
      "source": [
        "MAX(A) - MIN(A) + N ~ O(MAX(A))"
      ],
      "metadata": {
        "id": "ZaF0EZ7ycyDO"
      },
      "execution_count": null,
      "outputs": []
    },
    {
      "cell_type": "code",
      "source": [
        "a = [1, 2, 3, 4, 4, 1, 2, 3, 5, -1, 0, 5, 1]\n",
        "count_sort(a)"
      ],
      "metadata": {
        "colab": {
          "base_uri": "https://localhost:8080/"
        },
        "id": "2TR-Y18zBL2W",
        "outputId": "9be31782-8c1e-41bf-8378-000398d828f0"
      },
      "execution_count": null,
      "outputs": [
        {
          "output_type": "stream",
          "name": "stdout",
          "text": [
            "[1, 1, 3, 2, 2, 2, 2]\n",
            "-1 0 1 1 1 2 2 3 3 4 4 5 5 "
          ]
        }
      ]
    },
    {
      "cell_type": "markdown",
      "source": [
        "## Radix sort (цифровая сортировка)"
      ],
      "metadata": {
        "id": "ocNj9QFpqTVB"
      }
    },
    {
      "cell_type": "code",
      "source": [
        "LEN_DICT = 26\n",
        "DICT_BEGIN = ord('a')\n",
        "\n",
        "\n",
        "def radix_sort(a: list): # O(k(n + m))\n",
        "  b = a.copy()\n",
        "  for i in range(k): # O(k)\n",
        "    cnt = [0] * LEN_DICT\n",
        "    for elem in b: # O(n)\n",
        "      cnt[ord(elem[k - i - 1]) - DICT_BEGIN] += 1\n",
        "    p = [0] * LEN_DICT\n",
        "    for j in range(1, LEN_DICT): # O(m)\n",
        "      p[j] = cnt[j - 1] + p[j - 1]\n",
        "    print(p)\n",
        "    for elem in b.copy(): # O(n)\n",
        "      b[p[ord(elem[k - i - 1]) - DICT_BEGIN]] = elem\n",
        "      p[ord(elem[k - i - 1]) - DICT_BEGIN] += 1\n",
        "  return b\n",
        "\n",
        "\n",
        "k = 3\n",
        "a = ['bbb', 'adb', 'afb', 'aac', 'bba', 'caf', 'fba']\n",
        "a = radix_sort(a)\n",
        "print(*a)"
      ],
      "metadata": {
        "colab": {
          "base_uri": "https://localhost:8080/"
        },
        "id": "JCyWi_vWqXn9",
        "outputId": "f9173d4d-87af-4677-9579-5eb17ca534ad"
      },
      "execution_count": null,
      "outputs": [
        {
          "output_type": "stream",
          "name": "stdout",
          "text": [
            "[0, 2, 5, 6, 6, 6, 7, 7, 7, 7, 7, 7, 7, 7, 7, 7, 7, 7, 7, 7, 7, 7, 7, 7, 7, 7]\n",
            "[0, 2, 5, 5, 6, 6, 7, 7, 7, 7, 7, 7, 7, 7, 7, 7, 7, 7, 7, 7, 7, 7, 7, 7, 7, 7]\n",
            "[0, 3, 5, 6, 6, 6, 7, 7, 7, 7, 7, 7, 7, 7, 7, 7, 7, 7, 7, 7, 7, 7, 7, 7, 7, 7]\n",
            "aac adb afb bba bbb caf fba\n"
          ]
        }
      ]
    },
    {
      "cell_type": "code",
      "source": [
        "['bbb', 'aab', 'abb', 'aaa', 'bba']\n"
      ],
      "metadata": {
        "id": "O7tCu2xOJVjJ"
      },
      "execution_count": null,
      "outputs": []
    },
    {
      "cell_type": "code",
      "source": [],
      "metadata": {
        "id": "1WtlFy7YgTUH"
      },
      "execution_count": null,
      "outputs": []
    }
  ]
}