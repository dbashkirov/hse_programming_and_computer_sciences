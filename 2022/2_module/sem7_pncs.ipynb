{
  "nbformat": 4,
  "nbformat_minor": 0,
  "metadata": {
    "colab": {
      "provenance": []
    },
    "kernelspec": {
      "name": "python3",
      "display_name": "Python 3"
    },
    "language_info": {
      "name": "python"
    }
  },
  "cells": [
    {
      "cell_type": "code",
      "source": [
        "!pip install pymorphy2"
      ],
      "metadata": {
        "id": "SVXeA6A11wby"
      },
      "execution_count": null,
      "outputs": []
    },
    {
      "cell_type": "code",
      "source": [
        "import pymorphy2\n",
        "import re"
      ],
      "metadata": {
        "id": "k3gZnbNW2iMb"
      },
      "execution_count": null,
      "outputs": []
    },
    {
      "cell_type": "code",
      "execution_count": null,
      "metadata": {
        "id": "eY8TNZTr1cio"
      },
      "outputs": [],
      "source": [
        "morph = pymorphy2.MorphAnalyzer()\n",
        "cats_parsed = morph.parse('котиков')"
      ]
    },
    {
      "cell_type": "code",
      "source": [
        "cats_parsed[0]"
      ],
      "metadata": {
        "colab": {
          "base_uri": "https://localhost:8080/"
        },
        "id": "J14R1Y66OfTs",
        "outputId": "08e58bbf-739c-42ef-ffa9-0cd42641d9c3"
      },
      "execution_count": null,
      "outputs": [
        {
          "output_type": "execute_result",
          "data": {
            "text/plain": [
              "Parse(word='котиков', tag=OpencorporaTag('NOUN,anim,masc plur,accs'), normal_form='котик', score=0.5, methods_stack=((DictionaryAnalyzer(), 'котиков', 2, 9),))"
            ]
          },
          "metadata": {},
          "execution_count": 4
        }
      ]
    },
    {
      "cell_type": "code",
      "source": [
        "print(cats_parsed[0].tag.POS) # часть речи\n",
        "print(cats_parsed[0].tag.case) # падеж\n",
        "print(cats_parsed[0].tag.number) # число\n",
        "print(cats_parsed[0].tag.gender) # род"
      ],
      "metadata": {
        "colab": {
          "base_uri": "https://localhost:8080/"
        },
        "id": "aFdTzZR43M7T",
        "outputId": "e5f0c0d1-ac20-43aa-f3a4-34f411f05e2c"
      },
      "execution_count": null,
      "outputs": [
        {
          "output_type": "stream",
          "name": "stdout",
          "text": [
            "NOUN\n",
            "accs\n",
            "plur\n",
            "masc\n"
          ]
        }
      ]
    },
    {
      "cell_type": "markdown",
      "source": [
        "**Задание**: реализовать с помощью функционала классов метод, который будет заменять существительное в предложении на существительное переданное в качестве аргумента. Новое существительное должно быть вставлено в том же роде, числе и падеже, что и существительное которое оно заменило, а число, род и падеж других частей речи должны согласовываться с новым словом"
      ],
      "metadata": {
        "id": "_rg1Y-s_61H8"
      }
    },
    {
      "cell_type": "code",
      "source": [
        "morph = pymorphy2.MorphAnalyzer()"
      ],
      "metadata": {
        "id": "CElXcC57koFN"
      },
      "execution_count": null,
      "outputs": []
    },
    {
      "cell_type": "code",
      "source": [
        "class Word:\n",
        "  \n",
        "  def __init__(self, text: str, parsed: pymorphy2.analyzer.Parse):\n",
        "    self.text = text\n",
        "    self.parsed = parsed[0]\n",
        "    self.pos = self.parsed.tag.POS\n",
        "    self.number = self.parsed.tag.number\n",
        "\n",
        "  def inflect_by_noun(self, tag: pymorphy2.tagset.OpencorporaTag):\n",
        "\n",
        "    gender = tag.gender\n",
        "    number = tag.number\n",
        "    case = tag.case\n",
        "    inflect = None\n",
        "\n",
        "    if self.pos == 'NOUN':\n",
        "      inflect = self.parsed.inflect({case, number})\n",
        "    elif self.pos in {'ADJF', 'ADJS', 'PRTF', 'PRTS'} and self.number == 'sing':\n",
        "      inflect = self.parsed.inflect({gender})\n",
        "    elif self.pos == 'VERB' and self.number == 'sing' and self.parsed.tag.tense == 'past':\n",
        "      inflect = self.parsed.inflect({gender})\n",
        "    if not inflect:\n",
        "      return self.text\n",
        "    return inflect.word"
      ],
      "metadata": {
        "id": "Q7wa8zVY1ntj"
      },
      "execution_count": null,
      "outputs": []
    },
    {
      "cell_type": "code",
      "source": [
        "class Sentence:\n",
        "\n",
        "  def __init__(self, text: str, analyzer: pymorphy2.MorphAnalyzer):\n",
        "    self.text = text\n",
        "    self.analyzer = analyzer\n",
        "    self.words = re.findall(r'[\\w\\d]+', text)\n",
        "    self.parsed_words = self.parse_words()\n",
        "\n",
        "  def parse_words(self):\n",
        "    res = []\n",
        "    for word in self.words:\n",
        "      parsed_word = self.analyzer.parse(word)\n",
        "      res.append(Word(word, parsed_word))\n",
        "    return res\n",
        "\n",
        "  def replace_nouns(self, noun: str):\n",
        "    res = []\n",
        "    parsed_noun = self.analyzer.parse(noun)\n",
        "    noun = Word(noun, parsed_noun)\n",
        "    for word in self.parsed_words:\n",
        "      if word.pos == 'NOUN':\n",
        "        res.append(noun.inflect_by_noun(word.parsed.tag))\n",
        "      else:\n",
        "        res.append(word.inflect_by_noun(noun.parsed.tag))\n",
        "    return ' '.join(res).capitalize()\n",
        "    "
      ],
      "metadata": {
        "id": "QI7i1xIe2DRH"
      },
      "execution_count": null,
      "outputs": []
    },
    {
      "cell_type": "code",
      "source": [
        "s = Sentence('А красивая роза упала на лапу Азора', morph)\n",
        "s.replace_nouns('Телевизор')"
      ],
      "metadata": {
        "colab": {
          "base_uri": "https://localhost:8080/",
          "height": 36
        },
        "id": "D1RGuq0KhAK8",
        "outputId": "ec75cd95-aa46-4e1b-cfcd-c32538506fdd"
      },
      "execution_count": null,
      "outputs": [
        {
          "output_type": "execute_result",
          "data": {
            "text/plain": [
              "'А красивый телевизор упал на телевизор телевизора'"
            ],
            "application/vnd.google.colaboratory.intrinsic+json": {
              "type": "string"
            }
          },
          "metadata": {},
          "execution_count": 28
        }
      ]
    },
    {
      "cell_type": "code",
      "source": [
        "s = Sentence('Пушистая мама стирала мокрую раму', morph)\n",
        "s.replace_nouns('котик')"
      ],
      "metadata": {
        "colab": {
          "base_uri": "https://localhost:8080/",
          "height": 36
        },
        "id": "ramvvtbJnRXG",
        "outputId": "5a0e2915-2b87-4473-b3cf-aaf30b99af3e"
      },
      "execution_count": null,
      "outputs": [
        {
          "output_type": "execute_result",
          "data": {
            "text/plain": [
              "'Пушистый котик стирал мокрого котика'"
            ],
            "application/vnd.google.colaboratory.intrinsic+json": {
              "type": "string"
            }
          },
          "metadata": {},
          "execution_count": 32
        }
      ]
    },
    {
      "cell_type": "markdown",
      "source": [
        "**Задание**:реализовать класс LinSpace, который будет создавать последовательность из равноудаленных точек на отрезке $[start, end]$. На вход конструктору должны подаваться 2 числа: $start, end$, которые обозначают начало и конец отрезка. Экземпляр класса должен поддерживать следующий функционал: \n",
        "* `d[n]` — последовательность из $n$ равноудалённых точек от начала до конца отрезка (включая конец). \n",
        "* `d[i:n]` — $i$-я точка такой последовательности. \n",
        "* `d[i:j:n]` — последовательность точек, начиная с $i$-той и заканчивая $j-1$-й точкой исходной последовательности"
      ],
      "metadata": {
        "id": "a_x3_UYrAujK"
      }
    },
    {
      "cell_type": "code",
      "source": [
        "class LinSpace:\n",
        "\n",
        "  def __init__(self, start: int, end: int):\n",
        "    self.start = start\n",
        "    self.end = end\n",
        "    self.step = 0\n",
        "\n",
        "  def __getitem__(self, item):\n",
        "    if isinstance(item, slice):\n",
        "      if item.start is None and item.stop is None:\n",
        "        self.step = (self.end - self.start) / (item.step - 1)\n",
        "        return self.gen(self.start, item.step, self.step)\n",
        "      elif item.start is None:\n",
        "        self.step = (self.end - self.start) / (item.step - 1)\n",
        "        return self.gen(self.start, item.stop, self.step)\n",
        "      elif item.stop is None:\n",
        "        self.step = (self.end - self.start) / (item.step - 1)\n",
        "        return self.gen(item.start, item.step, self.step)\n",
        "      elif item.step is None:\n",
        "        self.step = (self.end - self.start) / (item.stop - 1)\n",
        "        return self.start + item.start * self.step\n",
        "      else:\n",
        "        self.step = (self.end - self.start) / (item.step - 1)\n",
        "        return self.gen(item.start, item.stop, self.step)\n",
        "    else:\n",
        "      self.step = (self.end - self.start) / (item - 1)\n",
        "      return self.gen(self.start, item, self.step)\n",
        "\n",
        "  def gen(self, start, end, step):\n",
        "    for i in range(start, end):\n",
        "      yield self.start + i * step"
      ],
      "metadata": {
        "id": "53DN0uwg_5Ep"
      },
      "execution_count": null,
      "outputs": []
    },
    {
      "cell_type": "code",
      "source": [
        "ls = LinSpace(0, 8)\n",
        "print(*ls[5])"
      ],
      "metadata": {
        "colab": {
          "base_uri": "https://localhost:8080/"
        },
        "id": "DiZLrCWJowCi",
        "outputId": "68a86f4b-c7ba-47f9-f406-acaacd0f1d24"
      },
      "execution_count": null,
      "outputs": [
        {
          "output_type": "stream",
          "name": "stdout",
          "text": [
            "0.0 2.0 4.0 6.0 8.0\n"
          ]
        }
      ]
    },
    {
      "cell_type": "code",
      "source": [
        "print(*ls[::5])"
      ],
      "metadata": {
        "colab": {
          "base_uri": "https://localhost:8080/"
        },
        "id": "46kV8AOkrYLa",
        "outputId": "070b5483-7996-4fca-dd27-d90e9ccf1b31"
      },
      "execution_count": null,
      "outputs": [
        {
          "output_type": "stream",
          "name": "stdout",
          "text": [
            "0.0 2.0 4.0 6.0 8.0\n"
          ]
        }
      ]
    },
    {
      "cell_type": "code",
      "source": [
        "print(*ls[:2:5])"
      ],
      "metadata": {
        "colab": {
          "base_uri": "https://localhost:8080/"
        },
        "id": "GhB0t3kAr8Dd",
        "outputId": "8e595d8a-9c69-4aa8-f153-7e48879a58b1"
      },
      "execution_count": null,
      "outputs": [
        {
          "output_type": "stream",
          "name": "stdout",
          "text": [
            "0.0 2.0\n"
          ]
        }
      ]
    },
    {
      "cell_type": "code",
      "source": [
        "print(*ls[3::5])"
      ],
      "metadata": {
        "colab": {
          "base_uri": "https://localhost:8080/"
        },
        "id": "lNOuhXZksf4p",
        "outputId": "9d960440-b5c6-448c-ad31-3c5882b6f9b0"
      },
      "execution_count": null,
      "outputs": [
        {
          "output_type": "stream",
          "name": "stdout",
          "text": [
            "6.0 8.0\n"
          ]
        }
      ]
    },
    {
      "cell_type": "code",
      "source": [
        "print(ls[1:5])"
      ],
      "metadata": {
        "colab": {
          "base_uri": "https://localhost:8080/"
        },
        "id": "0zUrwZ8xvJYG",
        "outputId": "412b2e37-450f-45be-df42-cb6be265c196"
      },
      "execution_count": null,
      "outputs": [
        {
          "output_type": "stream",
          "name": "stdout",
          "text": [
            "2.0\n"
          ]
        }
      ]
    },
    {
      "cell_type": "code",
      "source": [
        "print(*ls[1:3:5])"
      ],
      "metadata": {
        "colab": {
          "base_uri": "https://localhost:8080/"
        },
        "id": "5YYc4173v4Zb",
        "outputId": "5cf08c8c-efdb-412b-fc08-2ecabdca6744"
      },
      "execution_count": null,
      "outputs": [
        {
          "output_type": "stream",
          "name": "stdout",
          "text": [
            "2.0 4.0\n"
          ]
        }
      ]
    },
    {
      "cell_type": "code",
      "source": [
        "ls = LinSpace(0, 10)\n",
        "ls[5]\n",
        "ls[5:10]\n",
        "ls[2:5:10]\n",
        "ls[:5:10]\n",
        "ls[2::13]"
      ],
      "metadata": {
        "colab": {
          "base_uri": "https://localhost:8080/"
        },
        "id": "w_4CIOmxoj4C",
        "outputId": "c5fb31ee-3977-4660-dd40-1c50772a9631"
      },
      "execution_count": null,
      "outputs": [
        {
          "output_type": "execute_result",
          "data": {
            "text/plain": [
              "<generator object LinSpace.gen at 0x7f296851aa50>"
            ]
          },
          "metadata": {},
          "execution_count": 130
        }
      ]
    },
    {
      "cell_type": "code",
      "source": [],
      "metadata": {
        "id": "oGJ7WmURtypP"
      },
      "execution_count": null,
      "outputs": []
    }
  ]
}