{
  "nbformat": 4,
  "nbformat_minor": 0,
  "metadata": {
    "colab": {
      "provenance": []
    },
    "kernelspec": {
      "name": "python3",
      "display_name": "Python 3"
    },
    "language_info": {
      "name": "python"
    }
  },
  "cells": [
    {
      "cell_type": "code",
      "source": [
        "class CreditCard:\n",
        "\n",
        "  def __init__(self, password, balance, number):\n",
        "    self.password = password # public\n",
        "    self._balance = balance\n",
        "    self.__number = number"
      ],
      "metadata": {
        "id": "XPZUa5S_IYvM"
      },
      "execution_count": null,
      "outputs": []
    },
    {
      "cell_type": "code",
      "source": [
        "a = CreditCard('asdnoas', 0, 12312312)\n",
        "print(a.password)\n",
        "print(a._balance)\n",
        "print(a.__number)"
      ],
      "metadata": {
        "colab": {
          "base_uri": "https://localhost:8080/",
          "height": 235
        },
        "id": "GjBJlzCoIuMP",
        "outputId": "db876ffd-609f-4433-e931-a605df2f23f5"
      },
      "execution_count": null,
      "outputs": [
        {
          "output_type": "stream",
          "name": "stdout",
          "text": [
            "asdnoas\n",
            "0\n"
          ]
        },
        {
          "output_type": "error",
          "ename": "AttributeError",
          "evalue": "ignored",
          "traceback": [
            "\u001b[0;31m---------------------------------------------------------------------------\u001b[0m",
            "\u001b[0;31mAttributeError\u001b[0m                            Traceback (most recent call last)",
            "\u001b[0;32m<ipython-input-22-821ca1439b11>\u001b[0m in \u001b[0;36m<module>\u001b[0;34m\u001b[0m\n\u001b[1;32m      2\u001b[0m \u001b[0mprint\u001b[0m\u001b[0;34m(\u001b[0m\u001b[0ma\u001b[0m\u001b[0;34m.\u001b[0m\u001b[0mpassword\u001b[0m\u001b[0;34m)\u001b[0m\u001b[0;34m\u001b[0m\u001b[0;34m\u001b[0m\u001b[0m\n\u001b[1;32m      3\u001b[0m \u001b[0mprint\u001b[0m\u001b[0;34m(\u001b[0m\u001b[0ma\u001b[0m\u001b[0;34m.\u001b[0m\u001b[0m_balance\u001b[0m\u001b[0;34m)\u001b[0m\u001b[0;34m\u001b[0m\u001b[0;34m\u001b[0m\u001b[0m\n\u001b[0;32m----> 4\u001b[0;31m \u001b[0mprint\u001b[0m\u001b[0;34m(\u001b[0m\u001b[0ma\u001b[0m\u001b[0;34m.\u001b[0m\u001b[0m__number\u001b[0m\u001b[0;34m)\u001b[0m\u001b[0;34m\u001b[0m\u001b[0;34m\u001b[0m\u001b[0m\n\u001b[0m",
            "\u001b[0;31mAttributeError\u001b[0m: 'CreditCard' object has no attribute '__number'"
          ]
        }
      ]
    },
    {
      "cell_type": "code",
      "source": [
        "a._CreditCard__number = 123123128310283012938\n",
        "a._CreditCard__number"
      ],
      "metadata": {
        "colab": {
          "base_uri": "https://localhost:8080/"
        },
        "id": "SbiEJZpmJGwb",
        "outputId": "7c62a000-75b1-4956-9681-617b5fc8cf0e"
      },
      "execution_count": null,
      "outputs": [
        {
          "output_type": "execute_result",
          "data": {
            "text/plain": [
              "123123128310283012938"
            ]
          },
          "metadata": {},
          "execution_count": 25
        }
      ]
    },
    {
      "cell_type": "markdown",
      "source": [
        "# Как делать итератор\n",
        "\n",
        "\n",
        "Давайте напишем итератор `LinSpace`, в котором будут равномерно заполнен отрезок вещественных чисел с начало в `start` и концом в `end`, `num_elem` - количество элементов, которым нужно заполнить этот отрезок. Например, `LinSpace(1, 2, 5) -> [1., 1.2, 1.4, 1.6, 1.8]`. Все по \"питоновски\", левая граница включена, правая нет."
      ],
      "metadata": {
        "id": "CrtwSJbHRkcR"
      }
    },
    {
      "cell_type": "code",
      "source": [
        "class LinSpace:\n",
        "\n",
        "    def __init__(self, start, end, num_elem):\n",
        "      self.start = start\n",
        "      self.end = end\n",
        "      self.num_elem = num_elem\n",
        "      self.step = (self.end - self.start) / self.num_elem\n",
        "\n",
        "    def __iter__(self):\n",
        "      self.n = 0\n",
        "      self.temp = self.start\n",
        "      return self\n",
        "\n",
        "    def __next__(self):\n",
        "      if self.n < self.num_elem:\n",
        "        self.n += 1\n",
        "        return self.temp + (self.n - 1) * self.step\n",
        "      else:\n",
        "        raise StopIteration"
      ],
      "metadata": {
        "id": "cPaM4AMQRofe"
      },
      "execution_count": null,
      "outputs": []
    },
    {
      "cell_type": "code",
      "source": [
        "ls = LinSpace(1, 2, 5)"
      ],
      "metadata": {
        "id": "gen1GplcLZ1K"
      },
      "execution_count": null,
      "outputs": []
    },
    {
      "cell_type": "code",
      "source": [
        "for _ in iter(ls):\n",
        "  print(_)"
      ],
      "metadata": {
        "colab": {
          "base_uri": "https://localhost:8080/"
        },
        "id": "pHHNGqHnLggA",
        "outputId": "7020f709-de71-44a9-a3c1-8f614808a01f"
      },
      "execution_count": null,
      "outputs": [
        {
          "output_type": "stream",
          "name": "stdout",
          "text": [
            "1.0\n",
            "1.2\n",
            "1.4\n",
            "1.6\n",
            "1.8\n"
          ]
        }
      ]
    },
    {
      "cell_type": "code",
      "source": [
        "a = iter(ls)\n",
        "next(a)\n",
        "next(a)\n",
        "next(a)\n",
        "next(a)\n",
        "next(a)\n",
        "next(a)"
      ],
      "metadata": {
        "colab": {
          "base_uri": "https://localhost:8080/",
          "height": 287
        },
        "id": "XMfH5seQQhxu",
        "outputId": "e89fbf0f-975f-4310-ff07-4414a84a36d4"
      },
      "execution_count": null,
      "outputs": [
        {
          "output_type": "error",
          "ename": "StopIteration",
          "evalue": "ignored",
          "traceback": [
            "\u001b[0;31m---------------------------------------------------------------------------\u001b[0m",
            "\u001b[0;31mStopIteration\u001b[0m                             Traceback (most recent call last)",
            "\u001b[0;32m<ipython-input-145-d429940a884e>\u001b[0m in \u001b[0;36m<module>\u001b[0;34m\u001b[0m\n\u001b[1;32m      5\u001b[0m \u001b[0mnext\u001b[0m\u001b[0;34m(\u001b[0m\u001b[0ma\u001b[0m\u001b[0;34m)\u001b[0m\u001b[0;34m\u001b[0m\u001b[0;34m\u001b[0m\u001b[0m\n\u001b[1;32m      6\u001b[0m \u001b[0mnext\u001b[0m\u001b[0;34m(\u001b[0m\u001b[0ma\u001b[0m\u001b[0;34m)\u001b[0m\u001b[0;34m\u001b[0m\u001b[0;34m\u001b[0m\u001b[0m\n\u001b[0;32m----> 7\u001b[0;31m \u001b[0mnext\u001b[0m\u001b[0;34m(\u001b[0m\u001b[0ma\u001b[0m\u001b[0;34m)\u001b[0m\u001b[0;34m\u001b[0m\u001b[0;34m\u001b[0m\u001b[0m\n\u001b[0m",
            "\u001b[0;32m<ipython-input-140-b230f761aad1>\u001b[0m in \u001b[0;36m__next__\u001b[0;34m(self)\u001b[0m\n\u001b[1;32m     17\u001b[0m         \u001b[0;32mreturn\u001b[0m \u001b[0mself\u001b[0m\u001b[0;34m.\u001b[0m\u001b[0mtemp\u001b[0m \u001b[0;34m+\u001b[0m \u001b[0;34m(\u001b[0m\u001b[0mself\u001b[0m\u001b[0;34m.\u001b[0m\u001b[0mn\u001b[0m \u001b[0;34m-\u001b[0m \u001b[0;36m1\u001b[0m\u001b[0;34m)\u001b[0m \u001b[0;34m*\u001b[0m \u001b[0mself\u001b[0m\u001b[0;34m.\u001b[0m\u001b[0mstep\u001b[0m\u001b[0;34m\u001b[0m\u001b[0;34m\u001b[0m\u001b[0m\n\u001b[1;32m     18\u001b[0m       \u001b[0;32melse\u001b[0m\u001b[0;34m:\u001b[0m\u001b[0;34m\u001b[0m\u001b[0;34m\u001b[0m\u001b[0m\n\u001b[0;32m---> 19\u001b[0;31m         \u001b[0;32mraise\u001b[0m \u001b[0mStopIteration\u001b[0m\u001b[0;34m\u001b[0m\u001b[0;34m\u001b[0m\u001b[0m\n\u001b[0m",
            "\u001b[0;31mStopIteration\u001b[0m: "
          ]
        }
      ]
    },
    {
      "cell_type": "markdown",
      "source": [
        "Давайте теперь тоже самое сделаем через генератор!"
      ],
      "metadata": {
        "id": "iVEJSW7GY61H"
      }
    },
    {
      "cell_type": "code",
      "source": [
        "def lin_space(start, end, num_elem):\n",
        "  step = (end - start) / num_elem\n",
        "  curr_n = 0\n",
        "  while curr_n < num_elem:\n",
        "    yield start\n",
        "    start += step\n",
        "    curr_n += 1\n",
        "  return 'Sequence is over'"
      ],
      "metadata": {
        "id": "Ahi4k6pWUk3a"
      },
      "execution_count": null,
      "outputs": []
    },
    {
      "cell_type": "code",
      "source": [
        "for _ in lin_space(1, 2, 5):\n",
        "  print(_)"
      ],
      "metadata": {
        "colab": {
          "base_uri": "https://localhost:8080/"
        },
        "id": "ZklC40meSVW7",
        "outputId": "c446f599-7fb8-49e0-a32c-d4ec93a9927d"
      },
      "execution_count": null,
      "outputs": [
        {
          "output_type": "stream",
          "name": "stdout",
          "text": [
            "1\n",
            "1.2\n",
            "1.4\n",
            "1.5999999999999999\n",
            "1.7999999999999998\n"
          ]
        }
      ]
    },
    {
      "cell_type": "code",
      "source": [
        "ls = lin_space(1, 2, 5)\n",
        "#print(ls.step)\n",
        "# next(ls)\n",
        "# next(ls)\n",
        "# next(ls)\n",
        "# next(ls)\n",
        "# next(ls)\n",
        "# next(ls)"
      ],
      "metadata": {
        "id": "VN0ki-lPSYb-"
      },
      "execution_count": null,
      "outputs": []
    },
    {
      "cell_type": "code",
      "source": [
        "ls.temp = 1\n",
        "ls.temp"
      ],
      "metadata": {
        "colab": {
          "base_uri": "https://localhost:8080/",
          "height": 182
        },
        "id": "laJHEw10Tmoo",
        "outputId": "41603431-6486-453b-9723-031742d92a45"
      },
      "execution_count": null,
      "outputs": [
        {
          "output_type": "error",
          "ename": "AttributeError",
          "evalue": "ignored",
          "traceback": [
            "\u001b[0;31m---------------------------------------------------------------------------\u001b[0m",
            "\u001b[0;31mAttributeError\u001b[0m                            Traceback (most recent call last)",
            "\u001b[0;32m<ipython-input-156-7ae94f3dbd92>\u001b[0m in \u001b[0;36m<module>\u001b[0;34m\u001b[0m\n\u001b[0;32m----> 1\u001b[0;31m \u001b[0mls\u001b[0m\u001b[0;34m.\u001b[0m\u001b[0mtemp\u001b[0m \u001b[0;34m=\u001b[0m \u001b[0;36m1\u001b[0m\u001b[0;34m\u001b[0m\u001b[0;34m\u001b[0m\u001b[0m\n\u001b[0m\u001b[1;32m      2\u001b[0m \u001b[0mls\u001b[0m\u001b[0;34m.\u001b[0m\u001b[0mtemp\u001b[0m\u001b[0;34m\u001b[0m\u001b[0;34m\u001b[0m\u001b[0m\n",
            "\u001b[0;31mAttributeError\u001b[0m: 'generator' object has no attribute 'temp'"
          ]
        }
      ]
    },
    {
      "cell_type": "code",
      "source": [
        "def ls():\n",
        "  pass\n",
        "\n",
        "ls.temp = 1\n",
        "\n",
        "print(ls.temp)"
      ],
      "metadata": {
        "colab": {
          "base_uri": "https://localhost:8080/"
        },
        "id": "BHc3vVXRTsHW",
        "outputId": "100a904e-0904-4a6c-a7e4-6314616ab503"
      },
      "execution_count": null,
      "outputs": [
        {
          "output_type": "stream",
          "name": "stdout",
          "text": [
            "1\n"
          ]
        }
      ]
    },
    {
      "cell_type": "markdown",
      "source": [
        "# Кастомные ошибки"
      ],
      "metadata": {
        "id": "0MIWANCRbWaN"
      }
    },
    {
      "cell_type": "markdown",
      "source": [
        "Давайте напишем ошибку `FahrenheitError`, которая будет вызываться если значения температуры в фаренгейтах находятся не в допустимом диапазоне: `Temperature {} is not in valid range({}, {})`"
      ],
      "metadata": {
        "id": "udjfS5SA8Idw"
      }
    },
    {
      "cell_type": "code",
      "source": [
        "class FahrenheitError(Exception):\n",
        "\n",
        "  def __init__(self, f):\n",
        "    self.min_t = -60\n",
        "    self.max_t = 230\n",
        "    self.f = f\n",
        "\n",
        "  def __str__(self):\n",
        "    return f'Temperature {self.f} is not in valid range({self.min_t}, {self.max_t})'"
      ],
      "metadata": {
        "id": "vFjtORD_algu"
      },
      "execution_count": null,
      "outputs": []
    },
    {
      "cell_type": "markdown",
      "source": [
        "(0°F − 32) × 5/9 = -17.78°C\n"
      ],
      "metadata": {
        "id": "7WQGREQpVPQL"
      }
    },
    {
      "cell_type": "code",
      "source": [
        "def fahrenheit_to_celsius(f: float) -> float:\n",
        "  fe =  FahrenheitError(f)\n",
        "  if f < fe.min_t or f > fe.max_t:\n",
        "    raise fe\n",
        "  else:\n",
        "    temp_celsius = (f - 32) * 5 / 9\n",
        "    return temp_celsius"
      ],
      "metadata": {
        "id": "cHSXyYALdWXn"
      },
      "execution_count": null,
      "outputs": []
    },
    {
      "cell_type": "code",
      "source": [
        "fahrenheit_to_celsius(-100)"
      ],
      "metadata": {
        "colab": {
          "base_uri": "https://localhost:8080/",
          "height": 287
        },
        "id": "qwMnCrOzVzj2",
        "outputId": "2e9776ec-10f2-478f-d1bd-423272542e7a"
      },
      "execution_count": null,
      "outputs": [
        {
          "output_type": "error",
          "ename": "FahrenheitError",
          "evalue": "ignored",
          "traceback": [
            "\u001b[0;31m---------------------------------------------------------------------------\u001b[0m",
            "\u001b[0;31mFahrenheitError\u001b[0m                           Traceback (most recent call last)",
            "\u001b[0;32m<ipython-input-177-f51a5914ff67>\u001b[0m in \u001b[0;36m<module>\u001b[0;34m\u001b[0m\n\u001b[0;32m----> 1\u001b[0;31m \u001b[0mfahrenheit_to_celsius\u001b[0m\u001b[0;34m(\u001b[0m\u001b[0;34m-\u001b[0m\u001b[0;36m100\u001b[0m\u001b[0;34m)\u001b[0m\u001b[0;34m\u001b[0m\u001b[0;34m\u001b[0m\u001b[0m\n\u001b[0m",
            "\u001b[0;32m<ipython-input-176-6d6a921831f7>\u001b[0m in \u001b[0;36mfahrenheit_to_celsius\u001b[0;34m(f)\u001b[0m\n\u001b[1;32m      2\u001b[0m   \u001b[0mfe\u001b[0m \u001b[0;34m=\u001b[0m  \u001b[0mFahrenheitError\u001b[0m\u001b[0;34m(\u001b[0m\u001b[0mf\u001b[0m\u001b[0;34m)\u001b[0m\u001b[0;34m\u001b[0m\u001b[0;34m\u001b[0m\u001b[0m\n\u001b[1;32m      3\u001b[0m   \u001b[0;32mif\u001b[0m \u001b[0mf\u001b[0m \u001b[0;34m<\u001b[0m \u001b[0mfe\u001b[0m\u001b[0;34m.\u001b[0m\u001b[0mmin_t\u001b[0m \u001b[0;32mor\u001b[0m \u001b[0mf\u001b[0m \u001b[0;34m>\u001b[0m \u001b[0mfe\u001b[0m\u001b[0;34m.\u001b[0m\u001b[0mmax_t\u001b[0m\u001b[0;34m:\u001b[0m\u001b[0;34m\u001b[0m\u001b[0;34m\u001b[0m\u001b[0m\n\u001b[0;32m----> 4\u001b[0;31m     \u001b[0;32mraise\u001b[0m \u001b[0mfe\u001b[0m\u001b[0;34m\u001b[0m\u001b[0;34m\u001b[0m\u001b[0m\n\u001b[0m\u001b[1;32m      5\u001b[0m   \u001b[0;32melse\u001b[0m\u001b[0;34m:\u001b[0m\u001b[0;34m\u001b[0m\u001b[0;34m\u001b[0m\u001b[0m\n\u001b[1;32m      6\u001b[0m     \u001b[0mtemp_celsius\u001b[0m \u001b[0;34m=\u001b[0m \u001b[0;34m(\u001b[0m\u001b[0mf\u001b[0m \u001b[0;34m-\u001b[0m \u001b[0;36m32\u001b[0m\u001b[0;34m)\u001b[0m \u001b[0;34m*\u001b[0m \u001b[0;36m5\u001b[0m \u001b[0;34m/\u001b[0m \u001b[0;36m9\u001b[0m\u001b[0;34m\u001b[0m\u001b[0;34m\u001b[0m\u001b[0m\n",
            "\u001b[0;31mFahrenheitError\u001b[0m: Temperature -100 is not in valid range(-60, 230)"
          ]
        }
      ]
    },
    {
      "cell_type": "markdown",
      "source": [
        "Давайте напишем ошибку `WrongLetter`, которая будет вызываться если текст содержит какой-то символ не из английского алфавита. Текст ошибки следующий: `The string contains non-English letters`"
      ],
      "metadata": {
        "id": "1rXx61vjfre5"
      }
    },
    {
      "cell_type": "code",
      "source": [
        "class WrongLetter(Exception):\n",
        "\n",
        "  def __init__(self):\n",
        "    pass\n",
        "\n",
        "  def __str__(self):\n",
        "    return 'The string contains non-English letters'"
      ],
      "metadata": {
        "id": "o6OfDsZxfhPK"
      },
      "execution_count": null,
      "outputs": []
    },
    {
      "cell_type": "code",
      "source": [
        "s = 'adfpkmadpfkmasp'\n",
        "t = 'spkadapsmзжьавзщв;ksdmfp'\n",
        "\n",
        "def check_string(s: str):\n",
        "  upper_letters = [chr(i) for i in range(ord('a'), ord('z') + 1)]\n",
        "  letters = [chr(i) for i in range(ord('A'), ord('Z') + 1)]\n",
        "  d = set(upper_letters + letters)\n",
        "  for elem in s:\n",
        "    if elem not in d:\n",
        "      raise WrongLetter"
      ],
      "metadata": {
        "id": "laRojgg2XxIL"
      },
      "execution_count": null,
      "outputs": []
    },
    {
      "cell_type": "code",
      "source": [
        "check_string(s)"
      ],
      "metadata": {
        "id": "_nk1m7wuYC4q"
      },
      "execution_count": null,
      "outputs": []
    },
    {
      "cell_type": "code",
      "source": [
        "check_string(t)"
      ],
      "metadata": {
        "colab": {
          "base_uri": "https://localhost:8080/",
          "height": 252
        },
        "id": "_Vc2-PG6Zp3s",
        "outputId": "7b35f3f6-da3c-4645-acf3-72e7f880f1ba"
      },
      "execution_count": null,
      "outputs": [
        {
          "output_type": "error",
          "ename": "WrongLetter",
          "evalue": "ignored",
          "traceback": [
            "\u001b[0;31m---------------------------------------------------------------------------\u001b[0m",
            "\u001b[0;31mWrongLetter\u001b[0m                               Traceback (most recent call last)",
            "\u001b[0;32m<ipython-input-191-8816bd0d82ca>\u001b[0m in \u001b[0;36m<module>\u001b[0;34m\u001b[0m\n\u001b[0;32m----> 1\u001b[0;31m \u001b[0mcheck_string\u001b[0m\u001b[0;34m(\u001b[0m\u001b[0mt\u001b[0m\u001b[0;34m)\u001b[0m\u001b[0;34m\u001b[0m\u001b[0;34m\u001b[0m\u001b[0m\n\u001b[0m",
            "\u001b[0;32m<ipython-input-189-f2b3804f717c>\u001b[0m in \u001b[0;36mcheck_string\u001b[0;34m(s)\u001b[0m\n\u001b[1;32m      8\u001b[0m   \u001b[0;32mfor\u001b[0m \u001b[0melem\u001b[0m \u001b[0;32min\u001b[0m \u001b[0ms\u001b[0m\u001b[0;34m:\u001b[0m\u001b[0;34m\u001b[0m\u001b[0;34m\u001b[0m\u001b[0m\n\u001b[1;32m      9\u001b[0m     \u001b[0;32mif\u001b[0m \u001b[0melem\u001b[0m \u001b[0;32mnot\u001b[0m \u001b[0;32min\u001b[0m \u001b[0md\u001b[0m\u001b[0;34m:\u001b[0m\u001b[0;34m\u001b[0m\u001b[0;34m\u001b[0m\u001b[0m\n\u001b[0;32m---> 10\u001b[0;31m       \u001b[0;32mraise\u001b[0m \u001b[0mWrongLetter\u001b[0m\u001b[0;34m\u001b[0m\u001b[0;34m\u001b[0m\u001b[0m\n\u001b[0m",
            "\u001b[0;31mWrongLetter\u001b[0m: The string contains non-English letters"
          ]
        }
      ]
    },
    {
      "cell_type": "markdown",
      "source": [
        "# Еще больше про классы\n",
        "\n",
        "* Динамические атрибуты"
      ],
      "metadata": {
        "id": "qRjldaWNho5t"
      }
    },
    {
      "cell_type": "code",
      "source": [
        "class Book:\n",
        "  pass"
      ],
      "metadata": {
        "id": "tmgiZ2Qg_Ie4"
      },
      "execution_count": null,
      "outputs": []
    },
    {
      "cell_type": "markdown",
      "source": [
        "* Миксины"
      ],
      "metadata": {
        "id": "uHz0h1msDp9U"
      }
    },
    {
      "cell_type": "code",
      "source": [
        "class RadioUserMixin:\n",
        "  pass\n",
        "\n",
        "class Device:\n",
        "  pass\n",
        "\n",
        "class Vehicle:\n",
        "  pass\n",
        "\n",
        "class Plane(RadioUserMixin, Vehicle):\n",
        "  pass\n",
        "\n",
        "class Car(RadioUserMixin, Vehicle):\n",
        "  pass\n",
        "\n",
        "class Clock(Device):\n",
        "  pass"
      ],
      "metadata": {
        "id": "M25zxza2Dt-3"
      },
      "execution_count": null,
      "outputs": []
    }
  ]
}