{
  "nbformat": 4,
  "nbformat_minor": 0,
  "metadata": {
    "colab": {
      "provenance": []
    },
    "kernelspec": {
      "name": "python3",
      "display_name": "Python 3"
    },
    "language_info": {
      "name": "python"
    }
  },
  "cells": [
    {
      "cell_type": "markdown",
      "source": [
        "# Cеминар 2\n",
        "* Функции\n",
        "  * lambda и map\n",
        "  * рекурсия\n",
        "  * области видимости\n",
        "  * виды аргументы\n",
        "* Полезные встроенные библиотеки\n",
        "* Чтение из файла\n",
        "* Задачи\n"
      ],
      "metadata": {
        "id": "3HNFo-M6y0A6"
      }
    },
    {
      "cell_type": "markdown",
      "source": [
        "## Функции"
      ],
      "metadata": {
        "id": "p7h3vCoLV2i8"
      }
    },
    {
      "cell_type": "markdown",
      "source": [
        "### lambda-функции и map"
      ],
      "metadata": {
        "id": "TtzLbnIoV7Mq"
      }
    },
    {
      "cell_type": "markdown",
      "source": [
        "Чтобы обработать элементы последовательности, можно проитерироваться по ним циклом и обработать каждый элемент отдельно:"
      ],
      "metadata": {
        "id": "rL186ZLZV94r"
      }
    },
    {
      "cell_type": "code",
      "source": [
        "def f(x):\n",
        "  return x + 1\n",
        "\n",
        "a = [1, 2, 3, 4]\n",
        "\n",
        "for i in range(len(a)):\n",
        "  a[i] = f(a[i])\n",
        "\n",
        "print(a)"
      ],
      "metadata": {
        "colab": {
          "base_uri": "https://localhost:8080/"
        },
        "id": "6Frg2ko-W8lH",
        "outputId": "b39488fa-50b3-4f17-fc2b-80d7bc964a8f"
      },
      "execution_count": null,
      "outputs": [
        {
          "output_type": "stream",
          "name": "stdout",
          "text": [
            "[2, 3, 4, 5]\n"
          ]
        }
      ]
    },
    {
      "cell_type": "markdown",
      "source": [
        "Или же можно воспользоваться функцией `map`, которая принимает на вход последовательность и функцию, которую нужно применить к каждому эелементу этой последовательности"
      ],
      "metadata": {
        "id": "u3xCBPePXIYW"
      }
    },
    {
      "cell_type": "code",
      "source": [
        "a = [1, 2, 3, 4]\n",
        "map(f, a)"
      ],
      "metadata": {
        "colab": {
          "base_uri": "https://localhost:8080/"
        },
        "id": "sbufHgcXXTqS",
        "outputId": "34448be6-6805-4859-9473-db962deb36c8"
      },
      "execution_count": null,
      "outputs": [
        {
          "output_type": "execute_result",
          "data": {
            "text/plain": [
              "<map at 0x7fe1952681d0>"
            ]
          },
          "metadata": {},
          "execution_count": 2
        }
      ]
    },
    {
      "cell_type": "code",
      "source": [
        "list(map(f, a))"
      ],
      "metadata": {
        "colab": {
          "base_uri": "https://localhost:8080/"
        },
        "id": "yjArMw-eXcwq",
        "outputId": "dd26525a-b759-47df-a7b7-ad66e7786175"
      },
      "execution_count": null,
      "outputs": [
        {
          "output_type": "execute_result",
          "data": {
            "text/plain": [
              "[2, 3, 4, 5]"
            ]
          },
          "metadata": {},
          "execution_count": 3
        }
      ]
    },
    {
      "cell_type": "markdown",
      "source": [
        "Еще `map` удобно использовать при чтении массивов в одну строку"
      ],
      "metadata": {
        "id": "udaj5BSNXwdX"
      }
    },
    {
      "cell_type": "code",
      "source": [
        "a = list(map(int, input().split()))"
      ],
      "metadata": {
        "id": "qoajjyAAXjEV",
        "colab": {
          "base_uri": "https://localhost:8080/"
        },
        "outputId": "36aefc66-5a04-4d10-fd3b-c6e987c0db6d"
      },
      "execution_count": null,
      "outputs": [
        {
          "name": "stdout",
          "output_type": "stream",
          "text": [
            "1 2 3 4 5\n"
          ]
        }
      ]
    },
    {
      "cell_type": "code",
      "source": [
        "a"
      ],
      "metadata": {
        "colab": {
          "base_uri": "https://localhost:8080/"
        },
        "id": "X2NuCBGYDQ-7",
        "outputId": "b263ac7f-b902-4166-9a09-36a73855bdfe"
      },
      "execution_count": null,
      "outputs": [
        {
          "output_type": "execute_result",
          "data": {
            "text/plain": [
              "[1, 2, 3, 4, 5]"
            ]
          },
          "metadata": {},
          "execution_count": 5
        }
      ]
    },
    {
      "cell_type": "markdown",
      "source": [
        "Когда нам нужно как-то минимально обработать элементы последовательности и мы не хотим определять для этого отдельную функцию, можно воспользоваться `lambda-функцией`"
      ],
      "metadata": {
        "id": "xLkE7ymHX71p"
      }
    },
    {
      "cell_type": "code",
      "source": [
        "a = [1, 2, 3, 4]\n",
        "list(map(lambda x: x + 1, a))"
      ],
      "metadata": {
        "colab": {
          "base_uri": "https://localhost:8080/"
        },
        "id": "lqDFRCSQYMXd",
        "outputId": "5307e3ab-77f6-468b-9f1e-aba59d597661"
      },
      "execution_count": null,
      "outputs": [
        {
          "output_type": "execute_result",
          "data": {
            "text/plain": [
              "[2, 3, 4, 5]"
            ]
          },
          "metadata": {},
          "execution_count": 6
        }
      ]
    },
    {
      "cell_type": "markdown",
      "source": [
        "Ей удобно пользоваться когда, например, нужно отсортировать последовательность состоящую из последовательностей"
      ],
      "metadata": {
        "id": "OzO2P7fLYYni"
      }
    },
    {
      "cell_type": "code",
      "source": [
        "a = [(1, 5), (2, 4), (3, 3), (4, 2), (5, 1)]\n",
        "print(sorted(a, key=lambda x: x[1]))"
      ],
      "metadata": {
        "colab": {
          "base_uri": "https://localhost:8080/"
        },
        "id": "zahJUg_rYUQ6",
        "outputId": "77dfb85f-1a73-4f31-99fb-ff3d498f5dcf"
      },
      "execution_count": null,
      "outputs": [
        {
          "output_type": "stream",
          "name": "stdout",
          "text": [
            "[(5, 1), (4, 2), (3, 3), (2, 4), (1, 5)]\n"
          ]
        }
      ]
    },
    {
      "cell_type": "markdown",
      "source": [
        "### Рекурсия"
      ],
      "metadata": {
        "id": "UnXk8OMzZIuC"
      }
    },
    {
      "cell_type": "markdown",
      "source": [
        "Функция называется рекурсивной, если она использует себя же в своем теле."
      ],
      "metadata": {
        "id": "Abo5cY5hZMrX"
      }
    },
    {
      "cell_type": "code",
      "source": [
        "def f(x):\n",
        "  return f(x - 1)"
      ],
      "metadata": {
        "id": "ossut7FVYtby"
      },
      "execution_count": null,
      "outputs": []
    },
    {
      "cell_type": "code",
      "source": [
        "f(1)"
      ],
      "metadata": {
        "colab": {
          "base_uri": "https://localhost:8080/",
          "height": 293
        },
        "id": "w6eyZK0fZhKF",
        "outputId": "397bb765-ecb9-43ab-84d6-91bd71f30102"
      },
      "execution_count": null,
      "outputs": [
        {
          "output_type": "error",
          "ename": "RecursionError",
          "evalue": "ignored",
          "traceback": [
            "\u001b[0;31m---------------------------------------------------------------------------\u001b[0m",
            "\u001b[0;31mRecursionError\u001b[0m                            Traceback (most recent call last)",
            "\u001b[0;32m<ipython-input-8-281ab0a37d7d>\u001b[0m in \u001b[0;36m<module>\u001b[0;34m\u001b[0m\n\u001b[0;32m----> 1\u001b[0;31m \u001b[0mf\u001b[0m\u001b[0;34m(\u001b[0m\u001b[0;36m1\u001b[0m\u001b[0;34m)\u001b[0m\u001b[0;34m\u001b[0m\u001b[0;34m\u001b[0m\u001b[0m\n\u001b[0m",
            "\u001b[0;32m<ipython-input-7-a7997b1ffc4c>\u001b[0m in \u001b[0;36mf\u001b[0;34m(x)\u001b[0m\n\u001b[1;32m      1\u001b[0m \u001b[0;32mdef\u001b[0m \u001b[0mf\u001b[0m\u001b[0;34m(\u001b[0m\u001b[0mx\u001b[0m\u001b[0;34m)\u001b[0m\u001b[0;34m:\u001b[0m\u001b[0;34m\u001b[0m\u001b[0;34m\u001b[0m\u001b[0m\n\u001b[0;32m----> 2\u001b[0;31m   \u001b[0;32mreturn\u001b[0m \u001b[0mf\u001b[0m\u001b[0;34m(\u001b[0m\u001b[0mx\u001b[0m \u001b[0;34m-\u001b[0m \u001b[0;36m1\u001b[0m\u001b[0;34m)\u001b[0m\u001b[0;34m\u001b[0m\u001b[0;34m\u001b[0m\u001b[0m\n\u001b[0m",
            "... last 1 frames repeated, from the frame below ...\n",
            "\u001b[0;32m<ipython-input-7-a7997b1ffc4c>\u001b[0m in \u001b[0;36mf\u001b[0;34m(x)\u001b[0m\n\u001b[1;32m      1\u001b[0m \u001b[0;32mdef\u001b[0m \u001b[0mf\u001b[0m\u001b[0;34m(\u001b[0m\u001b[0mx\u001b[0m\u001b[0;34m)\u001b[0m\u001b[0;34m:\u001b[0m\u001b[0;34m\u001b[0m\u001b[0;34m\u001b[0m\u001b[0m\n\u001b[0;32m----> 2\u001b[0;31m   \u001b[0;32mreturn\u001b[0m \u001b[0mf\u001b[0m\u001b[0;34m(\u001b[0m\u001b[0mx\u001b[0m \u001b[0;34m-\u001b[0m \u001b[0;36m1\u001b[0m\u001b[0;34m)\u001b[0m\u001b[0;34m\u001b[0m\u001b[0;34m\u001b[0m\u001b[0m\n\u001b[0m",
            "\u001b[0;31mRecursionError\u001b[0m: maximum recursion depth exceeded"
          ]
        }
      ]
    },
    {
      "cell_type": "markdown",
      "source": [
        "Важно не забывать прописывать условие выхода, иначе функция будет выполняться бесконечно. Давайте посчитаем `n!`"
      ],
      "metadata": {
        "id": "Ek5BfyVXZlVO"
      }
    },
    {
      "cell_type": "markdown",
      "source": [
        "$n! = n * (n - 1) * (n - 2) * (n - 3) * ... * (n - (n - 2)) * (n - (n - 1))$"
      ],
      "metadata": {
        "id": "V_iwSTS5EC9H"
      }
    },
    {
      "cell_type": "code",
      "source": [
        "def f(n):\n",
        "  if n == 1:\n",
        "    return 1\n",
        "  return n * f(n - 1)"
      ],
      "metadata": {
        "id": "SauLOn0fZi5w"
      },
      "execution_count": null,
      "outputs": []
    },
    {
      "cell_type": "code",
      "source": [
        "f(10)"
      ],
      "metadata": {
        "colab": {
          "base_uri": "https://localhost:8080/"
        },
        "id": "5GDk33K4Z95C",
        "outputId": "bf20e616-ed93-47a4-c733-0e514c073833"
      },
      "execution_count": null,
      "outputs": [
        {
          "output_type": "execute_result",
          "data": {
            "text/plain": [
              "3628800"
            ]
          },
          "metadata": {},
          "execution_count": 10
        }
      ]
    },
    {
      "cell_type": "markdown",
      "source": [
        "Если рекурсивная функция будет выполняться слишком долго, то мы получим ошибку "
      ],
      "metadata": {
        "id": "Nmiga7iEaA0i"
      }
    },
    {
      "cell_type": "code",
      "source": [
        "f(2000)"
      ],
      "metadata": {
        "colab": {
          "base_uri": "https://localhost:8080/",
          "height": 311
        },
        "id": "-mWCY93cZ_TP",
        "outputId": "5a6d8ca1-dd38-46a3-d034-d8a228b9b723"
      },
      "execution_count": null,
      "outputs": [
        {
          "output_type": "error",
          "ename": "RecursionError",
          "evalue": "ignored",
          "traceback": [
            "\u001b[0;31m---------------------------------------------------------------------------\u001b[0m",
            "\u001b[0;31mRecursionError\u001b[0m                            Traceback (most recent call last)",
            "\u001b[0;32m<ipython-input-11-dff86d61173a>\u001b[0m in \u001b[0;36m<module>\u001b[0;34m\u001b[0m\n\u001b[0;32m----> 1\u001b[0;31m \u001b[0mf\u001b[0m\u001b[0;34m(\u001b[0m\u001b[0;36m2000\u001b[0m\u001b[0;34m)\u001b[0m\u001b[0;34m\u001b[0m\u001b[0;34m\u001b[0m\u001b[0m\n\u001b[0m",
            "\u001b[0;32m<ipython-input-9-c111bd19cd2c>\u001b[0m in \u001b[0;36mf\u001b[0;34m(n)\u001b[0m\n\u001b[1;32m      2\u001b[0m   \u001b[0;32mif\u001b[0m \u001b[0mn\u001b[0m \u001b[0;34m==\u001b[0m \u001b[0;36m1\u001b[0m\u001b[0;34m:\u001b[0m\u001b[0;34m\u001b[0m\u001b[0;34m\u001b[0m\u001b[0m\n\u001b[1;32m      3\u001b[0m     \u001b[0;32mreturn\u001b[0m \u001b[0;36m1\u001b[0m\u001b[0;34m\u001b[0m\u001b[0;34m\u001b[0m\u001b[0m\n\u001b[0;32m----> 4\u001b[0;31m   \u001b[0;32mreturn\u001b[0m \u001b[0mn\u001b[0m \u001b[0;34m*\u001b[0m \u001b[0mf\u001b[0m\u001b[0;34m(\u001b[0m\u001b[0mn\u001b[0m \u001b[0;34m-\u001b[0m \u001b[0;36m1\u001b[0m\u001b[0;34m)\u001b[0m\u001b[0;34m\u001b[0m\u001b[0;34m\u001b[0m\u001b[0m\n\u001b[0m",
            "... last 1 frames repeated, from the frame below ...\n",
            "\u001b[0;32m<ipython-input-9-c111bd19cd2c>\u001b[0m in \u001b[0;36mf\u001b[0;34m(n)\u001b[0m\n\u001b[1;32m      2\u001b[0m   \u001b[0;32mif\u001b[0m \u001b[0mn\u001b[0m \u001b[0;34m==\u001b[0m \u001b[0;36m1\u001b[0m\u001b[0;34m:\u001b[0m\u001b[0;34m\u001b[0m\u001b[0;34m\u001b[0m\u001b[0m\n\u001b[1;32m      3\u001b[0m     \u001b[0;32mreturn\u001b[0m \u001b[0;36m1\u001b[0m\u001b[0;34m\u001b[0m\u001b[0;34m\u001b[0m\u001b[0m\n\u001b[0;32m----> 4\u001b[0;31m   \u001b[0;32mreturn\u001b[0m \u001b[0mn\u001b[0m \u001b[0;34m*\u001b[0m \u001b[0mf\u001b[0m\u001b[0;34m(\u001b[0m\u001b[0mn\u001b[0m \u001b[0;34m-\u001b[0m \u001b[0;36m1\u001b[0m\u001b[0;34m)\u001b[0m\u001b[0;34m\u001b[0m\u001b[0;34m\u001b[0m\u001b[0m\n\u001b[0m",
            "\u001b[0;31mRecursionError\u001b[0m: maximum recursion depth exceeded in comparison"
          ]
        }
      ]
    },
    {
      "cell_type": "markdown",
      "source": [
        "Это можно исправить, подключив модуль `sys` и прописав строчки  <br>\n",
        "```\n",
        "sys.setrecursionlimit(10000)\n",
        "sys.set_int_max_str_digits(10000)\n",
        "```"
      ],
      "metadata": {
        "id": "8VD2VnIhaRP4"
      }
    },
    {
      "cell_type": "code",
      "source": [
        "import sys\n",
        "sys.setrecursionlimit(10000)\n",
        "sys.set_int_max_str_digits(10000)"
      ],
      "metadata": {
        "id": "KWMFwgj6aPBE"
      },
      "execution_count": null,
      "outputs": []
    },
    {
      "cell_type": "code",
      "source": [
        "res = f(2000)\n",
        "len(str(res))"
      ],
      "metadata": {
        "colab": {
          "base_uri": "https://localhost:8080/"
        },
        "id": "QzbDtIivanEg",
        "outputId": "94863d88-234f-4c6b-9cb5-d660803cf7b2"
      },
      "execution_count": null,
      "outputs": [
        {
          "output_type": "execute_result",
          "data": {
            "text/plain": [
              "5736"
            ]
          },
          "metadata": {},
          "execution_count": 15
        }
      ]
    },
    {
      "cell_type": "markdown",
      "source": [
        "Важно помнить про ресурсы своего компьютера, иначе если вы выделите слишком много ресурсов, ваша рекурсия съест всю оперативную память"
      ],
      "metadata": {
        "id": "9_or9wuBauiw"
      }
    },
    {
      "cell_type": "markdown",
      "source": [
        "### Области видимости"
      ],
      "metadata": {
        "id": "NgMtT9Zeckj3"
      }
    },
    {
      "cell_type": "markdown",
      "source": [
        "Давайте создадим функцию, которая будет выводить глобальную переменную `x`"
      ],
      "metadata": {
        "id": "ArWhKElCdC9m"
      }
    },
    {
      "cell_type": "code",
      "source": [
        "x = 10\n",
        "\n",
        "def g():\n",
        "  print(x)\n",
        "\n",
        "g()"
      ],
      "metadata": {
        "colab": {
          "base_uri": "https://localhost:8080/"
        },
        "id": "nlMMCuz4cqp4",
        "outputId": "b6bcf0a3-1936-4a71-c1f2-d01e80c8ad08"
      },
      "execution_count": null,
      "outputs": [
        {
          "output_type": "stream",
          "name": "stdout",
          "text": [
            "10\n"
          ]
        }
      ]
    },
    {
      "cell_type": "markdown",
      "source": [
        "Теперь добавим изменение переменной в функцию"
      ],
      "metadata": {
        "id": "NmtvOyqOd_ID"
      }
    },
    {
      "cell_type": "code",
      "source": [
        "x = 10\n",
        "\n",
        "def g():\n",
        "  x *= 10\n",
        "  print(x)\n",
        "\n",
        "g()"
      ],
      "metadata": {
        "colab": {
          "base_uri": "https://localhost:8080/",
          "height": 321
        },
        "id": "rdXEVURieHla",
        "outputId": "b44c0a1d-9eea-45df-df3e-bd797e33dc08"
      },
      "execution_count": null,
      "outputs": [
        {
          "output_type": "error",
          "ename": "UnboundLocalError",
          "evalue": "ignored",
          "traceback": [
            "\u001b[0;31m---------------------------------------------------------------------------\u001b[0m",
            "\u001b[0;31mUnboundLocalError\u001b[0m                         Traceback (most recent call last)",
            "\u001b[0;32m<ipython-input-17-dedeff5cd06e>\u001b[0m in \u001b[0;36m<module>\u001b[0;34m\u001b[0m\n\u001b[1;32m      5\u001b[0m   \u001b[0mprint\u001b[0m\u001b[0;34m(\u001b[0m\u001b[0mx\u001b[0m\u001b[0;34m)\u001b[0m\u001b[0;34m\u001b[0m\u001b[0;34m\u001b[0m\u001b[0m\n\u001b[1;32m      6\u001b[0m \u001b[0;34m\u001b[0m\u001b[0m\n\u001b[0;32m----> 7\u001b[0;31m \u001b[0mg\u001b[0m\u001b[0;34m(\u001b[0m\u001b[0;34m)\u001b[0m\u001b[0;34m\u001b[0m\u001b[0;34m\u001b[0m\u001b[0m\n\u001b[0m",
            "\u001b[0;32m<ipython-input-17-dedeff5cd06e>\u001b[0m in \u001b[0;36mg\u001b[0;34m()\u001b[0m\n\u001b[1;32m      2\u001b[0m \u001b[0;34m\u001b[0m\u001b[0m\n\u001b[1;32m      3\u001b[0m \u001b[0;32mdef\u001b[0m \u001b[0mg\u001b[0m\u001b[0;34m(\u001b[0m\u001b[0;34m)\u001b[0m\u001b[0;34m:\u001b[0m\u001b[0;34m\u001b[0m\u001b[0;34m\u001b[0m\u001b[0m\n\u001b[0;32m----> 4\u001b[0;31m   \u001b[0mx\u001b[0m \u001b[0;34m*=\u001b[0m \u001b[0;36m10\u001b[0m\u001b[0;34m\u001b[0m\u001b[0;34m\u001b[0m\u001b[0m\n\u001b[0m\u001b[1;32m      5\u001b[0m   \u001b[0mprint\u001b[0m\u001b[0;34m(\u001b[0m\u001b[0mx\u001b[0m\u001b[0;34m)\u001b[0m\u001b[0;34m\u001b[0m\u001b[0;34m\u001b[0m\u001b[0m\n\u001b[1;32m      6\u001b[0m \u001b[0;34m\u001b[0m\u001b[0m\n",
            "\u001b[0;31mUnboundLocalError\u001b[0m: local variable 'x' referenced before assignment"
          ]
        }
      ]
    },
    {
      "cell_type": "markdown",
      "source": [
        " Все дело в том, что наша функция не знает, какую переменную ей нужно умножать - глобальную или локальную. Чтобы функция понимала, что нужно использовать глобальную переменную, нужно объявить эту переменную глобально"
      ],
      "metadata": {
        "id": "B45K-okYeM2p"
      }
    },
    {
      "cell_type": "code",
      "source": [
        "x = 10\n",
        "\n",
        "def g():\n",
        "  global x\n",
        "  x *= 10\n",
        "  print(x)\n",
        "\n",
        "g()"
      ],
      "metadata": {
        "colab": {
          "base_uri": "https://localhost:8080/"
        },
        "id": "4mB4fTWfeuNC",
        "outputId": "5976be90-c95f-45a3-ca2c-d56209b290c1"
      },
      "execution_count": null,
      "outputs": [
        {
          "output_type": "stream",
          "name": "stdout",
          "text": [
            "100\n"
          ]
        }
      ]
    },
    {
      "cell_type": "markdown",
      "source": [
        "Если же мы хотим, чтобы функция использовала локальную переменную, нужно обозначить эту переменную локально. Тогда у нас будет две переменных `x` - локальная в функции и глобальная"
      ],
      "metadata": {
        "id": "kS0QI2CSe-_q"
      }
    },
    {
      "cell_type": "code",
      "source": [
        "x = 10\n",
        "\n",
        "def g():\n",
        "  x = 10\n",
        "  x *= 10\n",
        "  print(x)\n",
        "\n",
        "g()\n",
        "print(x)"
      ],
      "metadata": {
        "colab": {
          "base_uri": "https://localhost:8080/"
        },
        "id": "nnRZstPpfQd2",
        "outputId": "fea5d023-9cf0-4d81-a74e-97493c8cae7e"
      },
      "execution_count": null,
      "outputs": [
        {
          "output_type": "stream",
          "name": "stdout",
          "text": [
            "100\n",
            "10\n"
          ]
        }
      ]
    },
    {
      "cell_type": "code",
      "source": [
        "x = 10\n",
        "\n",
        "def g(x):\n",
        "  x *= 10\n",
        "\n",
        "print(x)"
      ],
      "metadata": {
        "colab": {
          "base_uri": "https://localhost:8080/"
        },
        "id": "Q60Xu9KfGImV",
        "outputId": "16027a11-5030-4400-cc2d-c81f3349ba3e"
      },
      "execution_count": null,
      "outputs": [
        {
          "output_type": "stream",
          "name": "stdout",
          "text": [
            "10\n"
          ]
        }
      ]
    },
    {
      "cell_type": "markdown",
      "source": [
        "### Аргументы в функциях"
      ],
      "metadata": {
        "id": "0dATf3ULcSGM"
      }
    },
    {
      "cell_type": "markdown",
      "source": [
        "Аргументы можно передавать в фукнцию как мы делали это раньше"
      ],
      "metadata": {
        "id": "tRDkkQagkRDC"
      }
    },
    {
      "cell_type": "code",
      "source": [
        "def f(x):\n",
        "  return x\n",
        "\n",
        "f(10)"
      ],
      "metadata": {
        "colab": {
          "base_uri": "https://localhost:8080/"
        },
        "id": "wLqoa5EmaoEs",
        "outputId": "df2e718b-1c95-43d3-e20d-b408e7b67ee8"
      },
      "execution_count": null,
      "outputs": [
        {
          "output_type": "execute_result",
          "data": {
            "text/plain": [
              "10"
            ]
          },
          "metadata": {},
          "execution_count": 22
        }
      ]
    },
    {
      "cell_type": "markdown",
      "source": [
        "Можно задавать значения по умолчанию"
      ],
      "metadata": {
        "id": "lkinzTqQkV0z"
      }
    },
    {
      "cell_type": "code",
      "source": [
        "def g(x=1): \n",
        "  return x\n",
        "\n",
        "print(g())\n",
        "print(g(2))"
      ],
      "metadata": {
        "colab": {
          "base_uri": "https://localhost:8080/"
        },
        "id": "YBx2muX5iuNv",
        "outputId": "89cd25a2-da8b-42b4-d71d-081f184ec07e"
      },
      "execution_count": null,
      "outputs": [
        {
          "output_type": "stream",
          "name": "stdout",
          "text": [
            "1\n",
            "2\n"
          ]
        }
      ]
    },
    {
      "cell_type": "markdown",
      "source": [
        "А можно делать как раньше и задавать по умолчанию"
      ],
      "metadata": {
        "id": "OtV37EFSkZK-"
      }
    },
    {
      "cell_type": "code",
      "source": [
        "def z(x, y=2):\n",
        "  return x + y\n",
        "\n",
        "z(10, 2), z(10, 6)"
      ],
      "metadata": {
        "colab": {
          "base_uri": "https://localhost:8080/"
        },
        "id": "dfa_KOTViwTH",
        "outputId": "9dbc0d58-461c-42d8-ea62-51ad14b7ff80"
      },
      "execution_count": null,
      "outputs": [
        {
          "output_type": "execute_result",
          "data": {
            "text/plain": [
              "(12, 16)"
            ]
          },
          "metadata": {},
          "execution_count": 24
        }
      ]
    },
    {
      "cell_type": "markdown",
      "source": [
        "Но нельзя сначала определять аргументы со значением по умолчанию, иначе поймаем ошибку"
      ],
      "metadata": {
        "id": "Vj57U22lkdv1"
      }
    },
    {
      "cell_type": "code",
      "source": [
        "def z(y=2, x):\n",
        "  print(x + y)"
      ],
      "metadata": {
        "colab": {
          "base_uri": "https://localhost:8080/",
          "height": 130
        },
        "id": "VzYyr8itiw93",
        "outputId": "b68fb2fc-38dc-4a8d-8182-e6ead949c0e1"
      },
      "execution_count": null,
      "outputs": [
        {
          "output_type": "error",
          "ename": "SyntaxError",
          "evalue": "ignored",
          "traceback": [
            "\u001b[0;36m  File \u001b[0;32m\"<ipython-input-25-989ff7df826e>\"\u001b[0;36m, line \u001b[0;32m1\u001b[0m\n\u001b[0;31m    def z(y=2, x):\u001b[0m\n\u001b[0m         ^\u001b[0m\n\u001b[0;31mSyntaxError\u001b[0m\u001b[0;31m:\u001b[0m non-default argument follows default argument\n"
          ]
        }
      ]
    },
    {
      "cell_type": "markdown",
      "source": [
        "Именованные аргументы можно передавать в функцию в любом порядке"
      ],
      "metadata": {
        "id": "yVkK_EHCmE0K"
      }
    },
    {
      "cell_type": "code",
      "source": [
        "z(y=6, x=10) # 2 именованных аргумента"
      ],
      "metadata": {
        "colab": {
          "base_uri": "https://localhost:8080/"
        },
        "id": "fQbpX2y9jN9T",
        "outputId": "0f452369-6baf-473d-f15a-52af124be38f"
      },
      "execution_count": null,
      "outputs": [
        {
          "output_type": "execute_result",
          "data": {
            "text/plain": [
              "16"
            ]
          },
          "metadata": {},
          "execution_count": 26
        }
      ]
    },
    {
      "cell_type": "code",
      "source": [
        "z(7, 10)"
      ],
      "metadata": {
        "colab": {
          "base_uri": "https://localhost:8080/"
        },
        "id": "08a55XcamRLo",
        "outputId": "68c1bb29-966d-4aef-bc22-06968ca7fe3a"
      },
      "execution_count": null,
      "outputs": [
        {
          "output_type": "execute_result",
          "data": {
            "text/plain": [
              "17"
            ]
          },
          "metadata": {},
          "execution_count": 60
        }
      ]
    },
    {
      "cell_type": "markdown",
      "source": [
        "Но нельзя сначала передать именованные аргументы, а потом позиционные"
      ],
      "metadata": {
        "id": "1Yi79ff0mJZE"
      }
    },
    {
      "cell_type": "code",
      "source": [
        "z(x=10, 6) # 1 именованный и 1 позиционный аргумент"
      ],
      "metadata": {
        "colab": {
          "base_uri": "https://localhost:8080/",
          "height": 130
        },
        "id": "PaMgNUQfjrPq",
        "outputId": "2be83f2b-53d5-4c40-9d72-b07058bf7229"
      },
      "execution_count": null,
      "outputs": [
        {
          "output_type": "error",
          "ename": "SyntaxError",
          "evalue": "ignored",
          "traceback": [
            "\u001b[0;36m  File \u001b[0;32m\"<ipython-input-57-2772c38bc2de>\"\u001b[0;36m, line \u001b[0;32m1\u001b[0m\n\u001b[0;31m    z(x=10, 6) # 1 именованный и 1 позиционный аргумент\u001b[0m\n\u001b[0m           ^\u001b[0m\n\u001b[0;31mSyntaxError\u001b[0m\u001b[0;31m:\u001b[0m positional argument follows keyword argument\n"
          ]
        }
      ]
    },
    {
      "cell_type": "markdown",
      "source": [
        "Если мы хотим передать в функцию произвольное количество позиционных аргументов, то перед переменной отвечающей за последовательность аргументов нужно поставить `*`"
      ],
      "metadata": {
        "id": "2WQNcYghvezf"
      }
    },
    {
      "cell_type": "code",
      "source": [
        "def polynom(x, *args):\n",
        "  print(args)\n",
        "  return sum([arg * x ** (i + 1) for i, arg in enumerate(args)])\n",
        "\n",
        "coefs = (10, 11, 12)\n",
        "\n",
        "polynom(0.1, *coefs)"
      ],
      "metadata": {
        "colab": {
          "base_uri": "https://localhost:8080/"
        },
        "id": "enoTdpJAjuCb",
        "outputId": "94d1ca37-3d65-4cc2-c9b7-54d0d65b4bc7"
      },
      "execution_count": null,
      "outputs": [
        {
          "output_type": "stream",
          "name": "stdout",
          "text": [
            "(10, 11, 12)\n"
          ]
        },
        {
          "output_type": "execute_result",
          "data": {
            "text/plain": [
              "1.122"
            ]
          },
          "metadata": {},
          "execution_count": 30
        }
      ]
    },
    {
      "cell_type": "markdown",
      "source": [
        "Если мы хотим передать в функцию произвольное количество именованных аргументов, то перед переменной отвечающей за последовательность аргументов нужно поставить `**`"
      ],
      "metadata": {
        "id": "ajkfLkD9wlIP"
      }
    },
    {
      "cell_type": "code",
      "source": [
        "def polynom(x, **args):\n",
        "  print(args)\n",
        "  return sum([args[arg] * x ** (i + 1) for i, arg in enumerate(args)])\n",
        "\n",
        "params = {\n",
        "    'a': 10,\n",
        "    'b': 11,\n",
        "    'c': 12\n",
        "}\n",
        "\n",
        "polynom(0.1, **params)"
      ],
      "metadata": {
        "colab": {
          "base_uri": "https://localhost:8080/"
        },
        "id": "bl-4h1g3we36",
        "outputId": "83b7d7a9-c8fe-44ba-9b5f-8325d6214ded"
      },
      "execution_count": null,
      "outputs": [
        {
          "output_type": "stream",
          "name": "stdout",
          "text": [
            "{'a': 10, 'b': 11, 'c': 12}\n"
          ]
        },
        {
          "output_type": "execute_result",
          "data": {
            "text/plain": [
              "1.122"
            ]
          },
          "metadata": {},
          "execution_count": 33
        }
      ]
    },
    {
      "cell_type": "markdown",
      "source": [
        "### Модуль collections"
      ],
      "metadata": {
        "id": "G6K4oiOB0-3X"
      }
    },
    {
      "cell_type": "code",
      "source": [
        "from collections import Counter, OrderedDict, defaultdict"
      ],
      "metadata": {
        "id": "yPe1VKIzwzfs"
      },
      "execution_count": null,
      "outputs": []
    },
    {
      "cell_type": "code",
      "source": [
        "a = [1, 1, 2, 2, 3, 3, 3, 5, '0', '1', 'asdfasd']\n",
        "Counter(a) # все просто - подсчитывает количество элементов в массиве"
      ],
      "metadata": {
        "colab": {
          "base_uri": "https://localhost:8080/"
        },
        "id": "UU-cD8cT1Lo5",
        "outputId": "72637f8b-7d55-494b-889f-dad0a4396a6e"
      },
      "execution_count": null,
      "outputs": [
        {
          "output_type": "execute_result",
          "data": {
            "text/plain": [
              "Counter({1: 2, 2: 2, 3: 3, 5: 1, '0': 1, '1': 1, 'asdfasd': 1})"
            ]
          },
          "metadata": {},
          "execution_count": 35
        }
      ]
    },
    {
      "cell_type": "code",
      "source": [
        "Counter('asfsdfjnsdfsdonfadfiop')"
      ],
      "metadata": {
        "colab": {
          "base_uri": "https://localhost:8080/"
        },
        "id": "-tZzZyUq1VEG",
        "outputId": "ec4f8bc5-a450-4bb5-9cb1-998248df85e5"
      },
      "execution_count": null,
      "outputs": [
        {
          "output_type": "execute_result",
          "data": {
            "text/plain": [
              "Counter({'a': 2,\n",
              "         's': 4,\n",
              "         'f': 5,\n",
              "         'd': 4,\n",
              "         'j': 1,\n",
              "         'n': 2,\n",
              "         'o': 2,\n",
              "         'i': 1,\n",
              "         'p': 1})"
            ]
          },
          "metadata": {},
          "execution_count": 95
        }
      ]
    },
    {
      "cell_type": "code",
      "source": [
        "a = {'1': 1,\n",
        "     '2': 2,\n",
        "     (1, 2, 3): (1, 2, 3),\n",
        "     'asdasd': 'asldka'}"
      ],
      "metadata": {
        "id": "chY-g9bq3GFc"
      },
      "execution_count": null,
      "outputs": []
    },
    {
      "cell_type": "code",
      "source": [
        "OrderedDict(a) # как обычный словарь, только еще поддерживает методы изменяющие порядок"
      ],
      "metadata": {
        "colab": {
          "base_uri": "https://localhost:8080/"
        },
        "id": "4FNlfIXG12uZ",
        "outputId": "42b7928d-178e-40d1-c87d-777d503b4fca"
      },
      "execution_count": null,
      "outputs": [
        {
          "output_type": "execute_result",
          "data": {
            "text/plain": [
              "OrderedDict([('1', 1), ('2', 2), ((1, 2, 3), (1, 2, 3)), ('asdasd', 'asldka')])"
            ]
          },
          "metadata": {},
          "execution_count": 37
        }
      ]
    },
    {
      "cell_type": "code",
      "source": [
        "d = OrderedDict(a)\n",
        "d.move_to_end('1')\n",
        "d"
      ],
      "metadata": {
        "colab": {
          "base_uri": "https://localhost:8080/"
        },
        "id": "IELYervz20x6",
        "outputId": "804a6b45-f741-4649-9e79-4cb424dc085b"
      },
      "execution_count": null,
      "outputs": [
        {
          "output_type": "execute_result",
          "data": {
            "text/plain": [
              "OrderedDict([('2', 2), ((1, 2, 3), (1, 2, 3)), ('asdasd', 'asldka'), ('1', 1)])"
            ]
          },
          "metadata": {},
          "execution_count": 44
        }
      ]
    },
    {
      "cell_type": "markdown",
      "source": [
        "First In First Out - стопка тарелок\n",
        "Last In Last Out - очередь"
      ],
      "metadata": {
        "id": "ReaiLOeEJcDX"
      }
    },
    {
      "cell_type": "code",
      "source": [
        "d.popitem(last=False)\n",
        "d"
      ],
      "metadata": {
        "colab": {
          "base_uri": "https://localhost:8080/"
        },
        "id": "VG_EnDrC3yt9",
        "outputId": "1167fcd5-ad93-44ce-a3dd-f888b929a414"
      },
      "execution_count": null,
      "outputs": [
        {
          "output_type": "execute_result",
          "data": {
            "text/plain": [
              "OrderedDict([((1, 2, 3), (1, 2, 3)), ('asdasd', 'asldka'), ('1', 1)])"
            ]
          },
          "metadata": {},
          "execution_count": 41
        }
      ]
    },
    {
      "cell_type": "code",
      "source": [
        "d.popitem(last=True)\n",
        "d"
      ],
      "metadata": {
        "colab": {
          "base_uri": "https://localhost:8080/"
        },
        "id": "RHtabGMI35qz",
        "outputId": "3d5d2044-ec89-4d6e-8bbe-a9ff6685c517"
      },
      "execution_count": null,
      "outputs": [
        {
          "output_type": "execute_result",
          "data": {
            "text/plain": [
              "OrderedDict([('2', 2), ((1, 2, 3), (1, 2, 3)), ('asdasd', 'asldka')])"
            ]
          },
          "metadata": {},
          "execution_count": 45
        }
      ]
    },
    {
      "cell_type": "code",
      "source": [
        "d = defaultdict(list) # создает словарь у которого по умолчанию задан тип value\n",
        "c = defaultdict()"
      ],
      "metadata": {
        "id": "tlstoLT14cDO"
      },
      "execution_count": null,
      "outputs": []
    },
    {
      "cell_type": "code",
      "source": [
        "d[1].append(1)\n",
        "c[1] = 1\n",
        "print(d, c)"
      ],
      "metadata": {
        "colab": {
          "base_uri": "https://localhost:8080/"
        },
        "id": "epYf5QrQ4xVc",
        "outputId": "14f0835d-4ac5-4e65-c7ce-83548e4407ef"
      },
      "execution_count": null,
      "outputs": [
        {
          "output_type": "stream",
          "name": "stdout",
          "text": [
            "defaultdict(<class 'list'>, {1: [1]}) defaultdict(None, {1: 1})\n"
          ]
        }
      ]
    },
    {
      "cell_type": "code",
      "source": [
        "c[1].append(1)"
      ],
      "metadata": {
        "colab": {
          "base_uri": "https://localhost:8080/",
          "height": 165
        },
        "id": "RajuuAv4KzkR",
        "outputId": "776688d1-10ce-428f-d56d-d93372a070fa"
      },
      "execution_count": null,
      "outputs": [
        {
          "output_type": "error",
          "ename": "AttributeError",
          "evalue": "ignored",
          "traceback": [
            "\u001b[0;31m---------------------------------------------------------------------------\u001b[0m",
            "\u001b[0;31mAttributeError\u001b[0m                            Traceback (most recent call last)",
            "\u001b[0;32m<ipython-input-48-099f0ddd49f9>\u001b[0m in \u001b[0;36m<module>\u001b[0;34m\u001b[0m\n\u001b[0;32m----> 1\u001b[0;31m \u001b[0mc\u001b[0m\u001b[0;34m[\u001b[0m\u001b[0;36m1\u001b[0m\u001b[0;34m]\u001b[0m\u001b[0;34m.\u001b[0m\u001b[0mappend\u001b[0m\u001b[0;34m(\u001b[0m\u001b[0;36m1\u001b[0m\u001b[0;34m)\u001b[0m\u001b[0;34m\u001b[0m\u001b[0;34m\u001b[0m\u001b[0m\n\u001b[0m",
            "\u001b[0;31mAttributeError\u001b[0m: 'int' object has no attribute 'append'"
          ]
        }
      ]
    },
    {
      "cell_type": "code",
      "source": [
        "t = defaultdict(str)"
      ],
      "metadata": {
        "id": "_oxWvQ3AK3Cn"
      },
      "execution_count": null,
      "outputs": []
    },
    {
      "cell_type": "code",
      "source": [
        "t[1] += 's' "
      ],
      "metadata": {
        "id": "94_hZFwIK6TG"
      },
      "execution_count": null,
      "outputs": []
    },
    {
      "cell_type": "markdown",
      "source": [
        "### Модуль itertools"
      ],
      "metadata": {
        "id": "3JPCKavW5kNB"
      }
    },
    {
      "cell_type": "code",
      "source": [
        "from itertools import count, cycle, permutations, combinations"
      ],
      "metadata": {
        "id": "nIyi7mZa5JeH"
      },
      "execution_count": null,
      "outputs": []
    },
    {
      "cell_type": "code",
      "source": [
        "a = [1, 2, 3, 4]\n",
        "a = iter(a)"
      ],
      "metadata": {
        "id": "UMqiJhMNLZbH"
      },
      "execution_count": null,
      "outputs": []
    },
    {
      "cell_type": "markdown",
      "source": [],
      "metadata": {
        "id": "0zXLsiRA_Q__"
      }
    },
    {
      "cell_type": "code",
      "source": [
        "a = [1, 2, 3, 4, 5]\n",
        "list(combinations(a, 5))"
      ],
      "metadata": {
        "colab": {
          "base_uri": "https://localhost:8080/"
        },
        "id": "VZ19Wwjn_Qhy",
        "outputId": "ab49b87e-3153-4bc8-8897-7e1562cb3f69"
      },
      "execution_count": null,
      "outputs": [
        {
          "output_type": "execute_result",
          "data": {
            "text/plain": [
              "[(1, 2, 3, 4, 5)]"
            ]
          },
          "metadata": {},
          "execution_count": 63
        }
      ]
    },
    {
      "cell_type": "code",
      "source": [
        "list(combinations(a, 4))"
      ],
      "metadata": {
        "colab": {
          "base_uri": "https://localhost:8080/"
        },
        "id": "RJ83cRfMMUAJ",
        "outputId": "41286d24-24e7-4ac6-dc4f-0cd999498c16"
      },
      "execution_count": null,
      "outputs": [
        {
          "output_type": "execute_result",
          "data": {
            "text/plain": [
              "[(1, 2, 3, 4), (1, 2, 3, 5), (1, 2, 4, 5), (1, 3, 4, 5), (2, 3, 4, 5)]"
            ]
          },
          "metadata": {},
          "execution_count": 64
        }
      ]
    },
    {
      "cell_type": "code",
      "source": [
        "list(combinations(a, 3))"
      ],
      "metadata": {
        "colab": {
          "base_uri": "https://localhost:8080/"
        },
        "id": "Jg69pnfjMhD9",
        "outputId": "8b70706e-3769-4446-f62b-8c9961d239a0"
      },
      "execution_count": null,
      "outputs": [
        {
          "output_type": "execute_result",
          "data": {
            "text/plain": [
              "[(1, 2, 3),\n",
              " (1, 2, 4),\n",
              " (1, 2, 5),\n",
              " (1, 3, 4),\n",
              " (1, 3, 5),\n",
              " (1, 4, 5),\n",
              " (2, 3, 4),\n",
              " (2, 3, 5),\n",
              " (2, 4, 5),\n",
              " (3, 4, 5)]"
            ]
          },
          "metadata": {},
          "execution_count": 65
        }
      ]
    },
    {
      "cell_type": "markdown",
      "source": [
        "$C_{n}^{k} = \\frac{n!}{k!(n-k)!}$"
      ],
      "metadata": {
        "id": "uGHV1IkRMtBb"
      }
    },
    {
      "cell_type": "code",
      "source": [
        "len(list(permutations(a)))"
      ],
      "metadata": {
        "colab": {
          "base_uri": "https://localhost:8080/"
        },
        "id": "v_15kEpPAuQO",
        "outputId": "13ed6424-eeef-4fa2-ab47-aaf7a9bb04c9"
      },
      "execution_count": null,
      "outputs": [
        {
          "output_type": "execute_result",
          "data": {
            "text/plain": [
              "120"
            ]
          },
          "metadata": {},
          "execution_count": 66
        }
      ]
    },
    {
      "cell_type": "code",
      "source": [
        "a = count(10, 2)"
      ],
      "metadata": {
        "id": "lwvpT-VpNPR4"
      },
      "execution_count": null,
      "outputs": []
    },
    {
      "cell_type": "code",
      "source": [
        "a = [1, 2, 3, 4, 5]\n",
        "b = cycle(a)"
      ],
      "metadata": {
        "id": "Td25XFfWNV06"
      },
      "execution_count": null,
      "outputs": []
    },
    {
      "cell_type": "code",
      "source": [
        "next(b)"
      ],
      "metadata": {
        "colab": {
          "base_uri": "https://localhost:8080/"
        },
        "id": "iwU_26C6NluS",
        "outputId": "46bdf7b0-16d6-413b-9a98-5f0bf108ff48"
      },
      "execution_count": null,
      "outputs": [
        {
          "output_type": "execute_result",
          "data": {
            "text/plain": [
              "1"
            ]
          },
          "metadata": {},
          "execution_count": 78
        }
      ]
    },
    {
      "cell_type": "markdown",
      "source": [
        "## Работа с файлами"
      ],
      "metadata": {
        "id": "U3r32N5t7PDa"
      }
    },
    {
      "cell_type": "markdown",
      "source": [
        "Давайте откроем файл на чтение "
      ],
      "metadata": {
        "id": "BOz896vt7wXm"
      }
    },
    {
      "cell_type": "markdown",
      "source": [],
      "metadata": {
        "id": "WFHCB318OMht"
      }
    },
    {
      "cell_type": "markdown",
      "source": [
        "r - чтение\n",
        "w - запись\n",
        "r+ - чтение и запись\n",
        "w+ - чтение и запись\n",
        "a+ - чтение и запись "
      ],
      "metadata": {
        "id": "lowOmA_tOTgq"
      }
    },
    {
      "cell_type": "code",
      "source": [
        "f = open('input.txt', 'r')"
      ],
      "metadata": {
        "id": "V3ysH6gC6Dzp"
      },
      "execution_count": null,
      "outputs": []
    },
    {
      "cell_type": "markdown",
      "source": [
        "Построчно считаем файл"
      ],
      "metadata": {
        "id": "zptZHwWR9N74"
      }
    },
    {
      "cell_type": "code",
      "source": [
        "for line in f.readlines():\n",
        "  print(line)"
      ],
      "metadata": {
        "colab": {
          "base_uri": "https://localhost:8080/"
        },
        "id": "Z5D_jT0t7pfB",
        "outputId": "a1ab66a9-11c1-4fff-cd58-a21392a231c7"
      },
      "execution_count": null,
      "outputs": [
        {
          "output_type": "stream",
          "name": "stdout",
          "text": [
            "1 2\n",
            "\n",
            "3 4\n"
          ]
        }
      ]
    },
    {
      "cell_type": "markdown",
      "source": [
        "Не забываем закрывать файл после чтения. Иначе мы будет зря тратить оперативную память и можем потерять данные из файла"
      ],
      "metadata": {
        "id": "oN0Izq8P8x5F"
      }
    },
    {
      "cell_type": "code",
      "source": [
        "f.close()"
      ],
      "metadata": {
        "id": "hPsaZlnA8w91"
      },
      "execution_count": null,
      "outputs": []
    },
    {
      "cell_type": "markdown",
      "source": [
        "Теперь считаем файл одной строкой"
      ],
      "metadata": {
        "id": "BcDHSZXV9Rtf"
      }
    },
    {
      "cell_type": "code",
      "source": [
        "f = open('input.txt', 'r')\n",
        "f.read()"
      ],
      "metadata": {
        "colab": {
          "base_uri": "https://localhost:8080/",
          "height": 36
        },
        "id": "azq963up7-nB",
        "outputId": "19e29fc9-396f-456d-c425-7d4e3a22d33c"
      },
      "execution_count": null,
      "outputs": [
        {
          "output_type": "execute_result",
          "data": {
            "text/plain": [
              "'1 2\\n3 4'"
            ],
            "application/vnd.google.colaboratory.intrinsic+json": {
              "type": "string"
            }
          },
          "metadata": {},
          "execution_count": 88
        }
      ]
    },
    {
      "cell_type": "code",
      "source": [
        "f.close()"
      ],
      "metadata": {
        "id": "rudfS_ix9Hlj"
      },
      "execution_count": null,
      "outputs": []
    },
    {
      "cell_type": "markdown",
      "source": [
        "Чаще всего пользуются конструкцией `with` так как она автоматически закрывает файл"
      ],
      "metadata": {
        "id": "AnyPDXQT9W15"
      }
    },
    {
      "cell_type": "code",
      "source": [
        "with open('input.txt', 'r') as f:\n",
        "  data = f.readlines()\n",
        "print(data)"
      ],
      "metadata": {
        "id": "cA_6xqVB9JHl",
        "colab": {
          "base_uri": "https://localhost:8080/"
        },
        "outputId": "4a973668-ad7f-48c1-b5e8-f4a04168d90c"
      },
      "execution_count": null,
      "outputs": [
        {
          "output_type": "stream",
          "name": "stdout",
          "text": [
            "['1 2\\n', '3 4']\n"
          ]
        }
      ]
    },
    {
      "cell_type": "markdown",
      "source": [],
      "metadata": {
        "id": "acjtQ9TX_Msl"
      }
    },
    {
      "cell_type": "markdown",
      "source": [
        "Дается две последовательности\n",
        "* первая последовательность из функций непоределенной\n",
        "длины\n",
        "* вторая последовательность стостоит из функций неопределенной длины\n",
        "Нужно посчитать попарную суперпозицию функций"
      ],
      "metadata": {
        "id": "gNBjHaaQPeFS"
      }
    },
    {
      "cell_type": "code",
      "source": [
        "from math import log, sqrt, exp, pi"
      ],
      "metadata": {
        "id": "eIJ6HCHcQKW3"
      },
      "execution_count": null,
      "outputs": []
    },
    {
      "cell_type": "code",
      "source": [
        "a = [log, abs, sqrt, exp, abs]\n",
        "b = [abs, sqrt, exp, log, sqrt]\n",
        "x = pi\n",
        "\n",
        "\n",
        "def superposition(x, *a):\n",
        "  print(a)\n",
        "  for i in range(0, len(a) // 2):\n",
        "    print(a[i](a[i + (len(a) // 2)](x)))\n",
        "\n",
        "#z = a + b\n",
        "superposition(x, *[a, b])"
      ],
      "metadata": {
        "id": "0Q20y-pv_BN_",
        "colab": {
          "base_uri": "https://localhost:8080/",
          "height": 359
        },
        "outputId": "548eac21-d903-403e-e6e3-d682459ff06c"
      },
      "execution_count": null,
      "outputs": [
        {
          "output_type": "stream",
          "name": "stdout",
          "text": [
            "([<built-in function log>, <built-in function abs>, <built-in function sqrt>, <built-in function exp>, <built-in function abs>], [<built-in function abs>, <built-in function sqrt>, <built-in function exp>, <built-in function log>, <built-in function sqrt>])\n"
          ]
        },
        {
          "output_type": "error",
          "ename": "TypeError",
          "evalue": "ignored",
          "traceback": [
            "\u001b[0;31m---------------------------------------------------------------------------\u001b[0m",
            "\u001b[0;31mTypeError\u001b[0m                                 Traceback (most recent call last)",
            "\u001b[0;32m<ipython-input-116-679616a97df0>\u001b[0m in \u001b[0;36m<module>\u001b[0;34m\u001b[0m\n\u001b[1;32m     10\u001b[0m \u001b[0;34m\u001b[0m\u001b[0m\n\u001b[1;32m     11\u001b[0m \u001b[0;31m#z = a + b\u001b[0m\u001b[0;34m\u001b[0m\u001b[0;34m\u001b[0m\u001b[0;34m\u001b[0m\u001b[0m\n\u001b[0;32m---> 12\u001b[0;31m \u001b[0msuperposition\u001b[0m\u001b[0;34m(\u001b[0m\u001b[0mx\u001b[0m\u001b[0;34m,\u001b[0m \u001b[0;34m*\u001b[0m\u001b[0;34m[\u001b[0m\u001b[0ma\u001b[0m\u001b[0;34m,\u001b[0m \u001b[0mb\u001b[0m\u001b[0;34m]\u001b[0m\u001b[0;34m)\u001b[0m\u001b[0;34m\u001b[0m\u001b[0;34m\u001b[0m\u001b[0m\n\u001b[0m",
            "\u001b[0;32m<ipython-input-116-679616a97df0>\u001b[0m in \u001b[0;36msuperposition\u001b[0;34m(x, *a)\u001b[0m\n\u001b[1;32m      7\u001b[0m   \u001b[0mprint\u001b[0m\u001b[0;34m(\u001b[0m\u001b[0ma\u001b[0m\u001b[0;34m)\u001b[0m\u001b[0;34m\u001b[0m\u001b[0;34m\u001b[0m\u001b[0m\n\u001b[1;32m      8\u001b[0m   \u001b[0;32mfor\u001b[0m \u001b[0mi\u001b[0m \u001b[0;32min\u001b[0m \u001b[0mrange\u001b[0m\u001b[0;34m(\u001b[0m\u001b[0;36m0\u001b[0m\u001b[0;34m,\u001b[0m \u001b[0mlen\u001b[0m\u001b[0;34m(\u001b[0m\u001b[0ma\u001b[0m\u001b[0;34m)\u001b[0m \u001b[0;34m//\u001b[0m \u001b[0;36m2\u001b[0m\u001b[0;34m)\u001b[0m\u001b[0;34m:\u001b[0m\u001b[0;34m\u001b[0m\u001b[0;34m\u001b[0m\u001b[0m\n\u001b[0;32m----> 9\u001b[0;31m     \u001b[0mprint\u001b[0m\u001b[0;34m(\u001b[0m\u001b[0ma\u001b[0m\u001b[0;34m[\u001b[0m\u001b[0mi\u001b[0m\u001b[0;34m]\u001b[0m\u001b[0;34m(\u001b[0m\u001b[0ma\u001b[0m\u001b[0;34m[\u001b[0m\u001b[0mi\u001b[0m \u001b[0;34m+\u001b[0m \u001b[0;34m(\u001b[0m\u001b[0mlen\u001b[0m\u001b[0;34m(\u001b[0m\u001b[0ma\u001b[0m\u001b[0;34m)\u001b[0m \u001b[0;34m//\u001b[0m \u001b[0;36m2\u001b[0m\u001b[0;34m)\u001b[0m\u001b[0;34m]\u001b[0m\u001b[0;34m(\u001b[0m\u001b[0mx\u001b[0m\u001b[0;34m)\u001b[0m\u001b[0;34m)\u001b[0m\u001b[0;34m)\u001b[0m\u001b[0;34m\u001b[0m\u001b[0;34m\u001b[0m\u001b[0m\n\u001b[0m\u001b[1;32m     10\u001b[0m \u001b[0;34m\u001b[0m\u001b[0m\n\u001b[1;32m     11\u001b[0m \u001b[0;31m#z = a + b\u001b[0m\u001b[0;34m\u001b[0m\u001b[0;34m\u001b[0m\u001b[0;34m\u001b[0m\u001b[0m\n",
            "\u001b[0;31mTypeError\u001b[0m: 'list' object is not callable"
          ]
        }
      ]
    },
    {
      "cell_type": "code",
      "source": [
        "import os"
      ],
      "metadata": {
        "id": "n7nyNXxCUnGP"
      },
      "execution_count": null,
      "outputs": []
    },
    {
      "cell_type": "code",
      "source": [
        "os.listdir()"
      ],
      "metadata": {
        "colab": {
          "base_uri": "https://localhost:8080/"
        },
        "id": "J06b9LIVVmZB",
        "outputId": "c2d7f121-b050-429f-dfce-1c74ebcfad70"
      },
      "execution_count": null,
      "outputs": [
        {
          "output_type": "execute_result",
          "data": {
            "text/plain": [
              "['.config',\n",
              " 'Python_input_0.txt',\n",
              " 'input_0.txt',\n",
              " 'input.txt',\n",
              " '.ipynb_checkpoints',\n",
              " 'sample_data']"
            ]
          },
          "metadata": {},
          "execution_count": 121
        }
      ]
    },
    {
      "cell_type": "code",
      "source": [
        "!pwd"
      ],
      "metadata": {
        "colab": {
          "base_uri": "https://localhost:8080/"
        },
        "id": "FhAeh59-V0-4",
        "outputId": "c33c91d5-2f66-4d0b-b823-9d8112bf4524"
      },
      "execution_count": null,
      "outputs": [
        {
          "output_type": "stream",
          "name": "stdout",
          "text": [
            "/content\n"
          ]
        }
      ]
    },
    {
      "cell_type": "code",
      "source": [
        "!cd sample_data/"
      ],
      "metadata": {
        "id": "qQPcuwKgV5PD"
      },
      "execution_count": null,
      "outputs": []
    },
    {
      "cell_type": "code",
      "source": [
        "os.chdir('sample_data')"
      ],
      "metadata": {
        "id": "LaKyZjnLVtuB"
      },
      "execution_count": null,
      "outputs": []
    },
    {
      "cell_type": "code",
      "source": [
        "os.listdir()"
      ],
      "metadata": {
        "colab": {
          "base_uri": "https://localhost:8080/"
        },
        "id": "V7aBzV8OWIRq",
        "outputId": "e20a6dfb-6b90-4691-8ba9-be1be662f984"
      },
      "execution_count": null,
      "outputs": [
        {
          "output_type": "execute_result",
          "data": {
            "text/plain": [
              "['README.md',\n",
              " 'anscombe.json',\n",
              " 'california_housing_train.csv',\n",
              " 'mnist_test.csv',\n",
              " 'california_housing_test.csv',\n",
              " 'mnist_train_small.csv']"
            ]
          },
          "metadata": {},
          "execution_count": 126
        }
      ]
    },
    {
      "cell_type": "code",
      "source": [
        "os.chdir('..')"
      ],
      "metadata": {
        "id": "XlYnqiA_WJsD"
      },
      "execution_count": null,
      "outputs": []
    },
    {
      "cell_type": "code",
      "source": [
        "os.listdir()"
      ],
      "metadata": {
        "colab": {
          "base_uri": "https://localhost:8080/"
        },
        "id": "JmkV9AOTWSQt",
        "outputId": "11315a92-007c-4fca-83b2-0d7c2d1efe9d"
      },
      "execution_count": null,
      "outputs": [
        {
          "output_type": "execute_result",
          "data": {
            "text/plain": [
              "['.config',\n",
              " 'Python_input_0.txt',\n",
              " 'input_0.txt',\n",
              " 'input.txt',\n",
              " '.ipynb_checkpoints',\n",
              " 'sample_data']"
            ]
          },
          "metadata": {},
          "execution_count": 128
        }
      ]
    },
    {
      "cell_type": "code",
      "source": [
        "s = 'input_0.txt'\n",
        "for filename in  os.listdir():\n",
        "  if filename == s:\n",
        "    with open(f\"{filename}\", 'r') as f:\n",
        "      languages = [line.strip() for line in f.readlines()]\n",
        "d = Counter(languages)\n",
        "for lang in d.keys():\n",
        "  with open(f\"{lang}_{s}\", 'w+') as f:\n",
        "    for i in range(d[lang]):\n",
        "      f.write(lang+'\\n')"
      ],
      "metadata": {
        "id": "FfhuE_T0WTa6"
      },
      "execution_count": null,
      "outputs": []
    },
    {
      "cell_type": "code",
      "source": [],
      "metadata": {
        "id": "LIEOeo5XWabr"
      },
      "execution_count": null,
      "outputs": []
    }
  ]
}