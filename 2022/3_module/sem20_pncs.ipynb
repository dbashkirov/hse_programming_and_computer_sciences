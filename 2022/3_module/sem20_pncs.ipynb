{
  "nbformat": 4,
  "nbformat_minor": 0,
  "metadata": {
    "colab": {
      "provenance": []
    },
    "kernelspec": {
      "name": "python3",
      "display_name": "Python 3"
    },
    "language_info": {
      "name": "python"
    }
  },
  "cells": [
    {
      "cell_type": "markdown",
      "source": [
        "### Задача о рюкзаке (восстановление ответа)"
      ],
      "metadata": {
        "id": "LYAecee7Ly6l"
      }
    },
    {
      "cell_type": "code",
      "source": [
        "def get_answer(i: int, j: int):\n",
        "  if B[i][j] != -1:\n",
        "    if B[i][j] == [i - 1, j]:\n",
        "      get_answer(B[i][j][0], )\n",
        "\n",
        "W = 13\n",
        "N = 5\n",
        "items = [[3, 1],\n",
        "         [4, 6],\n",
        "         [5, 4],\n",
        "         [8, 7],\n",
        "         [9, 6]]\n",
        "A = [[0] * (W + 1) for _ in range(N + 1)]\n",
        "B = [[-1] * (W + 1) for _ in range(N + 1)]\n",
        "used = [0] * N\n",
        "for i in range(1, N + 1):\n",
        "  for j in range(1, W + 1):\n",
        "    if j >= items[i - 1][0]:\n",
        "      u, lu = A[i - 1][j], A[i - 1][j - items[i - 1][0]] + items[i - 1][1]\n",
        "      if u > lu:\n",
        "        A[i][j] = u\n",
        "        B[i][j] = [i - 1, j]\n",
        "      else:\n",
        "        A[i][j] = lu\n",
        "        B[i][j] = [i - 1, j - items[i - 1][0]]\n",
        "for line in A:\n",
        "  print(*line)\n",
        "for line in B:\n",
        "  print(*line)"
      ],
      "metadata": {
        "id": "GQfrclP_Lw18",
        "colab": {
          "base_uri": "https://localhost:8080/"
        },
        "outputId": "5aa23387-76d6-47b2-a8bb-ac8b1feb8ba9"
      },
      "execution_count": null,
      "outputs": [
        {
          "output_type": "stream",
          "name": "stdout",
          "text": [
            "0 0 0 0 0 0 0 0 0 0 0 0 0 0\n",
            "0 0 0 1 1 1 1 1 1 1 1 1 1 1\n",
            "0 0 0 0 6 6 6 7 7 7 7 7 7 7\n",
            "0 0 0 0 0 6 6 7 7 10 10 10 11 11\n",
            "0 0 0 0 0 0 0 0 7 10 10 10 11 13\n",
            "0 0 0 0 0 0 0 0 0 10 10 10 11 13\n",
            "-1 -1 -1 -1 -1 -1 -1 -1 -1 -1 -1 -1 -1 -1\n",
            "-1 -1 -1 [0, 0] [0, 1] [0, 2] [0, 3] [0, 4] [0, 5] [0, 6] [0, 7] [0, 8] [0, 9] [0, 10]\n",
            "-1 -1 -1 -1 [1, 0] [1, 1] [1, 2] [1, 3] [1, 4] [1, 5] [1, 6] [1, 7] [1, 8] [1, 9]\n",
            "-1 -1 -1 -1 -1 [2, 5] [2, 6] [2, 7] [2, 8] [2, 4] [2, 5] [2, 6] [2, 7] [2, 8]\n",
            "-1 -1 -1 -1 -1 -1 -1 -1 [3, 0] [3, 9] [3, 10] [3, 11] [3, 12] [3, 5]\n",
            "-1 -1 -1 -1 -1 -1 -1 -1 -1 [4, 9] [4, 10] [4, 11] [4, 12] [4, 13]\n"
          ]
        }
      ]
    }
  ]
}