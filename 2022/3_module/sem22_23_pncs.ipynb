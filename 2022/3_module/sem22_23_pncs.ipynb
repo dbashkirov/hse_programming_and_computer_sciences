{
  "nbformat": 4,
  "nbformat_minor": 0,
  "metadata": {
    "colab": {
      "provenance": []
    },
    "kernelspec": {
      "name": "python3",
      "display_name": "Python 3"
    },
    "language_info": {
      "name": "python"
    }
  },
  "cells": [
    {
      "cell_type": "markdown",
      "source": [
        "# Графы"
      ],
      "metadata": {
        "id": "Th9x5JsOmw4W"
      }
    },
    {
      "cell_type": "markdown",
      "source": [
        "<ul>\n",
        "<li> Связные и несвязные</li>\n",
        "<li> Ориентированные и неориентированные</li>\n",
        "<li> Ациклические и нет</li>\n",
        "<li> Взвешенные и нет</li>\n",
        "<li> Двудольные</li>\n",
        "<li> Полные</li>\n",
        "</ul>\n",
        "и так далее"
      ],
      "metadata": {
        "id": "WaQoFSMnpV9i"
      }
    },
    {
      "cell_type": "markdown",
      "source": [
        "### Способы хранения графов\n",
        "<lu>\n",
        "<li>Матрица смежности</li>\n",
        "<li>Список ребер</li>\n",
        "<li>Списки смежности</li>\n",
        "</lu>"
      ],
      "metadata": {
        "id": "2p2AwZ5HrPvH"
      }
    },
    {
      "cell_type": "markdown",
      "source": [
        "### Обход в глубину"
      ],
      "metadata": {
        "id": "q7HBrYbimzjY"
      }
    },
    {
      "cell_type": "markdown",
      "source": [
        "<lu>\n",
        "<li>Нерекурсивный</li>\n",
        "<li>Обходит компоненту связности</li>\n",
        "<li>Посещаем вершины в порядке увеличения расстояния от стартовой</li>\n",
        "</lu>"
      ],
      "metadata": {
        "id": "xTbCcbEAOZOS"
      }
    },
    {
      "cell_type": "code",
      "source": [
        "n = 5\n",
        "\n",
        "g = [\n",
        "    [3, 5],\n",
        "    [3, 4, 5],\n",
        "    [1, 2],\n",
        "    [2],\n",
        "    [1, 3]\n",
        "]\n",
        "used = [0] * n\n",
        "\n",
        "def dfs(v: int):\n",
        "  print(v)\n",
        "  used[v - 1] = 1\n",
        "  for u in g[v - 1]:\n",
        "    if used[u - 1] == 0:\n",
        "      dfs(u)\n",
        "\n",
        "for i in range(n):\n",
        "  if used[i] == 0:\n",
        "    dfs(i + 1)\n",
        "\n",
        "print(*used)"
      ],
      "metadata": {
        "id": "tUkB8_Uhm1jd",
        "colab": {
          "base_uri": "https://localhost:8080/"
        },
        "outputId": "5d2173c6-d054-4c28-b53b-114143edbaa0"
      },
      "execution_count": null,
      "outputs": [
        {
          "output_type": "stream",
          "name": "stdout",
          "text": [
            "1\n",
            "3\n",
            "2\n",
            "4\n",
            "5\n",
            "1 1 1 1 1\n"
          ]
        }
      ]
    },
    {
      "cell_type": "markdown",
      "source": [
        "Какая сложность?"
      ],
      "metadata": {
        "id": "rwwh6d6lrEgn"
      }
    },
    {
      "cell_type": "markdown",
      "source": [
        "O(|E|)"
      ],
      "metadata": {
        "id": "YKxiDxGK3Hs2"
      }
    },
    {
      "cell_type": "markdown",
      "source": [
        "Применение:\n",
        "<lu>\n",
        "<li> Поиск компонент связности </li>\n",
        "</lu>"
      ],
      "metadata": {
        "id": "wqIXAeZit9Y-"
      }
    },
    {
      "cell_type": "code",
      "source": [
        "dfs(v, color, cur)\n",
        "  color[v] = cur\n",
        "  for (v, u) in E\n",
        "    if color[u] == DEFAULT_COLOR\n",
        "      dfs(u, color, cur)\n",
        "\n",
        "cnt = 0\n",
        "for v in V\n",
        "  if color[v] == 0\n",
        "  cnt++\n",
        "  dfs(v, color, cnt)"
      ],
      "metadata": {
        "id": "dQBY9i_RwEBx"
      },
      "execution_count": null,
      "outputs": []
    },
    {
      "cell_type": "markdown",
      "source": [
        "Применение:\n",
        "<lu>\n",
        "<li> Поиск цикла </li>\n",
        "</lu>"
      ],
      "metadata": {
        "id": "K1NNpkFZwbDT"
      }
    },
    {
      "cell_type": "code",
      "source": [
        "dfs(v, color)\n",
        "  color[v] = 1\n",
        "  for (v, u) in E\n",
        "    if color[u] == 0\n",
        "      dfs(u, color)\n",
        "    if color[u] == 1\n",
        "      Нашли цикл\n",
        "  color[v] = 2\n",
        "\n",
        "for v in V\n",
        "  if color[v] == 0\n",
        "  dfs(v, color)"
      ],
      "metadata": {
        "id": "23pPd68QwjWC"
      },
      "execution_count": null,
      "outputs": []
    },
    {
      "cell_type": "markdown",
      "source": [
        "### Обход в ширину"
      ],
      "metadata": {
        "id": "2N_hA2gRm3dt"
      }
    },
    {
      "cell_type": "code",
      "source": [
        "from queue import Queue\n",
        "\n",
        "n = 5\n",
        "\n",
        "g = [\n",
        "    [2, 4],\n",
        "    [2, 3, 4],\n",
        "    [0, 1],\n",
        "    [1],\n",
        "    [0, 2]\n",
        "]\n",
        "\n",
        "used = [0] * n\n",
        "q = Queue()\n",
        "\n",
        "def bfs(v: int):\n",
        "  q.put(v)\n",
        "  used[v] = 1\n",
        "  while not q.empty():\n",
        "    u = q.get()\n",
        "    print(u)\n",
        "    for j in g[u]:\n",
        "      if used[j] == 0:\n",
        "        used[j] = 1\n",
        "        q.put(j)\n",
        "\n",
        "bfs(0)"
      ],
      "metadata": {
        "colab": {
          "base_uri": "https://localhost:8080/"
        },
        "id": "dFVKjHeV5Q_j",
        "outputId": "78cee378-5bde-422e-9825-2a362b4a801c"
      },
      "execution_count": null,
      "outputs": [
        {
          "output_type": "stream",
          "name": "stdout",
          "text": [
            "0\n",
            "2\n",
            "4\n",
            "1\n",
            "3\n"
          ]
        }
      ]
    },
    {
      "cell_type": "markdown",
      "source": [
        "Какая сложность?"
      ],
      "metadata": {
        "id": "RlNi3sDzrGu_"
      }
    },
    {
      "cell_type": "markdown",
      "source": [
        "O(|E|)"
      ],
      "metadata": {
        "id": "jrSug-oq_EFF"
      }
    },
    {
      "cell_type": "markdown",
      "source": [
        "### Алгоритм Дейкстры"
      ],
      "metadata": {
        "id": "rp_5jeze0htW"
      }
    },
    {
      "cell_type": "code",
      "source": [
        "n = 3\n",
        "\n",
        "d = [float('infinity')] * n\n",
        "used = [0] * n\n",
        "w = [\n",
        "    [0, 100, 2],\n",
        "    [100, 0, 2],\n",
        "    [2, 2, 0],\n",
        "]\n",
        "def deikstra(s: int):\n",
        "  d[s] = 0\n",
        "  for i in range(n): # |V|\n",
        "    next = -1\n",
        "    for j in range(n): # |V|\n",
        "      if used[j] == 0 and (next == -1 or d[j] < d[next]):\n",
        "        next = j\n",
        "    if d[next] == float('infinity'):\n",
        "      break\n",
        "    used[next] = 1\n",
        "    for j in range(n): # |E|\n",
        "      if w[j][next] != -1:\n",
        "        d[j] = min(d[j], d[next] + w[j][next])"
      ],
      "metadata": {
        "id": "r2HgJP3urI1G"
      },
      "execution_count": null,
      "outputs": []
    },
    {
      "cell_type": "code",
      "source": [
        "deikstra(0)\n",
        "print(d)"
      ],
      "metadata": {
        "colab": {
          "base_uri": "https://localhost:8080/"
        },
        "id": "FuYDT4wPH42V",
        "outputId": "236716da-12d9-48dd-8626-3a1db15135f9"
      },
      "execution_count": null,
      "outputs": [
        {
          "output_type": "stream",
          "name": "stdout",
          "text": [
            "[0, 4, 2]\n"
          ]
        }
      ]
    },
    {
      "cell_type": "markdown",
      "source": [
        "Какая сложность?"
      ],
      "metadata": {
        "id": "jsLRO0lt0v_P"
      }
    },
    {
      "cell_type": "markdown",
      "source": [
        "O(|V|^2 + |E|) = O(|V|^2)"
      ],
      "metadata": {
        "id": "WgPEzuu1JVMd"
      }
    },
    {
      "cell_type": "code",
      "source": [],
      "metadata": {
        "id": "Xt9qi10k0wTO"
      },
      "execution_count": null,
      "outputs": []
    }
  ]
}