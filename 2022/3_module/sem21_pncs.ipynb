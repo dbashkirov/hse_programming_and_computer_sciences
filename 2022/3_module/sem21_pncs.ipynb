{
  "nbformat": 4,
  "nbformat_minor": 0,
  "metadata": {
    "colab": {
      "provenance": []
    },
    "kernelspec": {
      "name": "python3",
      "display_name": "Python 3"
    },
    "language_info": {
      "name": "python"
    }
  },
  "cells": [
    {
      "cell_type": "markdown",
      "source": [
        "### НОП"
      ],
      "metadata": {
        "id": "QbL9J5UJ1EWs"
      }
    },
    {
      "cell_type": "code",
      "execution_count": null,
      "metadata": {
        "id": "ky2IaWjw17Jc",
        "colab": {
          "base_uri": "https://localhost:8080/"
        },
        "outputId": "2b7f4762-9266-4724-b3ca-3237ae130463"
      },
      "outputs": [
        {
          "output_type": "stream",
          "name": "stdout",
          "text": [
            "[0, 0, 0, 0, 0, 0, 0]\n",
            "[0, 0, 0, 1, 1, 1, 1]\n",
            "[0, 0, 1, 1, 1, 1, 1]\n",
            "[0, 0, 1, 1, 1, 1, 1]\n",
            "[0, 0, 1, 1, 2, 2, 2]\n",
            "[0, 0, 1, 1, 2, 2, 3]\n"
          ]
        }
      ],
      "source": [
        "a, b = [2, 7, 3, 5, 10], [6, 7, 2, 5, 11, 10]\n",
        "n, m = len(a), len(b)\n",
        "A = [[0] * (m + 1) for _ in range(n + 1)]\n",
        "for i in range(1, n + 1):\n",
        "  for j in range(1, m + 1):\n",
        "    if a[i - 1] == b[j - 1]:\n",
        "      A[i][j] = A[i - 1][j - 1] + 1\n",
        "    else:\n",
        "      A[i][j] = max(A[i - 1][j], A[i][j - 1])\n",
        "for line in A:\n",
        "  print(line)"
      ]
    },
    {
      "cell_type": "markdown",
      "source": [
        "НВП"
      ],
      "metadata": {
        "id": "7nBKLGrj16wG"
      }
    },
    {
      "cell_type": "code",
      "source": [
        "d = {chr(ord('a') + i): i + 1 for i in range(26)}\n",
        "d"
      ],
      "metadata": {
        "colab": {
          "base_uri": "https://localhost:8080/"
        },
        "id": "07vZbN6p1tLU",
        "outputId": "ab2a47c8-1f81-4b4d-e22b-56eb845ab077"
      },
      "execution_count": null,
      "outputs": [
        {
          "output_type": "execute_result",
          "data": {
            "text/plain": [
              "{'a': 1,\n",
              " 'b': 2,\n",
              " 'c': 3,\n",
              " 'd': 4,\n",
              " 'e': 5,\n",
              " 'f': 6,\n",
              " 'g': 7,\n",
              " 'h': 8,\n",
              " 'i': 9,\n",
              " 'j': 10,\n",
              " 'k': 11,\n",
              " 'l': 12,\n",
              " 'm': 13,\n",
              " 'n': 14,\n",
              " 'o': 15,\n",
              " 'p': 16,\n",
              " 'q': 17,\n",
              " 'r': 18,\n",
              " 's': 19,\n",
              " 't': 20,\n",
              " 'u': 21,\n",
              " 'v': 22,\n",
              " 'w': 23,\n",
              " 'x': 24,\n",
              " 'y': 25,\n",
              " 'z': 26}"
            ]
          },
          "metadata": {},
          "execution_count": 5
        }
      ]
    },
    {
      "cell_type": "code",
      "source": [
        "s = '1226137'\n",
        "n = len(s)\n",
        "d = [0] * (n + 1)\n",
        "d[0] = 1\n",
        "if s[0] != 1:\n",
        "  d[1] = 1\n",
        "for i in range(2, n + 1):\n",
        "  if 0 < int(s[i - 1 : i]):"
      ],
      "metadata": {
        "colab": {
          "base_uri": "https://localhost:8080/"
        },
        "id": "M3cVCJDv-nhe",
        "outputId": "355f2465-23f9-4b92-dc45-cfccd8333874"
      },
      "execution_count": null,
      "outputs": [
        {
          "output_type": "stream",
          "name": "stdout",
          "text": [
            "12\n"
          ]
        }
      ]
    },
    {
      "cell_type": "code",
      "source": [],
      "metadata": {
        "id": "Ya6wkgbwAHma"
      },
      "execution_count": null,
      "outputs": []
    }
  ]
}