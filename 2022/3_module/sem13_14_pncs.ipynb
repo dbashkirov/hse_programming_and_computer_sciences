{
  "nbformat": 4,
  "nbformat_minor": 0,
  "metadata": {
    "colab": {
      "provenance": []
    },
    "kernelspec": {
      "name": "python3",
      "display_name": "Python 3"
    },
    "language_info": {
      "name": "python"
    }
  },
  "cells": [
    {
      "cell_type": "markdown",
      "source": [
        "## Двоичный поиск"
      ],
      "metadata": {
        "id": "x6JW8hH0akF_"
      }
    },
    {
      "cell_type": "code",
      "source": [
        "def bin_search(l: int, r: int, x: int):\n",
        "  if r - l == 1:\n",
        "    return l\n",
        "  m = (l + r) // 2\n",
        "  if a[m] == x:\n",
        "    return m\n",
        "  if x < a[m]:\n",
        "    return bin_search(l, m - 1, x)\n",
        "  if x > a[m]:\n",
        "    return bin_search(m + 1, r, x)"
      ],
      "metadata": {
        "id": "kvDjrNoYai-v"
      },
      "execution_count": null,
      "outputs": []
    },
    {
      "cell_type": "code",
      "source": [
        "a = [i for i in range(1, 101)]\n",
        "l, r = 0, len(a) - 1\n",
        "x = 31\n",
        "a[bin_search(l, r, x)]"
      ],
      "metadata": {
        "colab": {
          "base_uri": "https://localhost:8080/"
        },
        "id": "_pCJwoe9hz_0",
        "outputId": "c8ff2421-9209-457a-c6cd-fb45818232db"
      },
      "execution_count": null,
      "outputs": [
        {
          "output_type": "execute_result",
          "data": {
            "text/plain": [
              "31"
            ]
          },
          "metadata": {},
          "execution_count": 41
        }
      ]
    },
    {
      "cell_type": "markdown",
      "source": [
        "Быстрее ли бинпоиск в неотстортированном массиве?\n",
        "Нет, если мы работаем с запросами"
      ],
      "metadata": {
        "id": "KgG4rPmq62wG"
      }
    },
    {
      "cell_type": "markdown",
      "source": [
        "## Поиск нижней границы"
      ],
      "metadata": {
        "id": "nowpvJx66pfn"
      }
    },
    {
      "cell_type": "markdown",
      "source": [
        "Нижней границей элемента `x` в массиве `a` называется такой элемент `a[i]`, для которого верно, что `a[i] >= x` и его `i` минимален"
      ],
      "metadata": {
        "id": "1v5tBCQtWWT5"
      }
    },
    {
      "cell_type": "code",
      "source": [
        "def lower_bound(l, r, x):\n",
        "  if a[l] > x:\n",
        "    return l\n",
        "  if a[r] < x:\n",
        "     return r + 1\n",
        "  if r - l == 1:\n",
        "    return l\n",
        "  m = (r + l) // 2\n",
        "  if a[m] >= x:\n",
        "    return lower_bound(l, m - 1, x)\n",
        "  else:\n",
        "    return lower_bound(m, r, x)"
      ],
      "metadata": {
        "id": "_vWkZiaQ6upl"
      },
      "execution_count": null,
      "outputs": []
    },
    {
      "cell_type": "code",
      "source": [
        "a = [1, 2, 2, 2, 3, 3, 3, 3, 5, 6] # 7\n",
        "print(len(a))\n",
        "print(a[lower_bound(0, len(a) - 1, 5)])"
      ],
      "metadata": {
        "colab": {
          "base_uri": "https://localhost:8080/"
        },
        "id": "BTpUXojcXOd5",
        "outputId": "2dc3b8d7-b921-4abd-8bb8-91fe4296b7ed"
      },
      "execution_count": null,
      "outputs": [
        {
          "output_type": "stream",
          "name": "stdout",
          "text": [
            "10\n",
            "5\n"
          ]
        }
      ]
    },
    {
      "cell_type": "markdown",
      "source": [
        "## Поиск верхней границы"
      ],
      "metadata": {
        "id": "W-f-EieJ6lsq"
      }
    },
    {
      "cell_type": "markdown",
      "source": [
        "Верхней границей элемента `x` в массиве `a` называется такой элемент `a[i]`, для которого верно, что `a[i] > x` и его `i` минимален"
      ],
      "metadata": {
        "id": "V6p_UJD9VMAt"
      }
    },
    {
      "cell_type": "code",
      "source": [
        "def upper_bound(l, r, x):\n",
        "  return lower_bound(l, r, x + 1)"
      ],
      "metadata": {
        "id": "4DD9I2mM6lDB"
      },
      "execution_count": null,
      "outputs": []
    },
    {
      "cell_type": "code",
      "source": [
        "a = [1, 2, 2, 2, 3, 3, 3, 3, 5, 6]\n",
        "print(a[upper_bound(0, len(a) - 1, 2)])"
      ],
      "metadata": {
        "colab": {
          "base_uri": "https://localhost:8080/"
        },
        "id": "w8Z4x-buYYTW",
        "outputId": "8be28f32-dbed-43ee-c586-a21746c41c7e"
      },
      "execution_count": null,
      "outputs": [
        {
          "output_type": "stream",
          "name": "stdout",
          "text": [
            "3\n"
          ]
        }
      ]
    },
    {
      "cell_type": "code",
      "source": [
        "upper_bound(x) = lower_bound(x + 1)\n",
        "a[i] >= x + 1 -> a[i] > x"
      ],
      "metadata": {
        "id": "iP0aHcnSxAld"
      },
      "execution_count": null,
      "outputs": []
    },
    {
      "cell_type": "markdown",
      "source": [
        "Можно быстро считать количество вхождений элемента в массив:\n"
      ],
      "metadata": {
        "id": "I6nMOQfa_0fn"
      }
    },
    {
      "cell_type": "markdown",
      "source": [
        "## Вещественный двоичный поиск"
      ],
      "metadata": {
        "id": "2VUvd9s9T4-C"
      }
    },
    {
      "cell_type": "code",
      "source": [
        "EPS = 1e-10\n",
        "L, R = -7, 5"
      ],
      "metadata": {
        "id": "yPf4G4JMT__b"
      },
      "execution_count": null,
      "outputs": []
    },
    {
      "cell_type": "code",
      "source": [
        "def f(x):\n",
        "  return (x - 1) ** 2 - 1"
      ],
      "metadata": {
        "id": "NCOD7K-1UNm4"
      },
      "execution_count": null,
      "outputs": []
    },
    {
      "cell_type": "code",
      "source": [
        "def bin_float_search(l, r):\n",
        "  while r - l > abs(EPS):\n",
        "    m = (r + l) / 2\n",
        "    if f(m) < 0:\n",
        "      r = m\n",
        "    else:\n",
        "      l = m\n",
        "  return l"
      ],
      "metadata": {
        "id": "XHEQkz-OT4Le"
      },
      "execution_count": null,
      "outputs": []
    },
    {
      "cell_type": "code",
      "source": [
        "bin_float_search(L, R)"
      ],
      "metadata": {
        "colab": {
          "base_uri": "https://localhost:8080/"
        },
        "id": "Brz5JiL4kBP7",
        "outputId": "6c024897-bb88-4e6a-f8cd-fc874cd8cb1b"
      },
      "execution_count": null,
      "outputs": [
        {
          "output_type": "execute_result",
          "data": {
            "text/plain": [
              "4.9999999999126885"
            ]
          },
          "metadata": {},
          "execution_count": 39
        }
      ]
    },
    {
      "cell_type": "markdown",
      "source": [
        "**Задача**: найдите такое число $x$, что $x^2 + \\sqrt{x} = C$ с точностью не менее 6 знаков после точки"
      ],
      "metadata": {
        "id": "18hslhG8-2lK"
      }
    },
    {
      "cell_type": "code",
      "source": [
        "def f(x, C):\n",
        "  return x ** 2 + x ** .5 - C"
      ],
      "metadata": {
        "id": "_j06byHHmvaC"
      },
      "execution_count": null,
      "outputs": []
    },
    {
      "cell_type": "code",
      "source": [
        "def bin_search(l, r):\n",
        "  while r - l > abs(EPS):\n",
        "    m = (r + l) / 2\n",
        "    if f(m, C) > 0:\n",
        "      r = m\n",
        "    else:\n",
        "      l = m\n",
        "  return l"
      ],
      "metadata": {
        "id": "52BJbNAr-1tD"
      },
      "execution_count": null,
      "outputs": []
    },
    {
      "cell_type": "code",
      "source": [
        "L, R = -10 ** 9, 10 ** 9\n",
        "EPS = 1e-6\n",
        "C = float(input())\n",
        "bin_search(L, R)"
      ],
      "metadata": {
        "colab": {
          "base_uri": "https://localhost:8080/"
        },
        "id": "MBJwidRsnCiY",
        "outputId": "9f1f5abe-4e65-4c39-ed20-7f22f11c332b"
      },
      "execution_count": null,
      "outputs": [
        {
          "name": "stdout",
          "output_type": "stream",
          "text": [
            "5.414213\n"
          ]
        },
        {
          "output_type": "execute_result",
          "data": {
            "text/plain": [
              "1.9999992773023223"
            ]
          },
          "metadata": {},
          "execution_count": 46
        }
      ]
    },
    {
      "cell_type": "markdown",
      "source": [
        "**Задача**: дано $n$ веревочек длины $a_0, a_1, ..., a_n$. Необходимо получить из них $k$ веревочек максимальной длины. "
      ],
      "metadata": {
        "id": "noj20oFed0iF"
      }
    },
    {
      "cell_type": "code",
      "source": [
        "def f(x):\n",
        "  s = 0\n",
        "  for i in range(n):\n",
        "    s += lengths[i] // x\n",
        "  return s - k\n",
        "\n",
        "def solve(l, r):\n",
        "  while r - l > 1:\n",
        "    m = (l + r) // 2\n",
        "    print(l, r, m, f(m))\n",
        "    if f(m) >= 0:\n",
        "      l = m\n",
        "    else:\n",
        "      r = m\n",
        "  return l\n",
        "\n",
        "n, k = map(int, input().split())\n",
        "lengths = list(map(int, input().split()))\n",
        "L, R = 1, max(lengths)\n",
        "print(solve(L, R))"
      ],
      "metadata": {
        "colab": {
          "base_uri": "https://localhost:8080/"
        },
        "id": "jCnyJGdhp88r",
        "outputId": "5155a392-9bbb-4556-f419-8812dccbacb7"
      },
      "execution_count": null,
      "outputs": [
        {
          "output_type": "stream",
          "name": "stdout",
          "text": [
            "4 11\n",
            "802 743 457 539\n",
            "1 802 401 -6\n",
            "1 401 201 -1\n",
            "1 201 101 12\n",
            "101 201 151 4\n",
            "151 201 176 2\n",
            "176 201 188 0\n",
            "188 201 194 0\n",
            "194 201 197 0\n",
            "197 201 199 0\n",
            "199 201 200 0\n",
            "200\n"
          ]
        }
      ]
    },
    {
      "cell_type": "markdown",
      "source": [
        "## Троичный поиск"
      ],
      "metadata": {
        "id": "81AVEpOZbmWO"
      }
    },
    {
      "cell_type": "code",
      "execution_count": null,
      "metadata": {
        "id": "DYCcDA-aafb9"
      },
      "outputs": [],
      "source": []
    }
  ]
}