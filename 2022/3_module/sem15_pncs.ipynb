{
  "nbformat": 4,
  "nbformat_minor": 0,
  "metadata": {
    "colab": {
      "provenance": []
    },
    "kernelspec": {
      "name": "python3",
      "display_name": "Python 3"
    },
    "language_info": {
      "name": "python"
    }
  },
  "cells": [
    {
      "cell_type": "markdown",
      "source": [
        "## Стек и очередь"
      ],
      "metadata": {
        "id": "uUJ6ZvPaVrcS"
      }
    },
    {
      "cell_type": "markdown",
      "source": [
        "First In First Out (FIFO) - очередь (если человек попал в очередь первым, то он первый зайдет в кабинет) <br>\n",
        "First In Last Out (FILO) - стек (если тарелка была положена в стопку первой, то она будет извлечена из этой стопки последней)"
      ],
      "metadata": {
        "id": "YARg4fw10rSP"
      }
    },
    {
      "cell_type": "markdown",
      "source": [
        "С помощью чего можно реализовать в Питоне\n",
        "<lu>\n",
        "<li>list</li>\n",
        "<li>collections.deque</li>\n",
        "<li>queue.Queue</li>\n",
        "</lu>\n",
        "Мы с вами будем использовать связные списки"
      ],
      "metadata": {
        "id": "SMFICvx3tpfM"
      }
    },
    {
      "cell_type": "markdown",
      "source": [
        "list \n",
        "<lu>\n",
        "<li>get_elem - O(1)</li>\n",
        "<li>выделение памяти- O(n)</li>\n",
        "<li></li>\n",
        "</lu>\n",
        "linked_list\n",
        "<lu>\n",
        "<li>get_elem - O(n)</li>\n",
        "<li>выделение памяти - O(1)</li>\n",
        "</lu>"
      ],
      "metadata": {
        "id": "Q3Cr2fjd1iot"
      }
    },
    {
      "cell_type": "markdown",
      "source": [
        "**Задача**:\n",
        "вам требуется реализовать структуру данных, выполняющую следующие операции:\n",
        "<lu>\n",
        "  <li>Добавить элемент x в конец структуры.</li>\n",
        "  <li>Удалить последний элемент из структуры</li>\n",
        "  <li>Выдать минимальный элемент в структуре</li>\n",
        "</lu>\n",
        "\n",
        "**Входные данные** <br>\n",
        "В первой строке входного файла задано одно целое число $n$ — количество операций ($1 \\ge n \\ge 10^6$). В следующих $n$ строках заданы сами операции. В $i$–ой строке число $t_i$ — тип операции (1, если операция добавления. 2, если операция удаления. 3, если операция минимума). Если задана операция добавления, то через пробел записано целое число $x$ — элемент, который следует добавить в структуру ($−10^9 \\ge 𝑥 \\ge 10^9$). Гарантируется, что перед каждой операцией удаления или нахождения минимума структура не пуста."
      ],
      "metadata": {
        "id": "URxV1SslbIkl"
      }
    },
    {
      "cell_type": "code",
      "source": [
        "MAX_LEN = 10\n",
        "\n",
        "\n",
        "class Node:\n",
        "  \n",
        "  def __init__(self, value=None):\n",
        "    self.value = value\n",
        "    self.next = None\n",
        "\n",
        "class LinkedList:\n",
        "  \n",
        "  def __init__(self):\n",
        "    self.head = None\n",
        "    self.tail = None\n",
        "    self.size = 0\n",
        "    self.min_elem = [0] * MAX_LEN\n",
        "    \n",
        "  def insert(self, k: int):\n",
        "    new_node = Node(k)\n",
        "    if self.size == 0:\n",
        "      self.head = new_node\n",
        "      self.tail = new_node\n",
        "      self.min_elem[0] = k\n",
        "    else:\n",
        "      new_node.next = self.head\n",
        "      self.head = new_node\n",
        "      self.min_elem[self.size] = min(k, self.min_elem[self.size - 1])\n",
        "    print(self.min_elem)\n",
        "    self.size += 1\n",
        "\n",
        "  def erase(self):\n",
        "    if self.size == 1:\n",
        "      self.head = None\n",
        "      self.tail = None\n",
        "    else:\n",
        "      self.head = self.head.next\n",
        "    self.size -= 1\n",
        "\n",
        "  def get_min(self):\n",
        "    return self.min_elem[self.size - 1]\n",
        "  \n",
        "\n",
        "class Stack:\n",
        "  \n",
        "  def __init__(self):\n",
        "    self.stack = LinkedList()\n",
        "\n",
        "  def insert(self, k: int):\n",
        "    self.stack.insert(k)\n",
        "\n",
        "  def erase(self):\n",
        "    self.stack.erase()\n",
        "\n",
        "  def get_min(self):\n",
        "    return self.stack.get_min()"
      ],
      "metadata": {
        "id": "13hwHX0fbZek"
      },
      "execution_count": 7,
      "outputs": []
    },
    {
      "cell_type": "code",
      "source": [
        "\"\"\"\n",
        "8\n",
        "1 2\n",
        "1 3\n",
        "1 -3\n",
        "3\n",
        "2\n",
        "3\n",
        "2\n",
        "3\n",
        "\"\"\""
      ],
      "metadata": {
        "id": "HEoHoC5Ln5vi",
        "colab": {
          "base_uri": "https://localhost:8080/",
          "height": 35
        },
        "outputId": "6ab2a934-0620-41a1-e0ee-0dd12f1d2ba1"
      },
      "execution_count": 8,
      "outputs": [
        {
          "output_type": "execute_result",
          "data": {
            "text/plain": [
              "'\\n8\\n1 2\\n1 3\\n1 -3\\n3\\n2\\n3\\n2\\n3\\n'"
            ],
            "application/vnd.google.colaboratory.intrinsic+json": {
              "type": "string"
            }
          },
          "metadata": {},
          "execution_count": 8
        }
      ]
    },
    {
      "cell_type": "code",
      "source": [
        "s = Stack()\n",
        "n = int(input())\n",
        "for _ in range(n):\n",
        "  t = input()\n",
        "  if len(t) > 1:\n",
        "    s.insert(int(t.split()[1]))\n",
        "  elif t == '2':\n",
        "    s.erase()\n",
        "  else:\n",
        "    print(s.get_min())"
      ],
      "metadata": {
        "id": "wV0d_suyn1xZ",
        "colab": {
          "base_uri": "https://localhost:8080/"
        },
        "outputId": "efcdef2f-94a4-4828-9a51-b63107672bb6"
      },
      "execution_count": 9,
      "outputs": [
        {
          "name": "stdout",
          "output_type": "stream",
          "text": [
            "10\n",
            "1 10\n",
            "[10, 0, 0, 0, 0, 0, 0, 0, 0, 0]\n",
            "1 3\n",
            "[10, 3, 0, 0, 0, 0, 0, 0, 0, 0]\n",
            "1 7\n",
            "[10, 3, 3, 0, 0, 0, 0, 0, 0, 0]\n",
            "1 -1\n",
            "[10, 3, 3, -1, 0, 0, 0, 0, 0, 0]\n",
            "2\n",
            "1 -6\n",
            "[10, 3, 3, -6, 0, 0, 0, 0, 0, 0]\n",
            "1 1\n",
            "[10, 3, 3, -6, -6, 0, 0, 0, 0, 0]\n",
            "1 -10\n",
            "[10, 3, 3, -6, -6, -10, 0, 0, 0, 0]\n",
            "1 5\n",
            "[10, 3, 3, -6, -6, -10, -10, 0, 0, 0]\n",
            "2\n"
          ]
        }
      ]
    },
    {
      "cell_type": "markdown",
      "source": [
        "**Задача**: в постфиксной записи (или обратной польской записи) операция записывается после двух операндов. Например, сумма двух чисел A и B записывается как $A\\ B\\ +$. Запись $B\\ C\\ +\\ D\\ *$ обозначает привычное нам $(B + C) * D$, а запись $A\\ B\\ C\\ +\\ D\\ *\\ +$ означает $A + (B + C) * D$. Достоинство постфиксной записи в том, что она не требует скобок и дополнительных соглашений о приоритете операторов для своего чтения."
      ],
      "metadata": {
        "id": "1kl_TzsudKeS"
      }
    },
    {
      "cell_type": "code",
      "source": [
        "class LinkedList:\n",
        "  \n",
        "  def __init__(self):\n",
        "    self.head = None\n",
        "    self.tail = None\n",
        "    self.size = 0\n",
        "    \n",
        "  def insert(self, k: int):\n",
        "    new_node = Node(k)\n",
        "    if self.size == 0:\n",
        "      self.head = new_node\n",
        "      self.tail = new_node\n",
        "    else:\n",
        "      new_node.next = self.head\n",
        "      self.head = new_node\n",
        "    self.size += 1\n",
        "  \n",
        "  def get_head(self):\n",
        "    return self.head.value\n",
        "\n",
        "  def erase(self):\n",
        "    temp_val = self.get_head()\n",
        "    if self.size == 1:\n",
        "      self.head = None\n",
        "      self.tail = None\n",
        "    else:\n",
        "      self.head = self.head.next\n",
        "    self.size -= 1\n",
        "    return temp_val\n",
        "  \n",
        "\n",
        "class Stack:\n",
        "  \n",
        "  def __init__(self):\n",
        "    self.stack = LinkedList()\n",
        "\n",
        "  def insert(self, k: int):\n",
        "    self.stack.insert(k)\n",
        "\n",
        "  def erase(self):\n",
        "    return self.stack.erase()\n",
        "\n",
        "  def get_head(self):\n",
        "    return self.stack.get_head()"
      ],
      "metadata": {
        "id": "nzrlqLB1qXLD"
      },
      "execution_count": 10,
      "outputs": []
    },
    {
      "cell_type": "code",
      "source": [
        "test = '8 9 + 1 7 - *'\n",
        "test = '6 100 10 - * 5 /'"
      ],
      "metadata": {
        "id": "DptSbVbcrc3Y"
      },
      "execution_count": 15,
      "outputs": []
    },
    {
      "cell_type": "code",
      "source": [
        "s = Stack()\n",
        "sample = list(test.split())\n",
        "for ch in sample:\n",
        "  if ch.isdigit():\n",
        "    s.insert(int(ch))\n",
        "  else:\n",
        "    r, l = s.erase(), s.erase()\n",
        "    if ch == '+':\n",
        "      res = l + r\n",
        "    elif ch == '-':\n",
        "      res = l - r\n",
        "    elif ch == '/':\n",
        "      res = l / r\n",
        "    else:\n",
        "      res = l * r\n",
        "    s.insert(res)\n",
        "print(s.erase())"
      ],
      "metadata": {
        "id": "YGvWOBnErT3Q",
        "colab": {
          "base_uri": "https://localhost:8080/"
        },
        "outputId": "6ba2270b-53c1-4bc5-b096-99caf7287eb9"
      },
      "execution_count": 16,
      "outputs": [
        {
          "output_type": "stream",
          "name": "stdout",
          "text": [
            "108.0\n"
          ]
        }
      ]
    },
    {
      "cell_type": "markdown",
      "source": [
        "**Задача**: реализуйте очередь\n",
        "\n",
        "Для каждой операции изъятия элемента выведите ее результат.\n",
        "\n",
        "На вход программе подаются строки, содержащие команды. Каждая строка содержит одну команду. Команда — это либо \"+ N\", либо \"-\". Команда \"+ N\" означает добавление в очередь числа $N$, по модулю не превышающего $10^9$. Команда \"-\" означает изъятие элемента из очереди."
      ],
      "metadata": {
        "id": "PDMKZ1I6pG4M"
      }
    },
    {
      "cell_type": "code",
      "source": [
        "class LinkedList:\n",
        "  \n",
        "  def __init__(self):\n",
        "    self.head = None\n",
        "    self.tail = None\n",
        "    self.size = 0\n",
        "    \n",
        "  def insert(self, k: int):\n",
        "    new_node = Node(k)\n",
        "    if self.size == 0:\n",
        "      self.head = new_node\n",
        "      self.tail = new_node\n",
        "    else:\n",
        "      self.tail.next = new_node\n",
        "      self.tail = new_node\n",
        "    self.size += 1\n",
        "    print(self.size)\n",
        "  \n",
        "  def get_head(self):\n",
        "    return self.head.value\n",
        "\n",
        "  def erase(self):\n",
        "    temp_val = self.get_head()\n",
        "    if self.size == 1:\n",
        "      self.head = None\n",
        "      self.tail = None\n",
        "    else:\n",
        "      self.head = self.head.next\n",
        "    self.size -= 1\n",
        "    return temp_val\n",
        "\n",
        "class Queue:\n",
        "  def __init__(self):\n",
        "    self.queue = LinkedList()\n",
        "\n",
        "  def insert(self, k: int):\n",
        "    self.queue.insert(k)\n",
        "\n",
        "  def erase(self):\n",
        "    return self.queue.erase()\n",
        "  \n",
        "  def get_head(self):\n",
        "    return self.queue.get_head()"
      ],
      "metadata": {
        "id": "v1xNbShndQv_"
      },
      "execution_count": 31,
      "outputs": []
    },
    {
      "cell_type": "code",
      "source": [
        "\"\"\"4\n",
        "+ 1\n",
        "+ 10\n",
        "-\n",
        "-\n",
        "\"\"\""
      ],
      "metadata": {
        "id": "L2zzy3S_w7g8",
        "colab": {
          "base_uri": "https://localhost:8080/",
          "height": 35
        },
        "outputId": "19710318-7bac-4abc-ced7-5f2297c38233"
      },
      "execution_count": 32,
      "outputs": [
        {
          "output_type": "execute_result",
          "data": {
            "text/plain": [
              "'4\\n+ 1\\n+ 10\\n-\\n-\\n'"
            ],
            "application/vnd.google.colaboratory.intrinsic+json": {
              "type": "string"
            }
          },
          "metadata": {},
          "execution_count": 32
        }
      ]
    },
    {
      "cell_type": "code",
      "source": [
        "q = Queue()\n",
        "n = int(input())\n",
        "for _ in range(n):\n",
        "  s = input()\n",
        "  if len(s) > 1:\n",
        "    q.insert(int(s.split()[1]))\n",
        "  else:\n",
        "    print(q.erase())"
      ],
      "metadata": {
        "colab": {
          "base_uri": "https://localhost:8080/"
        },
        "id": "pSSI8tOQHFMJ",
        "outputId": "d6db13be-1239-41a5-d3a5-fd615e137c03"
      },
      "execution_count": 34,
      "outputs": [
        {
          "output_type": "stream",
          "name": "stdout",
          "text": [
            "4\n",
            "+ 1\n",
            "1\n",
            "+ 10\n",
            "2\n",
            "-\n",
            "1\n",
            "-\n",
            "10\n"
          ]
        }
      ]
    },
    {
      "cell_type": "code",
      "source": [],
      "metadata": {
        "id": "y8uP9E9EHWy0"
      },
      "execution_count": null,
      "outputs": []
    }
  ]
}