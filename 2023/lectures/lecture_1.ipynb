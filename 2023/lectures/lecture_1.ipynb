{
 "cells": [
  {
   "cell_type": "markdown",
   "metadata": {},
   "source": [
    "## Про курс\n",
    "\n",
    "Ссылка на страницу курса: https://chieph.notion.site/a43e98bb4e884ef0aabbce904b3c9738?v=776b3d63681348adb5b15a3b6f7f36d7&pvs=4\n",
    "    \n",
    "На лекциях работаем в Jupyter Notebook, на семинарах в PyCharm\n"
   ]
  },
  {
   "cell_type": "markdown",
   "metadata": {},
   "source": [
    "## Лекция 1. Вспоминаем Python."
   ]
  },
  {
   "cell_type": "markdown",
   "metadata": {},
   "source": [
    "## 1. Переменные\n",
    "\n",
    "Переменные - символические имена, ссылающиеся на зарезервированное место в памяти.\n",
    "\n",
    "- Чувствительны к регистру\n",
    "- Не могут начинаться с цифры\n",
    "- Допустимые символы - буквы латинского алфавита в обоих регистрах, цифры и нижнее подчеркивание"
   ]
  },
  {
   "cell_type": "code",
   "execution_count": 42,
   "metadata": {},
   "outputs": [],
   "source": [
    "x = 10\n",
    "y = 20\n",
    "z = x\n",
    "ls1 = [x, y, z]\n",
    "ls2 = [15, 25]\n",
    "s = 'Hello'"
   ]
  },
  {
   "cell_type": "code",
   "execution_count": 168,
   "metadata": {},
   "outputs": [
    {
     "ename": "SyntaxError",
     "evalue": "invalid syntax (<ipython-input-168-55bf887f9c82>, line 1)",
     "output_type": "error",
     "traceback": [
      "\u001B[0;36m  File \u001B[0;32m\"<ipython-input-168-55bf887f9c82>\"\u001B[0;36m, line \u001B[0;32m1\u001B[0m\n\u001B[0;31m    31y = 10\u001B[0m\n\u001B[0m      ^\u001B[0m\n\u001B[0;31mSyntaxError\u001B[0m\u001B[0;31m:\u001B[0m invalid syntax\n"
     ]
    }
   ],
   "source": [
    "31y = 10"
   ]
  },
  {
   "cell_type": "code",
   "execution_count": 187,
   "metadata": {},
   "outputs": [],
   "source": [
    "a = 10\n",
    "A = 10"
   ]
  },
  {
   "cell_type": "code",
   "execution_count": null,
   "metadata": {},
   "outputs": [],
   "source": []
  },
  {
   "cell_type": "markdown",
   "metadata": {},
   "source": [
    "## 2. Типы данных\n",
    "\n",
    "![Картинка](https://i.imgur.com/yxT0tnu.png)\n",
    "\n",
    "\n",
    "В Python есть встроенная функция dir, которая для каждого типа данных выводит список всех методов для работы с ним. Разберем это на примерах."
   ]
  },
  {
   "cell_type": "code",
   "execution_count": null,
   "metadata": {},
   "outputs": [],
   "source": [
    "d = {1,2,3}"
   ]
  },
  {
   "cell_type": "code",
   "execution_count": 188,
   "metadata": {},
   "outputs": [
    {
     "name": "stdout",
     "output_type": "stream",
     "text": [
      "['__abs__', '__add__', '__and__', '__bool__', '__ceil__', '__class__', '__delattr__', '__dir__', '__divmod__', '__doc__', '__eq__', '__float__', '__floor__', '__floordiv__', '__format__', '__ge__', '__getattribute__', '__getnewargs__', '__gt__', '__hash__', '__index__', '__init__', '__init_subclass__', '__int__', '__invert__', '__le__', '__lshift__', '__lt__', '__mod__', '__mul__', '__ne__', '__neg__', '__new__', '__or__', '__pos__', '__pow__', '__radd__', '__rand__', '__rdivmod__', '__reduce__', '__reduce_ex__', '__repr__', '__rfloordiv__', '__rlshift__', '__rmod__', '__rmul__', '__ror__', '__round__', '__rpow__', '__rrshift__', '__rshift__', '__rsub__', '__rtruediv__', '__rxor__', '__setattr__', '__sizeof__', '__str__', '__sub__', '__subclasshook__', '__truediv__', '__trunc__', '__xor__', 'bit_length', 'conjugate', 'denominator', 'from_bytes', 'imag', 'numerator', 'real', 'to_bytes']\n",
      "\n",
      "\n",
      "['__add__', '__class__', '__contains__', '__delattr__', '__dir__', '__doc__', '__eq__', '__format__', '__ge__', '__getattribute__', '__getitem__', '__getnewargs__', '__gt__', '__hash__', '__init__', '__init_subclass__', '__iter__', '__le__', '__len__', '__lt__', '__mod__', '__mul__', '__ne__', '__new__', '__reduce__', '__reduce_ex__', '__repr__', '__rmod__', '__rmul__', '__setattr__', '__sizeof__', '__str__', '__subclasshook__', 'capitalize', 'casefold', 'center', 'count', 'encode', 'endswith', 'expandtabs', 'find', 'format', 'format_map', 'index', 'isalnum', 'isalpha', 'isdecimal', 'isdigit', 'isidentifier', 'islower', 'isnumeric', 'isprintable', 'isspace', 'istitle', 'isupper', 'join', 'ljust', 'lower', 'lstrip', 'maketrans', 'partition', 'replace', 'rfind', 'rindex', 'rjust', 'rpartition', 'rsplit', 'rstrip', 'split', 'splitlines', 'startswith', 'strip', 'swapcase', 'title', 'translate', 'upper', 'zfill']\n",
      "\n",
      "\n",
      "['__class__', '__contains__', '__delattr__', '__delitem__', '__dir__', '__doc__', '__eq__', '__format__', '__ge__', '__getattribute__', '__getitem__', '__gt__', '__hash__', '__init__', '__init_subclass__', '__iter__', '__le__', '__len__', '__lt__', '__ne__', '__new__', '__reduce__', '__reduce_ex__', '__repr__', '__setattr__', '__setitem__', '__sizeof__', '__str__', '__subclasshook__', 'clear', 'copy', 'fromkeys', 'get', 'items', 'keys', 'pop', 'popitem', 'setdefault', 'update', 'values']\n",
      "\n",
      "\n",
      "['__and__', '__class__', '__contains__', '__delattr__', '__dir__', '__doc__', '__eq__', '__format__', '__ge__', '__getattribute__', '__gt__', '__hash__', '__iand__', '__init__', '__init_subclass__', '__ior__', '__isub__', '__iter__', '__ixor__', '__le__', '__len__', '__lt__', '__ne__', '__new__', '__or__', '__rand__', '__reduce__', '__reduce_ex__', '__repr__', '__ror__', '__rsub__', '__rxor__', '__setattr__', '__sizeof__', '__str__', '__sub__', '__subclasshook__', '__xor__', 'add', 'clear', 'copy', 'difference', 'difference_update', 'discard', 'intersection', 'intersection_update', 'isdisjoint', 'issubset', 'issuperset', 'pop', 'remove', 'symmetric_difference', 'symmetric_difference_update', 'union', 'update']\n",
      "\n",
      "\n",
      "['__add__', '__class__', '__contains__', '__delattr__', '__delitem__', '__dir__', '__doc__', '__eq__', '__format__', '__ge__', '__getattribute__', '__getitem__', '__gt__', '__hash__', '__iadd__', '__imul__', '__init__', '__init_subclass__', '__iter__', '__le__', '__len__', '__lt__', '__mul__', '__ne__', '__new__', '__reduce__', '__reduce_ex__', '__repr__', '__reversed__', '__rmul__', '__setattr__', '__setitem__', '__sizeof__', '__str__', '__subclasshook__', 'append', 'clear', 'copy', 'count', 'extend', 'index', 'insert', 'pop', 'remove', 'reverse', 'sort']\n"
     ]
    }
   ],
   "source": [
    "# dir может принимать в качестве аргумента как переменную, так и название типа\n",
    "\n",
    "a = 10\n",
    "b = 'Я строка!'\n",
    "c = {}\n",
    "d = set()\n",
    "\n",
    "print(dir(a), dir(b), dir(c), dir(d), dir(list), sep='\\n'*3)"
   ]
  },
  {
   "cell_type": "markdown",
   "metadata": {},
   "source": [
    "В Python используется индексация с нуля (Zero-based numbering), первый элемент списка/строки/кортежа имеет индекс 0. Соответственно n-ый элемент имеет индекс n-1. Также, реализована индексация с конца - доступ к последнему элементу можно получить указав индекс -1, к предпоследнему -2 и т.д.\n",
    "\n",
    "![indexing](https://i.imgur.com/gQoIGTi.jpg)"
   ]
  },
  {
   "cell_type": "code",
   "execution_count": 192,
   "metadata": {},
   "outputs": [
    {
     "ename": "IndexError",
     "evalue": "string index out of range",
     "output_type": "error",
     "traceback": [
      "\u001B[0;31m---------------------------------------------------------------------------\u001B[0m",
      "\u001B[0;31mIndexError\u001B[0m                                Traceback (most recent call last)",
      "\u001B[0;32m<ipython-input-192-aa20716bfd68>\u001B[0m in \u001B[0;36m<module>\u001B[0;34m\u001B[0m\n\u001B[1;32m      1\u001B[0m \u001B[0ms\u001B[0m \u001B[0;34m=\u001B[0m \u001B[0;34m'abc'\u001B[0m\u001B[0;34m\u001B[0m\u001B[0;34m\u001B[0m\u001B[0m\n\u001B[0;32m----> 2\u001B[0;31m \u001B[0ms\u001B[0m\u001B[0;34m[\u001B[0m\u001B[0;34m-\u001B[0m\u001B[0;36m4\u001B[0m\u001B[0;34m]\u001B[0m\u001B[0;34m\u001B[0m\u001B[0;34m\u001B[0m\u001B[0m\n\u001B[0m",
      "\u001B[0;31mIndexError\u001B[0m: string index out of range"
     ]
    }
   ],
   "source": [
    "s = 'abc'\n",
    "s[-4]"
   ]
  },
  {
   "cell_type": "markdown",
   "metadata": {},
   "source": [
    "Примеры задач:\n",
    "\n",
    "1. Является ли строка палиндромом\n",
    "2. Переверните порядок слов в предложении\n",
    "3. Количество уникальных чисел в списке"
   ]
  },
  {
   "cell_type": "code",
   "execution_count": 200,
   "metadata": {},
   "outputs": [
    {
     "data": {
      "text/plain": [
       "7"
      ]
     },
     "execution_count": 200,
     "metadata": {},
     "output_type": "execute_result"
    }
   ],
   "source": [
    "ls = [1,2,3,10,154,7,0,10,1]\n",
    "\n",
    "len(set(ls))"
   ]
  },
  {
   "cell_type": "code",
   "execution_count": 198,
   "metadata": {},
   "outputs": [
    {
     "data": {
      "text/plain": [
       "'kjfdkfkjfjksd hcjjhhjcjhxzhj jhjejqjejjwe kkkxdjf fjkskdjkjsd'"
      ]
     },
     "execution_count": 198,
     "metadata": {},
     "output_type": "execute_result"
    }
   ],
   "source": [
    "s = 'fjkskdjkjsd kkkxdjf jhjejqjejjwe  hcjjhhjcjhxzhj kjfdkfkjfjksd'\n",
    "\n",
    "' '.join(reversed(s.split()))"
   ]
  },
  {
   "cell_type": "code",
   "execution_count": 197,
   "metadata": {},
   "outputs": [
    {
     "data": {
      "text/plain": [
       "True"
      ]
     },
     "execution_count": 197,
     "metadata": {},
     "output_type": "execute_result"
    }
   ],
   "source": [
    "s = 'aba'\n",
    "reversed_s = ''.join( list(reversed(s)) )\n",
    "\n",
    "\n",
    "s == reversed_s"
   ]
  },
  {
   "cell_type": "markdown",
   "metadata": {},
   "source": [
    "Изменяемые (mutable) и Неизменяемые (immutuble) "
   ]
  },
  {
   "cell_type": "code",
   "execution_count": 202,
   "metadata": {},
   "outputs": [],
   "source": [
    "ls1 = [1,2,3]\n",
    "\n",
    "\n",
    "ls2 = ls1\n",
    "\n",
    "\n",
    "ls1.append(4)"
   ]
  },
  {
   "cell_type": "code",
   "execution_count": 205,
   "metadata": {},
   "outputs": [],
   "source": [
    "x = 10\n",
    "y = x\n",
    "\n",
    "\n",
    "x = x + 1 # x += 1"
   ]
  },
  {
   "cell_type": "code",
   "execution_count": 206,
   "metadata": {},
   "outputs": [
    {
     "data": {
      "text/plain": [
       "11"
      ]
     },
     "execution_count": 206,
     "metadata": {},
     "output_type": "execute_result"
    }
   ],
   "source": [
    "x"
   ]
  },
  {
   "cell_type": "code",
   "execution_count": 207,
   "metadata": {},
   "outputs": [
    {
     "data": {
      "text/plain": [
       "10"
      ]
     },
     "execution_count": 207,
     "metadata": {},
     "output_type": "execute_result"
    }
   ],
   "source": [
    "y"
   ]
  },
  {
   "cell_type": "markdown",
   "metadata": {},
   "source": [
    "Аккуратно с float"
   ]
  },
  {
   "cell_type": "code",
   "execution_count": 208,
   "metadata": {},
   "outputs": [
    {
     "data": {
      "text/plain": [
       "False"
      ]
     },
     "execution_count": 208,
     "metadata": {},
     "output_type": "execute_result"
    }
   ],
   "source": [
    "0.1 + 0.2 == 0.3"
   ]
  },
  {
   "cell_type": "markdown",
   "metadata": {},
   "source": [
    "## 3. Условные операторы\n",
    "\n",
    "Идея - выполнение инструкций в зависимости от условий. Рассмотрим примеры"
   ]
  },
  {
   "cell_type": "code",
   "execution_count": null,
   "metadata": {},
   "outputs": [],
   "source": [
    "if x % 2 == 0:\n",
    "    print(\"Четное число!\")\n",
    "else:\n",
    "    print(\"Нечетное число!\")"
   ]
  },
  {
   "cell_type": "code",
   "execution_count": null,
   "metadata": {},
   "outputs": [],
   "source": [
    "if temperature < 35:\n",
    "    print(\"Что-то не так с градусником\")\n",
    "elif temperature < 37:\n",
    "    print(\"Все ок!\")\n",
    "elif temperature < 38:\n",
    "    print(\"Небольшая температура\")\n",
    "else:\n",
    "    print(\"Высокая температура\")"
   ]
  },
  {
   "cell_type": "code",
   "execution_count": null,
   "metadata": {},
   "outputs": [],
   "source": []
  },
  {
   "cell_type": "markdown",
   "metadata": {},
   "source": [
    "## 4. Циклы\n",
    "\n",
    "Два основных - while и for. Синтаксис прост:\n",
    "\n",
    "\n",
    "```\n",
    "while <условие>:\n",
    "    # тело цикла\n",
    "    <действия>\n",
    "```\n",
    "\n",
    "```\n",
    "for x in <что-то итерируемое>:\n",
    "    # тело цикла\n",
    "    <действия>\n",
    "```"
   ]
  },
  {
   "cell_type": "code",
   "execution_count": 150,
   "metadata": {},
   "outputs": [],
   "source": [
    "# 1. Сумма цифр числа. Реализуем через while\n",
    "# 2. Количество слов в предложении. Реализуем через for"
   ]
  },
  {
   "cell_type": "code",
   "execution_count": 210,
   "metadata": {},
   "outputs": [
    {
     "name": "stdout",
     "output_type": "stream",
     "text": [
      "12345\n",
      "15\n"
     ]
    }
   ],
   "source": [
    "num = int(input())\n",
    "\n",
    "res = 0\n",
    "while num > 0:\n",
    "    res = res + (num % 10)\n",
    "    num = num // 10\n",
    "    \n",
    "print(res)"
   ]
  },
  {
   "cell_type": "code",
   "execution_count": 211,
   "metadata": {},
   "outputs": [
    {
     "name": "stdout",
     "output_type": "stream",
     "text": [
      "hjjkd jjhsdhjfhjsd jhjdshjfsjhd djhfjd euu]\n",
      "5\n"
     ]
    }
   ],
   "source": [
    "s = input()\n",
    "words = s.split()\n",
    "count = 0\n",
    "\n",
    "for w in words:\n",
    "    count += 1\n",
    "print(count)"
   ]
  },
  {
   "cell_type": "code",
   "execution_count": 212,
   "metadata": {},
   "outputs": [
    {
     "name": "stdout",
     "output_type": "stream",
     "text": [
      "hjjkd jjhsdhjfhjsd jhjdshjfsjhd djhfjd euu]\n",
      "5\n"
     ]
    }
   ],
   "source": [
    "s = input()\n",
    "words = s.split()\n",
    "print(len(words))\n",
    "\n"
   ]
  },
  {
   "cell_type": "markdown",
   "metadata": {},
   "source": [
    "## 5. Функции. Передача аргументов в функцию\n",
    "\n",
    "Функции - фундаментальная концепция в программировании. Встречается почти во всех языках программирования. Определение по вики: фрагмент программного кода, к которому можно обратиться из другого места программы.\n",
    "\n",
    "Коротко сформулируем зачем они нужны:\n",
    "\n",
    "- Переиспользовании кода. Проще написать один раз функцию и много раз ее писать, вместо того чтобы каждый раз писать нужные инструкции заново. Также, меньше кода - меньше вероятность ошибки.\n",
    "- Структурирование кода. Понятно какой участок кода за что отвечает.\n",
    "- Сокрытие деталей реализации. Не всегда нужно знать что \"внутри\"."
   ]
  },
  {
   "cell_type": "code",
   "execution_count": 213,
   "metadata": {},
   "outputs": [
    {
     "name": "stdout",
     "output_type": "stream",
     "text": [
      "Я суммирую два числа!\n"
     ]
    },
    {
     "data": {
      "text/plain": [
       "21"
      ]
     },
     "execution_count": 213,
     "metadata": {},
     "output_type": "execute_result"
    }
   ],
   "source": [
    "def func(a, b): # def - ключевое слово def после которого идет имя функции, в скобках - аргументы\n",
    "    print(\"Я суммирую два числа!\") # тело функции, обязательно отступы\n",
    "    return a + b # тоже тело, ключевое слово return завершает работу функции\n",
    "\n",
    "# при вызове функции, первым делом инициализируются её аргументы, только затем исполняется тело функции \n",
    "func(10, 11)"
   ]
  },
  {
   "cell_type": "code",
   "execution_count": 215,
   "metadata": {},
   "outputs": [
    {
     "name": "stdout",
     "output_type": "stream",
     "text": [
      "None\n"
     ]
    }
   ],
   "source": [
    "def f():\n",
    "    pass\n",
    "res = f()\n",
    "print(res) # без ключевого слова return по умолчанию возвращается None"
   ]
  },
  {
   "cell_type": "code",
   "execution_count": 216,
   "metadata": {},
   "outputs": [
    {
     "name": "stdout",
     "output_type": "stream",
     "text": [
      "4\n",
      "None\n"
     ]
    }
   ],
   "source": [
    "s = print(4)\n",
    "print(s)"
   ]
  },
  {
   "cell_type": "markdown",
   "metadata": {},
   "source": [
    "Передача аргументов в функцию:\n",
    "\n",
    "- 1. Позиционные аргументы.\n",
    "- 2. Передача аргументов по имени\n",
    "- 3. Совмещение подходов. Обязательно стоит придерживаться правила что сначала идут позиционные аргументы, затем именные"
   ]
  },
  {
   "cell_type": "code",
   "execution_count": 217,
   "metadata": {},
   "outputs": [
    {
     "ename": "SyntaxError",
     "evalue": "positional argument follows keyword argument (<ipython-input-217-83546bc0eb43>, line 4)",
     "output_type": "error",
     "traceback": [
      "\u001B[0;36m  File \u001B[0;32m\"<ipython-input-217-83546bc0eb43>\"\u001B[0;36m, line \u001B[0;32m4\u001B[0m\n\u001B[0;31m    print(diff(y=20, 10))\u001B[0m\n\u001B[0m                    ^\u001B[0m\n\u001B[0;31mSyntaxError\u001B[0m\u001B[0;31m:\u001B[0m positional argument follows keyword argument\n"
     ]
    }
   ],
   "source": [
    "def diff(x, y):\n",
    "     return x-y\n",
    "\n",
    "print(diff(y=20, 10))"
   ]
  },
  {
   "cell_type": "code",
   "execution_count": 218,
   "metadata": {},
   "outputs": [
    {
     "name": "stdout",
     "output_type": "stream",
     "text": [
      "-10\n",
      "10\n",
      "-10\n",
      "10\n",
      "-10\n"
     ]
    }
   ],
   "source": [
    "def diff(x, y):\n",
    "     return x-y\n",
    "    \n",
    "print(diff(10, 20)) # 10 и 20 передаем в том же порядке что и аргументы функции\n",
    "print(diff(y=10, x=20)) # явно указываем имена аргументов в которые помещаем 10 и 20\n",
    "print(diff(10, y=20)) # явно указываем имена аргументов в которые помещаем 10 и 20\n",
    "\n",
    "ls = [20, 10]\n",
    "print(diff(*ls)) # эквивалентно print(f(ls[0], ls[1]))\n",
    "\n",
    "d = {'x': 10, 'y': 20}\n",
    "print(diff(**d)) # эквивалентно print(f(x=10, y=20)) или print(f(y=20, x=10))"
   ]
  },
  {
   "cell_type": "markdown",
   "metadata": {},
   "source": [
    "Прием аргументов в функцию:\n",
    "\n",
    "Инструкция по приему аргументов в функцию описывается в скобках после ключевого слова def.\n",
    "\n",
    "- 1. Значения по умолчанию - используются в случае если мы явно не передаем значения в данный аргумент используется значение по умолчанию\n",
    "- 2. Передача в функцию неопределенного числа аргументов"
   ]
  },
  {
   "cell_type": "code",
   "execution_count": 220,
   "metadata": {},
   "outputs": [
    {
     "name": "stdout",
     "output_type": "stream",
     "text": [
      "130\n",
      "50\n"
     ]
    }
   ],
   "source": [
    "def summ(x=20, y=30):\n",
    "    return x+y\n",
    "\n",
    "# сначала инициализируем аргументы которые передались, затем инициализируем аргументы которым ничего\n",
    "# не передалось значениями по умолчанию\n",
    "print(summ(100))\n",
    "print(summ())"
   ]
  },
  {
   "cell_type": "code",
   "execution_count": 221,
   "metadata": {},
   "outputs": [
    {
     "ename": "SyntaxError",
     "evalue": "non-default argument follows default argument (<ipython-input-221-f2a5a6847513>, line 2)",
     "output_type": "error",
     "traceback": [
      "\u001B[0;36m  File \u001B[0;32m\"<ipython-input-221-f2a5a6847513>\"\u001B[0;36m, line \u001B[0;32m2\u001B[0m\n\u001B[0;31m    def summ(x=20, y):\u001B[0m\n\u001B[0m            ^\u001B[0m\n\u001B[0;31mSyntaxError\u001B[0m\u001B[0;31m:\u001B[0m non-default argument follows default argument\n"
     ]
    }
   ],
   "source": [
    "# Так нельзя!\n",
    "def summ(x=20, y):\n",
    "    return x+y"
   ]
  },
  {
   "cell_type": "markdown",
   "metadata": {},
   "source": [
    "Для некоторых функций необходимо уметь обрабатывать произвольное количество значений. Например min, max, sum и т.д."
   ]
  },
  {
   "cell_type": "code",
   "execution_count": 222,
   "metadata": {},
   "outputs": [
    {
     "name": "stdout",
     "output_type": "stream",
     "text": [
      "1 \n",
      "\n",
      "1 2 \n",
      "\n",
      "1 2 3 \n",
      "\n",
      "1 2 3 4 5 6 \n",
      "\n"
     ]
    }
   ],
   "source": [
    "def print_multiple(*args):\n",
    "    for arg in args:\n",
    "        print(arg, end=' ')\n",
    "    print('\\n')\n",
    "\n",
    "print_multiple(1)\n",
    "print_multiple(1, 2)\n",
    "print_multiple(1, 2, 3)\n",
    "print_multiple(1, 2, 3, 4, 5, 6)"
   ]
  },
  {
   "cell_type": "code",
   "execution_count": 223,
   "metadata": {},
   "outputs": [
    {
     "name": "stdout",
     "output_type": "stream",
     "text": [
      "\n",
      "\n"
     ]
    }
   ],
   "source": [
    "print_multiple()"
   ]
  },
  {
   "cell_type": "code",
   "execution_count": 224,
   "metadata": {},
   "outputs": [
    {
     "name": "stdout",
     "output_type": "stream",
     "text": [
      "1 2 \n",
      "\n",
      "1 2 3 \n",
      "\n",
      "1 2 3 4 5 6 \n",
      "\n"
     ]
    }
   ],
   "source": [
    "# Тоже, самое, но мы гарантируем что есть как минимум два аргумента\n",
    "\n",
    "def print_multiple(a, b, *args):\n",
    "    print(a, end=' ')\n",
    "    print(b, end=' ')\n",
    "    for arg in args:\n",
    "        print(arg, end=' ')\n",
    "    print('\\n')\n",
    "\n",
    "print_multiple(1, 2)\n",
    "print_multiple(1, 2, 3)\n",
    "print_multiple(1, 2, 3, 4, 5, 6)"
   ]
  },
  {
   "cell_type": "code",
   "execution_count": 226,
   "metadata": {},
   "outputs": [
    {
     "ename": "TypeError",
     "evalue": "print_multiple() missing 2 required positional arguments: 'a' and 'b'",
     "output_type": "error",
     "traceback": [
      "\u001B[0;31m---------------------------------------------------------------------------\u001B[0m",
      "\u001B[0;31mTypeError\u001B[0m                                 Traceback (most recent call last)",
      "\u001B[0;32m<ipython-input-226-cdf4f0ccf6c5>\u001B[0m in \u001B[0;36m<module>\u001B[0;34m\u001B[0m\n\u001B[0;32m----> 1\u001B[0;31m \u001B[0mprint_multiple\u001B[0m\u001B[0;34m(\u001B[0m\u001B[0;34m)\u001B[0m\u001B[0;34m\u001B[0m\u001B[0;34m\u001B[0m\u001B[0m\n\u001B[0m",
      "\u001B[0;31mTypeError\u001B[0m: print_multiple() missing 2 required positional arguments: 'a' and 'b'"
     ]
    }
   ],
   "source": [
    "print_multiple()"
   ]
  },
  {
   "cell_type": "code",
   "execution_count": null,
   "metadata": {},
   "outputs": [],
   "source": []
  },
  {
   "cell_type": "code",
   "execution_count": 130,
   "metadata": {},
   "outputs": [
    {
     "name": "stdout",
     "output_type": "stream",
     "text": [
      "1 2 \n",
      "\n",
      "1 2 x = 3, \n",
      "\n",
      "1 2 x = 3, y = 4, z = 5, i = 6, \n",
      "\n"
     ]
    }
   ],
   "source": [
    "# Аналогично происходит передача именованных аргументов\n",
    "\n",
    "def print_multiple(a, b, **kwargs):\n",
    "    print(a, end=' ')\n",
    "    print(b, end=' ')\n",
    "    for arg in kwargs:\n",
    "        print(arg, '=', kwargs[arg], end=', ')\n",
    "    print('\\n')\n",
    "\n",
    "print_multiple(1, 2)\n",
    "print_multiple(1, 2, x=3)\n",
    "print_multiple(1, 2, x=3, y=4, z=5, i=6)"
   ]
  },
  {
   "cell_type": "code",
   "execution_count": 227,
   "metadata": {},
   "outputs": [
    {
     "name": "stdout",
     "output_type": "stream",
     "text": [
      "1 20 x = 3, y = 4, z = 5, i = 6, \n",
      "\n"
     ]
    }
   ],
   "source": [
    "# Аналогично происходит передача именованных аргументов\n",
    "\n",
    "def print_multiple(a, b, **kwargs):\n",
    "    print(a, end=' ')\n",
    "    print(b, end=' ')\n",
    "    for arg in kwargs:\n",
    "        print(arg, '=', kwargs[arg], end=', ')\n",
    "    print('\\n')\n",
    "\n",
    "print_multiple(1, x=3, y=4, z=5, i=6, b=20) # Почему?"
   ]
  },
  {
   "cell_type": "markdown",
   "metadata": {},
   "source": [
    "Общий синтаксис определения функции\n",
    "\n",
    "![func](https://i.imgur.com/WzD2c1K.png)"
   ]
  },
  {
   "cell_type": "markdown",
   "metadata": {},
   "source": [
    "## 6. Полезные встроенные функции\n",
    "\n",
    "В Python реализовано множество полезных встроенных функций. Для их использования не нужно ничего импортировать, достаточно знать их названия.\n",
    "\n",
    "В их число входят: **all**, **any**, **enumerate**, **filter**, **zip**, **map**, **max**, **min** и т.д.\n",
    "\n",
    "Полный список в официальной документации языка:\n",
    "- https://docs.python.org/3/library/functions.html"
   ]
  },
  {
   "cell_type": "code",
   "execution_count": 230,
   "metadata": {},
   "outputs": [
    {
     "data": {
      "text/plain": [
       "False"
      ]
     },
     "execution_count": 230,
     "metadata": {},
     "output_type": "execute_result"
    }
   ],
   "source": [
    "bool('')"
   ]
  },
  {
   "cell_type": "code",
   "execution_count": 231,
   "metadata": {},
   "outputs": [
    {
     "name": "stdout",
     "output_type": "stream",
     "text": [
      "логическое И всех элементов списка: False\n",
      "логическое ИЛИ всех элементов списка: True\n"
     ]
    }
   ],
   "source": [
    "ls = [0, False, True, 5>3, 'non-empty', '']\n",
    "print('логическое И всех элементов списка:', all(ls))\n",
    "\n",
    "\n",
    "\n",
    "print('логическое ИЛИ всех элементов списка:', any(ls))"
   ]
  },
  {
   "cell_type": "code",
   "execution_count": 234,
   "metadata": {},
   "outputs": [
    {
     "name": "stdout",
     "output_type": "stream",
     "text": [
      "1 Артем\n",
      "2 Иван\n",
      "3 Максим\n",
      "4 Александр\n",
      "5 Николай\n",
      "6 Петр\n",
      "7 Станислав\n"
     ]
    }
   ],
   "source": [
    "male_names = ['Артем', 'Иван', 'Максим', 'Александр', 'Николай', 'Петр', 'Станислав']\n",
    "\n",
    "for i, name in enumerate(male_names):\n",
    "    print(i+1, name)"
   ]
  },
  {
   "cell_type": "code",
   "execution_count": 236,
   "metadata": {},
   "outputs": [
    {
     "data": {
      "text/plain": [
       "['Артем', 'Максим', 'Александр', 'Николай', 'Станислав']"
      ]
     },
     "execution_count": 236,
     "metadata": {},
     "output_type": "execute_result"
    }
   ],
   "source": [
    "male_names = ['Артем', 'Иван', 'Максим', 'Александр', 'Николай', 'Петр', 'Станислав']\n",
    "\n",
    "def validate_name_len(name):\n",
    "    return len(name) > 4\n",
    "\n",
    "list(filter(validate_name_len, male_names))"
   ]
  },
  {
   "cell_type": "code",
   "execution_count": null,
   "metadata": {},
   "outputs": [],
   "source": []
  },
  {
   "cell_type": "code",
   "execution_count": 238,
   "metadata": {},
   "outputs": [
    {
     "name": "stdout",
     "output_type": "stream",
     "text": [
      "Артем Иванов\n",
      "Иван Петров\n",
      "Максим Сидоров\n",
      "Александр Николаев\n",
      "Николай Антонов\n",
      "Петр Сычев\n"
     ]
    }
   ],
   "source": [
    "names = ['Артем', 'Иван', 'Максим', 'Александр', 'Николай', 'Петр']\n",
    "surnames = ['Иванов', 'Петров', 'Сидоров', 'Николаев', 'Антонов', 'Сычев', 'Кругов']\n",
    "\n",
    "for name, surname in zip(names, surnames):\n",
    "    print(name, surname)"
   ]
  },
  {
   "cell_type": "code",
   "execution_count": 240,
   "metadata": {},
   "outputs": [
    {
     "data": {
      "text/plain": [
       "['АРТЕМ', 'ИВАН', 'МАКСИМ', 'АЛЕКСАНДР', 'НИКОЛАЙ', 'ПЕТР']"
      ]
     },
     "execution_count": 240,
     "metadata": {},
     "output_type": "execute_result"
    }
   ],
   "source": [
    "names = ['Артем', 'Иван', 'Максим', 'Александр', 'Николай', 'Петр']\n",
    "\n",
    "def up(s):\n",
    "    return s.upper()\n",
    "\n",
    "res = map(up, names)\n",
    "\n",
    "list(res)"
   ]
  },
  {
   "cell_type": "markdown",
   "metadata": {},
   "source": [
    "## 7. Полезные библиотеки\n",
    "\n",
    "Помимо встроенных функций, в Python есть немало полезных встроенных модулей:\n",
    "\n",
    "- Collections \n",
    "- itertools\n",
    "- functools\n",
    "- и т.д.\n",
    "\n",
    "Полный список:\n",
    "- https://docs.python.org/3/library/\n",
    "\n",
    "Рассмотрим библиотеку Collections на примере. Библиотека реализует различные контейнеры, которые являются в некоторых случаях удобной альтернативой встроенным типам в Python"
   ]
  },
  {
   "cell_type": "code",
   "execution_count": 164,
   "metadata": {},
   "outputs": [
    {
     "name": "stdout",
     "output_type": "stream",
     "text": [
      "['fj', 'ix', 'zt', 'nx', 'si', 'fg', 'lb', 'kh', 'ua', 'ah', 'wx', 'uc', 'hz', 'ot', 'je', 'or', 'ga', 'ei', 'nr', 'cz', 'ug', 'mr', 'qr', 'hn', 'yt', 'zy', 'dj', 'eq', 'sc', 'wr', 'rv', 'pl', 'px', 'st', 'og', 'bq', 'kv', 'ry', 'al', 'qr', 'zy', 'ba', 'fq', 'fe', 'ph', 'pv', 'bg', 'gj', 'ju', 'gk', 'po', 'vb', 'pv', 'ml', 'fm', 'kh', 'sh', 'xm', 'or', 'zk', 'qm', 'mi', 'ct', 'up', 'wq', 'ft', 'ao', 'jx', 'lu', 'yb', 'gs', 'ng', 'bc', 'ey', 'eu', 'ht', 'pk', 'vl', 'hm', 'fl', 'yo', 'in', 'ak', 'qo', 'da', 'lh', 'by', 'yi', 'iy', 'ez', 'pv', 'zs', 'is', 'my', 'qd', 'ao', 'xb', 'uk', 'uw', 'eu', 'rp', 'iq', 'ge', 'nj', 'hb', 'ej', 'qa', 'eg', 'ha', 'sl', 'mn', 'sa', 'km', 'gy', 'fj', 'sc', 'mf', 'rg', 'vx', 'ie', 'ih', 'fs', 'wl', 'ip', 'nr', 'xf', 'sg', 'il', 'bi', 'gl', 'oe', 'zr', 'cz', 'am', 'ye', 'st', 'po', 'mp', 'fp', 'ox', 'ob', 'ni', 'ex', 'lk', 'wc', 'be', 'ms', 'la', 'fr', 'do', 'ge', 'bu', 'zy', 'cn', 'vr', 'zk', 'hm', 'fr', 're', 'pb', 'ic', 'of', 'wq', 'pn', 'cj', 'qe', 'tc', 'pi', 'ip', 'fg', 'wc', 'mz', 'kw', 'vi', 'nj', 'jv', 'xb', 'xk', 'xw', 'dp', 'oe', 'ap', 'fz', 'mh', 'nv', 'ml', 'ov', 'ph', 'rp', 'mt', 'qo', 'gb', 'ec', 'ej', 'ys', 'ra', 'on', 'te', 'sg', 'ml', 'rx', 'wh', 'ef', 'ph', 'vz', 'vj', 'sp', 'qh', 'na', 'pz', 'xe', 'gv', 'ed', 'gh', 'qx', 'rg', 'yt', 'la', 'zn', 'yd', 'sh', 'zl', 'ug', 'dg', 'dy', 'pn', 'bs', 'kd', 'vp', 'qj', 'ib', 'qf', 'ef', 'tr', 'vb', 'nu', 'ut', 'xo', 'mz', 'yn', 'ke', 'uc', 'fg', 'tk', 'qn', 'jr', 'se', 'ft', 'sw', 'ca', 'zb', 'js', 'aj', 'ts', 'bw', 'vt', 'ly', 'mq', 'yo', 'uv', 'zw', 'mr', 'de', 'rw', 'yb', 'af', 'sm', 'ih', 'tj', 'ph', 've', 'rk', 'ev', 'hn', 'yw', 'fp', 'qj', 'jd', 'lb', 'bf', 'nc', 'ld', 'at', 'ml', 'hw', 'uv', 'us', 'sm', 'qf', 'xg', 'pf', 'ey', 'mp', 'zf', 'vj', 'pi', 'wj', 'si', 'ok', 'fd', 'hc', 'km', 'bc', 'gj', 'bh', 'cf', 'il', 'kl', 'xz', 'vh', 'zq', 'ni', 'tu', 'yd', 'fw', 'hw', 'ln', 'go', 'dn', 'da', 'rm', 'gr', 'zn', 'if', 'yl', 'wu', 'zd', 'jh', 'oi', 'eh', 'yu', 'ua', 'fv', 'rj', 'mb', 'pr', 'wz', 'vj', 'na', 'sl', 'lq', 'eu', 'zf', 'ux', 'mx', 'xi', 'wo', 'tj', 'ua', 'cp', 'vo', 'kt', 'ze', 'eo', 'ie', 'zh', 'ql', 'lb', 'xf', 'hg', 'xi', 'yc', 'op', 'ho', 'yw', 'tm', 'ca', 'na', 'co', 'fz', 'qf', 'xb', 'wa', 'co', 'tc', 'ip', 'rf', 'gh', 'su', 'sy', 'ml', 'tu', 'ho', 'xt', 'kp', 'kz', 'cs', 'cs', 'nq', 'da', 'nz', 'ma', 'xh', 'pd', 'bf', 'ms', 'eb', 'lu', 'tq', 'vd', 'bp', 'gz', 'ir', 'ak', 'lk', 'bj', 'di', 'bn', 'lj', 'vo', 'ey', 'vc', 'gm', 'ny', 'fx', 'pt', 'kx', 'kn', 'ei', 'oc', 'zg', 'jm', 'bf', 'pj', 'zx', 'hk', 'ie', 'oz', 'ie', 'xy', 'qe', 'me', 'jq', 'qu', 'tp', 'tz', 'pm', 'jp', 'ks', 'zl', 'vk', 'jx', 'gp', 'dh', 'hc', 'pn', 'iv', 'pa', 'sz', 'rq', 'bq', 'hc', 'er', 'hd', 'hu', 'ud', 'vz', 'kp', 'ji', 'kw', 'kn', 'hy', 'th', 'cp', 'lb', 'hx', 'if', 'av', 'hp', 'jq', 'na', 'lz', 'vz', 'ug', 'yu', 'mp', 'um', 'tk', 'kp', 'un', 'qs', 'iy', 'qr', 'gy', 'ce', 'wt', 'ax', 'ic', 'ub', 'bh', 'br', 'at', 'jg', 'kv', 'gd', 'iu', 'it', 'ju', 'bl', 'hf', 'fz', 'je', 'jc', 'vt', 'wi', 'yj', 'zc', 'ia', 'hy', 'cg', 'ny', 'ue', 'zt', 'oe', 've', 'av', 'pt', 'fb', 'zq', 'oa', 'qw', 'xc', 'pd', 'hk', 'sm', 'qf', 'ig', 'fl', 'fd', 'zk', 'ph', 'yi', 'dn', 'yn', 'bx', 'jh', 'fi', 'fv', 'uc', 'om', 'ls', 'xz', 'tb', 'ur', 'on', 'au', 'yj', 'xy', 'zk', 'uh', 'rm', 'hu', 'dh', 'fg', 'zp', 'ew', 'he', 'pz', 'ri', 'oi', 'qa', 'xk', 'zp', 'hc', 'td', 'vo', 'ud', 'vi', 'eu', 'cf', 'gi', 'av', 'sz', 'pm', 'fr', 'gy', 'bu', 'yl', 'sb', 'fc', 'iu', 'ku', 'nk', 'ug', 'jb', 'zb', 'nf', 'pq', 'fj', 'tx', 'lg', 'og', 'uf', 'mq', 'on', 'dr', 'mj', 'gs', 'xi', 'zk', 'op', 'wo', 'sr', 'qy', 'tw', 'wm', 'oc', 'xb', 'lq', 'rz', 'cr', 'by', 'bk', 'cb', 'sz', 'ql', 'dz', 'sb', 'fo', 'fd', 'rt', 'fd', 'lb', 'wq', 'ga', 'jw', 'hp', 'ck', 'it', 'xd', 'qd', 'sr', 'yz', 'gi', 'zi', 'sp', 'ro', 'jk', 'ta', 'lz', 'ef', 'ix', 'ov', 'ga', 'bd', 'gz', 'fy', 'gv', 'fj', 'ji', 'lb', 'nt', 'yi', 'wc', 'ri', 'dz', 'mq', 'tq', 'jt', 'vz', 'sl', 'bh', 'rb', 'gv', 'gk', 'sn', 'yn', 'zy', 'ru', 'av', 'yn', 'xt', 'mc', 'bf', 'ae', 'hv', 'ql', 'jl', 'kw', 'ur', 'ad', 'cf', 'if', 'wt', 'el', 'rw', 'rf', 'xm', 'et', 'or', 'bo', 'af', 'is', 'ua', 'uy', 'vi', 'fm', 'gm', 'jt', 'to', 'qh', 'em', 'df', 'jh', 'jg', 'sa', 'ft', 'kp', 'xy', 'hu', 're', 'ju', 'ki', 'yw', 'sv', 'px', 'zg', 'hn', 'yh', 'ub', 'wd', 'tl', 'qg', 'le', 'bt', 'op', 'kd', 'ax', 'yf', 'so', 'vw', 'vt', 'ev', 'hw', 'jk', 'iy', 'ut', 'uc', 'ps', 'im', 'gh', 'lf', 'jh', 'tu', 'tp', 'jg', 'ps', 'wn', 'ra', 'wf', 'zm', 'cv', 'lo', 'oj', 'zn', 'xd', 'ca', 'jg', 'bs', 'zn', 'th', 'fq', 'vj', 'is', 'bq', 'rd', 'ol', 'xu', 'jy', 'ae', 'mq', 'dn', 'df', 'kf', 'wo', 'qr', 'xb', 'oz', 'cm', 'zr', 'xo', 'er', 'mj', 'lh', 'gc', 'kr', 'xr', 'el', 'ze', 'ua', 'mj', 'jo', 'ji', 'up', 'hm', 'lf', 'xe', 'ar', 'jf', 'jr', 'ym', 'tg', 'hm', 'nd', 'uc', 'fw', 'mk', 'au', 'al', 'vg', 'ke', 'mn', 'mu', 'um', 'nf', 'qp', 'qy', 'wk', 'jy', 'rb', 'yo', 'wd', 'ka', 'yz', 'qg', 'gh', 'hn', 'cj', 'qs', 'lq', 'tk', 'dc', 'mh', 'qy', 'zi', 'kq', 'rc', 'nj', 'kb', 'ou', 'hu', 'ou', 'zg', 'lj', 'fc', 'gr', 'ao', 'zd', 'pg', 'zn', 'ba', 've', 'rq', 'lc', 'qw', 'ur', 'fb', 'om', 'fu', 'rv', 'lv', 'bi', 'xh', 'pb', 'jk', 'ao', 'vt', 'bk', 'ej', 'vi', 'qt', 'ik', 'bx', 'du', 'ly', 'ft', 'qy', 'zx', 'po', 'dg', 'tj', 'gj', 'fn', 'wa', 'ob', 'ip', 'bi', 'sd', 'wr', 'bq', 'qz', 'ou', 'fb', 'ex', 'xe', 'yw', 'ad', 'es', 'fp', 'ig', 'fl', 'rh', 'lo', 'xe', 'rq', 'kd', 'pu', 'lj', 'lp', 'tw', 'ko', 'jg', 'nh', 'wo', 'od', 'yx', 'al', 'ev', 'kp', 'wz', 'hp', 'tp', 'iv', 'gs', 'ru', 'jn', 'rx', 'ke', 'mo', 'lq', 'pa', 'nk', 'es', 'mj', 'dj', 'lh', 'vm', 'pe', 'ix', 'zu', 'bx', 'fr', 'xu', 'sb', 'xr', 'yu', 'eq', 'rn', 'nm', 'fx', 'hx', 'vh', 'lw', 'ie', 'wh', 'md', 'ml', 'qu', 'mq', 'xu', 'lp', 'vg', 'sn', 'et', 'wf', 'nq', 'sh', 'sw', 'fd', 'ud', 'yi', 'mc', 'wj', 'vq', 'lt', 'ht', 'ny', 'dc', 'tl', 'nu', 'ml', 'sj', 'bm', 'ct', 'vg', 'qi', 'wi', 'bo', 'pm', 'ws', 'fk', 'an', 'od', 'hc', 'yg', 'lv', 'lb', 'gj', 'ow', 'za']\n"
     ]
    }
   ],
   "source": [
    "from collections import Counter\n",
    "import random\n",
    "import string\n",
    "\n",
    "chars = string.ascii_lowercase\n",
    "\n",
    "def generate_word():\n",
    "    ls = random.sample(chars, 2)\n",
    "    return ''.join(ls)\n",
    "\n",
    "ls = [generate_word() for _ in range(1000)]\n",
    "print(ls)"
   ]
  },
  {
   "cell_type": "code",
   "execution_count": 165,
   "metadata": {},
   "outputs": [
    {
     "data": {
      "text/plain": [
       "Counter({'fj': 4,\n",
       "         'ix': 3,\n",
       "         'zt': 2,\n",
       "         'nx': 1,\n",
       "         'si': 2,\n",
       "         'fg': 4,\n",
       "         'lb': 7,\n",
       "         'kh': 2,\n",
       "         'ua': 5,\n",
       "         'ah': 1,\n",
       "         'wx': 1,\n",
       "         'uc': 5,\n",
       "         'hz': 1,\n",
       "         'ot': 1,\n",
       "         'je': 2,\n",
       "         'or': 3,\n",
       "         'ga': 3,\n",
       "         'ei': 2,\n",
       "         'nr': 2,\n",
       "         'cz': 2,\n",
       "         'ug': 4,\n",
       "         'mr': 2,\n",
       "         'qr': 4,\n",
       "         'hn': 4,\n",
       "         'yt': 2,\n",
       "         'zy': 4,\n",
       "         'dj': 2,\n",
       "         'eq': 2,\n",
       "         'sc': 2,\n",
       "         'wr': 2,\n",
       "         'rv': 2,\n",
       "         'pl': 1,\n",
       "         'px': 2,\n",
       "         'st': 2,\n",
       "         'og': 2,\n",
       "         'bq': 4,\n",
       "         'kv': 2,\n",
       "         'ry': 1,\n",
       "         'al': 3,\n",
       "         'ba': 2,\n",
       "         'fq': 2,\n",
       "         'fe': 1,\n",
       "         'ph': 5,\n",
       "         'pv': 3,\n",
       "         'bg': 1,\n",
       "         'gj': 4,\n",
       "         'ju': 3,\n",
       "         'gk': 2,\n",
       "         'po': 3,\n",
       "         'vb': 2,\n",
       "         'ml': 7,\n",
       "         'fm': 2,\n",
       "         'sh': 3,\n",
       "         'xm': 2,\n",
       "         'zk': 5,\n",
       "         'qm': 1,\n",
       "         'mi': 1,\n",
       "         'ct': 2,\n",
       "         'up': 2,\n",
       "         'wq': 3,\n",
       "         'ft': 4,\n",
       "         'ao': 4,\n",
       "         'jx': 2,\n",
       "         'lu': 2,\n",
       "         'yb': 2,\n",
       "         'gs': 3,\n",
       "         'ng': 1,\n",
       "         'bc': 2,\n",
       "         'ey': 3,\n",
       "         'eu': 4,\n",
       "         'ht': 2,\n",
       "         'pk': 1,\n",
       "         'vl': 1,\n",
       "         'hm': 4,\n",
       "         'fl': 3,\n",
       "         'yo': 3,\n",
       "         'in': 1,\n",
       "         'ak': 2,\n",
       "         'qo': 2,\n",
       "         'da': 3,\n",
       "         'lh': 3,\n",
       "         'by': 2,\n",
       "         'yi': 4,\n",
       "         'iy': 3,\n",
       "         'ez': 1,\n",
       "         'zs': 1,\n",
       "         'is': 3,\n",
       "         'my': 1,\n",
       "         'qd': 2,\n",
       "         'xb': 5,\n",
       "         'uk': 1,\n",
       "         'uw': 1,\n",
       "         'rp': 2,\n",
       "         'iq': 1,\n",
       "         'ge': 2,\n",
       "         'nj': 3,\n",
       "         'hb': 1,\n",
       "         'ej': 3,\n",
       "         'qa': 2,\n",
       "         'eg': 1,\n",
       "         'ha': 1,\n",
       "         'sl': 3,\n",
       "         'mn': 2,\n",
       "         'sa': 2,\n",
       "         'km': 2,\n",
       "         'gy': 3,\n",
       "         'mf': 1,\n",
       "         'rg': 2,\n",
       "         'vx': 1,\n",
       "         'ie': 5,\n",
       "         'ih': 2,\n",
       "         'fs': 1,\n",
       "         'wl': 1,\n",
       "         'ip': 4,\n",
       "         'xf': 2,\n",
       "         'sg': 2,\n",
       "         'il': 2,\n",
       "         'bi': 3,\n",
       "         'gl': 1,\n",
       "         'oe': 3,\n",
       "         'zr': 2,\n",
       "         'am': 1,\n",
       "         'ye': 1,\n",
       "         'mp': 3,\n",
       "         'fp': 3,\n",
       "         'ox': 1,\n",
       "         'ob': 2,\n",
       "         'ni': 2,\n",
       "         'ex': 2,\n",
       "         'lk': 2,\n",
       "         'wc': 3,\n",
       "         'be': 1,\n",
       "         'ms': 2,\n",
       "         'la': 2,\n",
       "         'fr': 4,\n",
       "         'do': 1,\n",
       "         'bu': 2,\n",
       "         'cn': 1,\n",
       "         'vr': 1,\n",
       "         're': 2,\n",
       "         'pb': 2,\n",
       "         'ic': 2,\n",
       "         'of': 1,\n",
       "         'pn': 3,\n",
       "         'cj': 2,\n",
       "         'qe': 2,\n",
       "         'tc': 2,\n",
       "         'pi': 2,\n",
       "         'mz': 2,\n",
       "         'kw': 3,\n",
       "         'vi': 4,\n",
       "         'jv': 1,\n",
       "         'xk': 2,\n",
       "         'xw': 1,\n",
       "         'dp': 1,\n",
       "         'ap': 1,\n",
       "         'fz': 3,\n",
       "         'mh': 2,\n",
       "         'nv': 1,\n",
       "         'ov': 2,\n",
       "         'mt': 1,\n",
       "         'gb': 1,\n",
       "         'ec': 1,\n",
       "         'ys': 1,\n",
       "         'ra': 2,\n",
       "         'on': 3,\n",
       "         'te': 1,\n",
       "         'rx': 2,\n",
       "         'wh': 2,\n",
       "         'ef': 3,\n",
       "         'vz': 4,\n",
       "         'vj': 4,\n",
       "         'sp': 2,\n",
       "         'qh': 2,\n",
       "         'na': 4,\n",
       "         'pz': 2,\n",
       "         'xe': 4,\n",
       "         'gv': 3,\n",
       "         'ed': 1,\n",
       "         'gh': 4,\n",
       "         'qx': 1,\n",
       "         'zn': 5,\n",
       "         'yd': 2,\n",
       "         'zl': 2,\n",
       "         'dg': 2,\n",
       "         'dy': 1,\n",
       "         'bs': 2,\n",
       "         'kd': 3,\n",
       "         'vp': 1,\n",
       "         'qj': 2,\n",
       "         'ib': 1,\n",
       "         'qf': 4,\n",
       "         'tr': 1,\n",
       "         'nu': 2,\n",
       "         'ut': 2,\n",
       "         'xo': 2,\n",
       "         'yn': 4,\n",
       "         'ke': 3,\n",
       "         'tk': 3,\n",
       "         'qn': 1,\n",
       "         'jr': 2,\n",
       "         'se': 1,\n",
       "         'sw': 2,\n",
       "         'ca': 3,\n",
       "         'zb': 2,\n",
       "         'js': 1,\n",
       "         'aj': 1,\n",
       "         'ts': 1,\n",
       "         'bw': 1,\n",
       "         'vt': 4,\n",
       "         'ly': 2,\n",
       "         'mq': 5,\n",
       "         'uv': 2,\n",
       "         'zw': 1,\n",
       "         'de': 1,\n",
       "         'rw': 2,\n",
       "         'af': 2,\n",
       "         'sm': 3,\n",
       "         'tj': 3,\n",
       "         've': 3,\n",
       "         'rk': 1,\n",
       "         'ev': 3,\n",
       "         'yw': 4,\n",
       "         'jd': 1,\n",
       "         'bf': 4,\n",
       "         'nc': 1,\n",
       "         'ld': 1,\n",
       "         'at': 2,\n",
       "         'hw': 3,\n",
       "         'us': 1,\n",
       "         'xg': 1,\n",
       "         'pf': 1,\n",
       "         'zf': 2,\n",
       "         'wj': 2,\n",
       "         'ok': 1,\n",
       "         'fd': 5,\n",
       "         'hc': 5,\n",
       "         'bh': 3,\n",
       "         'cf': 3,\n",
       "         'kl': 1,\n",
       "         'xz': 2,\n",
       "         'vh': 2,\n",
       "         'zq': 2,\n",
       "         'tu': 3,\n",
       "         'fw': 2,\n",
       "         'ln': 1,\n",
       "         'go': 1,\n",
       "         'dn': 3,\n",
       "         'rm': 2,\n",
       "         'gr': 2,\n",
       "         'if': 3,\n",
       "         'yl': 2,\n",
       "         'wu': 1,\n",
       "         'zd': 2,\n",
       "         'jh': 4,\n",
       "         'oi': 2,\n",
       "         'eh': 1,\n",
       "         'yu': 3,\n",
       "         'fv': 2,\n",
       "         'rj': 1,\n",
       "         'mb': 1,\n",
       "         'pr': 1,\n",
       "         'wz': 2,\n",
       "         'lq': 4,\n",
       "         'ux': 1,\n",
       "         'mx': 1,\n",
       "         'xi': 3,\n",
       "         'wo': 4,\n",
       "         'cp': 2,\n",
       "         'vo': 3,\n",
       "         'kt': 1,\n",
       "         'ze': 2,\n",
       "         'eo': 1,\n",
       "         'zh': 1,\n",
       "         'ql': 3,\n",
       "         'hg': 1,\n",
       "         'yc': 1,\n",
       "         'op': 3,\n",
       "         'ho': 2,\n",
       "         'tm': 1,\n",
       "         'co': 2,\n",
       "         'wa': 2,\n",
       "         'rf': 2,\n",
       "         'su': 1,\n",
       "         'sy': 1,\n",
       "         'xt': 2,\n",
       "         'kp': 5,\n",
       "         'kz': 1,\n",
       "         'cs': 2,\n",
       "         'nq': 2,\n",
       "         'nz': 1,\n",
       "         'ma': 1,\n",
       "         'xh': 2,\n",
       "         'pd': 2,\n",
       "         'eb': 1,\n",
       "         'tq': 2,\n",
       "         'vd': 1,\n",
       "         'bp': 1,\n",
       "         'gz': 2,\n",
       "         'ir': 1,\n",
       "         'bj': 1,\n",
       "         'di': 1,\n",
       "         'bn': 1,\n",
       "         'lj': 3,\n",
       "         'vc': 1,\n",
       "         'gm': 2,\n",
       "         'ny': 3,\n",
       "         'fx': 2,\n",
       "         'pt': 2,\n",
       "         'kx': 1,\n",
       "         'kn': 2,\n",
       "         'oc': 2,\n",
       "         'zg': 3,\n",
       "         'jm': 1,\n",
       "         'pj': 1,\n",
       "         'zx': 2,\n",
       "         'hk': 2,\n",
       "         'oz': 2,\n",
       "         'xy': 3,\n",
       "         'me': 1,\n",
       "         'jq': 2,\n",
       "         'qu': 2,\n",
       "         'tp': 3,\n",
       "         'tz': 1,\n",
       "         'pm': 3,\n",
       "         'jp': 1,\n",
       "         'ks': 1,\n",
       "         'vk': 1,\n",
       "         'gp': 1,\n",
       "         'dh': 2,\n",
       "         'iv': 2,\n",
       "         'pa': 2,\n",
       "         'sz': 3,\n",
       "         'rq': 3,\n",
       "         'er': 2,\n",
       "         'hd': 1,\n",
       "         'hu': 4,\n",
       "         'ud': 3,\n",
       "         'ji': 3,\n",
       "         'hy': 2,\n",
       "         'th': 2,\n",
       "         'hx': 2,\n",
       "         'av': 4,\n",
       "         'hp': 3,\n",
       "         'lz': 2,\n",
       "         'um': 2,\n",
       "         'un': 1,\n",
       "         'qs': 2,\n",
       "         'ce': 1,\n",
       "         'wt': 2,\n",
       "         'ax': 2,\n",
       "         'ub': 2,\n",
       "         'br': 1,\n",
       "         'jg': 5,\n",
       "         'gd': 1,\n",
       "         'iu': 2,\n",
       "         'it': 2,\n",
       "         'bl': 1,\n",
       "         'hf': 1,\n",
       "         'jc': 1,\n",
       "         'wi': 2,\n",
       "         'yj': 2,\n",
       "         'zc': 1,\n",
       "         'ia': 1,\n",
       "         'cg': 1,\n",
       "         'ue': 1,\n",
       "         'fb': 3,\n",
       "         'oa': 1,\n",
       "         'qw': 2,\n",
       "         'xc': 1,\n",
       "         'ig': 2,\n",
       "         'bx': 3,\n",
       "         'fi': 1,\n",
       "         'om': 2,\n",
       "         'ls': 1,\n",
       "         'tb': 1,\n",
       "         'ur': 3,\n",
       "         'au': 2,\n",
       "         'uh': 1,\n",
       "         'zp': 2,\n",
       "         'ew': 1,\n",
       "         'he': 1,\n",
       "         'ri': 2,\n",
       "         'td': 1,\n",
       "         'gi': 2,\n",
       "         'sb': 3,\n",
       "         'fc': 2,\n",
       "         'ku': 1,\n",
       "         'nk': 2,\n",
       "         'jb': 1,\n",
       "         'nf': 2,\n",
       "         'pq': 1,\n",
       "         'tx': 1,\n",
       "         'lg': 1,\n",
       "         'uf': 1,\n",
       "         'dr': 1,\n",
       "         'mj': 4,\n",
       "         'sr': 2,\n",
       "         'qy': 4,\n",
       "         'tw': 2,\n",
       "         'wm': 1,\n",
       "         'rz': 1,\n",
       "         'cr': 1,\n",
       "         'bk': 2,\n",
       "         'cb': 1,\n",
       "         'dz': 2,\n",
       "         'fo': 1,\n",
       "         'rt': 1,\n",
       "         'jw': 1,\n",
       "         'ck': 1,\n",
       "         'xd': 2,\n",
       "         'yz': 2,\n",
       "         'zi': 2,\n",
       "         'ro': 1,\n",
       "         'jk': 3,\n",
       "         'ta': 1,\n",
       "         'bd': 1,\n",
       "         'fy': 1,\n",
       "         'nt': 1,\n",
       "         'jt': 2,\n",
       "         'rb': 2,\n",
       "         'sn': 2,\n",
       "         'ru': 2,\n",
       "         'mc': 2,\n",
       "         'ae': 2,\n",
       "         'hv': 1,\n",
       "         'jl': 1,\n",
       "         'ad': 2,\n",
       "         'el': 2,\n",
       "         'et': 2,\n",
       "         'bo': 2,\n",
       "         'uy': 1,\n",
       "         'to': 1,\n",
       "         'em': 1,\n",
       "         'df': 2,\n",
       "         'ki': 1,\n",
       "         'sv': 1,\n",
       "         'yh': 1,\n",
       "         'wd': 2,\n",
       "         'tl': 2,\n",
       "         'qg': 2,\n",
       "         'le': 1,\n",
       "         'bt': 1,\n",
       "         'yf': 1,\n",
       "         'so': 1,\n",
       "         'vw': 1,\n",
       "         'ps': 2,\n",
       "         'im': 1,\n",
       "         'lf': 2,\n",
       "         'wn': 1,\n",
       "         'wf': 2,\n",
       "         'zm': 1,\n",
       "         'cv': 1,\n",
       "         'lo': 2,\n",
       "         'oj': 1,\n",
       "         'rd': 1,\n",
       "         'ol': 1,\n",
       "         'xu': 3,\n",
       "         'jy': 2,\n",
       "         'kf': 1,\n",
       "         'cm': 1,\n",
       "         'gc': 1,\n",
       "         'kr': 1,\n",
       "         'xr': 2,\n",
       "         'jo': 1,\n",
       "         'ar': 1,\n",
       "         'jf': 1,\n",
       "         'ym': 1,\n",
       "         'tg': 1,\n",
       "         'nd': 1,\n",
       "         'mk': 1,\n",
       "         'vg': 3,\n",
       "         'mu': 1,\n",
       "         'qp': 1,\n",
       "         'wk': 1,\n",
       "         'ka': 1,\n",
       "         'dc': 2,\n",
       "         'kq': 1,\n",
       "         'rc': 1,\n",
       "         'kb': 1,\n",
       "         'ou': 3,\n",
       "         'pg': 1,\n",
       "         'lc': 1,\n",
       "         'fu': 1,\n",
       "         'lv': 2,\n",
       "         'qt': 1,\n",
       "         'ik': 1,\n",
       "         'du': 1,\n",
       "         'fn': 1,\n",
       "         'sd': 1,\n",
       "         'qz': 1,\n",
       "         'es': 2,\n",
       "         'rh': 1,\n",
       "         'pu': 1,\n",
       "         'lp': 2,\n",
       "         'ko': 1,\n",
       "         'nh': 1,\n",
       "         'od': 2,\n",
       "         'yx': 1,\n",
       "         'jn': 1,\n",
       "         'mo': 1,\n",
       "         'vm': 1,\n",
       "         'pe': 1,\n",
       "         'zu': 1,\n",
       "         'rn': 1,\n",
       "         'nm': 1,\n",
       "         'lw': 1,\n",
       "         'md': 1,\n",
       "         'vq': 1,\n",
       "         'lt': 1,\n",
       "         'sj': 1,\n",
       "         'bm': 1,\n",
       "         'qi': 1,\n",
       "         'ws': 1,\n",
       "         'fk': 1,\n",
       "         'an': 1,\n",
       "         'yg': 1,\n",
       "         'ow': 1,\n",
       "         'za': 1})"
      ]
     },
     "execution_count": 165,
     "metadata": {},
     "output_type": "execute_result"
    }
   ],
   "source": [
    "Counter(ls)"
   ]
  },
  {
   "cell_type": "code",
   "execution_count": 167,
   "metadata": {},
   "outputs": [
    {
     "data": {
      "text/plain": [
       "defaultdict(list, {1: ['s'], 2: 10})"
      ]
     },
     "execution_count": 167,
     "metadata": {},
     "output_type": "execute_result"
    }
   ],
   "source": [
    "from collections import defaultdict\n",
    "\n",
    "\n",
    "d = defaultdict(list)\n",
    "d[1].append('s')\n",
    "d[2] = 10\n",
    "d"
   ]
  },
  {
   "cell_type": "markdown",
   "metadata": {},
   "source": [
    "## 8. Пространство имен\n",
    "\n",
    "Пространство имен (namespace) - множество связей между именами (переменные, функции, классы) и объектами на которые они ссылаются.\n",
    "\n",
    "Разделяют три вида пространств имен:\n",
    "- Встроенное (built-in) - создается в момент запуска интепретатора, содержит в себе все встроенные функции и классы.\n",
    "- Глобальное (global) - содержит все имена созданные в main.\n",
    "- Локальные (local) - содержит в себе локальное имена в данной функции. Создается в момент вызова функции.\n",
    "\n",
    "![namespace](https://cdn.programiz.com/sites/tutorial2program/files/nested-namespaces-python.jpg)"
   ]
  },
  {
   "cell_type": "code",
   "execution_count": 241,
   "metadata": {},
   "outputs": [
    {
     "data": {
      "text/plain": [
       "['ArithmeticError',\n",
       " 'AssertionError',\n",
       " 'AttributeError',\n",
       " 'BaseException',\n",
       " 'BlockingIOError',\n",
       " 'BrokenPipeError',\n",
       " 'BufferError',\n",
       " 'BytesWarning',\n",
       " 'ChildProcessError',\n",
       " 'ConnectionAbortedError',\n",
       " 'ConnectionError',\n",
       " 'ConnectionRefusedError',\n",
       " 'ConnectionResetError',\n",
       " 'DeprecationWarning',\n",
       " 'EOFError',\n",
       " 'Ellipsis',\n",
       " 'EnvironmentError',\n",
       " 'Exception',\n",
       " 'False',\n",
       " 'FileExistsError',\n",
       " 'FileNotFoundError',\n",
       " 'FloatingPointError',\n",
       " 'FutureWarning',\n",
       " 'GeneratorExit',\n",
       " 'IOError',\n",
       " 'ImportError',\n",
       " 'ImportWarning',\n",
       " 'IndentationError',\n",
       " 'IndexError',\n",
       " 'InterruptedError',\n",
       " 'IsADirectoryError',\n",
       " 'KeyError',\n",
       " 'KeyboardInterrupt',\n",
       " 'LookupError',\n",
       " 'MemoryError',\n",
       " 'ModuleNotFoundError',\n",
       " 'NameError',\n",
       " 'None',\n",
       " 'NotADirectoryError',\n",
       " 'NotImplemented',\n",
       " 'NotImplementedError',\n",
       " 'OSError',\n",
       " 'OverflowError',\n",
       " 'PendingDeprecationWarning',\n",
       " 'PermissionError',\n",
       " 'ProcessLookupError',\n",
       " 'RecursionError',\n",
       " 'ReferenceError',\n",
       " 'ResourceWarning',\n",
       " 'RuntimeError',\n",
       " 'RuntimeWarning',\n",
       " 'StopAsyncIteration',\n",
       " 'StopIteration',\n",
       " 'SyntaxError',\n",
       " 'SyntaxWarning',\n",
       " 'SystemError',\n",
       " 'SystemExit',\n",
       " 'TabError',\n",
       " 'TimeoutError',\n",
       " 'True',\n",
       " 'TypeError',\n",
       " 'UnboundLocalError',\n",
       " 'UnicodeDecodeError',\n",
       " 'UnicodeEncodeError',\n",
       " 'UnicodeError',\n",
       " 'UnicodeTranslateError',\n",
       " 'UnicodeWarning',\n",
       " 'UserWarning',\n",
       " 'ValueError',\n",
       " 'Warning',\n",
       " 'ZeroDivisionError',\n",
       " '__IPYTHON__',\n",
       " '__build_class__',\n",
       " '__debug__',\n",
       " '__doc__',\n",
       " '__import__',\n",
       " '__loader__',\n",
       " '__name__',\n",
       " '__package__',\n",
       " '__spec__',\n",
       " 'abs',\n",
       " 'all',\n",
       " 'any',\n",
       " 'ascii',\n",
       " 'bin',\n",
       " 'bool',\n",
       " 'bytearray',\n",
       " 'bytes',\n",
       " 'callable',\n",
       " 'chr',\n",
       " 'classmethod',\n",
       " 'compile',\n",
       " 'complex',\n",
       " 'copyright',\n",
       " 'credits',\n",
       " 'delattr',\n",
       " 'dict',\n",
       " 'dir',\n",
       " 'display',\n",
       " 'divmod',\n",
       " 'enumerate',\n",
       " 'eval',\n",
       " 'exec',\n",
       " 'filter',\n",
       " 'float',\n",
       " 'format',\n",
       " 'frozenset',\n",
       " 'get_ipython',\n",
       " 'getattr',\n",
       " 'globals',\n",
       " 'hasattr',\n",
       " 'hash',\n",
       " 'help',\n",
       " 'hex',\n",
       " 'id',\n",
       " 'input',\n",
       " 'int',\n",
       " 'isinstance',\n",
       " 'issubclass',\n",
       " 'iter',\n",
       " 'len',\n",
       " 'license',\n",
       " 'list',\n",
       " 'locals',\n",
       " 'map',\n",
       " 'max',\n",
       " 'memoryview',\n",
       " 'min',\n",
       " 'next',\n",
       " 'object',\n",
       " 'oct',\n",
       " 'open',\n",
       " 'ord',\n",
       " 'pow',\n",
       " 'print',\n",
       " 'property',\n",
       " 'range',\n",
       " 'repr',\n",
       " 'reversed',\n",
       " 'round',\n",
       " 'set',\n",
       " 'setattr',\n",
       " 'slice',\n",
       " 'sorted',\n",
       " 'staticmethod',\n",
       " 'str',\n",
       " 'sum',\n",
       " 'super',\n",
       " 'tuple',\n",
       " 'type',\n",
       " 'vars',\n",
       " 'zip']"
      ]
     },
     "execution_count": 241,
     "metadata": {},
     "output_type": "execute_result"
    }
   ],
   "source": [
    "# посмотреть на имена в built in namespace\n",
    "dir(__builtins__)"
   ]
  },
  {
   "cell_type": "code",
   "execution_count": 243,
   "metadata": {},
   "outputs": [
    {
     "data": {
      "text/plain": [
       "11"
      ]
     },
     "execution_count": 243,
     "metadata": {},
     "output_type": "execute_result"
    }
   ],
   "source": [
    "# посмотреть что находится в global namespace\n",
    "globals()['x']"
   ]
  },
  {
   "cell_type": "code",
   "execution_count": 244,
   "metadata": {},
   "outputs": [
    {
     "data": {
      "text/plain": [
       "11"
      ]
     },
     "execution_count": 244,
     "metadata": {},
     "output_type": "execute_result"
    }
   ],
   "source": [
    "x"
   ]
  },
  {
   "cell_type": "code",
   "execution_count": 245,
   "metadata": {},
   "outputs": [
    {
     "name": "stdout",
     "output_type": "stream",
     "text": [
      "{'y': 2, 'x': 1}\n"
     ]
    },
    {
     "data": {
      "text/plain": [
       "3"
      ]
     },
     "execution_count": 245,
     "metadata": {},
     "output_type": "execute_result"
    }
   ],
   "source": [
    "# аналогично, locals\n",
    "\n",
    "def add(x, y):\n",
    "    print(locals())\n",
    "    return x + y\n",
    "\n",
    "add(1, 2)"
   ]
  },
  {
   "cell_type": "code",
   "execution_count": 246,
   "metadata": {},
   "outputs": [
    {
     "name": "stdout",
     "output_type": "stream",
     "text": [
      "Name Surname\n",
      "Some Garbage\n"
     ]
    }
   ],
   "source": [
    "# Пример. Основное правило - от текущего пространства имен \"наверх\"\n",
    "\n",
    "s1 = 'Name'\n",
    "s2 = 'Surname'\n",
    "res = 'Some Garbage'\n",
    "\n",
    "def add_strings(s1, s2):\n",
    "    res = s1 + ' ' + s2\n",
    "    return res\n",
    "\n",
    "print(add_strings(s1, s2))\n",
    "print(res)"
   ]
  },
  {
   "cell_type": "markdown",
   "metadata": {},
   "source": [
    "## 9. Области видимости\n",
    "\n",
    "Область видимости (**scope**) - кусок когда, откуда данный объект доступен напрямую (локальный namespace доступен напрямую).\n",
    "\n",
    "\n",
    "Всего разделяют 4 категории областей видимости:\n",
    "- Локальный scope (local)- соответствует локальной области видимости данной функции.\n",
    "- Закрывающий scope (enclosing или non-local) - существует для вложенных функций. Для данной функции закрывающая область видимости соответствует области видимости функции уровнем выше.\n",
    "- Глобальный scope (global) - соответствует глобальному пространству имен.\n",
    "- Встроеный scope (built-in) - соответствует встроенному пространству имен.\n",
    "\n",
    "**LEGB - порядок, в котором Python ищет имена.**\n",
    "\n",
    "![legb](https://res.cloudinary.com/practicaldev/image/fetch/s--d3RkACVF--/c_limit%2Cf_auto%2Cfl_progressive%2Cq_auto%2Cw_880/https://dev-to-uploads.s3.amazonaws.com/i/qnjej0u6cvxdivuq85fw.png)"
   ]
  },
  {
   "cell_type": "code",
   "execution_count": 248,
   "metadata": {},
   "outputs": [
    {
     "name": "stdout",
     "output_type": "stream",
     "text": [
      "100\n"
     ]
    }
   ],
   "source": [
    "def func1():\n",
    "    x = 100\n",
    "    def func2():\n",
    "        print(x)\n",
    "    func2()\n",
    "\n",
    "    \n",
    "func1()"
   ]
  },
  {
   "cell_type": "code",
   "execution_count": 250,
   "metadata": {},
   "outputs": [
    {
     "ename": "NameError",
     "evalue": "name 'xx' is not defined",
     "output_type": "error",
     "traceback": [
      "\u001B[0;31m---------------------------------------------------------------------------\u001B[0m",
      "\u001B[0;31mNameError\u001B[0m                                 Traceback (most recent call last)",
      "\u001B[0;32m<ipython-input-250-1195fa8d14c7>\u001B[0m in \u001B[0;36m<module>\u001B[0;34m\u001B[0m\n\u001B[1;32m      6\u001B[0m     \u001B[0mfunc1\u001B[0m\u001B[0;34m(\u001B[0m\u001B[0;34m)\u001B[0m\u001B[0;34m\u001B[0m\u001B[0;34m\u001B[0m\u001B[0m\n\u001B[1;32m      7\u001B[0m \u001B[0;34m\u001B[0m\u001B[0m\n\u001B[0;32m----> 8\u001B[0;31m \u001B[0mfunc2\u001B[0m\u001B[0;34m(\u001B[0m\u001B[0;34m)\u001B[0m\u001B[0;34m\u001B[0m\u001B[0;34m\u001B[0m\u001B[0m\n\u001B[0m",
      "\u001B[0;32m<ipython-input-250-1195fa8d14c7>\u001B[0m in \u001B[0;36mfunc2\u001B[0;34m()\u001B[0m\n\u001B[1;32m      4\u001B[0m \u001B[0;32mdef\u001B[0m \u001B[0mfunc2\u001B[0m\u001B[0;34m(\u001B[0m\u001B[0;34m)\u001B[0m\u001B[0;34m:\u001B[0m\u001B[0;34m\u001B[0m\u001B[0;34m\u001B[0m\u001B[0m\n\u001B[1;32m      5\u001B[0m     \u001B[0mxx\u001B[0m \u001B[0;34m=\u001B[0m \u001B[0;36m100\u001B[0m\u001B[0;34m\u001B[0m\u001B[0;34m\u001B[0m\u001B[0m\n\u001B[0;32m----> 6\u001B[0;31m     \u001B[0mfunc1\u001B[0m\u001B[0;34m(\u001B[0m\u001B[0;34m)\u001B[0m\u001B[0;34m\u001B[0m\u001B[0;34m\u001B[0m\u001B[0m\n\u001B[0m\u001B[1;32m      7\u001B[0m \u001B[0;34m\u001B[0m\u001B[0m\n\u001B[1;32m      8\u001B[0m \u001B[0mfunc2\u001B[0m\u001B[0;34m(\u001B[0m\u001B[0;34m)\u001B[0m\u001B[0;34m\u001B[0m\u001B[0;34m\u001B[0m\u001B[0m\n",
      "\u001B[0;32m<ipython-input-250-1195fa8d14c7>\u001B[0m in \u001B[0;36mfunc1\u001B[0;34m()\u001B[0m\n\u001B[1;32m      1\u001B[0m \u001B[0;32mdef\u001B[0m \u001B[0mfunc1\u001B[0m\u001B[0;34m(\u001B[0m\u001B[0;34m)\u001B[0m\u001B[0;34m:\u001B[0m\u001B[0;34m\u001B[0m\u001B[0;34m\u001B[0m\u001B[0m\n\u001B[0;32m----> 2\u001B[0;31m     \u001B[0mprint\u001B[0m\u001B[0;34m(\u001B[0m\u001B[0mxx\u001B[0m\u001B[0;34m)\u001B[0m\u001B[0;34m\u001B[0m\u001B[0;34m\u001B[0m\u001B[0m\n\u001B[0m\u001B[1;32m      3\u001B[0m \u001B[0;34m\u001B[0m\u001B[0m\n\u001B[1;32m      4\u001B[0m \u001B[0;32mdef\u001B[0m \u001B[0mfunc2\u001B[0m\u001B[0;34m(\u001B[0m\u001B[0;34m)\u001B[0m\u001B[0;34m:\u001B[0m\u001B[0;34m\u001B[0m\u001B[0;34m\u001B[0m\u001B[0m\n\u001B[1;32m      5\u001B[0m     \u001B[0mxx\u001B[0m \u001B[0;34m=\u001B[0m \u001B[0;36m100\u001B[0m\u001B[0;34m\u001B[0m\u001B[0;34m\u001B[0m\u001B[0m\n",
      "\u001B[0;31mNameError\u001B[0m: name 'xx' is not defined"
     ]
    }
   ],
   "source": [
    "def func1():\n",
    "    print(xx)\n",
    "    \n",
    "def func2():\n",
    "    xx = 100\n",
    "    func1()\n",
    "    \n",
    "func2()"
   ]
  },
  {
   "cell_type": "markdown",
   "metadata": {},
   "source": [
    "Когда хочется внутри функции изменить значение переменной из глобальной и закрывающей области видимости. Конструкции global и nonlocal помогают нам это сделать"
   ]
  },
  {
   "cell_type": "code",
   "execution_count": 253,
   "metadata": {},
   "outputs": [
    {
     "ename": "UnboundLocalError",
     "evalue": "local variable 'x' referenced before assignment",
     "output_type": "error",
     "traceback": [
      "\u001B[0;31m---------------------------------------------------------------------------\u001B[0m",
      "\u001B[0;31mUnboundLocalError\u001B[0m                         Traceback (most recent call last)",
      "\u001B[0;32m<ipython-input-253-cea1ecc03bb6>\u001B[0m in \u001B[0;36m<module>\u001B[0;34m\u001B[0m\n\u001B[1;32m      3\u001B[0m     \u001B[0mx\u001B[0m \u001B[0;34m+=\u001B[0m \u001B[0;36m100\u001B[0m\u001B[0;34m\u001B[0m\u001B[0;34m\u001B[0m\u001B[0m\n\u001B[1;32m      4\u001B[0m     \u001B[0mprint\u001B[0m\u001B[0;34m(\u001B[0m\u001B[0mx\u001B[0m\u001B[0;34m)\u001B[0m\u001B[0;34m\u001B[0m\u001B[0;34m\u001B[0m\u001B[0m\n\u001B[0;32m----> 5\u001B[0;31m \u001B[0mf\u001B[0m\u001B[0;34m(\u001B[0m\u001B[0;34m)\u001B[0m\u001B[0;34m\u001B[0m\u001B[0;34m\u001B[0m\u001B[0m\n\u001B[0m",
      "\u001B[0;32m<ipython-input-253-cea1ecc03bb6>\u001B[0m in \u001B[0;36mf\u001B[0;34m()\u001B[0m\n\u001B[1;32m      1\u001B[0m \u001B[0mx\u001B[0m \u001B[0;34m=\u001B[0m \u001B[0;36m10\u001B[0m\u001B[0;34m\u001B[0m\u001B[0;34m\u001B[0m\u001B[0m\n\u001B[1;32m      2\u001B[0m \u001B[0;32mdef\u001B[0m \u001B[0mf\u001B[0m\u001B[0;34m(\u001B[0m\u001B[0;34m)\u001B[0m\u001B[0;34m:\u001B[0m\u001B[0;34m\u001B[0m\u001B[0;34m\u001B[0m\u001B[0m\n\u001B[0;32m----> 3\u001B[0;31m     \u001B[0mx\u001B[0m \u001B[0;34m+=\u001B[0m \u001B[0;36m100\u001B[0m\u001B[0;34m\u001B[0m\u001B[0;34m\u001B[0m\u001B[0m\n\u001B[0m\u001B[1;32m      4\u001B[0m     \u001B[0mprint\u001B[0m\u001B[0;34m(\u001B[0m\u001B[0mx\u001B[0m\u001B[0;34m)\u001B[0m\u001B[0;34m\u001B[0m\u001B[0;34m\u001B[0m\u001B[0m\n\u001B[1;32m      5\u001B[0m \u001B[0mf\u001B[0m\u001B[0;34m(\u001B[0m\u001B[0;34m)\u001B[0m\u001B[0;34m\u001B[0m\u001B[0;34m\u001B[0m\u001B[0m\n",
      "\u001B[0;31mUnboundLocalError\u001B[0m: local variable 'x' referenced before assignment"
     ]
    }
   ],
   "source": [
    "x = 10\n",
    "def f():\n",
    "    x += 100\n",
    "    print(x)\n",
    "f()"
   ]
  },
  {
   "cell_type": "code",
   "execution_count": 255,
   "metadata": {},
   "outputs": [
    {
     "name": "stdout",
     "output_type": "stream",
     "text": [
      "110\n"
     ]
    }
   ],
   "source": [
    "x = 10\n",
    "def f():\n",
    "    global x\n",
    "    x += 100\n",
    "    print(x)\n",
    "f()"
   ]
  },
  {
   "cell_type": "code",
   "execution_count": null,
   "metadata": {},
   "outputs": [],
   "source": []
  },
  {
   "cell_type": "markdown",
   "metadata": {},
   "source": [
    "## 10. Декораторы\n",
    "\n",
    "\n",
    "Декоратор - инструмент для добавления функционала к уже существующим функциям."
   ]
  },
  {
   "cell_type": "code",
   "execution_count": 1,
   "metadata": {},
   "outputs": [],
   "source": [
    "def f():\n",
    "    pass"
   ]
  },
  {
   "cell_type": "code",
   "execution_count": 14,
   "metadata": {},
   "outputs": [],
   "source": [
    "def decorator_hello(f):\n",
    "    \n",
    "    def wrapper(*args, **kwargs):\n",
    "        print(\"Привет, я функция!\")\n",
    "        res = f(*args, **kwargs)\n",
    "        return res\n",
    "    \n",
    "    return wrapper"
   ]
  },
  {
   "cell_type": "code",
   "execution_count": 15,
   "metadata": {},
   "outputs": [],
   "source": [
    "@decorator_hello\n",
    "def add(a, b):\n",
    "    return a + b"
   ]
  },
  {
   "cell_type": "code",
   "execution_count": 16,
   "metadata": {},
   "outputs": [],
   "source": [
    "@decorator_hello\n",
    "def multiply(a, b):\n",
    "    return a*b"
   ]
  },
  {
   "cell_type": "code",
   "execution_count": 18,
   "metadata": {},
   "outputs": [
    {
     "name": "stdout",
     "output_type": "stream",
     "text": [
      "Привет, я функция!\n"
     ]
    },
    {
     "data": {
      "text/plain": [
       "200"
      ]
     },
     "execution_count": 18,
     "metadata": {},
     "output_type": "execute_result"
    }
   ],
   "source": [
    "multiply(10, 20)"
   ]
  },
  {
   "cell_type": "code",
   "execution_count": 12,
   "metadata": {},
   "outputs": [],
   "source": [
    "multiply = decorator_hello(multiply)"
   ]
  },
  {
   "cell_type": "code",
   "execution_count": 13,
   "metadata": {},
   "outputs": [
    {
     "name": "stdout",
     "output_type": "stream",
     "text": [
      "Привет, я функция!\n"
     ]
    },
    {
     "data": {
      "text/plain": [
       "200"
      ]
     },
     "execution_count": 13,
     "metadata": {},
     "output_type": "execute_result"
    }
   ],
   "source": [
    "multiply(10, 20)"
   ]
  },
  {
   "cell_type": "code",
   "execution_count": 9,
   "metadata": {},
   "outputs": [
    {
     "name": "stdout",
     "output_type": "stream",
     "text": [
      "Привет, я функция!\n"
     ]
    },
    {
     "data": {
      "text/plain": [
       "30"
      ]
     },
     "execution_count": 9,
     "metadata": {},
     "output_type": "execute_result"
    }
   ],
   "source": [
    "add(10, 20)"
   ]
  },
  {
   "cell_type": "code",
   "execution_count": null,
   "metadata": {},
   "outputs": [],
   "source": []
  },
  {
   "cell_type": "code",
   "execution_count": null,
   "metadata": {},
   "outputs": [],
   "source": []
  },
  {
   "cell_type": "code",
   "execution_count": null,
   "metadata": {},
   "outputs": [],
   "source": []
  },
  {
   "cell_type": "code",
   "execution_count": null,
   "metadata": {},
   "outputs": [],
   "source": []
  },
  {
   "cell_type": "code",
   "execution_count": null,
   "metadata": {},
   "outputs": [],
   "source": []
  },
  {
   "cell_type": "code",
   "execution_count": null,
   "metadata": {},
   "outputs": [],
   "source": []
  },
  {
   "cell_type": "code",
   "execution_count": 19,
   "metadata": {},
   "outputs": [],
   "source": [
    "def decorator(f):\n",
    "    def wrapper(*args, **kwargs):\n",
    "        print('=== Start ===')\n",
    "        res = f(*args, **kwargs)\n",
    "        print('=== Finish ===')\n",
    "        return res\n",
    "    return wrapper\n",
    "\n",
    "@decorator        \n",
    "def f(a, b):\n",
    "    return a + b\n",
    "\n",
    "@decorator\n",
    "def g(s):\n",
    "    print('function g running')\n",
    "    return s.upper()"
   ]
  },
  {
   "cell_type": "code",
   "execution_count": 20,
   "metadata": {},
   "outputs": [
    {
     "name": "stdout",
     "output_type": "stream",
     "text": [
      "=== Start ===\n",
      "function g running\n",
      "=== Finish ===\n"
     ]
    },
    {
     "data": {
      "text/plain": [
       "'HELLO'"
      ]
     },
     "execution_count": 20,
     "metadata": {},
     "output_type": "execute_result"
    }
   ],
   "source": [
    "g('hello')"
   ]
  },
  {
   "cell_type": "code",
   "execution_count": 75,
   "metadata": {},
   "outputs": [
    {
     "name": "stdout",
     "output_type": "stream",
     "text": [
      "=== Start ===\n",
      "=== Finish ===\n"
     ]
    },
    {
     "data": {
      "text/plain": [
       "21"
      ]
     },
     "execution_count": 75,
     "metadata": {},
     "output_type": "execute_result"
    }
   ],
   "source": [
    "f(10, 11)"
   ]
  },
  {
   "cell_type": "markdown",
   "metadata": {},
   "source": [
    "Давайте напишем декоратор таймер:"
   ]
  },
  {
   "cell_type": "code",
   "execution_count": 24,
   "metadata": {},
   "outputs": [
    {
     "name": "stdout",
     "output_type": "stream",
     "text": [
      "[1, 2, 3] 10 Я строка, в которой лежат, 15, [1, 2, 3]\n"
     ]
    }
   ],
   "source": [
    "a = 10\n",
    "b = 15\n",
    "ls = [1,2,3]\n",
    "\n",
    "print(f'{ls} {a} Я строка, в которой лежат, {b}, {ls}')\n"
   ]
  },
  {
   "cell_type": "code",
   "execution_count": 30,
   "metadata": {},
   "outputs": [],
   "source": [
    "import time\n",
    "\n",
    "\n",
    "def timer(f):\n",
    "    \n",
    "    def wrapper(*args, **kwargs):\n",
    "        start = time.time()\n",
    "        time.sleep(2)\n",
    "        res = f(*args, **kwargs)\n",
    "        end = time.time()\n",
    "        print(f'Наша функция {f.__name__} работала {end - start} секунд')\n",
    "        return res\n",
    "        \n",
    "    return wrapper"
   ]
  },
  {
   "cell_type": "code",
   "execution_count": 31,
   "metadata": {},
   "outputs": [],
   "source": [
    "@timer\n",
    "def add(a, b):\n",
    "    return a+b\n",
    "\n",
    "@timer\n",
    "def multiply(a, b):\n",
    "    return a*b"
   ]
  },
  {
   "cell_type": "code",
   "execution_count": 32,
   "metadata": {},
   "outputs": [
    {
     "name": "stdout",
     "output_type": "stream",
     "text": [
      "Наша функция add работала 2.0005106925964355 секунд\n",
      "Наша функция multiply работала 2.002058744430542 секунд\n"
     ]
    },
    {
     "data": {
      "text/plain": [
       "2"
      ]
     },
     "execution_count": 32,
     "metadata": {},
     "output_type": "execute_result"
    }
   ],
   "source": [
    "add(1, 2)\n",
    "multiply(1, 2)"
   ]
  },
  {
   "cell_type": "markdown",
   "metadata": {},
   "source": [
    "Теперь давайте  напишем повторяющийся декоратор:"
   ]
  },
  {
   "cell_type": "code",
   "execution_count": 132,
   "metadata": {},
   "outputs": [
    {
     "ename": "NameError",
     "evalue": "name 'retry' is not defined",
     "output_type": "error",
     "traceback": [
      "\u001B[0;31m---------------------------------------------------------------------------\u001B[0m",
      "\u001B[0;31mNameError\u001B[0m                                 Traceback (most recent call last)",
      "\u001B[0;32m<ipython-input-132-4eb924e61e12>\u001B[0m in \u001B[0;36m<module>\u001B[0;34m\u001B[0m\n\u001B[1;32m      1\u001B[0m \u001B[0;31m# Реализуйте подобный декоратор\u001B[0m\u001B[0;34m\u001B[0m\u001B[0;34m\u001B[0m\u001B[0;34m\u001B[0m\u001B[0m\n\u001B[1;32m      2\u001B[0m \u001B[0;34m\u001B[0m\u001B[0m\n\u001B[0;32m----> 3\u001B[0;31m \u001B[0;34m@\u001B[0m\u001B[0mretry\u001B[0m\u001B[0;34m(\u001B[0m\u001B[0mnum_retries\u001B[0m\u001B[0;34m=\u001B[0m\u001B[0;36m3\u001B[0m\u001B[0;34m)\u001B[0m\u001B[0;34m\u001B[0m\u001B[0;34m\u001B[0m\u001B[0m\n\u001B[0m\u001B[1;32m      4\u001B[0m \u001B[0;32mdef\u001B[0m \u001B[0ma\u001B[0m\u001B[0;34m(\u001B[0m\u001B[0;34m)\u001B[0m\u001B[0;34m:\u001B[0m\u001B[0;34m\u001B[0m\u001B[0;34m\u001B[0m\u001B[0m\n\u001B[1;32m      5\u001B[0m     \u001B[0mprint\u001B[0m\u001B[0;34m(\u001B[0m\u001B[0;36m5\u001B[0m\u001B[0;34m)\u001B[0m\u001B[0;34m\u001B[0m\u001B[0;34m\u001B[0m\u001B[0m\n",
      "\u001B[0;31mNameError\u001B[0m: name 'retry' is not defined"
     ]
    }
   ],
   "source": [
    "@retry(num_retries=3)\n",
    "def a(): \n",
    "    print(5)"
   ]
  },
  {
   "cell_type": "code",
   "execution_count": 40,
   "metadata": {},
   "outputs": [],
   "source": [
    "def retry_n_times(n):\n",
    "    \n",
    "    def retry(f):\n",
    "        def wrapper(*args, **kwargs):\n",
    "            for _ in range(n):\n",
    "                f(*args, **kwargs)\n",
    "        return wrapper\n",
    "    \n",
    "    \n",
    "    return retry"
   ]
  },
  {
   "cell_type": "code",
   "execution_count": 41,
   "metadata": {},
   "outputs": [],
   "source": [
    "def print_string(s): \n",
    "    print(s)"
   ]
  },
  {
   "cell_type": "code",
   "execution_count": 42,
   "metadata": {},
   "outputs": [],
   "source": [
    "print_string = retry_n_times(5)(print_string)"
   ]
  },
  {
   "cell_type": "code",
   "execution_count": 43,
   "metadata": {},
   "outputs": [
    {
     "name": "stdout",
     "output_type": "stream",
     "text": [
      "Привет, я опечатался\n",
      "Привет, я опечатался\n",
      "Привет, я опечатался\n",
      "Привет, я опечатался\n",
      "Привет, я опечатался\n"
     ]
    }
   ],
   "source": [
    "print_string('Привет, я опечатался')"
   ]
  },
  {
   "cell_type": "code",
   "execution_count": null,
   "metadata": {},
   "outputs": [],
   "source": []
  },
  {
   "cell_type": "code",
   "execution_count": 44,
   "metadata": {},
   "outputs": [],
   "source": [
    "@retry_n_times(7)\n",
    "def print_string(s): \n",
    "    print(s)"
   ]
  },
  {
   "cell_type": "code",
   "execution_count": 45,
   "metadata": {},
   "outputs": [
    {
     "name": "stdout",
     "output_type": "stream",
     "text": [
      "Hello\n",
      "Hello\n",
      "Hello\n",
      "Hello\n",
      "Hello\n",
      "Hello\n",
      "Hello\n"
     ]
    }
   ],
   "source": [
    "print_string('Hello')"
   ]
  },
  {
   "cell_type": "code",
   "execution_count": null,
   "metadata": {},
   "outputs": [],
   "source": []
  },
  {
   "cell_type": "code",
   "execution_count": null,
   "metadata": {},
   "outputs": [],
   "source": []
  }
 ],
 "metadata": {
  "kernelspec": {
   "display_name": "Python 3",
   "language": "python",
   "name": "python3"
  },
  "language_info": {
   "codemirror_mode": {
    "name": "ipython",
    "version": 3
   },
   "file_extension": ".py",
   "mimetype": "text/x-python",
   "name": "python",
   "nbconvert_exporter": "python",
   "pygments_lexer": "ipython3",
   "version": "3.6.9"
  }
 },
 "nbformat": 4,
 "nbformat_minor": 2
}
