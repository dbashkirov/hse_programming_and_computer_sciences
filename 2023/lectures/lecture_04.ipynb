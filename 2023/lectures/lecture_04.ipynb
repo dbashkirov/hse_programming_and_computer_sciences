{
 "cells": [
  {
   "cell_type": "markdown",
   "metadata": {},
   "source": [
    "## Генераторы"
   ]
  },
  {
   "cell_type": "markdown",
   "metadata": {},
   "source": [
    "В прошлый раз мы обсуждали **iterable** и **iterators**. На примере класса MyRange, мы видели что для реализации логики перечисления элементов объекта нужно писать довольно-таки много кода:\n",
    "\n",
    "```\n",
    "class MyIterator:\n",
    "    def __init__(self, obj):\n",
    "        self.start = obj.start\n",
    "        self.end = obj.end\n",
    "        self.step = obj.step\n",
    "    def __next__(self):\n",
    "        if self.start < self.end:\n",
    "            ret = self.start\n",
    "            self.start += self.step\n",
    "            return ret\n",
    "        else:\n",
    "            raise StopIteration\n",
    "class MyRange:\n",
    "    def __init__(self, start, end, step=1):\n",
    "        self.start = start\n",
    "        self.end = end\n",
    "        self.step = step\n",
    "    def __iter__(self):\n",
    "        return MyIterator(self)\n",
    "```\n",
    "\n",
    "Ту же самую логику можно имплементировать с помощью **генераторов**. Но перед этим давайте разберемся с ключевым словом **yield**."
   ]
  },
  {
   "cell_type": "code",
   "execution_count": 28,
   "metadata": {},
   "outputs": [],
   "source": [
    "import time\n",
    "\n",
    "def Hello():\n",
    "    yield f'current time is {time.strftime(\"%H:%M:%S %d.%m.%Y\")}'\n",
    "    print(1)\n",
    "    yield 'Yield #2'  "
   ]
  },
  {
   "cell_type": "code",
   "execution_count": 29,
   "metadata": {},
   "outputs": [
    {
     "name": "stdout",
     "output_type": "stream",
     "text": [
      "<class 'generator'>\n"
     ]
    }
   ],
   "source": [
    "generator = Hello()\n",
    "print(type(generator))"
   ]
  },
  {
   "cell_type": "code",
   "execution_count": 30,
   "metadata": {},
   "outputs": [
    {
     "name": "stdout",
     "output_type": "stream",
     "text": [
      "current time is 00:37:18 23.11.2023\n"
     ]
    }
   ],
   "source": [
    "print(next(generator))\n",
    "# print(next(generator))"
   ]
  },
  {
   "cell_type": "code",
   "execution_count": 32,
   "metadata": {},
   "outputs": [
    {
     "ename": "StopIteration",
     "evalue": "",
     "output_type": "error",
     "traceback": [
      "\u001B[0;31m---------------------------------------------------------------------------\u001B[0m",
      "\u001B[0;31mStopIteration\u001B[0m                             Traceback (most recent call last)",
      "Cell \u001B[0;32mIn[32], line 1\u001B[0m\n\u001B[0;32m----> 1\u001B[0m \u001B[38;5;28mprint\u001B[39m(\u001B[38;5;28;43mnext\u001B[39;49m\u001B[43m(\u001B[49m\u001B[43mgenerator\u001B[49m\u001B[43m)\u001B[49m)\n",
      "\u001B[0;31mStopIteration\u001B[0m: "
     ]
    }
   ],
   "source": [
    "print(next(generator))"
   ]
  },
  {
   "cell_type": "code",
   "execution_count": 33,
   "metadata": {},
   "outputs": [
    {
     "data": {
      "text/plain": "True"
     },
     "execution_count": 33,
     "metadata": {},
     "output_type": "execute_result"
    }
   ],
   "source": [
    "'__iter__' in dir(generator)"
   ]
  },
  {
   "cell_type": "code",
   "execution_count": 34,
   "metadata": {},
   "outputs": [
    {
     "data": {
      "text/plain": "True"
     },
     "execution_count": 34,
     "metadata": {},
     "output_type": "execute_result"
    }
   ],
   "source": [
    "'__next__' in dir(generator)"
   ]
  },
  {
   "cell_type": "markdown",
   "metadata": {},
   "source": [
    "Таким образом, наличие в функции команды **yield** создает нам генератор. Давайте поисследуем поведение ее поведение:"
   ]
  },
  {
   "cell_type": "code",
   "execution_count": 35,
   "metadata": {},
   "outputs": [],
   "source": [
    "def f():\n",
    "    print('перед первым yield')\n",
    "    yield 'Привет!!!'\n",
    "    print('что-то между yield-ами')\n",
    "    yield 'Пока!!!'\n",
    "    print('после последнего yield')\n",
    "    \n",
    "generator = f()"
   ]
  },
  {
   "cell_type": "code",
   "execution_count": 36,
   "metadata": {},
   "outputs": [
    {
     "name": "stdout",
     "output_type": "stream",
     "text": [
      "перед первым yield\n",
      "I AM INSIDE FOR LOOP: Привет!!!\n",
      "что-то между yield-ами\n",
      "I AM INSIDE FOR LOOP: Пока!!!\n",
      "после последнего yield\n"
     ]
    }
   ],
   "source": [
    "for x in generator:\n",
    "    print('I AM INSIDE FOR LOOP:', x)"
   ]
  },
  {
   "cell_type": "markdown",
   "metadata": {},
   "source": [
    "Получается что когда интепретатор доходит до **yeild** он возвращает то на что указывает **yeild** и затем останавливает исполнение функции. Если позвать функцию заново - мы продолжим с момента на котором остановились, т.е. мы запомнили предыдущее состояние."
   ]
  },
  {
   "cell_type": "code",
   "execution_count": 37,
   "metadata": {},
   "outputs": [],
   "source": [
    "def f():\n",
    "    print('перед первым yield')\n",
    "    yield 'Привет!!!'\n",
    "    return 'я return!!!!'\n",
    "    yield 'Пока!!!'\n",
    "    print('после последнего yield')\n",
    "    \n",
    "generator = f()"
   ]
  },
  {
   "cell_type": "code",
   "execution_count": 38,
   "metadata": {},
   "outputs": [
    {
     "name": "stdout",
     "output_type": "stream",
     "text": [
      "перед первым yield\n",
      "Привет!!!\n"
     ]
    }
   ],
   "source": [
    "for x in generator:\n",
    "    print(x)"
   ]
  },
  {
   "cell_type": "code",
   "execution_count": 39,
   "metadata": {},
   "outputs": [
    {
     "ename": "StopIteration",
     "evalue": "",
     "output_type": "error",
     "traceback": [
      "\u001B[0;31m---------------------------------------------------------------------------\u001B[0m",
      "\u001B[0;31mStopIteration\u001B[0m                             Traceback (most recent call last)",
      "Cell \u001B[0;32mIn[39], line 1\u001B[0m\n\u001B[0;32m----> 1\u001B[0m \u001B[38;5;28mprint\u001B[39m(\u001B[38;5;28;43mnext\u001B[39;49m\u001B[43m(\u001B[49m\u001B[43mgenerator\u001B[49m\u001B[43m)\u001B[49m)\n\u001B[1;32m      2\u001B[0m \u001B[38;5;28mprint\u001B[39m(\u001B[38;5;28mnext\u001B[39m(generator))\n",
      "\u001B[0;31mStopIteration\u001B[0m: "
     ]
    }
   ],
   "source": [
    "print(next(generator))\n",
    "print(next(generator))"
   ]
  },
  {
   "cell_type": "markdown",
   "metadata": {},
   "source": [
    "Упражнения:\n",
    "\n",
    "1. Напишите генератор my_range\n",
    "2. Генератор бесконечно генерирующий простые числа"
   ]
  },
  {
   "cell_type": "code",
   "execution_count": 56,
   "metadata": {},
   "outputs": [
    {
     "name": "stdout",
     "output_type": "stream",
     "text": [
      "['__class__', '__del__', '__delattr__', '__dir__', '__doc__', '__eq__', '__format__', '__ge__', '__getattribute__', '__getstate__', '__gt__', '__hash__', '__init__', '__init_subclass__', '__iter__', '__le__', '__lt__', '__name__', '__ne__', '__new__', '__next__', '__qualname__', '__reduce__', '__reduce_ex__', '__repr__', '__setattr__', '__sizeof__', '__str__', '__subclasshook__', 'close', 'gi_code', 'gi_frame', 'gi_running', 'gi_suspended', 'gi_yieldfrom', 'send', 'throw']\n",
      "10\n"
     ]
    }
   ],
   "source": [
    "start, end, step = 10, 100, 10\n",
    "start = start\n",
    "\n",
    "def my_range(start, end, step):\n",
    "    while start < end:\n",
    "        yield start\n",
    "        start += step\n",
    "\n",
    "print(dir(my_range(start, end, step)))\n",
    "next(my_range(start, end, step))\n",
    "\n",
    "print(start)"
   ]
  },
  {
   "cell_type": "code",
   "execution_count": 45,
   "metadata": {},
   "outputs": [
    {
     "name": "stdout",
     "output_type": "stream",
     "text": [
      "0 10 20 30 40 50 60 70 80 90 "
     ]
    }
   ],
   "source": [
    "r = my_range(0, 100, 10)\n",
    "for x in r:\n",
    "    print(x, end=' ')"
   ]
  },
  {
   "cell_type": "code",
   "execution_count": 86,
   "metadata": {},
   "outputs": [],
   "source": [
    "def primes():\n",
    "    i = 2\n",
    "    while True:\n",
    "        flag = True\n",
    "        j = 2\n",
    "        while j * j <= i:\n",
    "            if i % j == 0:\n",
    "                break\n",
    "            j += 1\n",
    "        else:\n",
    "            yield i\n",
    "        i += 1"
   ]
  },
  {
   "cell_type": "code",
   "execution_count": 87,
   "metadata": {},
   "outputs": [],
   "source": [
    "p = primes()"
   ]
  },
  {
   "cell_type": "code",
   "execution_count": 88,
   "metadata": {},
   "outputs": [
    {
     "name": "stdout",
     "output_type": "stream",
     "text": [
      "2 3 5 7 11 13 17 19 23 29 31 37 41 43 47 53 59 "
     ]
    }
   ],
   "source": [
    "for i, x in enumerate(p):\n",
    "    print(x, end=' ')\n",
    "    if i > 15:\n",
    "        break"
   ]
  },
  {
   "cell_type": "markdown",
   "metadata": {},
   "source": [
    "Если у **list comprehension** заменить скобки на круглые, то вернется не кортеж, а генератор:"
   ]
  },
  {
   "cell_type": "code",
   "execution_count": 89,
   "metadata": {},
   "outputs": [
    {
     "data": {
      "text/plain": "[1, 4, 9, 16, 25, 36, 49, 64, 81, 100]"
     },
     "execution_count": 89,
     "metadata": {},
     "output_type": "execute_result"
    }
   ],
   "source": [
    "[x*x for x in range(1, 11)]"
   ]
  },
  {
   "cell_type": "code",
   "execution_count": 90,
   "metadata": {},
   "outputs": [
    {
     "data": {
      "text/plain": "<generator object <genexpr> at 0x105631080>"
     },
     "execution_count": 90,
     "metadata": {},
     "output_type": "execute_result"
    }
   ],
   "source": [
    "(x*x for x in range(1, 11))"
   ]
  },
  {
   "cell_type": "code",
   "execution_count": 91,
   "metadata": {},
   "outputs": [
    {
     "name": "stdout",
     "output_type": "stream",
     "text": [
      "1 4 9 16 25 36 49 64 81 100 "
     ]
    }
   ],
   "source": [
    "g = (x*x for x in range(1, 11))\n",
    "for x in g:\n",
    "    print(x, end=' ')"
   ]
  },
  {
   "cell_type": "markdown",
   "metadata": {},
   "source": [
    "Конструктор list() отлично справляется с генераторами и итераторами:"
   ]
  },
  {
   "cell_type": "code",
   "execution_count": 92,
   "metadata": {},
   "outputs": [
    {
     "data": {
      "text/plain": "[1, 4, 9, 16, 25, 36, 49, 64, 81, 100]"
     },
     "execution_count": 92,
     "metadata": {},
     "output_type": "execute_result"
    }
   ],
   "source": [
    "g = (x*x for x in range(1, 11))\n",
    "\n",
    "list(g) # и другие iterable конструктора типа tuple, set и тд"
   ]
  },
  {
   "cell_type": "code",
   "execution_count": 93,
   "metadata": {},
   "outputs": [
    {
     "data": {
      "text/plain": "{0, 10, 20, 30, 40, 50, 60, 70, 80, 90}"
     },
     "execution_count": 93,
     "metadata": {},
     "output_type": "execute_result"
    }
   ],
   "source": [
    "set(my_range(0, 100, 10))"
   ]
  },
  {
   "cell_type": "code",
   "execution_count": 94,
   "metadata": {},
   "outputs": [],
   "source": [
    "r = my_range(0, 100, 10)"
   ]
  },
  {
   "cell_type": "code",
   "execution_count": 96,
   "metadata": {},
   "outputs": [
    {
     "data": {
      "text/plain": "[90, 80, 70, 60, 50, 40, 30, 20, 10, 0]"
     },
     "execution_count": 96,
     "metadata": {},
     "output_type": "execute_result"
    }
   ],
   "source": [
    "list(my_range(0, 100, 10))[::-1]"
   ]
  },
  {
   "cell_type": "code",
   "execution_count": 102,
   "outputs": [
    {
     "data": {
      "text/plain": "range(10, 20, -10)"
     },
     "execution_count": 102,
     "metadata": {},
     "output_type": "execute_result"
    }
   ],
   "source": [
    "range(0, 100, 10)[1:2:-1]"
   ],
   "metadata": {
    "collapsed": false
   }
  },
  {
   "cell_type": "code",
   "execution_count": 104,
   "metadata": {},
   "outputs": [
    {
     "ename": "TypeError",
     "evalue": "'generator' object is not subscriptable",
     "output_type": "error",
     "traceback": [
      "\u001B[0;31m---------------------------------------------------------------------------\u001B[0m",
      "\u001B[0;31mTypeError\u001B[0m                                 Traceback (most recent call last)",
      "Cell \u001B[0;32mIn[104], line 1\u001B[0m\n\u001B[0;32m----> 1\u001B[0m \u001B[38;5;28;01mfor\u001B[39;00m x \u001B[38;5;129;01min\u001B[39;00m \u001B[43mr\u001B[49m\u001B[43m[\u001B[49m\u001B[43m:\u001B[49m\u001B[43m:\u001B[49m\u001B[38;5;241;43m-\u001B[39;49m\u001B[38;5;241;43m1\u001B[39;49m\u001B[43m]\u001B[49m:\n\u001B[1;32m      2\u001B[0m     \u001B[38;5;28mprint\u001B[39m(x, end\u001B[38;5;241m=\u001B[39m\u001B[38;5;124m'\u001B[39m\u001B[38;5;124m \u001B[39m\u001B[38;5;124m'\u001B[39m)\n",
      "\u001B[0;31mTypeError\u001B[0m: 'generator' object is not subscriptable"
     ]
    }
   ],
   "source": [
    "for x in r[::-1]:\n",
    "    print(x, end=' ')"
   ]
  },
  {
   "cell_type": "markdown",
   "source": [
    "## Множественное наследование. MRO. Super\n",
    "\n",
    "Python поддерживает множественное наследование. Синтаксис очень прост:"
   ],
   "metadata": {
    "collapsed": false
   }
  },
  {
   "cell_type": "code",
   "execution_count": 106,
   "outputs": [],
   "source": [
    "class B:\n",
    "    att_b = 'I am the attribute of B!'\n",
    "\n",
    "class C:\n",
    "    att_c = 'I am the attribute of C!'\n",
    "\n",
    "class A(B, C):\n",
    "    pass"
   ],
   "metadata": {
    "collapsed": false
   }
  },
  {
   "cell_type": "code",
   "execution_count": 107,
   "outputs": [
    {
     "name": "stdout",
     "output_type": "stream",
     "text": [
      "I am the attribute of B!\n",
      "I am the attribute of C!\n"
     ]
    }
   ],
   "source": [
    "a = A()\n",
    "print(a.att_b, a.att_c, sep='\\n')"
   ],
   "metadata": {
    "collapsed": false
   }
  },
  {
   "cell_type": "markdown",
   "source": [
    "Упражнение: Adress, Person - соединить в один с помощью множественного наследования."
   ],
   "metadata": {
    "collapsed": false
   }
  },
  {
   "cell_type": "code",
   "execution_count": 148,
   "outputs": [],
   "source": [
    "class Address:\n",
    "    def __init__(self, street, city):\n",
    "        self.street = str(street)\n",
    "        self.city = str(city)\n",
    "\n",
    "    def show(self):\n",
    "        print(self.street)\n",
    "        print(self.city)\n",
    "\n",
    "class Person(Address):\n",
    "    def __init__(self, name, email):\n",
    "        Address.__init__(name, email)\n",
    "\n",
    "    def show(self):\n",
    "        print(self.street + ' ' + self.city)"
   ],
   "metadata": {
    "collapsed": false
   }
  },
  {
   "cell_type": "code",
   "execution_count": 149,
   "outputs": [],
   "source": [
    "class PersonAndAdress(Person, Address):\n",
    "    def __init__(self, name, email):\n",
    "        Person.__init__(self, name, email)"
   ],
   "metadata": {
    "collapsed": false
   }
  },
  {
   "cell_type": "code",
   "execution_count": 150,
   "outputs": [
    {
     "ename": "TypeError",
     "evalue": "Address.__init__() missing 1 required positional argument: 'city'",
     "output_type": "error",
     "traceback": [
      "\u001B[0;31m---------------------------------------------------------------------------\u001B[0m",
      "\u001B[0;31mTypeError\u001B[0m                                 Traceback (most recent call last)",
      "Cell \u001B[0;32mIn[150], line 1\u001B[0m\n\u001B[0;32m----> 1\u001B[0m p \u001B[38;5;241m=\u001B[39m \u001B[43mPersonAndAdress\u001B[49m\u001B[43m(\u001B[49m\u001B[38;5;124;43m'\u001B[39;49m\u001B[38;5;124;43mIvan\u001B[39;49m\u001B[38;5;124;43m'\u001B[39;49m\u001B[43m,\u001B[49m\u001B[43m \u001B[49m\u001B[38;5;124;43m'\u001B[39;49m\u001B[38;5;124;43mabc@gmail.com\u001B[39;49m\u001B[38;5;124;43m'\u001B[39;49m\u001B[43m)\u001B[49m\n",
      "Cell \u001B[0;32mIn[149], line 3\u001B[0m, in \u001B[0;36mPersonAndAdress.__init__\u001B[0;34m(self, name, email)\u001B[0m\n\u001B[1;32m      2\u001B[0m \u001B[38;5;28;01mdef\u001B[39;00m \u001B[38;5;21m__init__\u001B[39m(\u001B[38;5;28mself\u001B[39m, name, email):\n\u001B[0;32m----> 3\u001B[0m     \u001B[43mPerson\u001B[49m\u001B[38;5;241;43m.\u001B[39;49m\u001B[38;5;21;43m__init__\u001B[39;49m\u001B[43m(\u001B[49m\u001B[38;5;28;43mself\u001B[39;49m\u001B[43m,\u001B[49m\u001B[43m \u001B[49m\u001B[43mname\u001B[49m\u001B[43m,\u001B[49m\u001B[43m \u001B[49m\u001B[43memail\u001B[49m\u001B[43m)\u001B[49m\n",
      "Cell \u001B[0;32mIn[148], line 12\u001B[0m, in \u001B[0;36mPerson.__init__\u001B[0;34m(self, name, email)\u001B[0m\n\u001B[1;32m     11\u001B[0m \u001B[38;5;28;01mdef\u001B[39;00m \u001B[38;5;21m__init__\u001B[39m(\u001B[38;5;28mself\u001B[39m, name, email):\n\u001B[0;32m---> 12\u001B[0m     \u001B[43mAddress\u001B[49m\u001B[38;5;241;43m.\u001B[39;49m\u001B[38;5;21;43m__init__\u001B[39;49m\u001B[43m(\u001B[49m\u001B[43mname\u001B[49m\u001B[43m,\u001B[49m\u001B[43m \u001B[49m\u001B[43memail\u001B[49m\u001B[43m)\u001B[49m\n",
      "\u001B[0;31mTypeError\u001B[0m: Address.__init__() missing 1 required positional argument: 'city'"
     ]
    }
   ],
   "source": [
    "p = PersonAndAdress('Ivan', 'abc@gmail.com')"
   ],
   "metadata": {
    "collapsed": false
   }
  },
  {
   "cell_type": "code",
   "execution_count": 132,
   "outputs": [
    {
     "data": {
      "text/plain": "('Ivan', 'abc@gmail.com', 'Пушкина', 'Москва')"
     },
     "execution_count": 132,
     "metadata": {},
     "output_type": "execute_result"
    }
   ],
   "source": [
    "p.name, p.email, p.street, p.city"
   ],
   "metadata": {
    "collapsed": false
   }
  },
  {
   "cell_type": "code",
   "execution_count": 114,
   "outputs": [],
   "source": [
    "class PersonAndAdress(Person, Address):\n",
    "    def __init__(self, name, email, street, city):\n",
    "        super().__init__(name, email)\n",
    "        super(Person, self).__init__(street, city)\n",
    "\n",
    "# PersonAndAdress  ----> Person -----> Address"
   ],
   "metadata": {
    "collapsed": false
   }
  },
  {
   "cell_type": "code",
   "execution_count": 115,
   "outputs": [],
   "source": [
    "p = PersonAndAdress('Ivan', 'abc@gmail.com', 'Пушкина', 'Москва')"
   ],
   "metadata": {
    "collapsed": false
   }
  },
  {
   "cell_type": "code",
   "execution_count": 116,
   "outputs": [
    {
     "data": {
      "text/plain": "('Ivan', 'abc@gmail.com', 'Пушкина', 'Москва')"
     },
     "execution_count": 116,
     "metadata": {},
     "output_type": "execute_result"
    }
   ],
   "source": [
    "p.name, p.email, p.street, p.city"
   ],
   "metadata": {
    "collapsed": false
   }
  },
  {
   "cell_type": "markdown",
   "source": [
    "Возможность создавать множественные наследования может вести к довольно громоздким и запутанным графам отношений между классами. В таком случае, если у текущего класса есть несколько предков, у которых аттрибуты имеют одинаковые имена, непонятно в каком порядке этот аттрибут ищется.\n",
    "\n",
    "Например:\n",
    "\n",
    "![ex](https://i.imgur.com/Eemp2jY.png)"
   ],
   "metadata": {
    "collapsed": false
   }
  },
  {
   "cell_type": "code",
   "execution_count": 117,
   "outputs": [],
   "source": [
    "class O:\n",
    "    pass\n",
    "class A(O):\n",
    "    pass\n",
    "class B(O):\n",
    "    pass\n",
    "class C(O):\n",
    "    pass\n",
    "class D(O):\n",
    "    pass\n",
    "class E(O):\n",
    "    pass\n",
    "\n",
    "class K1(A, B, C):\n",
    "    pass\n",
    "class K2(B, D):\n",
    "    pass\n",
    "class K3(C, D, E):\n",
    "    pass\n",
    "\n",
    "class Z(K1, K2, K3):\n",
    "    pass"
   ],
   "metadata": {
    "collapsed": false
   }
  },
  {
   "cell_type": "markdown",
   "source": [
    "Команда **mro (METHOD RESOLUTION ORDER)** выводит порядок разрешения методов:"
   ],
   "metadata": {
    "collapsed": false
   }
  },
  {
   "cell_type": "code",
   "execution_count": 119,
   "outputs": [
    {
     "name": "stdout",
     "output_type": "stream",
     "text": [
      "Z -> K1 -> A -> K2 -> B -> K3 -> C -> D -> E -> O -> object\n"
     ]
    }
   ],
   "source": [
    "def print_mro(T):\n",
    "    print(*[c.__name__ for c in T.mro()], sep=' -> ')\n",
    "print_mro(Z)"
   ],
   "metadata": {
    "collapsed": false
   }
  },
  {
   "cell_type": "markdown",
   "source": [
    "В каком порядке?\n",
    "\n",
    "Ответ: алгоритм **C3 linearization**. О нем можно почитать здесь:\n",
    "\n",
    "- https://en.wikipedia.org/wiki/C3_linearization\n",
    "- https://dl.acm.org/doi/pdf/10.1145/236337.236343\n",
    "\n",
    "Важно понимать что сохраняется здравый смысл:\n",
    "- если имеем ```class A(B, C, D)```, то в MRO однозначно имеем что A идет до В, В до C и С до D (возможно между ними что-то есть)\n",
    "- родители идут до grandparents и т.д.\n",
    "- object всегда последний элемент"
   ],
   "metadata": {
    "collapsed": false
   }
  },
  {
   "cell_type": "markdown",
   "source": [
    "Поэтому в простых случаях, типа diamond inheritance все ясно."
   ],
   "metadata": {
    "collapsed": false
   }
  },
  {
   "cell_type": "code",
   "execution_count": 152,
   "outputs": [],
   "source": [
    "class X:\n",
    "    pass\n",
    "class Y:\n",
    "    pass\n",
    "class A(X, Y):\n",
    "    pass\n",
    "class B(X, Y):\n",
    "    pass\n",
    "class G(A, B):\n",
    "    pass\n",
    "\n",
    "# Что произошло? Придумайте еще похожий пример"
   ],
   "metadata": {
    "collapsed": false
   }
  },
  {
   "cell_type": "markdown",
   "metadata": {},
   "source": [
    "## @staticmethod\n",
    "\n",
    "Встроенный декоратор для определения статичных методов - без превязки к классу или его экземпляра. Идея в том что этот метод логично связан с нашим классом, но ему не нужны ни класс, ни экземпляр.\n",
    "\n",
    "## @classmethod\n",
    "\n",
    "Встроенный декоратор для определения метода класса. В данном случае, первым аргументов идет не экземпляр **self**, а сам класс **cls**. Позволяет доставать аттрибуты класса и часто используется как альтернативный конструктор\n",
    "\n",
    "\n",
    "Оба декоратора еще хороши тем, что само их наличие сразу говорит о том какой тип метода написан."
   ]
  },
  {
   "cell_type": "code",
   "execution_count": 95,
   "metadata": {},
   "outputs": [],
   "source": [
    "class A:\n",
    "    def f():\n",
    "        print(\"hi\")"
   ]
  },
  {
   "cell_type": "code",
   "execution_count": 96,
   "metadata": {},
   "outputs": [
    {
     "name": "stdout",
     "output_type": "stream",
     "text": [
      "hi\n"
     ]
    }
   ],
   "source": [
    "A.f()"
   ]
  },
  {
   "cell_type": "code",
   "execution_count": 97,
   "metadata": {},
   "outputs": [
    {
     "ename": "TypeError",
     "evalue": "f() takes 0 positional arguments but 1 was given",
     "output_type": "error",
     "traceback": [
      "\u001B[0;31m---------------------------------------------------------------------------\u001B[0m",
      "\u001B[0;31mTypeError\u001B[0m                                 Traceback (most recent call last)",
      "\u001B[0;32m<ipython-input-97-b35c8cfd9a3d>\u001B[0m in \u001B[0;36m<module>\u001B[0;34m\u001B[0m\n\u001B[0;32m----> 1\u001B[0;31m \u001B[0mA\u001B[0m\u001B[0;34m(\u001B[0m\u001B[0;34m)\u001B[0m\u001B[0;34m.\u001B[0m\u001B[0mf\u001B[0m\u001B[0;34m(\u001B[0m\u001B[0;34m)\u001B[0m\u001B[0;34m\u001B[0m\u001B[0;34m\u001B[0m\u001B[0m\n\u001B[0m",
      "\u001B[0;31mTypeError\u001B[0m: f() takes 0 positional arguments but 1 was given"
     ]
    }
   ],
   "source": [
    "A().f()"
   ]
  },
  {
   "cell_type": "code",
   "execution_count": 98,
   "metadata": {},
   "outputs": [],
   "source": [
    "class A:\n",
    "    @staticmethod\n",
    "    def f():\n",
    "        print(\"hi\")"
   ]
  },
  {
   "cell_type": "code",
   "execution_count": 99,
   "metadata": {},
   "outputs": [
    {
     "name": "stdout",
     "output_type": "stream",
     "text": [
      "hi\n",
      "hi\n"
     ]
    }
   ],
   "source": [
    "A.f()\n",
    "A().f()"
   ]
  },
  {
   "cell_type": "code",
   "execution_count": 100,
   "metadata": {},
   "outputs": [],
   "source": [
    "class Date(object):\n",
    "    \n",
    "    def __init__(self, day=0, month=0, year=0):\n",
    "        self.day = day\n",
    "        self.month = month\n",
    "        self.year = year\n",
    "\n",
    "    @classmethod\n",
    "    def from_string(cls, date_as_string):\n",
    "        day, month, year = map(int, date_as_string.split('-'))\n",
    "        date1 = cls(day, month, year)\n",
    "        return date1\n",
    "\n",
    "    @staticmethod\n",
    "    def is_date_valid(date_as_string):\n",
    "        day, month, year = map(int, date_as_string.split('-'))\n",
    "        return day <= 31 and month <= 12 and year <= 3999\n",
    "\n",
    "date2 = Date.from_string('30-11-2022')\n",
    "is_date = Date.is_date_valid('30-11-2022')"
   ]
  },
  {
   "cell_type": "code",
   "execution_count": 101,
   "metadata": {},
   "outputs": [
    {
     "data": {
      "text/plain": [
       "(30, 11, 2022)"
      ]
     },
     "execution_count": 101,
     "metadata": {},
     "output_type": "execute_result"
    }
   ],
   "source": [
    "date2.day, date2.month, date2.year"
   ]
  },
  {
   "cell_type": "code",
   "execution_count": null,
   "metadata": {},
   "outputs": [],
   "source": [
    "# A)\n",
    "# B)\n",
    "# C)"
   ]
  },
  {
   "cell_type": "markdown",
   "metadata": {},
   "source": [
    "## Датаклассы"
   ]
  },
  {
   "cell_type": "markdown",
   "metadata": {},
   "source": [
    "Рассмотрим случай, когда наш класс совсем прост - есть лишь поля (аттрибуты) экземпляров и нет никаких методов:"
   ]
  },
  {
   "cell_type": "code",
   "execution_count": 122,
   "metadata": {},
   "outputs": [],
   "source": [
    "class Person:\n",
    "    def __init__(self, name, surname, email):\n",
    "        self.name = name\n",
    "        self.surname = surname\n",
    "        self.email = email"
   ]
  },
  {
   "cell_type": "code",
   "execution_count": 123,
   "metadata": {},
   "outputs": [],
   "source": [
    "p = Person('Ivan', 'Ivanov', 'abc@gmail.com')"
   ]
  },
  {
   "cell_type": "code",
   "execution_count": null,
   "metadata": {},
   "outputs": [],
   "source": [
    "class Point:\n",
    "    def __init__(self, x, y):\n",
    "        self.x = x\n",
    "        self.y = y"
   ]
  },
  {
   "cell_type": "markdown",
   "metadata": {},
   "source": [
    "В таких случаях Python предлагает альтернативный синтаксис с помощью декоратора **@dataclass**:"
   ]
  },
  {
   "cell_type": "code",
   "execution_count": 5,
   "metadata": {},
   "outputs": [],
   "source": [
    "from dataclasses import dataclass\n",
    "\n",
    "@dataclass\n",
    "class Person:\n",
    "    name: str\n",
    "    surname: str\n",
    "    email: str  = 'Person_Email'"
   ]
  },
  {
   "cell_type": "code",
   "execution_count": 6,
   "metadata": {},
   "outputs": [],
   "source": [
    "p = Person('Ivan', 'Ivanov')"
   ]
  },
  {
   "cell_type": "code",
   "execution_count": 8,
   "metadata": {},
   "outputs": [
    {
     "data": {
      "text/plain": [
       "'Person_Email'"
      ]
     },
     "execution_count": 8,
     "metadata": {},
     "output_type": "execute_result"
    }
   ],
   "source": [
    "p.email"
   ]
  },
  {
   "cell_type": "markdown",
   "metadata": {},
   "source": [
    "Можно задавать параметры в декораторе, например делать аттрибуты неизменяемыми"
   ]
  },
  {
   "cell_type": "code",
   "execution_count": 9,
   "metadata": {},
   "outputs": [],
   "source": [
    "@dataclass(frozen=True)\n",
    "class Person:\n",
    "    name: str\n",
    "    surname: str\n",
    "    email: str"
   ]
  },
  {
   "cell_type": "code",
   "execution_count": 10,
   "metadata": {},
   "outputs": [],
   "source": [
    "p = Person('Ivan', 'Ivanov', 'abc@gmail.com')"
   ]
  },
  {
   "cell_type": "code",
   "execution_count": 11,
   "metadata": {},
   "outputs": [
    {
     "ename": "FrozenInstanceError",
     "evalue": "cannot assign to field 'name'",
     "output_type": "error",
     "traceback": [
      "\u001B[0;31m---------------------------------------------------------------------------\u001B[0m",
      "\u001B[0;31mFrozenInstanceError\u001B[0m                       Traceback (most recent call last)",
      "\u001B[0;32m<ipython-input-11-5215a17b59d4>\u001B[0m in \u001B[0;36m<module>\u001B[0;34m\u001B[0m\n\u001B[0;32m----> 1\u001B[0;31m \u001B[0mp\u001B[0m\u001B[0;34m.\u001B[0m\u001B[0mname\u001B[0m \u001B[0;34m=\u001B[0m \u001B[0;34m'Oleg'\u001B[0m\u001B[0;34m\u001B[0m\u001B[0;34m\u001B[0m\u001B[0m\n\u001B[0m",
      "\u001B[0;32m<string>\u001B[0m in \u001B[0;36m__setattr__\u001B[0;34m(self, name, value)\u001B[0m\n",
      "\u001B[0;31mFrozenInstanceError\u001B[0m: cannot assign to field 'name'"
     ]
    }
   ],
   "source": [
    "p.name = 'Oleg'"
   ]
  },
  {
   "cell_type": "code",
   "execution_count": null,
   "metadata": {},
   "outputs": [],
   "source": []
  }
 ],
 "metadata": {
  "kernelspec": {
   "display_name": "Python 3",
   "language": "python",
   "name": "python3"
  },
  "language_info": {
   "codemirror_mode": {
    "name": "ipython",
    "version": 3
   },
   "file_extension": ".py",
   "mimetype": "text/x-python",
   "name": "python",
   "nbconvert_exporter": "python",
   "pygments_lexer": "ipython3",
   "version": "3.6.9"
  }
 },
 "nbformat": 4,
 "nbformat_minor": 2
}
