{
 "cells": [
  {
   "cell_type": "markdown",
   "source": [
    "## Radix sort (цифровая сортировка)"
   ],
   "metadata": {
    "collapsed": false
   }
  },
  {
   "cell_type": "code",
   "execution_count": null,
   "metadata": {
    "collapsed": true
   },
   "outputs": [],
   "source": [
    "LEN_DICT = 26\n",
    "DICT_BEGIN = ord('a')\n",
    "\n",
    "\n",
    "def radix_sort(a: list): # O(k(n + m))\n",
    "    b = a.copy()\n",
    "    for i in range(k): # O(k)\n",
    "        cnt = [0] * LEN_DICT\n",
    "        for elem in b: # O(n)\n",
    "            cnt[ord(elem[k - i - 1]) - DICT_BEGIN] += 1\n",
    "        p = [0] * LEN_DICT\n",
    "        for j in range(1, LEN_DICT): # O(m)\n",
    "            p[j] = cnt[j - 1] + p[j - 1]\n",
    "        print(p)\n",
    "        for elem in b.copy(): # O(n)\n",
    "            b[p[ord(elem[k - i - 1]) - DICT_BEGIN]] = elem\n",
    "            p[ord(elem[k - i - 1]) - DICT_BEGIN] += 1\n",
    "    return b\n",
    "\n",
    "\n",
    "k = 3\n",
    "a = ['bbb', 'adb', 'afb', 'aac', 'bba', 'caf', 'fba']\n",
    "a = radix_sort(a)\n",
    "print(*a)"
   ]
  }
 ],
 "metadata": {
  "kernelspec": {
   "display_name": "Python 3",
   "language": "python",
   "name": "python3"
  },
  "language_info": {
   "codemirror_mode": {
    "name": "ipython",
    "version": 2
   },
   "file_extension": ".py",
   "mimetype": "text/x-python",
   "name": "python",
   "nbconvert_exporter": "python",
   "pygments_lexer": "ipython2",
   "version": "2.7.6"
  }
 },
 "nbformat": 4,
 "nbformat_minor": 0
}
