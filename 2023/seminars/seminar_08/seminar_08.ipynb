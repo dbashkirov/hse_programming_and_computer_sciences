{
 "cells": [
  {
   "cell_type": "markdown",
   "source": [
    "## @property\n",
    "\n",
    "Давайте напишем родительский класс `Vehicle`. У класса `Vehicle` должны быть приватные атрибуты `power`, `cost`, `weight` и `name`"
   ],
   "metadata": {
    "collapsed": false
   }
  },
  {
   "cell_type": "code",
   "execution_count": 2,
   "metadata": {
    "collapsed": true
   },
   "outputs": [
    {
     "name": "stdout",
     "output_type": "stream",
     "text": [
      "Возвращаю значение\n",
      "1000\n",
      "Присваиваю значение\n",
      "Возвращаю значение\n",
      "100\n"
     ]
    }
   ],
   "source": [
    "class Vehicle:\n",
    "\n",
    "    def __init__(self, power: float, cost: float, weight: float, name: str):\n",
    "        self.__power = power\n",
    "        self.__cost = cost\n",
    "        self.__weight = weight\n",
    "        self.__name = name\n",
    "\n",
    "    def get_power(self): # getter\n",
    "        print('Возвращаю значение')\n",
    "        return self.__power\n",
    "\n",
    "    def set_power(self, value: float): # setter\n",
    "        print('Присваиваю значение')\n",
    "        if value < 0:\n",
    "            raise ValueError('Negative power')\n",
    "        self.__power = value\n",
    "\n",
    "\n",
    "v = Vehicle(1000, 1e6, 1e6, \"Car\")\n",
    "print(v.get_power())\n",
    "v.set_power(100)\n",
    "print(v.get_power())"
   ]
  },
  {
   "cell_type": "markdown",
   "source": [
    "Добавим свойство `power`"
   ],
   "metadata": {
    "collapsed": false
   }
  },
  {
   "cell_type": "code",
   "execution_count": 3,
   "outputs": [
    {
     "name": "stdout",
     "output_type": "stream",
     "text": [
      "Возвращаю значение\n",
      "1000\n",
      "Присваиваю значение\n",
      "Возвращаю значение\n",
      "100\n"
     ]
    }
   ],
   "source": [
    "class Vehicle:\n",
    "\n",
    "    def __init__(self, power: float, cost: float, weight: float, name: str):\n",
    "        self.__power = power\n",
    "        self.__cost = cost\n",
    "        self.__weight = weight\n",
    "        self.__name = name\n",
    "\n",
    "    def get_power(self):\n",
    "        print('Возвращаю значение')\n",
    "        return self.__power\n",
    "\n",
    "    def set_power(self, value: float):\n",
    "        print('Присваиваю значение')\n",
    "        if value < 0:\n",
    "            raise ValueError('Negative power')\n",
    "        self.__power = value\n",
    "\n",
    "    power = property(get_power, set_power)\n",
    "    # power = property()\n",
    "    # power = power.setter(set_power)\n",
    "    # power = power.getter(get_power)\n",
    "\n",
    "\n",
    "v = Vehicle(1000, 1e6, 1e6, \"Car\")\n",
    "print(v.power)\n",
    "v.power = 100\n",
    "print(v.power)"
   ],
   "metadata": {
    "collapsed": false
   }
  },
  {
   "cell_type": "markdown",
   "source": [
    "Уберем функциональное дублирование"
   ],
   "metadata": {
    "collapsed": false
   }
  },
  {
   "cell_type": "code",
   "execution_count": null,
   "outputs": [],
   "source": [
    "class Vehicle:\n",
    "\n",
    "    def __init__(self, power: float, cost: float, weight: float, name: str):\n",
    "        self.__power = power\n",
    "        self.__cost = cost\n",
    "        self.__weight = weight\n",
    "        self.__name = name\n",
    "\n",
    "    @property # обязательно перед getter\n",
    "    def power(self):\n",
    "        print('Возвращаю значение')\n",
    "        return self.__power\n",
    "\n",
    "    @power.setter\n",
    "    def power(self, value: float): # имена у сеттера и геттера должны обязательно совпадать\n",
    "        print('Присваиваю значение')\n",
    "        if value < 0:\n",
    "            raise ValueError('Negative power')\n",
    "        self.__power = value\n",
    "\n",
    "    @power.deleter\n",
    "    def power(self):\n",
    "        del self.__power"
   ],
   "metadata": {
    "collapsed": false
   }
  },
  {
   "cell_type": "markdown",
   "source": [
    "Написать генератор-функцию `joinseq(seq0, seq1, …)`, принимающую на вход произвольное количество (возможно, бесконечных) последовательностей. Порождаемый ею генератор должен всякий раз возвращать наименьший из начальных элементов этих последовательностей. Если таких несколько, используется самый первый. Если последовательность закончилась, она больше не учитывается. Итератор завершается, когда все последовательности иссякли.\n",
    "\n",
    "Пример входных данных:\n",
    "```\n",
    "print(\"\".join(joinseq(\"abs\", \"qr\", \"azt\"))) # aabqrszt\n",
    "```"
   ],
   "metadata": {
    "collapsed": false
   }
  },
  {
   "cell_type": "code",
   "execution_count": null,
   "outputs": [],
   "source": [],
   "metadata": {
    "collapsed": false
   }
  },
  {
   "cell_type": "markdown",
   "source": [
    "Написать функцию `checkcomm(fun, *args)`, которой передаётся не менее одного параметра. Параметр fun — это некоторая n-местная функция, где n — это длина args. `checkcomm()` должна возвращать `True`, если функция `fun()` на заданных параметрах коммутативна, то есть в каком бы порядке они ей не передавались, результат одинаков, и False в противном случае. Гарантируется, что во всех случаях функция вычислима, а возвращаемые ею значения — сравнимы на \"==\".\n",
    "\n",
    "Пример входных данных:\n",
    "```\n",
    "print(checkcomm(max, 1, 9, 2, 7, 3, 6)) # True\n",
    "```"
   ],
   "metadata": {
    "collapsed": false
   }
  },
  {
   "cell_type": "code",
   "execution_count": null,
   "outputs": [],
   "source": [],
   "metadata": {
    "collapsed": false
   }
  },
  {
   "cell_type": "markdown",
   "source": [
    "Написать генератор-функцию `PiGen()`, которая будет возвращать односимвольные строки — знаки числа Пи (включая 3 и точку). Первая тысяча таких знаков должна быть точной. Дополнительные требования:\n",
    "\n",
    "- Нельзя заранее задавать в виде константы само число Пи или иные данные с точностью более 20 знаков\n",
    "- Нельзя вычислять всю тысячу знаков заранее, а потом выдавать их\n",
    "\n",
    "Пример входных данных:\n",
    "```\n",
    "print(*(c[0] for c in zip(PiGen(), range(30))))\n",
    "# 3 . 1 4 1 5 9 2 6 5 3 5 8 9 7 9 3 2 3 8 4 6 2 6 4 3 3 8 3 2\n",
    "```\n",
    "\n",
    "Может помочь [Алгоритм Чудновского](https://ru.wikipedia.org/wiki/%D0%90%D0%BB%D0%B3%D0%BE%D1%80%D0%B8%D1%82%D0%BC_%D0%A7%D1%83%D0%B4%D0%BD%D0%BE%D0%B2%D1%81%D0%BA%D0%BE%D0%B3%D0%BE)"
   ],
   "metadata": {
    "collapsed": false
   }
  },
  {
   "cell_type": "code",
   "execution_count": null,
   "outputs": [],
   "source": [],
   "metadata": {
    "collapsed": false,
    "pycharm": {
     "is_executing": true
    }
   }
  }
 ],
 "metadata": {
  "kernelspec": {
   "display_name": "Python 3",
   "language": "python",
   "name": "python3"
  },
  "language_info": {
   "codemirror_mode": {
    "name": "ipython",
    "version": 2
   },
   "file_extension": ".py",
   "mimetype": "text/x-python",
   "name": "python",
   "nbconvert_exporter": "python",
   "pygments_lexer": "ipython2",
   "version": "2.7.6"
  }
 },
 "nbformat": 4,
 "nbformat_minor": 0
}
