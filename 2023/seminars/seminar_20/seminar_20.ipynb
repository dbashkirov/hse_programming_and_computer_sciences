{
 "cells": [
  {
   "cell_type": "markdown",
   "source": [
    "#### Задача\n",
    "\n",
    "Простой неориентированный граф задан матрицей смежности. Найдите количество ребер в графе.\n",
    "\n",
    "```\n",
    "3\n",
    "0 1 1\n",
    "1 0 1\n",
    "1 1 0\n",
    "```\n",
    "```\n",
    "3\n",
    "```"
   ],
   "metadata": {
    "collapsed": false
   }
  },
  {
   "cell_type": "code",
   "execution_count": null,
   "outputs": [],
   "source": [],
   "metadata": {
    "collapsed": false
   }
  },
  {
   "cell_type": "markdown",
   "source": [
    "#### Задача\n",
    "\n",
    "По матрице $N×N$ из нулей и единиц определите, может ли данная матрица быть матрицей смежности простого неориентированного графа.\n",
    "\n",
    "```\n",
    "3\n",
    "0 1 1\n",
    "1 0 1\n",
    "1 1 0\n",
    "```\n",
    "```\n",
    "YES\n",
    "```\n",
    "```\n",
    "3\n",
    "0 1 0\n",
    "1 0 1\n",
    "1 1 0\n",
    "```\n",
    "```\n",
    "NO\n",
    "```"
   ],
   "metadata": {
    "collapsed": false
   }
  },
  {
   "cell_type": "code",
   "execution_count": null,
   "outputs": [],
   "source": [],
   "metadata": {
    "collapsed": false
   }
  },
  {
   "cell_type": "markdown",
   "source": [
    "#### Задача\n",
    "\n",
    "Вершина ориентированного графа называется истоком, если в нее не входит ни одно ребро, и стоком, если из нее не выходит ни одного ребра.\n",
    "\n",
    "Ориентированный граф задан матрицей смежности. Найдите все его вершины-истоки и все вершины-стоки.\n",
    "\n",
    "В первой строке выведите $K$ — число истоков в графе, затем номера вершин, являющихся истоками в порядке возрастания. Во второй строке выведите информацию о стоках в том же формате.\n",
    "\n",
    "```\n",
    "5\n",
    "0 0 0 0 0\n",
    "0 0 0 0 1\n",
    "1 1 0 0 0\n",
    "0 0 0 0 0\n",
    "0 0 0 0 0\n",
    "```\n",
    "```\n",
    "2 3 4\n",
    "3 1 4 5\n",
    "```\n",
    "```\n",
    "4\n",
    "0 1 0 0\n",
    "0 0 1 0\n",
    "1 0 0 0\n",
    "0 0 0 0\n",
    "```\n",
    "```\n",
    "1 4\n",
    "1 4\n",
    "```"
   ],
   "metadata": {
    "collapsed": false
   }
  },
  {
   "cell_type": "code",
   "execution_count": 5,
   "outputs": [
    {
     "name": "stdout",
     "output_type": "stream",
     "text": [
      "2 3 4\n",
      "3 1 4 5\n"
     ]
    }
   ],
   "source": [
    "# n = int(input())\n",
    "# a = [list(map(int, input().split())) for _ in range(n)]\n",
    "# print(a)\n",
    "n = 5\n",
    "a = [[0, 0, 0, 0, 0], [0, 0, 0, 0, 1], [1, 1, 0, 0, 0], [0, 0, 0, 0, 0], [0, 0, 0, 0, 0]]\n",
    "\n",
    "g = []\n",
    "for _ in range(n):\n",
    "    g.append([])\n",
    "\n",
    "for i in range(n):\n",
    "    for j in range(n):\n",
    "        if a[i][j] == 1:\n",
    "            g[i].append(j)\n",
    "\n",
    "\n",
    "used = [0] * n\n",
    "in_edges = [0] * n\n",
    "out_edges = [0] * n\n",
    "\n",
    "\n",
    "def dfs(v):\n",
    "    used[v] = 1\n",
    "    for u in g[v]:\n",
    "        out_edges[v] += 1\n",
    "        in_edges[u] += 1\n",
    "        if used[u] == 0:\n",
    "            dfs(u)\n",
    "\n",
    "\n",
    "for i in range(n):\n",
    "    if not used[i]:\n",
    "        dfs(i)\n",
    "\n",
    "origins = [v + 1 for v in range(n) if in_edges[v] == 0]\n",
    "print(len(origins), *origins)\n",
    "drain = [v + 1 for v in range(n) if out_edges[v] == 0]\n",
    "print(len(drain), *drain)"
   ],
   "metadata": {
    "collapsed": false
   }
  },
  {
   "cell_type": "markdown",
   "source": [
    "#### Задача\n",
    "\n",
    "Дан неориентированный невзвешенный граф. Необходимо определить, является ли он деревом.\n",
    "\n",
    "```\n",
    "6\n",
    "0 1 1 0 0 0\n",
    "1 0 1 0 0 0\n",
    "1 1 0 0 0 0\n",
    "0 0 0 0 1 0\n",
    "0 0 0 1 0 0\n",
    "0 0 0 0 0 0\n",
    "```\n",
    "```\n",
    "NO\n",
    "```\n",
    "\n",
    "```\n",
    "3\n",
    "0 1 0\n",
    "1 0 1\n",
    "0 1 0\n",
    "```\n",
    "```\n",
    "YES\n",
    "```"
   ],
   "metadata": {
    "collapsed": false
   }
  },
  {
   "cell_type": "code",
   "execution_count": 7,
   "metadata": {
    "collapsed": true
   },
   "outputs": [
    {
     "name": "stdout",
     "output_type": "stream",
     "text": [
      "NO\n"
     ]
    }
   ],
   "source": [
    "n = int(input())\n",
    "a = [list(map(int, input().split())) for _ in range(n)]\n",
    "\n",
    "g = []\n",
    "for _ in range(n):\n",
    "    g.append([])\n",
    "\n",
    "for i in range(n):\n",
    "    for j in range(n):\n",
    "        if a[i][j] == 1:\n",
    "            g[i].append(j)\n",
    "\n",
    "\n",
    "used = [0] * n\n",
    "\n",
    "\n",
    "def dfs(v):\n",
    "    used[v] = 1\n",
    "    for u in g[v]:\n",
    "        if used[u] == 0:\n",
    "            dfs(u)\n",
    "\n",
    "\n",
    "cnt = 0\n",
    "for i in range(n):\n",
    "    if not used[i]:\n",
    "        cnt += 1\n",
    "        dfs(i)\n",
    "\n",
    "edges = sum([sum(row) for row in a]) // 2\n",
    "if cnt == 1 and edges == n - 1:\n",
    "    print(\"YES\")\n",
    "else:\n",
    "    print(\"NO\")"
   ]
  },
  {
   "cell_type": "code",
   "execution_count": null,
   "outputs": [],
   "source": [
    "\"\"\"\n",
    "6\n",
    "0 1 1 0 0 0\n",
    "1 0 1 0 0 0\n",
    "1 1 0 0 0 0\n",
    "0 0 0 0 1 0\n",
    "0 0 0 1 0 0\n",
    "0 0 0 0 0 0\n",
    "\"\"\""
   ],
   "metadata": {
    "collapsed": false
   }
  },
  {
   "cell_type": "code",
   "execution_count": null,
   "outputs": [],
   "source": [],
   "metadata": {
    "collapsed": false
   }
  }
 ],
 "metadata": {
  "kernelspec": {
   "display_name": "Python 3",
   "language": "python",
   "name": "python3"
  },
  "language_info": {
   "codemirror_mode": {
    "name": "ipython",
    "version": 2
   },
   "file_extension": ".py",
   "mimetype": "text/x-python",
   "name": "python",
   "nbconvert_exporter": "python",
   "pygments_lexer": "ipython2",
   "version": "2.7.6"
  }
 },
 "nbformat": 4,
 "nbformat_minor": 0
}
