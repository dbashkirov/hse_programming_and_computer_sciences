{
 "cells": [
  {
   "cell_type": "markdown",
   "source": [
    "#### Задача\n",
    "\n",
    "Простой неориентированный граф задан матрицей смежности. Найдите количество ребер в графе.\n",
    "\n",
    "```\n",
    "3\n",
    "0 1 1\n",
    "1 0 1\n",
    "1 1 0\n",
    "```\n",
    "```\n",
    "3\n",
    "```"
   ],
   "metadata": {
    "collapsed": false
   }
  },
  {
   "cell_type": "code",
   "execution_count": null,
   "outputs": [],
   "source": [],
   "metadata": {
    "collapsed": false
   }
  },
  {
   "cell_type": "markdown",
   "source": [
    "#### Задача\n",
    "\n",
    "По матрице $N×N$ из нулей и единиц определите, может ли данная матрица быть матрицей смежности простого неориентированного графа.\n",
    "\n",
    "```\n",
    "3\n",
    "0 1 1\n",
    "1 0 1\n",
    "1 1 0\n",
    "```\n",
    "```\n",
    "YES\n",
    "```\n",
    "```\n",
    "3\n",
    "0 1 0\n",
    "1 0 1\n",
    "1 1 0\n",
    "```\n",
    "```\n",
    "NO\n",
    "```"
   ],
   "metadata": {
    "collapsed": false
   }
  },
  {
   "cell_type": "code",
   "execution_count": null,
   "outputs": [],
   "source": [],
   "metadata": {
    "collapsed": false
   }
  },
  {
   "cell_type": "markdown",
   "source": [
    "#### Задача\n",
    "\n",
    "Вершина ориентированного графа называется истоком, если в нее не входит ни одно ребро, и стоком, если из нее не выходит ни одного ребра.\n",
    "\n",
    "Ориентированный граф задан матрицей смежности. Найдите все его вершины-истоки и все вершины-стоки.\n",
    "\n",
    "В первой строке выведите $K$ — число истоков в графе, затем номера вершин, являющихся истоками в порядке возрастания. Во второй строке выведите информацию о стоках в том же формате.\n",
    "\n",
    "```\n",
    "5\n",
    "0 0 0 0 0\n",
    "0 0 0 0 1\n",
    "1 1 0 0 0\n",
    "0 0 0 0 0\n",
    "0 0 0 0 0\n",
    "```\n",
    "```\n",
    "2 3 4\n",
    "3 1 4 5\n",
    "```"
   ],
   "metadata": {
    "collapsed": false
   }
  },
  {
   "cell_type": "code",
   "execution_count": null,
   "outputs": [],
   "source": [],
   "metadata": {
    "collapsed": false
   }
  },
  {
   "cell_type": "markdown",
   "source": [
    "#### Задача\n",
    "\n",
    "Дан неориентированный невзвешенный граф. Необходимо определить, является ли он деревом.\n",
    "\n",
    "```\n",
    "6\n",
    "0 1 1 0 0 0\n",
    "1 0 1 0 0 0\n",
    "1 1 0 0 0 0\n",
    "0 0 0 0 1 0\n",
    "0 0 0 1 0 0\n",
    "0 0 0 0 0 0\n",
    "```\n",
    "```\n",
    "NO\n",
    "```\n",
    "\n",
    "```\n",
    "3\n",
    "0 1 0\n",
    "1 0 1\n",
    "0 1 0\n",
    "```\n",
    "```\n",
    "YES\n",
    "```"
   ],
   "metadata": {
    "collapsed": false
   }
  },
  {
   "cell_type": "code",
   "execution_count": null,
   "metadata": {
    "collapsed": true
   },
   "outputs": [],
   "source": []
  }
 ],
 "metadata": {
  "kernelspec": {
   "display_name": "Python 3",
   "language": "python",
   "name": "python3"
  },
  "language_info": {
   "codemirror_mode": {
    "name": "ipython",
    "version": 2
   },
   "file_extension": ".py",
   "mimetype": "text/x-python",
   "name": "python",
   "nbconvert_exporter": "python",
   "pygments_lexer": "ipython2",
   "version": "2.7.6"
  }
 },
 "nbformat": 4,
 "nbformat_minor": 0
}
