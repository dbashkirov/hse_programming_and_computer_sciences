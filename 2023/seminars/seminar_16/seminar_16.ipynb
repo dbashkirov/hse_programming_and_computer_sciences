{
 "cells": [
  {
   "cell_type": "markdown",
   "source": [
    "### Задача\n",
    "\n",
    "Дан массив целых чисел `temperatures`. Нужно вернуть такой массив `res`, что `res[i]` это число дней, которое нужно ждать более теплой температуры. Если такого дня нет, то `res[i] == 0`.\n",
    "\n",
    "```\n",
    "Input: temperatures = [73,74,75,71,69,72,76,73]\n",
    "Output: [1,1,4,2,1,1,0,0]\n",
    "```"
   ],
   "metadata": {
    "collapsed": false
   }
  },
  {
   "cell_type": "code",
   "execution_count": null,
   "metadata": {
    "collapsed": true
   },
   "outputs": [],
   "source": []
  },
  {
   "cell_type": "markdown",
   "source": [
    "### Задача\n",
    "\n",
    "Дан указатель на голову односвязного списка четной длины. Будем считать элементами близнецами пары элементов с индексами `i` и `n - 1 - i`, где `n` - количество элементов в односвязном списке. Нужно найти максимальную сумму элементов-близнецов.\n",
    "\n"
   ],
   "metadata": {
    "collapsed": false
   }
  },
  {
   "cell_type": "code",
   "execution_count": null,
   "outputs": [],
   "source": [],
   "metadata": {
    "collapsed": false
   }
  },
  {
   "cell_type": "markdown",
   "source": [
    "### Задача\n",
    "Дан массив целых чисел `a` и целое число `t`. Нужно вернуть индексы `i` и `j` такие, что `a[i] + a[j] == t`.\n",
    "\n",
    "Один и тот же элемент нельзя использовать дважды. Будем считать, что решение в каждом примере единственно"
   ],
   "metadata": {
    "collapsed": false
   }
  },
  {
   "cell_type": "code",
   "execution_count": null,
   "outputs": [],
   "source": [],
   "metadata": {
    "collapsed": false
   }
  },
  {
   "cell_type": "markdown",
   "source": [
    "### Задача\n",
    "\n",
    "Дана строка `s`. Нужно найти первый неповторяющийся символ в ней и вернуть его индекс. Если такого индекса не существует, нужно вернуть -1.\n",
    "\n",
    "```\n",
    "Input: s = \"leetcode\"\n",
    "Output: 0\n",
    "```"
   ],
   "metadata": {
    "collapsed": false
   }
  },
  {
   "cell_type": "markdown",
   "source": [],
   "metadata": {
    "collapsed": false
   }
  }
 ],
 "metadata": {
  "kernelspec": {
   "display_name": "Python 3",
   "language": "python",
   "name": "python3"
  },
  "language_info": {
   "codemirror_mode": {
    "name": "ipython",
    "version": 2
   },
   "file_extension": ".py",
   "mimetype": "text/x-python",
   "name": "python",
   "nbconvert_exporter": "python",
   "pygments_lexer": "ipython2",
   "version": "2.7.6"
  }
 },
 "nbformat": 4,
 "nbformat_minor": 0
}
