{
 "cells": [
  {
   "cell_type": "markdown",
   "source": [
    "### Задача\n",
    "\n",
    "Дан массив целых чисел `temperatures`. Нужно вернуть такой массив `res`, что `res[i]` это число дней, которое нужно ждать более теплой температуры. Если такого дня нет, то `res[i] == 0`.\n",
    "\n",
    "```\n",
    "Input: temperatures = [73,74,75,71,69,72,76,73]\n",
    "Output: [1,1,4,2,1,1,0,0]\n",
    "```"
   ],
   "metadata": {
    "collapsed": false
   }
  },
  {
   "cell_type": "code",
   "execution_count": 10,
   "metadata": {
    "collapsed": true
   },
   "outputs": [
    {
     "name": "stdout",
     "output_type": "stream",
     "text": [
      "1 1 4 2 1 1 0 0\n"
     ]
    }
   ],
   "source": [
    "from collections import deque\n",
    "\n",
    "temperatures = [73,74,75,71,69,72,76,73]\n",
    "n = len(temperatures)\n",
    "res = [0] * n\n",
    "d = deque()\n",
    "for i, elem in enumerate(temperatures):\n",
    "    while len(d) and d[-1][0] < elem:\n",
    "        res[d[-1][1]] = i - d[-1][1]\n",
    "        d.pop()\n",
    "    d.append((elem, i))\n",
    "print(*res)"
   ]
  },
  {
   "cell_type": "markdown",
   "source": [
    "### Задача\n",
    "\n",
    "Дан указатель на голову односвязного списка четной длины. Будем считать элементами близнецами пары элементов с индексами `i` и `n - 1 - i`, где `n` - количество элементов в односвязном списке. Нужно найти максимальную сумму элементов-близнецов.\n",
    "\n"
   ],
   "metadata": {
    "collapsed": false
   }
  },
  {
   "cell_type": "code",
   "execution_count": 11,
   "outputs": [],
   "source": [
    "class Node:\n",
    "\n",
    "    def __init__(self, value=None):\n",
    "        self.value = value\n",
    "        self.next = None\n",
    "\n",
    "class LinkedList:\n",
    "\n",
    "    def __init__(self):\n",
    "        self.head = None\n",
    "        self.tail = None\n",
    "        self.size = 0\n",
    "\n",
    "    def insert(self, k: int):\n",
    "        new_node = Node(k)\n",
    "        if self.size == 0:\n",
    "            self.head = new_node\n",
    "            self.tail = new_node\n",
    "        else:\n",
    "            self.tail.next = new_node\n",
    "            self.tail = new_node\n",
    "        self.size += 1"
   ],
   "metadata": {
    "collapsed": false
   }
  },
  {
   "cell_type": "code",
   "execution_count": 20,
   "outputs": [],
   "source": [
    "ll = LinkedList()\n",
    "ll.insert(2)\n",
    "ll.insert(4)\n",
    "ll.insert(6)\n",
    "ll.insert(5)\n",
    "ll.insert(5)\n",
    "ll.insert(8)"
   ],
   "metadata": {
    "collapsed": false
   }
  },
  {
   "cell_type": "code",
   "execution_count": 21,
   "outputs": [
    {
     "name": "stdout",
     "output_type": "stream",
     "text": [
      "2\n",
      "4\n",
      "6\n",
      "5\n",
      "5\n",
      "8\n"
     ]
    }
   ],
   "source": [
    "curr = ll.head\n",
    "while curr is not None:\n",
    "    print(curr.value)\n",
    "    curr = curr.next"
   ],
   "metadata": {
    "collapsed": false
   }
  },
  {
   "cell_type": "code",
   "execution_count": 22,
   "outputs": [
    {
     "name": "stdout",
     "output_type": "stream",
     "text": [
      "11\n"
     ]
    }
   ],
   "source": [
    "from collections import deque\n",
    "\n",
    "MIN_SUM = -float(\"infinity\")\n",
    "\n",
    "start_node = ll.head\n",
    "\n",
    "d = deque()\n",
    "curr = start_node\n",
    "while curr is not None: # O(n)\n",
    "    d.append(curr.value)\n",
    "    curr = curr.next\n",
    "\n",
    "max_sum = MIN_SUM\n",
    "n = len(d)\n",
    "while d: # O(n / 2)\n",
    "    max_sum = max(max_sum, d.pop() + d.popleft()) # O(2)\n",
    "\n",
    "print(max_sum)"
   ],
   "metadata": {
    "collapsed": false
   }
  },
  {
   "cell_type": "markdown",
   "source": [
    "### Задача\n",
    "Дан массив целых чисел `a` и целое число `t`. Нужно вернуть индексы `i` и `j` такие, что `a[i] + a[j] == t`.\n",
    "\n",
    "Один и тот же элемент нельзя использовать дважды. Будем считать, что решение в каждом примере единственно"
   ],
   "metadata": {
    "collapsed": false
   }
  },
  {
   "cell_type": "code",
   "execution_count": 24,
   "outputs": [
    {
     "name": "stdout",
     "output_type": "stream",
     "text": [
      "1 3\n"
     ]
    }
   ],
   "source": [
    "a = [1, 5, 4, 3, 6]\n",
    "t = 8\n",
    "d = {}\n",
    "for i, elem in enumerate(a):\n",
    "    d[elem] = i\n",
    "for i, elem in enumerate(a):\n",
    "    if t - elem in d:\n",
    "        print(i, d[t - elem])\n",
    "        break"
   ],
   "metadata": {
    "collapsed": false
   }
  },
  {
   "cell_type": "markdown",
   "source": [
    "### Задача\n",
    "\n",
    "Дана строка `s`. Нужно найти первый неповторяющийся символ в ней и вернуть его индекс. Если такого индекса не существует, нужно вернуть -1.\n",
    "\n",
    "```\n",
    "Input: s = \"leetcode\"\n",
    "Output: 0\n",
    "```"
   ],
   "metadata": {
    "collapsed": false
   }
  },
  {
   "cell_type": "code",
   "execution_count": null,
   "outputs": [],
   "source": [],
   "metadata": {
    "collapsed": false
   }
  }
 ],
 "metadata": {
  "kernelspec": {
   "display_name": "Python 3",
   "language": "python",
   "name": "python3"
  },
  "language_info": {
   "codemirror_mode": {
    "name": "ipython",
    "version": 2
   },
   "file_extension": ".py",
   "mimetype": "text/x-python",
   "name": "python",
   "nbconvert_exporter": "python",
   "pygments_lexer": "ipython2",
   "version": "2.7.6"
  }
 },
 "nbformat": 4,
 "nbformat_minor": 0
}
