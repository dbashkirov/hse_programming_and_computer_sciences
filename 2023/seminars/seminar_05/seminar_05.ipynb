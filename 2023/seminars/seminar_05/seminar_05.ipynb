{
 "cells": [
  {
   "cell_type": "markdown",
   "source": [
    "## Кастомные ошибки"
   ],
   "metadata": {
    "collapsed": false
   }
  },
  {
   "cell_type": "markdown",
   "source": [
    "Все ошибки являются классами и наследуются от класса `Exception`:"
   ],
   "metadata": {
    "collapsed": false
   }
  },
  {
   "cell_type": "code",
   "execution_count": 38,
   "outputs": [
    {
     "data": {
      "text/plain": "(True, True)"
     },
     "execution_count": 38,
     "metadata": {},
     "output_type": "execute_result"
    }
   ],
   "source": [
    "issubclass(NameError, Exception), issubclass(ZeroDivisionError, Exception)"
   ],
   "metadata": {
    "collapsed": false
   }
  },
  {
   "cell_type": "markdown",
   "source": [
    "Кроме KeyboardInterrupt, SystemExit, GeneratorExit"
   ],
   "metadata": {
    "collapsed": false
   }
  },
  {
   "cell_type": "code",
   "execution_count": 39,
   "outputs": [
    {
     "data": {
      "text/plain": "(False, False, False)"
     },
     "execution_count": 39,
     "metadata": {},
     "output_type": "execute_result"
    }
   ],
   "source": [
    "issubclass(KeyboardInterrupt, Exception), issubclass(SystemExit, Exception), issubclass(GeneratorExit, Exception)"
   ],
   "metadata": {
    "collapsed": false
   }
  },
  {
   "cell_type": "markdown",
   "source": [
    "Они наследуются от BaseException, как и Exception:"
   ],
   "metadata": {
    "collapsed": false
   }
  },
  {
   "cell_type": "code",
   "execution_count": 40,
   "outputs": [
    {
     "data": {
      "text/plain": "(True, True, True, True)"
     },
     "execution_count": 40,
     "metadata": {},
     "output_type": "execute_result"
    }
   ],
   "source": [
    "issubclass(Exception, BaseException), issubclass(KeyboardInterrupt, BaseException), issubclass(SystemExit, BaseException), issubclass(GeneratorExit, BaseException)"
   ],
   "metadata": {
    "collapsed": false
   }
  },
  {
   "cell_type": "markdown",
   "source": [
    "Давайте напишем ошибку `FahrenheitError`, которая будет вызываться если значения температуры в фаренгейтах находятся не в допустимом диапазоне: `Temperature {} is not in valid range({}, {})`"
   ],
   "metadata": {
    "collapsed": false
   }
  },
  {
   "cell_type": "code",
   "execution_count": 41,
   "metadata": {
    "collapsed": true
   },
   "outputs": [],
   "source": [
    "class FahrenheitError(Exception):\n",
    "\n",
    "    def __init__(self, f):\n",
    "        self.min_t = -60\n",
    "        self.max_t = 230\n",
    "        self.f = f\n",
    "\n",
    "    def __str__(self):\n",
    "        return f'Temperature {self.f} is not in valid range({self.min_t}, {self.max_t})'"
   ]
  },
  {
   "cell_type": "code",
   "execution_count": 42,
   "outputs": [],
   "source": [
    "def fahrenheit_to_celsius(f: float) -> float:\n",
    "    fe = FahrenheitError(f)\n",
    "    if f < fe.min_t or f > fe.max_t:\n",
    "        raise fe\n",
    "    else:\n",
    "        temp_celsius = (f - 32) * 5 / 9\n",
    "        return temp_celsius"
   ],
   "metadata": {
    "collapsed": false
   }
  },
  {
   "cell_type": "code",
   "execution_count": 43,
   "outputs": [
    {
     "ename": "FahrenheitError",
     "evalue": "Temperature -100 is not in valid range(-60, 230)",
     "output_type": "error",
     "traceback": [
      "\u001B[0;31m---------------------------------------------------------------------------\u001B[0m",
      "\u001B[0;31mFahrenheitError\u001B[0m                           Traceback (most recent call last)",
      "Cell \u001B[0;32mIn[43], line 1\u001B[0m\n\u001B[0;32m----> 1\u001B[0m \u001B[43mfahrenheit_to_celsius\u001B[49m\u001B[43m(\u001B[49m\u001B[38;5;241;43m-\u001B[39;49m\u001B[38;5;241;43m100\u001B[39;49m\u001B[43m)\u001B[49m\n",
      "Cell \u001B[0;32mIn[42], line 4\u001B[0m, in \u001B[0;36mfahrenheit_to_celsius\u001B[0;34m(f)\u001B[0m\n\u001B[1;32m      2\u001B[0m fe \u001B[38;5;241m=\u001B[39m FahrenheitError(f)\n\u001B[1;32m      3\u001B[0m \u001B[38;5;28;01mif\u001B[39;00m f \u001B[38;5;241m<\u001B[39m fe\u001B[38;5;241m.\u001B[39mmin_t \u001B[38;5;129;01mor\u001B[39;00m f \u001B[38;5;241m>\u001B[39m fe\u001B[38;5;241m.\u001B[39mmax_t:\n\u001B[0;32m----> 4\u001B[0m     \u001B[38;5;28;01mraise\u001B[39;00m fe\n\u001B[1;32m      5\u001B[0m \u001B[38;5;28;01melse\u001B[39;00m:\n\u001B[1;32m      6\u001B[0m     temp_celsius \u001B[38;5;241m=\u001B[39m (f \u001B[38;5;241m-\u001B[39m \u001B[38;5;241m32\u001B[39m) \u001B[38;5;241m*\u001B[39m \u001B[38;5;241m5\u001B[39m \u001B[38;5;241m/\u001B[39m \u001B[38;5;241m9\u001B[39m\n",
      "\u001B[0;31mFahrenheitError\u001B[0m: Temperature -100 is not in valid range(-60, 230)"
     ]
    }
   ],
   "source": [
    "fahrenheit_to_celsius(-100)"
   ],
   "metadata": {
    "collapsed": false
   }
  },
  {
   "cell_type": "markdown",
   "source": [
    "Давайте напишем ошибку `WrongLetter`, которая будет вызываться если текст содержит какой-то символ не из английского алфавита. Текст ошибки следующий: `The string contains non-English letters`"
   ],
   "metadata": {
    "collapsed": false
   }
  },
  {
   "cell_type": "code",
   "execution_count": 19,
   "outputs": [],
   "source": [
    "class WrongLetter(Exception):\n",
    "\n",
    "    def __init__(self):\n",
    "        pass\n",
    "\n",
    "    def __str__(self):\n",
    "        return 'The string contains non-English letters'"
   ],
   "metadata": {
    "collapsed": false
   }
  },
  {
   "cell_type": "code",
   "execution_count": 23,
   "outputs": [],
   "source": [
    "s = 'adfpkmadpfkmasp'\n",
    "t = 'spkadapsmзжьавзщв;ksdmfp'\n",
    "\n",
    "def check_string(s: str):\n",
    "    upper_letters = [chr(i) for i in range(ord('a'), ord('z') + 1)]\n",
    "    letters = [chr(i) for i in range(ord('A'), ord('Z') + 1)]\n",
    "    d = set(upper_letters + letters)\n",
    "    for elem in s:\n",
    "        if elem not in d:\n",
    "            raise WrongLetter"
   ],
   "metadata": {
    "collapsed": false
   }
  },
  {
   "cell_type": "code",
   "execution_count": 24,
   "outputs": [],
   "source": [
    "check_string(s)"
   ],
   "metadata": {
    "collapsed": false
   }
  },
  {
   "cell_type": "code",
   "execution_count": 25,
   "outputs": [
    {
     "ename": "WrongLetter",
     "evalue": "The string contains non-English letters",
     "output_type": "error",
     "traceback": [
      "\u001B[0;31m---------------------------------------------------------------------------\u001B[0m",
      "\u001B[0;31mWrongLetter\u001B[0m                               Traceback (most recent call last)",
      "Cell \u001B[0;32mIn[25], line 1\u001B[0m\n\u001B[0;32m----> 1\u001B[0m \u001B[43mcheck_string\u001B[49m\u001B[43m(\u001B[49m\u001B[43mt\u001B[49m\u001B[43m)\u001B[49m\n",
      "Cell \u001B[0;32mIn[23], line 10\u001B[0m, in \u001B[0;36mcheck_string\u001B[0;34m(s)\u001B[0m\n\u001B[1;32m      8\u001B[0m \u001B[38;5;28;01mfor\u001B[39;00m elem \u001B[38;5;129;01min\u001B[39;00m s:\n\u001B[1;32m      9\u001B[0m     \u001B[38;5;28;01mif\u001B[39;00m elem \u001B[38;5;129;01mnot\u001B[39;00m \u001B[38;5;129;01min\u001B[39;00m d:\n\u001B[0;32m---> 10\u001B[0m         \u001B[38;5;28;01mraise\u001B[39;00m WrongLetter\n",
      "\u001B[0;31mWrongLetter\u001B[0m: The string contains non-English letters"
     ]
    }
   ],
   "source": [
    "check_string(t)"
   ],
   "metadata": {
    "collapsed": false
   }
  },
  {
   "cell_type": "markdown",
   "source": [
    "Можно отлавливать ошибки с помощью конструкции try: .. except: ..\n",
    "Можно отлавливать одну ошибку:"
   ],
   "metadata": {
    "collapsed": false
   }
  },
  {
   "cell_type": "code",
   "execution_count": 49,
   "outputs": [
    {
     "name": "stdout",
     "output_type": "stream",
     "text": [
      "The string contains non-English letters\n"
     ]
    }
   ],
   "source": [
    "try:\n",
    "    check_string(t)\n",
    "except Exception as e:\n",
    "    print(e)"
   ],
   "metadata": {
    "collapsed": false
   }
  },
  {
   "cell_type": "markdown",
   "source": [
    "Или несколько:"
   ],
   "metadata": {
    "collapsed": false
   }
  },
  {
   "cell_type": "code",
   "execution_count": 45,
   "outputs": [
    {
     "name": "stdout",
     "output_type": "stream",
     "text": [
      "Exception\n"
     ]
    }
   ],
   "source": [
    "try:\n",
    "    check_string(t)\n",
    "except (ZeroDivisionError, ValueError, WrongLetter):\n",
    "    print(\"Exception\")"
   ],
   "metadata": {
    "collapsed": false
   }
  },
  {
   "cell_type": "code",
   "execution_count": 44,
   "outputs": [
    {
     "name": "stdout",
     "output_type": "stream",
     "text": [
      "Third exception\n"
     ]
    }
   ],
   "source": [
    "try:\n",
    "    check_string(t)\n",
    "except ZeroDivisionError:\n",
    "    print(\"First exception\")\n",
    "except ValueError:\n",
    "    print(\"Second exception\")\n",
    "except WrongLetter:\n",
    "    print(\"Third exception\")"
   ],
   "metadata": {
    "collapsed": false
   }
  },
  {
   "cell_type": "markdown",
   "source": [
    "Написать класс Tester, при создании экземпляра которого ему передаётся единственный параметр — некоторая функция fun. Сам экземпляр должен быть callable, и принимать два параметра — последовательность кортежей suite и необязательная (возможно, пустая) последовательность исключений allowed. При вызове должна осуществляться проверка, можно ли функции fun() передавать каждый элемент suite в качестве позиционных параметров. Если исключений не возникло, результат работы — 0, если исключения попадали под классификацию одного из allowed, результат — -1, если же были исключения не из allowed — 1."
   ],
   "metadata": {
    "collapsed": false
   }
  },
  {
   "cell_type": "code",
   "execution_count": null,
   "outputs": [],
   "source": [],
   "metadata": {
    "collapsed": false
   }
  },
  {
   "cell_type": "markdown",
   "source": [
    "**Задача**: написать класс DivStr, который будет поддерживать все методы типа данных str, а также будет поддерживать операции `//` и `%`. Написать класс исключения `StringDivisionError` с сообщением \"String division by zero\". При делении или взятия остатка от деления на нуль, нужно отлавливать `ZeroDivisionError` и поднимать исключение `StringDivisionError`\n",
    "\n",
    "Сдавать нужно **только классы**. Иначе тестирующая система может не принять ваш ответ. Название файла - **Surname_task#1**.\n",
    "\n",
    "Пример ввода:\n",
    "```\n",
    "s = DivStr(\"abcdefg\")\n",
    "print(s // 2) # abc def\n",
    "\n",
    "s = DivStr(\"aaaaaa\")\n",
    "print(s % 4) # aa\n",
    "\n",
    "s = DivStr(\"aaaaaa\")\n",
    "print(len(s // 4 + s % 4)) # 7\n",
    "```\n"
   ],
   "metadata": {
    "collapsed": false
   }
  },
  {
   "cell_type": "code",
   "execution_count": null,
   "outputs": [],
   "source": [],
   "metadata": {
    "collapsed": false
   }
  },
  {
   "cell_type": "markdown",
   "source": [
    "Написать класс `LinSpace`, который будет создавать последовательность из равноудаленных точек на отрезке $[start, end]$. На вход конструктору должны подаваться 2 числа: `start` и `end`, которые обозначают начало и конец отрезка. Экземпляр класса должен поддерживать следующий функционал:\n",
    "* `d[n]` — последовательность из $n$ равноудалённых точек от начала до конца отрезка (включая конец).\n",
    "* `d[i:n]` — $i$-я точка такой последовательности.\n",
    "* `d[i:j:n]` — последовательность точек, начиная с $i$-той и заканчивая $j-1$-й точкой исходной последовательности\n",
    "\n",
    "Сдавать нужно **только класс**. Иначе тестирующая система может не принять ваш ответ. Название файла - **Surname_task#3**.\n",
    "\n",
    "Пример ввода:\n",
    "\n",
    "```\n",
    "a = LinSpace(0, 10)\n",
    "print(a[11]) # 0 1 2 3 4 5 6 7 8 9 10\n",
    "print(a[2:11]) # 2\n",
    "print(a[3: 5: 11]) # 3 4\n",
    "```"
   ],
   "metadata": {
    "collapsed": false
   }
  },
  {
   "cell_type": "markdown",
   "source": [],
   "metadata": {
    "collapsed": false
   }
  }
 ],
 "metadata": {
  "kernelspec": {
   "display_name": "Python 3",
   "language": "python",
   "name": "python3"
  },
  "language_info": {
   "codemirror_mode": {
    "name": "ipython",
    "version": 2
   },
   "file_extension": ".py",
   "mimetype": "text/x-python",
   "name": "python",
   "nbconvert_exporter": "python",
   "pygments_lexer": "ipython2",
   "version": "2.7.6"
  }
 },
 "nbformat": 4,
 "nbformat_minor": 0
}
