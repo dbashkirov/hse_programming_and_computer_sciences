{
 "cells": [
  {
   "cell_type": "markdown",
   "source": [
    "## Магические методы и перегрузка операторов\n",
    "\n",
    "Магические методы - особые методы, имя которых начинается и заканчивается двойным подчеркиванием. Они не предназначены для вызова напрямую, эти методы вызываются внутренним образом при каком-то действии.\n",
    "\n",
    "Например ``` a + b ``` эквивалентно ```a.__add__(b)```"
   ],
   "metadata": {
    "collapsed": false
   }
  },
  {
   "cell_type": "code",
   "execution_count": 203,
   "metadata": {
    "collapsed": true
   },
   "outputs": [
    {
     "data": {
      "text/plain": "True"
     },
     "execution_count": 203,
     "metadata": {},
     "output_type": "execute_result"
    }
   ],
   "source": [
    "a = 1\n",
    "b = 2\n",
    "a.__mul__(b) == a * b"
   ]
  },
  {
   "cell_type": "markdown",
   "source": [
    "С большим числом таких методов мы уже знакомы (```__init__```, ```__dir__``` и тд). Давайте познакомимся с методами которые определяют поведение операторов для данного класса:\n",
    "\n",
    "![operators1](https://i.imgur.com/ykYFkRY.png)\n",
    "\n",
    "![operators2](https://i.imgur.com/SCUqZWU.png)"
   ],
   "metadata": {
    "collapsed": false
   }
  },
  {
   "cell_type": "markdown",
   "source": [
    "Давайте перепишем классы с прошлого семинара"
   ],
   "metadata": {
    "collapsed": false
   }
  },
  {
   "cell_type": "code",
   "execution_count": 218,
   "outputs": [],
   "source": [
    "class Dot:\n",
    "\n",
    "    def __init__(self, *args):\n",
    "        self.coord = args\n",
    "\n",
    "    def __add__(self, other):\n",
    "        return Dot(*[x + y for x, y in zip(self.coord, other.coord)])\n",
    "\n",
    "    def __neg__(self):\n",
    "        return Dot(*[-x for x in self.coord])\n",
    "\n",
    "    def __sub__(self, other):\n",
    "        return self + (-other)\n",
    "\n",
    "    def __lt__(self, other):\n",
    "        return all([x < y for x, y in zip(self.coord, other.coord)])\n",
    "\n",
    "    def __le__(self, other):\n",
    "        return all([x <= y for x, y in zip(self.coord, other.coord)])\n",
    "\n",
    "    def __eq__(self, other):\n",
    "        return all([x == y for x, y in zip(self.coord, other.coord)])\n",
    "\n",
    "    def __repr__(self):\n",
    "        return f\"Dot: {' '.join(map(str, self.coord))}\"\n",
    "\n",
    "    def __bool__(self):\n",
    "        return any([x != 0 for x in self.coord])"
   ],
   "metadata": {
    "collapsed": false
   }
  },
  {
   "cell_type": "code",
   "execution_count": 219,
   "outputs": [],
   "source": [
    "A = Dot(0, 0)\n",
    "B = Dot(1, 1)"
   ],
   "metadata": {
    "collapsed": false
   }
  },
  {
   "cell_type": "code",
   "execution_count": 220,
   "outputs": [
    {
     "name": "stdout",
     "output_type": "stream",
     "text": [
      "Dot: -1 -1\n",
      "Dot: 1 1\n",
      "Dot: -1 -1\n",
      "True False False\n",
      "False True\n"
     ]
    }
   ],
   "source": [
    "print(-B)\n",
    "print(A + B)\n",
    "print(A - B)\n",
    "print(A < B, A > B, A == B)\n",
    "print(bool(A) == True, bool(B) == True)"
   ],
   "metadata": {
    "collapsed": false
   }
  },
  {
   "cell_type": "code",
   "execution_count": 238,
   "outputs": [],
   "source": [
    "class Vector:\n",
    "    \"\"\"\n",
    "    class for vector calculations\n",
    "    \"\"\"\n",
    "\n",
    "    def __init__(self,\n",
    "                 start: Dot=Dot([0]),\n",
    "                 end: Dot=Dot([0]),\n",
    "                 vector: list=None):\n",
    "        if vector is not None:\n",
    "            self.vector = vector.copy()\n",
    "        else:\n",
    "            self.vector = (end - start).coord\n",
    "\n",
    "    def __add__(self, other):\n",
    "        if isinstance(other, Vector):\n",
    "            return Vector(vector=[x + y for x, y in zip(self.vector, other.vector)])\n",
    "        return Vector(vector=[x + other for x in self.vector])\n",
    "\n",
    "    def __radd__(self, other):\n",
    "        return Vector(vector=[x + other for x in self.vector])\n",
    "\n",
    "    def __neg__(self):\n",
    "        return Vector(vector=[-x for x in self.vector])\n",
    "\n",
    "    def __sub__(self, other):\n",
    "        return self + (-other)\n",
    "\n",
    "    def __eq__(self, other):\n",
    "        return all([x == y for x, y in zip(self.vector, other.vector)])\n",
    "\n",
    "    def __lt__(self, other):\n",
    "        return all([x < y for x, y in zip(self.vector, other.vector)])\n",
    "\n",
    "    def __le__(self, other):\n",
    "        return all([x <= y for x, y in zip(self.vector, other.vector)])\n",
    "\n",
    "    def __repr__(self):\n",
    "        return f\"Vector: {' '.join(map(str, self.vector))}\"\n",
    "\n",
    "    def __bool__(self):\n",
    "        return any([x != 0 for x in self.vector])\n",
    "\n",
    "    def __mul__(self, other):\n",
    "        \"\"\"\n",
    "        Вычисляем скалярное произведение для векторов и усножаем на число\n",
    "        :param other:\n",
    "        :return: скалярное произведение\n",
    "        \"\"\"\n",
    "        if isinstance(other, Vector):\n",
    "            return sum([x * y for x, y in zip(self.vector, other.vector)])\n",
    "        return Vector(vector=[x * other for x in self.vector])\n",
    "\n",
    "    def __rmul__(self, other):\n",
    "        return Vector(vector=[x * other for x in self.vector])\n",
    "\n",
    "    def __truediv__(self, other):\n",
    "        if isinstance(other, Vector):\n",
    "            return Vector(vector=[x / y for x, y in zip(self.vector, other.vector)])\n",
    "        return Vector(vector=[x / other for x in self.vector])\n",
    "\n",
    "    def __floordiv__(self, other):\n",
    "        if isinstance(other, Vector):\n",
    "            return Vector(vector=[x // y for x, y in zip(self.vector, other.vector)])\n",
    "        return Vector(vector=[x // other for x in self.vector])\n",
    "\n",
    "    def __reversed__(self):\n",
    "        return Vector(vector=self.vector[::-1])\n",
    "\n",
    "    def __len__(self):\n",
    "        return len(self.vector)\n",
    "\n",
    "    def __getitem__(self, item):\n",
    "        if isinstance(item, slice):\n",
    "            return self.vector[item.start: item.stop: item.step]\n",
    "        else:\n",
    "            return self.vector[item]\n",
    "\n",
    "    def __abs__(self):\n",
    "        return sum([x ** 2 for x in self.vector]) ** 0.5"
   ],
   "metadata": {
    "collapsed": false
   }
  },
  {
   "cell_type": "code",
   "execution_count": 239,
   "outputs": [],
   "source": [
    "a = Vector(vector=[1, 2, 3, 4, 5])\n",
    "b = Vector(vector=[1, 2, 3, 4, 5])"
   ],
   "metadata": {
    "collapsed": false
   }
  },
  {
   "cell_type": "code",
   "execution_count": 241,
   "outputs": [
    {
     "name": "stdout",
     "output_type": "stream",
     "text": [
      "Repr: Vector: 1 2 3 4 5 Neg: Vector: -1 -2 -3 -4 -5\n",
      "Eq: True\n",
      "Le: True\n",
      "Sub: Vector: 0 0 0 0 0\n",
      "Sum: Vector: 2 4 6 8 10\n",
      "Floor div: Vector: 1 1 1 1 1\n",
      "True div: Vector: 1.0 1.0 1.0 1.0 1.0\n",
      "Int sum: Vector: 4 5 6 7 8 Vector: 4 5 6 7 8\n",
      "Scalar prod: 55\n",
      "Int prod: Vector: 3 6 9 12 15 Vector: 3 6 9 12 15\n",
      "Len: 5\n",
      "Second item: 3 [3, 4] [5, 4]\n",
      "Reversed: Vector: 5 4 3 2 1\n",
      "Abs: 7.416198487095663\n"
     ]
    }
   ],
   "source": [
    "print(\"Repr:\", a, \"Neg:\", -a)\n",
    "print(\"Eq:\", a == b)\n",
    "print(\"Le:\", a <= b)\n",
    "print(\"Sub:\", a - b)\n",
    "print(\"Sum:\", a + b)\n",
    "print(\"Floor div:\", a // b)\n",
    "print(\"True div:\", a / b)\n",
    "print(\"Int sum:\", a + 3, 3 + a)\n",
    "print(\"Scalar prod:\", a * b)\n",
    "print(\"Int prod:\", a * 3, 3 * a)\n",
    "print(\"Len:\", len(a))\n",
    "print(\"Second item:\", a[2], a[2: 4], a[4: 2: -1])\n",
    "print(\"Reversed:\", reversed(a))\n",
    "print(\"Abs:\", abs(a))"
   ],
   "metadata": {
    "collapsed": false
   }
  },
  {
   "cell_type": "markdown",
   "source": [
    "Написать класс комплексных чисел `Complex`. Конструктор класса должен принимать на вход два числа: Re и Im. Для класса должны быть перегружены операторы\n",
    "* сложения\n",
    "* вычитания\n",
    "* деления (на комплексное и действительное) __truediv__\n",
    "* умножения (на комплексное и действительное число)\n",
    "* возведения в степень\n",
    "* взятия модуля __abs__\n",
    "* __repr__ в формате \"Complex (Re + Imi)\"\n",
    "\n",
    "Сдавать нужно **только класс**. Иначе тестирующая система может не принять ваш ответ. Название файла - **Surname_task#1**.\n",
    "\n",
    "Пример ввода:\n",
    "\n",
    "```\n",
    "a, b = Complex(1, 2), Complex(2, 3)\n",
    "print(a + b) # Complex (3 + 5i)\n",
    "\n",
    "a = Complex(1, 2)\n",
    "print(abs(a)) # 5\n",
    "\n",
    "a, b = Complex(1, 2), Complex(2, 3)\n",
    "print(a * b) # 0.61538 + 0.07692i\n",
    "```"
   ],
   "metadata": {
    "collapsed": false
   }
  },
  {
   "cell_type": "code",
   "execution_count": 241,
   "outputs": [],
   "source": [],
   "metadata": {
    "collapsed": false
   }
  },
  {
   "cell_type": "markdown",
   "source": [
    "Написать класс дробей `Fraction`. Конструктор класса должен принимать на вход два числа: числитель и знаменатель. Для класса должны быть определены операторы\n",
    "\n",
    "* сложения\n",
    "* вычитания\n",
    "* деления (на другую дробь или действительное число)\n",
    "* умножения (на другую дробь или действительное число)\n",
    "* возведения в степень\n",
    "* repr в формате \"Fraction (a / b)\"\n",
    "* упрощение дроби по умолчанию - если в результате какой-либо операции или при создании экземпляра класса числитель и знаменатель оказались не взаимно простыми - нужно это исправить (может помочь алгоритм Евклида)\n",
    "\n",
    "Сдавать нужно **только класс**. Иначе тестирующая система может не принять ваш ответ. Название файла - **Surname_task#2**\n",
    "\n",
    "Пример ввода:\n",
    "\n",
    "```\n",
    "a, b = Fraction(1, 2), Fraction(1, 3)\n",
    "print(a + b) # Fraction (5 / 6)\n",
    "\n",
    "a = Fraction(9, 6)\n",
    "print(a) # Fraction(3 / 2)\n",
    "\n",
    "a, b = Fraction(3, 7), Fraction (5, 4)\n",
    "print(a / b) # Fraction(12 / 35)\n",
    "```"
   ],
   "metadata": {
    "collapsed": false
   }
  },
  {
   "cell_type": "code",
   "execution_count": 196,
   "outputs": [],
   "source": [],
   "metadata": {
    "collapsed": false
   }
  }
 ],
 "metadata": {
  "kernelspec": {
   "display_name": "Python 3",
   "language": "python",
   "name": "python3"
  },
  "language_info": {
   "codemirror_mode": {
    "name": "ipython",
    "version": 2
   },
   "file_extension": ".py",
   "mimetype": "text/x-python",
   "name": "python",
   "nbconvert_exporter": "python",
   "pygments_lexer": "ipython2",
   "version": "2.7.6"
  }
 },
 "nbformat": 4,
 "nbformat_minor": 0
}
