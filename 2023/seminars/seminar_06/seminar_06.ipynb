{
 "cells": [
  {
   "cell_type": "markdown",
   "source": [
    "Написать класс `DefCounter`, унаследованный от `collections.Counter`, в котором значения для несуществующих элементов были бы не 0, а задавались в конструкторе именным параметром missing= (по умолчанию — -1). Дополнительно класс должен поддерживать операцию abs(экземпляр), возвращающую сумму положительных элементов счётчика.\n",
    "\n",
    "Пример входных и выходных данных:\n",
    "\n",
    "```\n",
    "A = DefCounter(\"QWEqweQWEqweQWE\", missing=-10) # DefCounter({'Q': 3, 'W': 3, 'E': 3, 'q': 2, 'w': 2, 'e': 2})\n",
    "A[\"P\"] += 5\n",
    "print(A[\"T\"], A[\"P\"], abs(A), A.total()) # -10 -5 15 10\n",
    "print(A) # DefCounter({'Q': 3, 'W': 3, 'E': 3, 'q': 2, 'w': 2, 'e': 2, 'P': -5})\n",
    "```"
   ],
   "metadata": {
    "collapsed": false
   }
  },
  {
   "cell_type": "code",
   "execution_count": null,
   "metadata": {
    "collapsed": true
   },
   "outputs": [],
   "source": []
  },
  {
   "cell_type": "markdown",
   "source": [
    "Реализовать класс `SubString`, который бы полностью воспроизводил поведение `str`, но вдобавок бы поддерживал операцию вычитания строк. Вычитание устроено так: «уменьшаемое» просматривается посимвольно, и если соответствующий символ присутствует в «вычитаемом», то он однократно удаляется из обеих строк. Исходные объекты не меняются; то, что осталось от уменьшаемого, объявляется результатом вычитания.\n",
    "\n",
    "Пример входных и выходных данных:\n",
    "\n",
    "```\n",
    "print(SubString(\"qwertyerty\") - SubString(\"ttttr\")) # qweyery\n",
    "```"
   ],
   "metadata": {
    "collapsed": false
   }
  },
  {
   "cell_type": "code",
   "execution_count": null,
   "outputs": [],
   "source": [],
   "metadata": {
    "collapsed": false
   }
  },
  {
   "cell_type": "markdown",
   "source": [
    "Написать класс `NegExt`, расширяющий унарный минус по следующей схеме:\n",
    "\n",
    "* Производный класс должен конструироваться с помощью class потомок(NegExt, родитель):\n",
    "* Если для родителя можно вызвать унарный минус, -потомок() возвращает то же, что и -родитель()\n",
    "\n",
    "* Если для родителя унарный минус не работает, но работает операция секционирования, -потомок() возвращает собственную секцию [1:-1]\n",
    "\n",
    "* В противном случае возвращается сам потомок\n",
    "\n",
    "Результат нужно во всех трёх случаях явно преобразовывать к типу потомка (предполагается, что такое преобразование возможно)\n",
    "\n",
    "Пример входных и выходных данных:\n",
    "\n",
    "```\n",
    "class nstr(NegExt, str):\n",
    "    pass\n",
    "class nnum(NegExt, int):\n",
    "    pass\n",
    "class ndict(NegExt, dict):\n",
    "    pass\n",
    "print(-nstr(\"Python\"), -nnum(123), -ndict({1: 2, 3: 4}), --nstr(\"NegExt\")) # ytho -123 {1: 2, 3: 4} gE\n",
    "```"
   ],
   "metadata": {
    "collapsed": false
   }
  },
  {
   "cell_type": "code",
   "execution_count": null,
   "outputs": [],
   "source": [],
   "metadata": {
    "collapsed": false
   }
  }
 ],
 "metadata": {
  "kernelspec": {
   "display_name": "Python 3",
   "language": "python",
   "name": "python3"
  },
  "language_info": {
   "codemirror_mode": {
    "name": "ipython",
    "version": 2
   },
   "file_extension": ".py",
   "mimetype": "text/x-python",
   "name": "python",
   "nbconvert_exporter": "python",
   "pygments_lexer": "ipython2",
   "version": "2.7.6"
  }
 },
 "nbformat": 4,
 "nbformat_minor": 0
}
