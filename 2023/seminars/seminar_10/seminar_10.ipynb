{
 "cells": [
  {
   "cell_type": "code",
   "execution_count": 4,
   "outputs": [],
   "source": [
    "import random"
   ],
   "metadata": {
    "collapsed": false
   }
  },
  {
   "cell_type": "code",
   "execution_count": 5,
   "outputs": [],
   "source": [
    "def checker(f):\n",
    "    for size in range(1, 101):\n",
    "        for _ in range(100):\n",
    "            arr = [random.randint(0, (size+1)//2) for _ in range(size)]\n",
    "            if f(arr) != sorted(arr):\n",
    "                return 'SOMETHING IS WRONG'\n",
    "    return 'OK'"
   ],
   "metadata": {
    "collapsed": false
   }
  },
  {
   "cell_type": "markdown",
   "source": [
    "## Merge sort"
   ],
   "metadata": {
    "collapsed": false
   }
  },
  {
   "cell_type": "code",
   "execution_count": 8,
   "metadata": {
    "collapsed": true
   },
   "outputs": [],
   "source": [
    "def merge(left: list, right: list):\n",
    "    n, m = len(left), len(right)\n",
    "    res = [0] * (n + m)\n",
    "    i, j = 0, 0\n",
    "    while i + j < n + m:\n",
    "        if j == m or (i < n and left[i] <= right[j]):\n",
    "            res[i + j] = left[i]\n",
    "            i += 1\n",
    "        else:\n",
    "            res[i + j] = right[j]\n",
    "            j += 1\n",
    "    return res\n",
    "\n",
    "def merge_sort(a: list):\n",
    "    if len(a) == 1:\n",
    "        return a\n",
    "    left = merge_sort(a[:len(a) // 2])\n",
    "    right = merge_sort(a[len(a) // 2:])\n",
    "    return merge(left, right)"
   ]
  },
  {
   "cell_type": "code",
   "execution_count": 9,
   "outputs": [
    {
     "data": {
      "text/plain": "'OK'"
     },
     "execution_count": 9,
     "metadata": {},
     "output_type": "execute_result"
    }
   ],
   "source": [
    "checker(merge_sort)"
   ],
   "metadata": {
    "collapsed": false
   }
  },
  {
   "cell_type": "markdown",
   "source": [
    "**Задача**: Дан массив `a`. Нужно посчитать количество пар $(i, j)$: $i < j$, но $a[i] > a[j]$"
   ],
   "metadata": {
    "collapsed": false
   }
  },
  {
   "cell_type": "code",
   "execution_count": 14,
   "outputs": [],
   "source": [
    "k = 0\n",
    "\n",
    "\n",
    "def merge(left: list, right: list):\n",
    "    global k\n",
    "    n, m = len(left), len(right)\n",
    "    res = [0] * (n + m)\n",
    "    i, j = 0, 0\n",
    "    while i + j < n + m:\n",
    "        if j == m or (i < n and left[i] <= right[j]):\n",
    "            res[i + j] = left[i]\n",
    "            i += 1\n",
    "        else:\n",
    "            res[i + j] = right[j]\n",
    "            k += n - i\n",
    "            j += 1\n",
    "    return res\n",
    "\n",
    "def merge_sort(a: list):\n",
    "    if len(a) == 1:\n",
    "        return a\n",
    "    left = merge_sort(a[:len(a) // 2])\n",
    "    right = merge_sort(a[len(a) // 2:])\n",
    "    return merge(left, right)"
   ],
   "metadata": {
    "collapsed": false
   }
  },
  {
   "cell_type": "code",
   "execution_count": 15,
   "outputs": [
    {
     "name": "stdout",
     "output_type": "stream",
     "text": [
      "15\n"
     ]
    }
   ],
   "source": [
    "a = [6, 5, 4, 3, 2, 1] # 15\n",
    "merge_sort(a)\n",
    "print(k)"
   ],
   "metadata": {
    "collapsed": false
   }
  },
  {
   "cell_type": "markdown",
   "source": [
    "## Quick sort"
   ],
   "metadata": {
    "collapsed": false
   }
  },
  {
   "cell_type": "code",
   "execution_count": 16,
   "outputs": [
    {
     "name": "stdout",
     "output_type": "stream",
     "text": [
      "-1 0 1 1 1 2 2 3 3 4 4 5 5\n"
     ]
    }
   ],
   "source": [
    "a = [1, 2, 3, 4, 4, 1, 2, 3, 5, -1, 0, 5, 1]\n",
    "\n",
    "def split(a: list, l: int, r: int, x: int):\n",
    "    l_m, r_m = l - 1, r + 1\n",
    "    while True:\n",
    "        l_m += 1\n",
    "        while a[l_m] < x:\n",
    "            l_m += 1\n",
    "        r_m -= 1\n",
    "        while a[r_m] > x:\n",
    "            r_m -= 1\n",
    "        if l_m >= r_m:\n",
    "            return r_m\n",
    "        a[l_m], a[r_m] = a[r_m], a[l_m]\n",
    "\n",
    "def quick_sort(a: list, l: int, r: int):\n",
    "    if r - l < 1:\n",
    "        return\n",
    "    x = a[random.randint(l, r - 1)]\n",
    "    m = split(a, l, r, x)\n",
    "    quick_sort(a, l, m)\n",
    "    quick_sort(a, m + 1, r)\n",
    "\n",
    "quick_sort(a, 0, len(a) - 1)\n",
    "print(*a)"
   ],
   "metadata": {
    "collapsed": false
   }
  }
 ],
 "metadata": {
  "kernelspec": {
   "display_name": "Python 3",
   "language": "python",
   "name": "python3"
  },
  "language_info": {
   "codemirror_mode": {
    "name": "ipython",
    "version": 2
   },
   "file_extension": ".py",
   "mimetype": "text/x-python",
   "name": "python",
   "nbconvert_exporter": "python",
   "pygments_lexer": "ipython2",
   "version": "2.7.6"
  }
 },
 "nbformat": 4,
 "nbformat_minor": 0
}
