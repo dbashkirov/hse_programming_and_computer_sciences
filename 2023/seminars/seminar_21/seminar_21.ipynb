{
 "cells": [
  {
   "cell_type": "markdown",
   "source": [
    "#### Задача\n",
    "\n",
    "Дан ориентированный граф. Найдите расстояния от вершины $x$ до всех остальных вершин графа.\n",
    "\n",
    "```\n",
    "6 5\n",
    "0 1 1 0 0 0\n",
    "1 0 0 0 0 0\n",
    "1 1 0 0 0 0\n",
    "0 0 0 0 1 0\n",
    "0 0 1 1 0 0\n",
    "0 1 0 0 0 0\n",
    "```\n",
    "```\n",
    "2 2 1 1 0 -1\n",
    "```"
   ],
   "metadata": {
    "collapsed": false
   }
  },
  {
   "cell_type": "code",
   "execution_count": null,
   "metadata": {
    "collapsed": true
   },
   "outputs": [],
   "source": [
    "from queue import Queue\n",
    "\n",
    "\n",
    "n, s = map(int, input().split())\n",
    "s -= 1\n",
    "g = [[] for _ in range(n)]\n",
    "\n",
    "for i in range(n):\n",
    "    row = list(map(int, input().split()))\n",
    "    for j in range(n):\n",
    "        if row[j] == 1:\n",
    "            g[i].append(j)\n",
    "\n",
    "used = [0] * n\n",
    "dist = [-1] * n\n",
    "q = Queue()\n",
    "\n",
    "\n",
    "def bfs(s):\n",
    "    dist[s] = 0\n",
    "    used[s] = 1\n",
    "    q.put(s)\n",
    "    while not q.empty():\n",
    "        v = q.get()\n",
    "        for u in g[v]:\n",
    "            if not used[u]:\n",
    "                used[u] = 1\n",
    "                q.put(u)\n",
    "                dist[u] = dist[v] + 1\n",
    "\n",
    "\n",
    "bfs(s)\n",
    "print(*dist)"
   ]
  },
  {
   "cell_type": "markdown",
   "source": [
    "### Задача\n",
    "\n",
    "Дан ориентированный взвешенный граф без ребер отрицательного веса. Найдите кратчайшее расстояние от одной заданной вершины до другой. $-1$ означает отсутствие ребра между вершинами, а любое неотрицательное число — присутствие ребра данного веса.\n",
    "\n",
    "```\n",
    "3 1 2\n",
    "0 -1 2\n",
    "3 0 -1\n",
    "-1 4 0\n",
    "```\n",
    "```\n",
    "6\n",
    "```"
   ],
   "metadata": {
    "collapsed": false
   }
  },
  {
   "cell_type": "code",
   "execution_count": null,
   "outputs": [],
   "source": [
    "INF = float(\"infinity\")\n",
    "\n",
    "n, s, f = map(int, input().split())\n",
    "s -= 1\n",
    "f -= 1\n",
    "\n",
    "g = [[] for _ in range(n)]\n",
    "\n",
    "for i in range(n):\n",
    "    row = list(map(int, input().split()))\n",
    "    for j in range(n):\n",
    "        if row[j] >= 0:\n",
    "            g[i].append((j, row[j]))\n",
    "\n",
    "dist = [INF] * n\n",
    "used = [0] * n\n",
    "min_set = set()\n",
    "\n",
    "\n",
    "def dijkstra(v):\n",
    "    dist[v] = 0\n",
    "\n",
    "    min_set.add((0, v))\n",
    "\n",
    "    for i in range(n):\n",
    "        # next = -1\n",
    "        # for j in range(n):\n",
    "        #     if not used[j] and (next == -1 or dist[j] < dist[next]):\n",
    "        #         next = j\n",
    "\n",
    "        # if dist[next] == INF:\n",
    "        #     break\n",
    "\n",
    "        min_pair = min(min_set)\n",
    "        next = min_pair[1]\n",
    "        min_set.remove(min_pair)\n",
    "\n",
    "        used[next] = 1\n",
    "\n",
    "        for u, d in g[next]:\n",
    "            if dist[next] + d < dist[u]:\n",
    "                min_set.discard((dist[u], u))\n",
    "                dist[u] = min(dist[u], dist[next] + d)\n",
    "                min_set.add((dist[u], u))\n",
    "\n",
    "\n",
    "dijkstra(s)\n",
    "print(dist[f])"
   ],
   "metadata": {
    "collapsed": false
   }
  },
  {
   "cell_type": "markdown",
   "source": [
    "### Задача\n",
    "\n",
    "Дан ориентированный граф. Найдите кратчайшие пути, состоящие из $K$ рёбер, от $S$ до всех вершин.\n",
    "\n",
    "```\n",
    "3 3 1 1\n",
    "1 2 100\n",
    "2 3 300\n",
    "1 3 2\n",
    "```\n",
    "```\n",
    "-1\n",
    "100\n",
    "2\n",
    "```"
   ],
   "metadata": {
    "collapsed": false
   }
  },
  {
   "cell_type": "code",
   "execution_count": null,
   "outputs": [],
   "source": [],
   "metadata": {
    "collapsed": false
   }
  }
 ],
 "metadata": {
  "kernelspec": {
   "display_name": "Python 3",
   "language": "python",
   "name": "python3"
  },
  "language_info": {
   "codemirror_mode": {
    "name": "ipython",
    "version": 2
   },
   "file_extension": ".py",
   "mimetype": "text/x-python",
   "name": "python",
   "nbconvert_exporter": "python",
   "pygments_lexer": "ipython2",
   "version": "2.7.6"
  }
 },
 "nbformat": 4,
 "nbformat_minor": 0
}
