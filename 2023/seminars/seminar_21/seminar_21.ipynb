{
 "cells": [
  {
   "cell_type": "markdown",
   "source": [
    "#### Задача\n",
    "\n",
    "Дан ориентированный граф. Найдите расстояния от вершины $x$ до всех остальных вершин графа.\n",
    "\n",
    "```\n",
    "6 5\n",
    "0 1 1 0 0 0\n",
    "1 0 0 0 0 0\n",
    "1 1 0 0 0 0\n",
    "0 0 0 0 1 0\n",
    "0 0 1 1 0 0\n",
    "0 1 0 0 0 0\n",
    "```\n",
    "```\n",
    "2 2 1 1 0 -1\n",
    "```"
   ],
   "metadata": {
    "collapsed": false
   }
  },
  {
   "cell_type": "code",
   "execution_count": null,
   "metadata": {
    "collapsed": true
   },
   "outputs": [],
   "source": []
  },
  {
   "cell_type": "markdown",
   "source": [
    "### Задача\n",
    "\n",
    "Дан ориентированный взвешенный граф без ребер отрицательного веса. Найдите кратчайшее расстояние от одной заданной вершины до другой.\n",
    "\n",
    "```\n",
    "3 1 2\n",
    "0 -1 2\n",
    "3 0 -1\n",
    "-1 4 0\n",
    "```\n",
    "```\n",
    "6\n",
    "```"
   ],
   "metadata": {
    "collapsed": false
   }
  },
  {
   "cell_type": "code",
   "execution_count": null,
   "outputs": [],
   "source": [],
   "metadata": {
    "collapsed": false
   }
  },
  {
   "cell_type": "markdown",
   "source": [
    "### Задача\n",
    "\n",
    "Дан ориентированный граф. Найдите кратчайшие пути, состоящие из $K$ рёбер, от $S$ до всех вершин.\n",
    "\n",
    "```\n",
    "3 3 1 1\n",
    "1 2 100\n",
    "2 3 300\n",
    "1 3 2\n",
    "```\n",
    "```\n",
    "-1\n",
    "100\n",
    "2\n",
    "```"
   ],
   "metadata": {
    "collapsed": false
   }
  },
  {
   "cell_type": "code",
   "execution_count": null,
   "outputs": [],
   "source": [],
   "metadata": {
    "collapsed": false
   }
  }
 ],
 "metadata": {
  "kernelspec": {
   "display_name": "Python 3",
   "language": "python",
   "name": "python3"
  },
  "language_info": {
   "codemirror_mode": {
    "name": "ipython",
    "version": 2
   },
   "file_extension": ".py",
   "mimetype": "text/x-python",
   "name": "python",
   "nbconvert_exporter": "python",
   "pygments_lexer": "ipython2",
   "version": "2.7.6"
  }
 },
 "nbformat": 4,
 "nbformat_minor": 0
}
