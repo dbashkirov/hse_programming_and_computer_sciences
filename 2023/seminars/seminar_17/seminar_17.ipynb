{
 "cells": [
  {
   "cell_type": "markdown",
   "source": [
    "### Динамическое программирование\n",
    "\n",
    "**Как решать задачи ДП?**\n",
    "* Что храним в ДП?\n",
    "* База\n",
    "* Переход\n",
    "* Порядок обхода\n",
    "* Где ответ?"
   ],
   "metadata": {
    "collapsed": false
   }
  },
  {
   "cell_type": "markdown",
   "source": [
    "#### Числа Фиббоначи\n",
    "* _Массив F, где F[i] - i-ое число Фиббоначи_\n",
    "* _F[0] = 0, F[1] = 1_\n",
    "* _F[i] = F[i - 1] + F[i - 2]_\n",
    "* _По возрастанию i_\n",
    "* _F[n]_"
   ],
   "metadata": {
    "collapsed": false
   }
  },
  {
   "cell_type": "code",
   "execution_count": 1,
   "metadata": {
    "collapsed": true
   },
   "outputs": [],
   "source": [
    "def Fib(n):\n",
    "    F = [0] * (n + 1) # что зраним\n",
    "    F[0] = 0 # база\n",
    "    F[1] = 1 # база\n",
    "    for i in range(2, n + 1): # порядок обхода\n",
    "        F[i] = F[i - 2] + F[i - 1] # переход\n",
    "    return F[n] # ответ"
   ]
  },
  {
   "cell_type": "code",
   "execution_count": 3,
   "outputs": [
    {
     "data": {
      "text/plain": "55"
     },
     "execution_count": 3,
     "metadata": {},
     "output_type": "execute_result"
    }
   ],
   "source": [
    "Fib(10)"
   ],
   "metadata": {
    "collapsed": false
   }
  },
  {
   "cell_type": "code",
   "execution_count": null,
   "outputs": [],
   "source": [
    "def Fib(n):\n",
    "    if n == 0:\n",
    "        return 0\n",
    "    if n == 1:\n",
    "        return 1\n",
    "    return Fib(n - 2) + Fib(n - 1)"
   ],
   "metadata": {
    "collapsed": false
   }
  },
  {
   "cell_type": "markdown",
   "source": [
    "#### Кузнечик\n",
    "\n",
    "* массив dp, где dp[i] - число способов добраться до кочки i\n",
    "* _dp[0] = 1_\n",
    "* _dp[i] = dp[i - 1] + dp[i - 2]_\n",
    "* _По возрастанию i_\n",
    "* _dp[n]_"
   ],
   "metadata": {
    "collapsed": false
   }
  },
  {
   "cell_type": "code",
   "execution_count": null,
   "outputs": [],
   "source": [
    "dp = [0] * n\n",
    "dp[0] = 1\n",
    "dp[1] = 1\n",
    "for i in range(2, n):\n",
    "    dp[i] = dp[i - 1] + dp[i - 2]\n",
    "print(dp[n])"
   ],
   "metadata": {
    "collapsed": false
   }
  },
  {
   "cell_type": "markdown",
   "source": [
    "Что если кузнечик может прыгать на 1, 2, ..., k кочек вправо?\n",
    "\n",
    "* массив dp, где dp[i] - число способов добраться до кочки i\n",
    "* _dp[0] = 1_\n",
    "* _dp[i] = dp[i - 1] + ... _ dp[i - k]_\n",
    "* по возрастанию i\n",
    "* _dp[n]_"
   ],
   "metadata": {
    "collapsed": false
   }
  },
  {
   "cell_type": "code",
   "execution_count": null,
   "outputs": [],
   "source": [
    "k = 5\n",
    "dp = [0] * n\n",
    "dp[0] = 1\n",
    "for i in range(2, n):\n",
    "    for j in range(i - 1, max(i - k, 0), -1): # i < k\n",
    "        dp[i] += dp[j]\n",
    "print(dp[n])"
   ],
   "metadata": {
    "collapsed": false
   }
  },
  {
   "cell_type": "markdown",
   "source": [
    "#### Черепашка\n",
    "\n",
    "* массив dp, где dp[i][j] - число яблок на пути в клетку (i, j)\n",
    "* _dp[0][0] = apples[0][0]_\n",
    "* _dp[i][j] = max(dp[i - 1][j], dp[i][j - 1]) + apples[i][j]_\n",
    "*\n",
    "* * _dp[i][j] = dp[i - 1][j] + apples[i][j]_, если j = 0\n",
    "* * _dp[i][j] = dp[i][j - 1] + apples[i][j]_, если i = 0\n",
    "* * по возрастанию i, по возрастанию j\n",
    "* _dp[n][m]_"
   ],
   "metadata": {
    "collapsed": false
   }
  },
  {
   "cell_type": "code",
   "execution_count": null,
   "outputs": [],
   "source": [
    "dp[1][1] = apples[1][1]\n",
    "for i in range(n):\n",
    "    for j in range(m):\n",
    "        if i = 1 and j > 1:\n",
    "            dp[i][j] = dp[i][j-1] + apples[i][j]\n",
    "        if i > 1 and j = 1:\n",
    "            dp[i][j] = dp[i-1][j] + apples[i][j]\n",
    "        if i > 1 and j > 1:\n",
    "            dp[i][j] = max(dp[i][j-1], dp[i-1][j]) + apples[i][j]"
   ],
   "metadata": {
    "collapsed": false
   }
  },
  {
   "cell_type": "markdown",
   "source": [
    "Давайте немного изменим порядок обхода. Для этого добавим \"рамку\" вокруг нашего массива\n",
    "\n",
    "* массив dp, где dp[i][j] - число яблок на пути в клетку (i, j)\n",
    "*\n",
    "* * _dp[1][1] = apples[0][0]_\n",
    "* * _dp[i][0] = -INF, _dp[0][j] = -INF_\n",
    "* _dp[i][j] = max(dp[i - 1][j], dp[i][j - 1]) + apples[i][j]_\n",
    "* по возрастанию i, по возрастанию j\n",
    "* _dp[n][m]_"
   ],
   "metadata": {
    "collapsed": false
   }
  },
  {
   "cell_type": "code",
   "execution_count": null,
   "outputs": [],
   "source": [
    "for i in range(n):\n",
    "    dp[i][0] = -INF\n",
    "for j in range(m):\n",
    "    dp[0][j] = -INF\n",
    "dp[1][1] = apples[1][1]\n",
    "for i in range(1, n + 1):\n",
    "    for j in range(1, m + 1):\n",
    "        if i > 1 or j > 1:\n",
    "            dp[i][j] = max(dp[i][j-1],dp[i-1][j]) + apples[i][j]"
   ],
   "metadata": {
    "collapsed": false
   }
  },
  {
   "cell_type": "markdown",
   "source": [
    "А что если нам нужно вывести не только максимальное кол-во яблок, но и путь, который позволяет это кол-во яблок собрать? Заведем массив, в котором будем запоминать из какой клетки мы пришли"
   ],
   "metadata": {
    "collapsed": false
   }
  },
  {
   "cell_type": "code",
   "execution_count": null,
   "outputs": [],
   "source": [
    "for i in range(1, n + 1):\n",
    "    for j in range(1, m + 1):\n",
    "        if i > 1 or j > 1:\n",
    "            if dp[i-1][j] > dp[i][j-1]:\n",
    "                dp[i][j] = dp[i-1][j] + apples[i][j]\n",
    "                p[i][j] = (i-1, j)\n",
    "            else:\n",
    "                dp[i][j] = dp[i][j-1] + apples[i][j]\n",
    "                p[i][j] = (i, j-1)"
   ],
   "metadata": {
    "collapsed": false
   }
  },
  {
   "cell_type": "markdown",
   "source": [
    "**Задача**: Дан массив `coins` монет различных номиналов и сумма `amount`. Нужно вывести минимальное количество монет, которое понадобится, чтобы получилась нужная сумма. Можно считать, что у нас неограниченное кол-во монет. Если сумма не может получиться с такими номиналами, нужно вернуть -1.\n",
    "\n",
    "[1, 2, 5], amount = 11 # 3\n",
    "\n",
    "[1], amount = 0 # 0\n",
    "\n",
    "[2], amount = 3 # -1"
   ],
   "metadata": {
    "collapsed": false
   }
  },
  {
   "cell_type": "code",
   "execution_count": null,
   "outputs": [],
   "source": [],
   "metadata": {
    "collapsed": false
   }
  },
  {
   "cell_type": "markdown",
   "source": [
    "**Задача**: Вы - профессиональный грабитель, который планирует череду ограблений на улице. В каждом доме находится определенное количество денег и единственное, что останавливает вас от ограбления всех домов за ночь - система безопасности, которая соединяет стоящие рядом дома. Это значит, что если вы решите ограбить за одну ночь два стоящих рядом дома, то сработает сигнализация и приедет полиция.\n",
    "\n",
    "Ваша задача - по массиву целых чисел определить какую максимальную сумму за одну ночь вы можете вынести и не попасться полиции\n",
    "\n",
    "[1, 2, 3, 1] # 4\n",
    "\n",
    "[2, 7, 9, 3, 1]"
   ],
   "metadata": {
    "collapsed": false
   }
  },
  {
   "cell_type": "code",
   "execution_count": null,
   "outputs": [],
   "source": [],
   "metadata": {
    "collapsed": false
   }
  }
 ],
 "metadata": {
  "kernelspec": {
   "display_name": "Python 3",
   "language": "python",
   "name": "python3"
  },
  "language_info": {
   "codemirror_mode": {
    "name": "ipython",
    "version": 2
   },
   "file_extension": ".py",
   "mimetype": "text/x-python",
   "name": "python",
   "nbconvert_exporter": "python",
   "pygments_lexer": "ipython2",
   "version": "2.7.6"
  }
 },
 "nbformat": 4,
 "nbformat_minor": 0
}
