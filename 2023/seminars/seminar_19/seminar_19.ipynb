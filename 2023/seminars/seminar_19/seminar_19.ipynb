{
 "cells": [
  {
   "cell_type": "markdown",
   "source": [
    "## Задачи на строки\n",
    "\n",
    "* Сравнение подстрок\n",
    "* Поиск подстроки в строке\n",
    "* И другие"
   ],
   "metadata": {
    "collapsed": false
   }
  },
  {
   "cell_type": "markdown",
   "source": [
    "### Хеш-строки\n",
    "\n",
    "* $h(s) = (s_0 * p_{n−1} + s_1 * p_{n−2} + ⋯ + s_{n−1} × p_0) % M$\n",
    "* $hash[i] = h(s_{0..i})$\n",
    "* $hash[i] = hash[i − 1] * p + s[i] \\% M$\n",
    "* $h(s_{l..r}) = hash(r) − hash(l − 1) × p^{r−l+1} \\% M$"
   ],
   "metadata": {
    "collapsed": false
   }
  },
  {
   "cell_type": "markdown",
   "source": [
    "**Задача**: Дана строка s. Ответьте на m запросов вида: равны ли подстроки s[a..b] и s[c..d]."
   ],
   "metadata": {
    "collapsed": false
   }
  },
  {
   "cell_type": "code",
   "execution_count": null,
   "outputs": [],
   "source": [
    "p = 31\n",
    "m = 10 ** 9\n",
    "DIC_START = ord('a') - 1\n",
    "\n",
    "\n",
    "def get_hash(l, r):\n",
    "    if l == 0:\n",
    "        return h[r]\n",
    "    return (h[r] - (h[l - 1] * powp[r - l + 1]) % m + m) % m\n",
    "\n",
    "\n",
    "s = input()\n",
    "h = [0] * len(s)\n",
    "h[0] = ord(s[0]) - DIC_START\n",
    "powp = [0] * len(s)\n",
    "powp[0] = 1\n",
    "for i in range(1, len(s)):\n",
    "    h[i] = (p * h[i - 1] + ord(s[i]) - DIC_START) % m\n",
    "    powp[i] = (powp[i - 1] * p) % m\n",
    "n = int(input())\n",
    "for _ in range(n):\n",
    "    a, b, c, d = map(int, input().split())\n",
    "    if get_hash(a - 1, b - 1) == get_hash(c - 1, d - 1):\n",
    "        print('Yes')\n",
    "    else:\n",
    "        print('No')"
   ],
   "metadata": {
    "collapsed": false
   }
  },
  {
   "cell_type": "markdown",
   "source": [
    "### Префикс функция\n",
    "\n",
    "* $p[i] = max_{1..i}\\{k: s_{0..k−1} = s_{i−k+1..i}\\}$\n",
    "* если такого $k$ нет, то $p[i] = 0$\n",
    "* $p[i + 1] \\le p[i] + 1$"
   ],
   "metadata": {
    "collapsed": false
   }
  },
  {
   "cell_type": "code",
   "execution_count": null,
   "outputs": [],
   "source": [
    "def pfunction(s):\n",
    "    p[0] = 0\n",
    "    for i = 1 to len(s) - 1:\n",
    "        k = p[i - 1]\n",
    "        while k > 0 and s[i] != s[k]:\n",
    "            k = p[k - 1]\n",
    "        if s[i] == s[k]:\n",
    "            k++\n",
    "        p[i] = k\n",
    "    return p"
   ],
   "metadata": {
    "collapsed": false
   }
  },
  {
   "cell_type": "markdown",
   "source": [
    "### Алгоритм Кнута-Морриса-Пратта\n",
    "\n",
    "* для быстрого поиска подсроки P в строке T\n",
    "* S = P + \"#\" + T\n",
    "* строим префикс функцию S\n",
    "* каждое p[i] = |P| будет началом вхождения подстроки P в T"
   ],
   "metadata": {
    "collapsed": false
   }
  },
  {
   "cell_type": "markdown",
   "source": [
    "### Z-функция\n",
    "\n",
    "* $z[i] = max\\{k: s_{0..k−1} = s_{i..i+k−1}\\}$"
   ],
   "metadata": {
    "collapsed": false
   }
  },
  {
   "cell_type": "code",
   "execution_count": null,
   "outputs": [],
   "source": [
    "def zfunction(s):\n",
    "    left = 0, right = 0\n",
    "    for i = 1 to n − 1:\n",
    "        z[i] = max(0, min(right − i, z[i − left]))\n",
    "        while i + z[i] < n and s[z[i]] = s[i+z[i]]:\n",
    "            z[i]++\n",
    "        if i + z[i] > right:\n",
    "            left = i\n",
    "            right = i + z[i]\n",
    "    return z"
   ],
   "metadata": {
    "collapsed": false
   }
  }
 ],
 "metadata": {
  "kernelspec": {
   "display_name": "Python 3",
   "language": "python",
   "name": "python3"
  },
  "language_info": {
   "codemirror_mode": {
    "name": "ipython",
    "version": 2
   },
   "file_extension": ".py",
   "mimetype": "text/x-python",
   "name": "python",
   "nbconvert_exporter": "python",
   "pygments_lexer": "ipython2",
   "version": "2.7.6"
  }
 },
 "nbformat": 4,
 "nbformat_minor": 0
}
