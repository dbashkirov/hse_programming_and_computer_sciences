{
 "cells": [
  {
   "cell_type": "markdown",
   "source": [
    "## Классы"
   ],
   "metadata": {
    "collapsed": false
   }
  },
  {
   "cell_type": "markdown",
   "source": [
    "**Задача**: реализуйте класс `Dot`. Для класа должна быть реализована возможность сравнивать точки *(точка $A(x_1, y_1)$ меньше точки $B(x_2, y_2)$, если $x_1 < x_2$)*, складывать и вычитать их. На вход конструктор принимает две координаты $x$ и $y$"
   ],
   "metadata": {
    "collapsed": false
   }
  },
  {
   "cell_type": "code",
   "execution_count": null,
   "metadata": {
    "collapsed": true
   },
   "outputs": [],
   "source": []
  },
  {
   "cell_type": "markdown",
   "source": [
    "**Задача**: реализуйте класс `Vector`. В классе должны быть предусмотрены методы для сложения, вычитания, умножения на вектор и скаляр, печати, вычисления длины вектора, проверки на невырожденность, вычисления угла между векторами. При инициализации экземпляр класса должен получать на вход два экземпляра класса `Dot`."
   ],
   "metadata": {
    "collapsed": false
   }
  },
  {
   "cell_type": "code",
   "execution_count": null,
   "outputs": [],
   "source": [],
   "metadata": {
    "collapsed": false
   }
  },
  {
   "cell_type": "markdown",
   "source": [
    "**Задача**: реализуйте класс `Triangle`. В классе должны быть предусмотрены методы выводящие периметр, площадь, стороны треугольника, возможность существования треугольника с такими сторонами. При инициализации экземпляр класса должен получать на вход три экземпляра класса `Dot`."
   ],
   "metadata": {
    "collapsed": false
   }
  },
  {
   "cell_type": "code",
   "execution_count": null,
   "outputs": [],
   "source": [],
   "metadata": {
    "collapsed": false
   }
  },
  {
   "cell_type": "markdown",
   "source": [
    "**Задача**: реализуйте класс `Quadrilateral`. В классе должны быть предусмотрены методы выводящие периметр, площадь, стороны четырехугольника, проверка на невырожденность. При инициализации экземпляр класса должен получать на вход четрые экземпляра класса `Dot`."
   ],
   "metadata": {
    "collapsed": false
   }
  },
  {
   "cell_type": "code",
   "execution_count": null,
   "outputs": [],
   "source": [],
   "metadata": {
    "collapsed": false
   }
  },
  {
   "cell_type": "markdown",
   "source": [
    "**Задача**: реализуйте класс `Word`. В классе должны быть методы для склонения слова, приведения к верхнему и нижнему регистру, конкатенация слов в предложения. Конструктор принимает на вход строку"
   ],
   "metadata": {
    "collapsed": false
   }
  },
  {
   "cell_type": "code",
   "execution_count": null,
   "outputs": [],
   "source": [],
   "metadata": {
    "collapsed": false
   }
  }
 ],
 "metadata": {
  "kernelspec": {
   "display_name": "Python 3",
   "language": "python",
   "name": "python3"
  },
  "language_info": {
   "codemirror_mode": {
    "name": "ipython",
    "version": 2
   },
   "file_extension": ".py",
   "mimetype": "text/x-python",
   "name": "python",
   "nbconvert_exporter": "python",
   "pygments_lexer": "ipython2",
   "version": "2.7.6"
  }
 },
 "nbformat": 4,
 "nbformat_minor": 0
}
