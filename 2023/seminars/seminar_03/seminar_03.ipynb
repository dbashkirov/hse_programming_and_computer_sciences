{
 "cells": [
  {
   "cell_type": "markdown",
   "source": [
    "## Классы"
   ],
   "metadata": {
    "collapsed": false
   }
  },
  {
   "cell_type": "markdown",
   "source": [
    "**Задача**: реализуйте класс `Dot`. На вход конструктор принимает две координаты $x$ и $y$.\n",
    "Для класcа должны быть реализованы следующие методы:\n",
    "* `compare` - для сравнения точек (точка $A(x_1, y_1)$ меньше точки $B(x_2, y_2)$, если $x_1 < x_2$), возвращает boolean\n",
    "* `add` - для сложения точек, возвращает Dot\n",
    "* `sub` - для вычитания точек, возвращает Dot\n",
    "* `show` - для вывода точки в формате \"Dot (x, y)\", возвращает str\n",
    "\n",
    "Сдавать нужно **только класс**. Иначе тестирующая система может не принять ваш ответ. Название файла - **Surname_task#1**."
   ],
   "metadata": {
    "collapsed": false
   }
  },
  {
   "cell_type": "code",
   "execution_count": null,
   "outputs": [],
   "source": [
    "class Dot:\n",
    "\n",
    "    def __init__(self, x, y):\n",
    "        self.x = x\n",
    "        self.y = y\n",
    "\n",
    "    def compare(self, other):\n",
    "        return self.x < other.x\n",
    "\n",
    "    def add(self, other):\n",
    "        pass\n",
    "\n",
    "    def sub(self, other):\n",
    "        pass\n",
    "\n",
    "    def show(self):\n",
    "        pass"
   ],
   "metadata": {
    "collapsed": false
   }
  },
  {
   "cell_type": "markdown",
   "source": [
    "**Задача**: реализуйте класс `Vector`. На вход конструктор принимает точки A и B - начало и конец вектора.\n",
    "В классе должны быть предусмотрены следующие методы:\n",
    "* `add` - для сложения двух векторов, возвращает `Vector`\n",
    "* `sub` - для вычитания, возвращает `Vector`\n",
    "* `mul` - умножения на вектор и скаляр, возвращает `Vector`\n",
    "* `show` - для печати в формате \"Vector (x, y)\", возвращает str\n",
    "* `abs` - для вычисления длины вектора, возвращает float\n",
    "* `exist` - проверки на невырожденность, возвращает boolean\n",
    "* `cos` - вычисления косинуса угла между векторами, возвращает float\n",
    "* `sin` - вычисления синуса угла между векторами, возвращает float\n",
    "\n",
    "Сдавать нужно **только класс**. Иначе тестирующая система может не принять ваш ответ. Название файла - **Surname_task#2**."
   ],
   "metadata": {
    "collapsed": false
   }
  },
  {
   "cell_type": "code",
   "execution_count": null,
   "outputs": [],
   "source": [],
   "metadata": {
    "collapsed": false
   }
  },
  {
   "cell_type": "markdown",
   "source": [
    "**Задача**: реализуйте класс `Triangle`. При инициализации экземпляр класса должен получать на вход три экземпляра класса `Dot`. В классе должны быть предусмотрены следующие методы:\n",
    "* `len` - периметр, возвращает `float`\n",
    "* `square` - площадь, возвращает `float`\n",
    "* `sides` - стороны треугольника, возвращает `tuple` состоящий из сторон, отсортированных по убыванию\n",
    "* `exist` - возможность существования треугольника с такими сторонами, возвращает boolean\n",
    "\n",
    "Сдавать нужно **только класс**. Иначе тестирующая система может не принять ваш ответ. Название файла - **Surname_task#3**."
   ],
   "metadata": {
    "collapsed": false
   }
  },
  {
   "cell_type": "code",
   "execution_count": 7,
   "outputs": [],
   "source": [],
   "metadata": {
    "collapsed": false
   }
  },
  {
   "cell_type": "markdown",
   "source": [
    "**Задача**: реализуйте класс `Quadrilateral`. При инициализации экземпляр класса должен получать на вход четрые экземпляра класса `Dot`. В классе должны быть предусмотрены следующие методы:\n",
    "* `len` - периметр, возвращает `float`\n",
    "* `square` - площадь, возвращает `float`\n",
    "* `sides` - стороны треугольника, возвращает `tuple` состоящий из сторон, отсортированных по убыванию\n",
    "* `exist` - возможность существования треугольника с такими сторонами, возвращает boolean\n",
    "\n",
    "Сдавать нужно **только класс**. Иначе тестирующая система может не принять ваш ответ. Название файла - **Surname_task#4**."
   ],
   "metadata": {
    "collapsed": false
   }
  },
  {
   "cell_type": "code",
   "execution_count": null,
   "outputs": [],
   "source": [],
   "metadata": {
    "collapsed": false
   }
  },
  {
   "cell_type": "markdown",
   "source": [
    "**Задача**: реализуйте класс `Word`.  Конструктор принимает на вход существительное, тип `str`. В классе должны быть следующие методы:\n",
    "* `inflect` - склонение слова по падежам, возвращает `Word`\n",
    "* `register` - с именованным аргументом `register`, который может принимать два значения `upper` и `lower` для приведения к верхнему и нижнему регистру, возвращает Word\n",
    "* `sum` - конкатенация слов в предложения с разделителем, который задается именованный параметром `sep`, возвращает `str`\n",
    "\n",
    "Сдавать нужно **только класс**. Иначе тестирующая система может не принять ваш ответ. Название файла - **Surname_task#5**."
   ],
   "metadata": {
    "collapsed": false
   }
  },
  {
   "cell_type": "code",
   "execution_count": null,
   "outputs": [],
   "source": [],
   "metadata": {
    "collapsed": false
   }
  }
 ],
 "metadata": {
  "kernelspec": {
   "display_name": "Python 3",
   "language": "python",
   "name": "python3"
  },
  "language_info": {
   "codemirror_mode": {
    "name": "ipython",
    "version": 2
   },
   "file_extension": ".py",
   "mimetype": "text/x-python",
   "name": "python",
   "nbconvert_exporter": "python",
   "pygments_lexer": "ipython2",
   "version": "2.7.6"
  }
 },
 "nbformat": 4,
 "nbformat_minor": 0
}
