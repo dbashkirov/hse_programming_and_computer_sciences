{
  "cells": [
    {
      "cell_type": "markdown",
      "metadata": {
        "id": "hUpZAjdeSXEl"
      },
      "source": [
        "## Программирование и компьютерные науки\n",
        "\n",
        "### Семинар 6"
      ]
    },
    {
      "cell_type": "markdown",
      "metadata": {},
      "source": [
        "#### KNN (K Nearest Neighbors)\n",
        "\n",
        "$$ a(x) = \\argmax\\limits_{y \\in Y} \\sum_{i = 1}^k [y_x^i = y] $$\n",
        "\n",
        "Взвешенная версия:\n",
        "\n",
        "$$ a(x) = \\argmax\\limits_{y \\in Y} \\sum_{i = 1}^k w_i[y_x^i = y] $$ \n",
        "где $w_i$ - расстояние до объекта\n",
        "\n",
        "Несмотря на то что формально фаза обучения отсутствует, алгоритм может легко переобучиться. Вы можете убедиться в этом сами, использовав маленькое количество соседей (например, 1 или 2), — границы классов оказываются довольно сложными. Происходит это из-за того, что параметрами алгоритма можно считать всю обучающую выборку, довольно большую по размеру. Из-за этого алгоритму легко подстроиться под конкретные данные.\n",
        "\n",
        "![image](https://raw.githubusercontent.com/hse-ds/iad-intro-ds/6d1ffcf5c5217add5293d86f34548b7b342f4d3b/2021/seminars/sem05_sklearn_knn/k_grid.png)"
      ]
    },
    {
      "cell_type": "code",
      "execution_count": 1,
      "metadata": {},
      "outputs": [],
      "source": [
        "import numpy as np\n",
        "from sklearn.neighbors import KNeighborsClassifier, KNeighborsRegressor\n",
        "from sklearn.datasets import load_wine\n",
        "from sklearn.metrics import f1_score, classification_report\n",
        "from sklearn.model_selection import train_test_split, cross_val_score"
      ]
    },
    {
      "cell_type": "code",
      "execution_count": 3,
      "metadata": {},
      "outputs": [
        {
          "name": "stdout",
          "output_type": "stream",
          "text": [
            ".. _wine_dataset:\n",
            "\n",
            "Wine recognition dataset\n",
            "------------------------\n",
            "\n",
            "**Data Set Characteristics:**\n",
            "\n",
            ":Number of Instances: 178\n",
            ":Number of Attributes: 13 numeric, predictive attributes and the class\n",
            ":Attribute Information:\n",
            "    - Alcohol\n",
            "    - Malic acid\n",
            "    - Ash\n",
            "    - Alcalinity of ash\n",
            "    - Magnesium\n",
            "    - Total phenols\n",
            "    - Flavanoids\n",
            "    - Nonflavanoid phenols\n",
            "    - Proanthocyanins\n",
            "    - Color intensity\n",
            "    - Hue\n",
            "    - OD280/OD315 of diluted wines\n",
            "    - Proline\n",
            "    - class:\n",
            "        - class_0\n",
            "        - class_1\n",
            "        - class_2\n",
            "\n",
            ":Summary Statistics:\n",
            "\n",
            "============================= ==== ===== ======= =====\n",
            "                                Min   Max   Mean     SD\n",
            "============================= ==== ===== ======= =====\n",
            "Alcohol:                      11.0  14.8    13.0   0.8\n",
            "Malic Acid:                   0.74  5.80    2.34  1.12\n",
            "Ash:                          1.36  3.23    2.36  0.27\n",
            "Alcalinity of Ash:            10.6  30.0    19.5   3.3\n",
            "Magnesium:                    70.0 162.0    99.7  14.3\n",
            "Total Phenols:                0.98  3.88    2.29  0.63\n",
            "Flavanoids:                   0.34  5.08    2.03  1.00\n",
            "Nonflavanoid Phenols:         0.13  0.66    0.36  0.12\n",
            "Proanthocyanins:              0.41  3.58    1.59  0.57\n",
            "Colour Intensity:              1.3  13.0     5.1   2.3\n",
            "Hue:                          0.48  1.71    0.96  0.23\n",
            "OD280/OD315 of diluted wines: 1.27  4.00    2.61  0.71\n",
            "Proline:                       278  1680     746   315\n",
            "============================= ==== ===== ======= =====\n",
            "\n",
            ":Missing Attribute Values: None\n",
            ":Class Distribution: class_0 (59), class_1 (71), class_2 (48)\n",
            ":Creator: R.A. Fisher\n",
            ":Donor: Michael Marshall (MARSHALL%PLU@io.arc.nasa.gov)\n",
            ":Date: July, 1988\n",
            "\n",
            "This is a copy of UCI ML Wine recognition datasets.\n",
            "https://archive.ics.uci.edu/ml/machine-learning-databases/wine/wine.data\n",
            "\n",
            "The data is the results of a chemical analysis of wines grown in the same\n",
            "region in Italy by three different cultivators. There are thirteen different\n",
            "measurements taken for different constituents found in the three types of\n",
            "wine.\n",
            "\n",
            "Original Owners:\n",
            "\n",
            "Forina, M. et al, PARVUS -\n",
            "An Extendible Package for Data Exploration, Classification and Correlation.\n",
            "Institute of Pharmaceutical and Food Analysis and Technologies,\n",
            "Via Brigata Salerno, 16147 Genoa, Italy.\n",
            "\n",
            "Citation:\n",
            "\n",
            "Lichman, M. (2013). UCI Machine Learning Repository\n",
            "[https://archive.ics.uci.edu/ml]. Irvine, CA: University of California,\n",
            "School of Information and Computer Science.\n",
            "\n",
            "|details-start|\n",
            "**References**\n",
            "|details-split|\n",
            "\n",
            "(1) S. Aeberhard, D. Coomans and O. de Vel,\n",
            "Comparison of Classifiers in High Dimensional Settings,\n",
            "Tech. Rep. no. 92-02, (1992), Dept. of Computer Science and Dept. of\n",
            "Mathematics and Statistics, James Cook University of North Queensland.\n",
            "(Also submitted to Technometrics).\n",
            "\n",
            "The data was used with many others for comparing various\n",
            "classifiers. The classes are separable, though only RDA\n",
            "has achieved 100% correct classification.\n",
            "(RDA : 100%, QDA 99.4%, LDA 98.9%, 1NN 96.1% (z-transformed data))\n",
            "(All results using the leave-one-out technique)\n",
            "\n",
            "(2) S. Aeberhard, D. Coomans and O. de Vel,\n",
            "\"THE CLASSIFICATION PERFORMANCE OF RDA\"\n",
            "Tech. Rep. no. 92-01, (1992), Dept. of Computer Science and Dept. of\n",
            "Mathematics and Statistics, James Cook University of North Queensland.\n",
            "(Also submitted to Journal of Chemometrics).\n",
            "\n",
            "|details-end|\n",
            "\n"
          ]
        }
      ],
      "source": [
        "data = load_wine()\n",
        "print(data['DESCR'])"
      ]
    },
    {
      "cell_type": "code",
      "execution_count": 4,
      "metadata": {},
      "outputs": [],
      "source": [
        "X = data['data']\n",
        "y = data['target']\n",
        "X_train, X_test, y_train, y_test = train_test_split(X, y, test_size=0.3, \n",
        "                                                    shuffle=True, stratify=y, \n",
        "                                                    random_state=42)"
      ]
    },
    {
      "cell_type": "code",
      "execution_count": 5,
      "metadata": {},
      "outputs": [],
      "source": [
        "class KNNClassifier:\n",
        "\n",
        "  def __init__(self, n_neighbors: int):\n",
        "    self.X = None\n",
        "    self.y = None\n",
        "    self.n_neighbors = n_neighbors\n",
        "\n",
        "  def fit(self, X, y):\n",
        "    self.X = X\n",
        "    self.y = y\n",
        "\n",
        "  def predict(self, X_test):\n",
        "    answer = []\n",
        "    l = X_test.shape[0]\n",
        "    dists = np.linalg.norm(self.X - X_test[:, np.newaxis], axis=2)\n",
        "    labels = np.tile(self.y, l).reshape((l, -1))\n",
        "    res = np.dstack((dists, labels))\n",
        "    for i in range(l):\n",
        "      dist = [tuple(line) for line in res[i]]\n",
        "      dist.sort()\n",
        "      pred = np.array([int(x[1]) for x in dist[:self.n_neighbors]])\n",
        "      answer.append(np.argmax(np.bincount(pred)))\n",
        "    return np.array(answer)"
      ]
    },
    {
      "cell_type": "code",
      "execution_count": 16,
      "metadata": {},
      "outputs": [],
      "source": [
        "knn = KNNClassifier(7)\n",
        "knn.fit(X_train, y_train)"
      ]
    },
    {
      "cell_type": "code",
      "execution_count": 17,
      "metadata": {},
      "outputs": [
        {
          "name": "stdout",
          "output_type": "stream",
          "text": [
            "              precision    recall  f1-score   support\n",
            "\n",
            "           0       0.89      0.89      0.89        18\n",
            "           1       0.92      0.57      0.71        21\n",
            "           2       0.52      0.80      0.63        15\n",
            "\n",
            "    accuracy                           0.74        54\n",
            "   macro avg       0.78      0.75      0.74        54\n",
            "weighted avg       0.80      0.74      0.75        54\n",
            "\n"
          ]
        }
      ],
      "source": [
        "print(classification_report(y_test, knn.predict(X_test)))"
      ]
    },
    {
      "cell_type": "code",
      "execution_count": 22,
      "metadata": {},
      "outputs": [
        {
          "data": {
            "text/html": [
              "<style>#sk-container-id-2 {\n",
              "  /* Definition of color scheme common for light and dark mode */\n",
              "  --sklearn-color-text: black;\n",
              "  --sklearn-color-line: gray;\n",
              "  /* Definition of color scheme for unfitted estimators */\n",
              "  --sklearn-color-unfitted-level-0: #fff5e6;\n",
              "  --sklearn-color-unfitted-level-1: #f6e4d2;\n",
              "  --sklearn-color-unfitted-level-2: #ffe0b3;\n",
              "  --sklearn-color-unfitted-level-3: chocolate;\n",
              "  /* Definition of color scheme for fitted estimators */\n",
              "  --sklearn-color-fitted-level-0: #f0f8ff;\n",
              "  --sklearn-color-fitted-level-1: #d4ebff;\n",
              "  --sklearn-color-fitted-level-2: #b3dbfd;\n",
              "  --sklearn-color-fitted-level-3: cornflowerblue;\n",
              "\n",
              "  /* Specific color for light theme */\n",
              "  --sklearn-color-text-on-default-background: var(--sg-text-color, var(--theme-code-foreground, var(--jp-content-font-color1, black)));\n",
              "  --sklearn-color-background: var(--sg-background-color, var(--theme-background, var(--jp-layout-color0, white)));\n",
              "  --sklearn-color-border-box: var(--sg-text-color, var(--theme-code-foreground, var(--jp-content-font-color1, black)));\n",
              "  --sklearn-color-icon: #696969;\n",
              "\n",
              "  @media (prefers-color-scheme: dark) {\n",
              "    /* Redefinition of color scheme for dark theme */\n",
              "    --sklearn-color-text-on-default-background: var(--sg-text-color, var(--theme-code-foreground, var(--jp-content-font-color1, white)));\n",
              "    --sklearn-color-background: var(--sg-background-color, var(--theme-background, var(--jp-layout-color0, #111)));\n",
              "    --sklearn-color-border-box: var(--sg-text-color, var(--theme-code-foreground, var(--jp-content-font-color1, white)));\n",
              "    --sklearn-color-icon: #878787;\n",
              "  }\n",
              "}\n",
              "\n",
              "#sk-container-id-2 {\n",
              "  color: var(--sklearn-color-text);\n",
              "}\n",
              "\n",
              "#sk-container-id-2 pre {\n",
              "  padding: 0;\n",
              "}\n",
              "\n",
              "#sk-container-id-2 input.sk-hidden--visually {\n",
              "  border: 0;\n",
              "  clip: rect(1px 1px 1px 1px);\n",
              "  clip: rect(1px, 1px, 1px, 1px);\n",
              "  height: 1px;\n",
              "  margin: -1px;\n",
              "  overflow: hidden;\n",
              "  padding: 0;\n",
              "  position: absolute;\n",
              "  width: 1px;\n",
              "}\n",
              "\n",
              "#sk-container-id-2 div.sk-dashed-wrapped {\n",
              "  border: 1px dashed var(--sklearn-color-line);\n",
              "  margin: 0 0.4em 0.5em 0.4em;\n",
              "  box-sizing: border-box;\n",
              "  padding-bottom: 0.4em;\n",
              "  background-color: var(--sklearn-color-background);\n",
              "}\n",
              "\n",
              "#sk-container-id-2 div.sk-container {\n",
              "  /* jupyter's `normalize.less` sets `[hidden] { display: none; }`\n",
              "     but bootstrap.min.css set `[hidden] { display: none !important; }`\n",
              "     so we also need the `!important` here to be able to override the\n",
              "     default hidden behavior on the sphinx rendered scikit-learn.org.\n",
              "     See: https://github.com/scikit-learn/scikit-learn/issues/21755 */\n",
              "  display: inline-block !important;\n",
              "  position: relative;\n",
              "}\n",
              "\n",
              "#sk-container-id-2 div.sk-text-repr-fallback {\n",
              "  display: none;\n",
              "}\n",
              "\n",
              "div.sk-parallel-item,\n",
              "div.sk-serial,\n",
              "div.sk-item {\n",
              "  /* draw centered vertical line to link estimators */\n",
              "  background-image: linear-gradient(var(--sklearn-color-text-on-default-background), var(--sklearn-color-text-on-default-background));\n",
              "  background-size: 2px 100%;\n",
              "  background-repeat: no-repeat;\n",
              "  background-position: center center;\n",
              "}\n",
              "\n",
              "/* Parallel-specific style estimator block */\n",
              "\n",
              "#sk-container-id-2 div.sk-parallel-item::after {\n",
              "  content: \"\";\n",
              "  width: 100%;\n",
              "  border-bottom: 2px solid var(--sklearn-color-text-on-default-background);\n",
              "  flex-grow: 1;\n",
              "}\n",
              "\n",
              "#sk-container-id-2 div.sk-parallel {\n",
              "  display: flex;\n",
              "  align-items: stretch;\n",
              "  justify-content: center;\n",
              "  background-color: var(--sklearn-color-background);\n",
              "  position: relative;\n",
              "}\n",
              "\n",
              "#sk-container-id-2 div.sk-parallel-item {\n",
              "  display: flex;\n",
              "  flex-direction: column;\n",
              "}\n",
              "\n",
              "#sk-container-id-2 div.sk-parallel-item:first-child::after {\n",
              "  align-self: flex-end;\n",
              "  width: 50%;\n",
              "}\n",
              "\n",
              "#sk-container-id-2 div.sk-parallel-item:last-child::after {\n",
              "  align-self: flex-start;\n",
              "  width: 50%;\n",
              "}\n",
              "\n",
              "#sk-container-id-2 div.sk-parallel-item:only-child::after {\n",
              "  width: 0;\n",
              "}\n",
              "\n",
              "/* Serial-specific style estimator block */\n",
              "\n",
              "#sk-container-id-2 div.sk-serial {\n",
              "  display: flex;\n",
              "  flex-direction: column;\n",
              "  align-items: center;\n",
              "  background-color: var(--sklearn-color-background);\n",
              "  padding-right: 1em;\n",
              "  padding-left: 1em;\n",
              "}\n",
              "\n",
              "\n",
              "/* Toggleable style: style used for estimator/Pipeline/ColumnTransformer box that is\n",
              "clickable and can be expanded/collapsed.\n",
              "- Pipeline and ColumnTransformer use this feature and define the default style\n",
              "- Estimators will overwrite some part of the style using the `sk-estimator` class\n",
              "*/\n",
              "\n",
              "/* Pipeline and ColumnTransformer style (default) */\n",
              "\n",
              "#sk-container-id-2 div.sk-toggleable {\n",
              "  /* Default theme specific background. It is overwritten whether we have a\n",
              "  specific estimator or a Pipeline/ColumnTransformer */\n",
              "  background-color: var(--sklearn-color-background);\n",
              "}\n",
              "\n",
              "/* Toggleable label */\n",
              "#sk-container-id-2 label.sk-toggleable__label {\n",
              "  cursor: pointer;\n",
              "  display: block;\n",
              "  width: 100%;\n",
              "  margin-bottom: 0;\n",
              "  padding: 0.5em;\n",
              "  box-sizing: border-box;\n",
              "  text-align: center;\n",
              "}\n",
              "\n",
              "#sk-container-id-2 label.sk-toggleable__label-arrow:before {\n",
              "  /* Arrow on the left of the label */\n",
              "  content: \"▸\";\n",
              "  float: left;\n",
              "  margin-right: 0.25em;\n",
              "  color: var(--sklearn-color-icon);\n",
              "}\n",
              "\n",
              "#sk-container-id-2 label.sk-toggleable__label-arrow:hover:before {\n",
              "  color: var(--sklearn-color-text);\n",
              "}\n",
              "\n",
              "/* Toggleable content - dropdown */\n",
              "\n",
              "#sk-container-id-2 div.sk-toggleable__content {\n",
              "  max-height: 0;\n",
              "  max-width: 0;\n",
              "  overflow: hidden;\n",
              "  text-align: left;\n",
              "  /* unfitted */\n",
              "  background-color: var(--sklearn-color-unfitted-level-0);\n",
              "}\n",
              "\n",
              "#sk-container-id-2 div.sk-toggleable__content.fitted {\n",
              "  /* fitted */\n",
              "  background-color: var(--sklearn-color-fitted-level-0);\n",
              "}\n",
              "\n",
              "#sk-container-id-2 div.sk-toggleable__content pre {\n",
              "  margin: 0.2em;\n",
              "  border-radius: 0.25em;\n",
              "  color: var(--sklearn-color-text);\n",
              "  /* unfitted */\n",
              "  background-color: var(--sklearn-color-unfitted-level-0);\n",
              "}\n",
              "\n",
              "#sk-container-id-2 div.sk-toggleable__content.fitted pre {\n",
              "  /* unfitted */\n",
              "  background-color: var(--sklearn-color-fitted-level-0);\n",
              "}\n",
              "\n",
              "#sk-container-id-2 input.sk-toggleable__control:checked~div.sk-toggleable__content {\n",
              "  /* Expand drop-down */\n",
              "  max-height: 200px;\n",
              "  max-width: 100%;\n",
              "  overflow: auto;\n",
              "}\n",
              "\n",
              "#sk-container-id-2 input.sk-toggleable__control:checked~label.sk-toggleable__label-arrow:before {\n",
              "  content: \"▾\";\n",
              "}\n",
              "\n",
              "/* Pipeline/ColumnTransformer-specific style */\n",
              "\n",
              "#sk-container-id-2 div.sk-label input.sk-toggleable__control:checked~label.sk-toggleable__label {\n",
              "  color: var(--sklearn-color-text);\n",
              "  background-color: var(--sklearn-color-unfitted-level-2);\n",
              "}\n",
              "\n",
              "#sk-container-id-2 div.sk-label.fitted input.sk-toggleable__control:checked~label.sk-toggleable__label {\n",
              "  background-color: var(--sklearn-color-fitted-level-2);\n",
              "}\n",
              "\n",
              "/* Estimator-specific style */\n",
              "\n",
              "/* Colorize estimator box */\n",
              "#sk-container-id-2 div.sk-estimator input.sk-toggleable__control:checked~label.sk-toggleable__label {\n",
              "  /* unfitted */\n",
              "  background-color: var(--sklearn-color-unfitted-level-2);\n",
              "}\n",
              "\n",
              "#sk-container-id-2 div.sk-estimator.fitted input.sk-toggleable__control:checked~label.sk-toggleable__label {\n",
              "  /* fitted */\n",
              "  background-color: var(--sklearn-color-fitted-level-2);\n",
              "}\n",
              "\n",
              "#sk-container-id-2 div.sk-label label.sk-toggleable__label,\n",
              "#sk-container-id-2 div.sk-label label {\n",
              "  /* The background is the default theme color */\n",
              "  color: var(--sklearn-color-text-on-default-background);\n",
              "}\n",
              "\n",
              "/* On hover, darken the color of the background */\n",
              "#sk-container-id-2 div.sk-label:hover label.sk-toggleable__label {\n",
              "  color: var(--sklearn-color-text);\n",
              "  background-color: var(--sklearn-color-unfitted-level-2);\n",
              "}\n",
              "\n",
              "/* Label box, darken color on hover, fitted */\n",
              "#sk-container-id-2 div.sk-label.fitted:hover label.sk-toggleable__label.fitted {\n",
              "  color: var(--sklearn-color-text);\n",
              "  background-color: var(--sklearn-color-fitted-level-2);\n",
              "}\n",
              "\n",
              "/* Estimator label */\n",
              "\n",
              "#sk-container-id-2 div.sk-label label {\n",
              "  font-family: monospace;\n",
              "  font-weight: bold;\n",
              "  display: inline-block;\n",
              "  line-height: 1.2em;\n",
              "}\n",
              "\n",
              "#sk-container-id-2 div.sk-label-container {\n",
              "  text-align: center;\n",
              "}\n",
              "\n",
              "/* Estimator-specific */\n",
              "#sk-container-id-2 div.sk-estimator {\n",
              "  font-family: monospace;\n",
              "  border: 1px dotted var(--sklearn-color-border-box);\n",
              "  border-radius: 0.25em;\n",
              "  box-sizing: border-box;\n",
              "  margin-bottom: 0.5em;\n",
              "  /* unfitted */\n",
              "  background-color: var(--sklearn-color-unfitted-level-0);\n",
              "}\n",
              "\n",
              "#sk-container-id-2 div.sk-estimator.fitted {\n",
              "  /* fitted */\n",
              "  background-color: var(--sklearn-color-fitted-level-0);\n",
              "}\n",
              "\n",
              "/* on hover */\n",
              "#sk-container-id-2 div.sk-estimator:hover {\n",
              "  /* unfitted */\n",
              "  background-color: var(--sklearn-color-unfitted-level-2);\n",
              "}\n",
              "\n",
              "#sk-container-id-2 div.sk-estimator.fitted:hover {\n",
              "  /* fitted */\n",
              "  background-color: var(--sklearn-color-fitted-level-2);\n",
              "}\n",
              "\n",
              "/* Specification for estimator info (e.g. \"i\" and \"?\") */\n",
              "\n",
              "/* Common style for \"i\" and \"?\" */\n",
              "\n",
              ".sk-estimator-doc-link,\n",
              "a:link.sk-estimator-doc-link,\n",
              "a:visited.sk-estimator-doc-link {\n",
              "  float: right;\n",
              "  font-size: smaller;\n",
              "  line-height: 1em;\n",
              "  font-family: monospace;\n",
              "  background-color: var(--sklearn-color-background);\n",
              "  border-radius: 1em;\n",
              "  height: 1em;\n",
              "  width: 1em;\n",
              "  text-decoration: none !important;\n",
              "  margin-left: 1ex;\n",
              "  /* unfitted */\n",
              "  border: var(--sklearn-color-unfitted-level-1) 1pt solid;\n",
              "  color: var(--sklearn-color-unfitted-level-1);\n",
              "}\n",
              "\n",
              ".sk-estimator-doc-link.fitted,\n",
              "a:link.sk-estimator-doc-link.fitted,\n",
              "a:visited.sk-estimator-doc-link.fitted {\n",
              "  /* fitted */\n",
              "  border: var(--sklearn-color-fitted-level-1) 1pt solid;\n",
              "  color: var(--sklearn-color-fitted-level-1);\n",
              "}\n",
              "\n",
              "/* On hover */\n",
              "div.sk-estimator:hover .sk-estimator-doc-link:hover,\n",
              ".sk-estimator-doc-link:hover,\n",
              "div.sk-label-container:hover .sk-estimator-doc-link:hover,\n",
              ".sk-estimator-doc-link:hover {\n",
              "  /* unfitted */\n",
              "  background-color: var(--sklearn-color-unfitted-level-3);\n",
              "  color: var(--sklearn-color-background);\n",
              "  text-decoration: none;\n",
              "}\n",
              "\n",
              "div.sk-estimator.fitted:hover .sk-estimator-doc-link.fitted:hover,\n",
              ".sk-estimator-doc-link.fitted:hover,\n",
              "div.sk-label-container:hover .sk-estimator-doc-link.fitted:hover,\n",
              ".sk-estimator-doc-link.fitted:hover {\n",
              "  /* fitted */\n",
              "  background-color: var(--sklearn-color-fitted-level-3);\n",
              "  color: var(--sklearn-color-background);\n",
              "  text-decoration: none;\n",
              "}\n",
              "\n",
              "/* Span, style for the box shown on hovering the info icon */\n",
              ".sk-estimator-doc-link span {\n",
              "  display: none;\n",
              "  z-index: 9999;\n",
              "  position: relative;\n",
              "  font-weight: normal;\n",
              "  right: .2ex;\n",
              "  padding: .5ex;\n",
              "  margin: .5ex;\n",
              "  width: min-content;\n",
              "  min-width: 20ex;\n",
              "  max-width: 50ex;\n",
              "  color: var(--sklearn-color-text);\n",
              "  box-shadow: 2pt 2pt 4pt #999;\n",
              "  /* unfitted */\n",
              "  background: var(--sklearn-color-unfitted-level-0);\n",
              "  border: .5pt solid var(--sklearn-color-unfitted-level-3);\n",
              "}\n",
              "\n",
              ".sk-estimator-doc-link.fitted span {\n",
              "  /* fitted */\n",
              "  background: var(--sklearn-color-fitted-level-0);\n",
              "  border: var(--sklearn-color-fitted-level-3);\n",
              "}\n",
              "\n",
              ".sk-estimator-doc-link:hover span {\n",
              "  display: block;\n",
              "}\n",
              "\n",
              "/* \"?\"-specific style due to the `<a>` HTML tag */\n",
              "\n",
              "#sk-container-id-2 a.estimator_doc_link {\n",
              "  float: right;\n",
              "  font-size: 1rem;\n",
              "  line-height: 1em;\n",
              "  font-family: monospace;\n",
              "  background-color: var(--sklearn-color-background);\n",
              "  border-radius: 1rem;\n",
              "  height: 1rem;\n",
              "  width: 1rem;\n",
              "  text-decoration: none;\n",
              "  /* unfitted */\n",
              "  color: var(--sklearn-color-unfitted-level-1);\n",
              "  border: var(--sklearn-color-unfitted-level-1) 1pt solid;\n",
              "}\n",
              "\n",
              "#sk-container-id-2 a.estimator_doc_link.fitted {\n",
              "  /* fitted */\n",
              "  border: var(--sklearn-color-fitted-level-1) 1pt solid;\n",
              "  color: var(--sklearn-color-fitted-level-1);\n",
              "}\n",
              "\n",
              "/* On hover */\n",
              "#sk-container-id-2 a.estimator_doc_link:hover {\n",
              "  /* unfitted */\n",
              "  background-color: var(--sklearn-color-unfitted-level-3);\n",
              "  color: var(--sklearn-color-background);\n",
              "  text-decoration: none;\n",
              "}\n",
              "\n",
              "#sk-container-id-2 a.estimator_doc_link.fitted:hover {\n",
              "  /* fitted */\n",
              "  background-color: var(--sklearn-color-fitted-level-3);\n",
              "}\n",
              "</style><div id=\"sk-container-id-2\" class=\"sk-top-container\"><div class=\"sk-text-repr-fallback\"><pre>KNeighborsClassifier(n_neighbors=7)</pre><b>In a Jupyter environment, please rerun this cell to show the HTML representation or trust the notebook. <br />On GitHub, the HTML representation is unable to render, please try loading this page with nbviewer.org.</b></div><div class=\"sk-container\" hidden><div class=\"sk-item\"><div class=\"sk-estimator fitted sk-toggleable\"><input class=\"sk-toggleable__control sk-hidden--visually\" id=\"sk-estimator-id-2\" type=\"checkbox\" checked><label for=\"sk-estimator-id-2\" class=\"sk-toggleable__label fitted sk-toggleable__label-arrow fitted\">&nbsp;&nbsp;KNeighborsClassifier<a class=\"sk-estimator-doc-link fitted\" rel=\"noreferrer\" target=\"_blank\" href=\"https://scikit-learn.org/1.4/modules/generated/sklearn.neighbors.KNeighborsClassifier.html\">?<span>Documentation for KNeighborsClassifier</span></a><span class=\"sk-estimator-doc-link fitted\">i<span>Fitted</span></span></label><div class=\"sk-toggleable__content fitted\"><pre>KNeighborsClassifier(n_neighbors=7)</pre></div> </div></div></div></div>"
            ],
            "text/plain": [
              "KNeighborsClassifier(n_neighbors=7)"
            ]
          },
          "execution_count": 22,
          "metadata": {},
          "output_type": "execute_result"
        }
      ],
      "source": [
        "knn_model = KNeighborsClassifier(n_neighbors=7)\n",
        "knn_model.fit(X_train, y_train)"
      ]
    },
    {
      "cell_type": "code",
      "execution_count": 23,
      "metadata": {},
      "outputs": [
        {
          "data": {
            "text/plain": [
              "array([0, 1, 0, 0, 0, 0, 1, 2, 1, 2, 1, 2, 2, 1, 0, 2, 1, 0, 0, 2, 1, 0,\n",
              "       2, 2, 2, 2, 0, 2, 0, 2, 2, 1, 2, 1, 2, 2, 2, 2, 2, 0, 2, 0, 0, 0,\n",
              "       0, 1, 1, 0, 2, 2, 1, 1, 2, 0])"
            ]
          },
          "execution_count": 23,
          "metadata": {},
          "output_type": "execute_result"
        }
      ],
      "source": [
        "knn_model.predict(X_test)"
      ]
    },
    {
      "cell_type": "code",
      "execution_count": 24,
      "metadata": {},
      "outputs": [
        {
          "data": {
            "text/plain": [
              "array([0.69393569, 0.67936508, 0.61471861])"
            ]
          },
          "execution_count": 24,
          "metadata": {},
          "output_type": "execute_result"
        }
      ],
      "source": [
        "cross_val_score(knn_model, X_test, y_test, cv=3, scoring='f1_macro')"
      ]
    },
    {
      "cell_type": "code",
      "execution_count": 25,
      "metadata": {},
      "outputs": [
        {
          "name": "stdout",
          "output_type": "stream",
          "text": [
            "              precision    recall  f1-score   support\n",
            "\n",
            "           0       0.89      0.89      0.89        18\n",
            "           1       0.92      0.57      0.71        21\n",
            "           2       0.52      0.80      0.63        15\n",
            "\n",
            "    accuracy                           0.74        54\n",
            "   macro avg       0.78      0.75      0.74        54\n",
            "weighted avg       0.80      0.74      0.75        54\n",
            "\n"
          ]
        }
      ],
      "source": [
        "print(classification_report(y_test, knn_model.predict(X_test)))"
      ]
    },
    {
      "cell_type": "markdown",
      "metadata": {},
      "source": [
        "Теперь поработаем с текстом"
      ]
    },
    {
      "cell_type": "code",
      "execution_count": 26,
      "metadata": {
        "colab": {
          "base_uri": "https://localhost:8080/"
        },
        "id": "bCPlLwMPSXEo",
        "outputId": "433bd457-c7d1-4626-a906-03d21731b7a0"
      },
      "outputs": [
        {
          "name": "stdout",
          "output_type": "stream",
          "text": [
            "%pylab is deprecated, use %matplotlib inline and import the required libraries.\n",
            "Populating the interactive namespace from numpy and matplotlib\n"
          ]
        }
      ],
      "source": [
        "%pylab inline"
      ]
    },
    {
      "cell_type": "markdown",
      "metadata": {
        "id": "QmU7cBiSSXEp"
      },
      "source": [
        "## Разреженные матрицы\n",
        "\n",
        "Разреженная матрица — это матрица, большинство элементов которой равны нулю. Такие матрицы возникают во многих областях науки, в том числе и в машинном обучении.\n",
        "\n",
        "Для разреженных матриц можно определить следующие характеристики:\n",
        "- разреженность (sparsity) — доля нулевых элементов матрицы,\n",
        "- плотность (density) — доля ненулевых элементов матрицы, или $1 - \\text{sparsity}$.\n",
        "\n",
        "Для разреженных матриц существуют специальные способы их хранения в памяти компьютера, при которых хранятся только ненулевые значения, тем самым сокращается объём занимаемой памяти. Эти способы реализованы в библиотеке [scipy.sparse](http://docs.scipy.org/doc/scipy/reference/sparse.html). Кроме того, разреженные матрицы поддерживаются большинством реализаций методов машинного обучения."
      ]
    },
    {
      "cell_type": "code",
      "execution_count": 27,
      "metadata": {
        "collapsed": true,
        "id": "v2Efaaq4SXEq"
      },
      "outputs": [],
      "source": [
        "import scipy.sparse as sp"
      ]
    },
    {
      "cell_type": "markdown",
      "metadata": {
        "id": "ybR28Es5SXEq"
      },
      "source": [
        "### COOrdinate format\n",
        "\n",
        "[Координатный формат](http://docs.scipy.org/doc/scipy/reference/generated/scipy.sparse.coo_matrix.html#scipy.sparse.coo_matrix) задаёт матрицу при помощи троек (индекс строки, индекс столбца, значение элемента), описывающих ненулевые элементы матрицы. Как правило, тройки сортируют по индексу строки, а затем индексу столбца для ускорения работы. \n",
        "\n",
        "Объём занимаемой памяти — $O(n),$ где $n$ — число ненулевых элементов в матрице."
      ]
    },
    {
      "cell_type": "code",
      "execution_count": 29,
      "metadata": {
        "colab": {
          "base_uri": "https://localhost:8080/"
        },
        "id": "pXRRJfXBSXEr",
        "outputId": "61a0d5bf-4e69-446e-bb8b-cca81ac3286f"
      },
      "outputs": [
        {
          "name": "stdout",
          "output_type": "stream",
          "text": [
            "[[1 2 3]\n",
            " [4 5 6]\n",
            " [7 8 9]]\n"
          ]
        }
      ],
      "source": [
        "m = (np.arange(9) + 1).reshape(3,3)\n",
        "print(m)\n",
        "sparse_m = sp.coo_matrix(m)"
      ]
    },
    {
      "cell_type": "code",
      "execution_count": 30,
      "metadata": {},
      "outputs": [
        {
          "data": {
            "text/plain": [
              "<3x3 sparse matrix of type '<class 'numpy.int64'>'\n",
              "\twith 9 stored elements in COOrdinate format>"
            ]
          },
          "execution_count": 30,
          "metadata": {},
          "output_type": "execute_result"
        }
      ],
      "source": [
        "sparse_m"
      ]
    },
    {
      "cell_type": "code",
      "execution_count": 31,
      "metadata": {},
      "outputs": [
        {
          "data": {
            "text/plain": [
              "(array([0, 0, 0, 1, 1, 1, 2, 2, 2], dtype=int32),\n",
              " array([0, 1, 2, 0, 1, 2, 0, 1, 2], dtype=int32),\n",
              " array([1, 2, 3, 4, 5, 6, 7, 8, 9]))"
            ]
          },
          "execution_count": 31,
          "metadata": {},
          "output_type": "execute_result"
        }
      ],
      "source": [
        "sparse_m.row, sparse_m.col, sparse_m.data"
      ]
    },
    {
      "cell_type": "code",
      "execution_count": 32,
      "metadata": {
        "colab": {
          "base_uri": "https://localhost:8080/"
        },
        "id": "vSY06NAZSXEr",
        "outputId": "2f8ac483-5c80-4ed5-85ba-09476e4f16d6"
      },
      "outputs": [
        {
          "name": "stdout",
          "output_type": "stream",
          "text": [
            "(0, 0, 1)\n",
            "(0, 1, 2)\n",
            "(0, 2, 3)\n",
            "(1, 0, 4)\n",
            "(1, 1, 5)\n",
            "(1, 2, 6)\n",
            "(2, 0, 7)\n",
            "(2, 1, 8)\n",
            "(2, 2, 9)\n"
          ]
        }
      ],
      "source": [
        "for i in range(len(sparse_m.data)):\n",
        "    print('(%d, %d, %d)' % (sparse_m.row[i], sparse_m.col[i], sparse_m.data[i]))"
      ]
    },
    {
      "cell_type": "markdown",
      "metadata": {
        "id": "nD1KbUvtSXEs"
      },
      "source": [
        "Для матрицы, содержащей нулевые элементы, имеем:"
      ]
    },
    {
      "cell_type": "code",
      "execution_count": 33,
      "metadata": {
        "colab": {
          "base_uri": "https://localhost:8080/"
        },
        "id": "w_H6mkS4SXEs",
        "outputId": "712a32c5-cc4a-4f8d-d37b-7bc016b90066"
      },
      "outputs": [
        {
          "name": "stdout",
          "output_type": "stream",
          "text": [
            "[[1. 0. 0.]\n",
            " [0. 2. 0.]\n",
            " [0. 0. 3.]]\n"
          ]
        }
      ],
      "source": [
        "m = np.eye(3)*np.arange(1,4)\n",
        "print(m)\n",
        "sparse_m = sp.coo_matrix(m)"
      ]
    },
    {
      "cell_type": "code",
      "execution_count": 34,
      "metadata": {
        "colab": {
          "base_uri": "https://localhost:8080/"
        },
        "id": "ETxV48pASXEs",
        "outputId": "257c8602-7e3a-4f48-e2b2-968503186ccb"
      },
      "outputs": [
        {
          "name": "stdout",
          "output_type": "stream",
          "text": [
            "(0, 0, 1)\n",
            "(1, 1, 2)\n",
            "(2, 2, 3)\n"
          ]
        }
      ],
      "source": [
        "for i in range(len(sparse_m.data)):\n",
        "    print('(%d, %d, %d)' % (sparse_m.row[i], sparse_m.col[i], sparse_m.data[i]))"
      ]
    },
    {
      "cell_type": "markdown",
      "metadata": {
        "id": "Ocnhxbg6SXEt"
      },
      "source": [
        "### Compressed Sparse Row matrix\n",
        "\n",
        "[CSR формат](http://docs.scipy.org/doc/scipy/reference/generated/scipy.sparse.csr_matrix.html#scipy.sparse.csr_matrix) — разреженная по строчкам матрица. \n",
        "\n",
        "<img src=\"https://github.com/esokolov/ml-course-hse/blob/master/2016-fall/seminars/images/arrays.png?raw=1\">\n",
        "\n",
        "Формат задаёт матрицу при помощи трёх массивов:\n",
        "1. $i$-ый элемент первого массива соответствует $i$-ой строке и содержит индекс некоторого элемента во втором массиве.\n",
        "2. Во втором массиве по порядку для каждой строки записаны индексы столбцов ненулевых элементов.\n",
        "3. Третий массив имеет такую же длину, как и второй, и содержит значения соответствующих ненулевых элементов.\n",
        "\n",
        "Обозначим описанные массивы $a,b,c$. Для получения элемента матрицы на позиции $(i, j)$ необходимо осуществить следующую последовательность действий:\n",
        "1. Получить значения $a[i]=k_{left}, a[i+1]=k_{right}$.\n",
        "2. Тогда индексы столбцов ненулевых элементов $i$-ой строки будут находиться в \"подмассиве\" $b[k_{left}:k_{right}]$.\n",
        "3. В цикле перебираем элементы подмассива $b[k_{left}:k_{right}]$, пока не встретим элемент, равный $j$.\n",
        "4. Если такой элемент обнаружен на позиции $m$ (в терминах массива $b$), то ответом является значение $c[m]$.\n",
        "5. Иначе ответом является 0.если мы не встретили элемент, равный $j$, то возвращаем $0$.\n",
        "\n",
        "Объём занимаемой памяти — $O(n)$, где $n$ — число ненулевых элементов."
      ]
    },
    {
      "cell_type": "code",
      "execution_count": 35,
      "metadata": {
        "colab": {
          "base_uri": "https://localhost:8080/"
        },
        "id": "qczJd2IiSXEt",
        "outputId": "2da4c6bb-36bb-4d2c-8850-e5ec085b6f22"
      },
      "outputs": [
        {
          "name": "stdout",
          "output_type": "stream",
          "text": [
            "[[1 2 3]\n",
            " [4 5 6]\n",
            " [7 8 9]]\n"
          ]
        }
      ],
      "source": [
        "m = (np.arange(9) + 1).reshape(3,3)\n",
        "print(m)\n",
        "sparse_m = sp.csr_matrix(m)"
      ]
    },
    {
      "cell_type": "code",
      "execution_count": 24,
      "metadata": {
        "colab": {
          "base_uri": "https://localhost:8080/"
        },
        "id": "_xbcCOQmSXEu",
        "outputId": "84b94a2a-a0b9-495e-8646-537be1b8c0c7"
      },
      "outputs": [
        {
          "name": "stdout",
          "output_type": "stream",
          "text": [
            "a [0 3 6 9]\n",
            "b [0 1 2 0 1 2 0 1 2]\n",
            "c [1 2 3 4 5 6 7 8 9]\n"
          ]
        }
      ],
      "source": [
        "print('a', sparse_m.indptr)\n",
        "print('b', sparse_m.indices)\n",
        "print('c', sparse_m.data)"
      ]
    },
    {
      "cell_type": "markdown",
      "metadata": {
        "id": "iVCNBuwwSXEu"
      },
      "source": [
        "Для матрицы, содержащей нулевые элементы:"
      ]
    },
    {
      "cell_type": "code",
      "execution_count": 36,
      "metadata": {
        "colab": {
          "base_uri": "https://localhost:8080/"
        },
        "id": "TjgNNXSCSXEu",
        "outputId": "4de075b5-a8bc-4324-d811-36c2742cafea"
      },
      "outputs": [
        {
          "name": "stdout",
          "output_type": "stream",
          "text": [
            "[[1 0 0]\n",
            " [1 2 0]\n",
            " [1 2 3]]\n"
          ]
        }
      ],
      "source": [
        "m = np.tril(np.arange(1,4))\n",
        "print(m)\n",
        "sparse_m = sp.csr_matrix(m)"
      ]
    },
    {
      "cell_type": "code",
      "execution_count": 37,
      "metadata": {
        "colab": {
          "base_uri": "https://localhost:8080/"
        },
        "id": "bd4VAKZDSXEu",
        "outputId": "a6cd5a4f-ef8b-433d-97e1-c96bec9e91c7"
      },
      "outputs": [
        {
          "name": "stdout",
          "output_type": "stream",
          "text": [
            "a [0 1 3 6]\n",
            "b [0 0 1 0 1 2]\n",
            "c [1 1 2 1 2 3]\n"
          ]
        }
      ],
      "source": [
        "print('a', sparse_m.indptr)\n",
        "print('b', sparse_m.indices)\n",
        "print('c', sparse_m.data)"
      ]
    },
    {
      "cell_type": "markdown",
      "metadata": {
        "id": "BF8a7UEDSXEv"
      },
      "source": [
        "### Compressed Sparse Column matrix\n",
        "\n",
        "[CSC формат](http://docs.scipy.org/doc/scipy/reference/generated/scipy.sparse.csc_matrix.html#scipy.sparse.csc_matrix) — разреженная по столбцам матрица. \n",
        "\n",
        "Формат CSC задаёт матрицу аналогично формату CSR, но при этом элементы первого массива соответствуют столбцам, а не строкам.\n",
        "\n",
        "Объём занимаемой памяти — $O(n)$, где $n$ — число ненулевых элементов."
      ]
    },
    {
      "cell_type": "code",
      "execution_count": 38,
      "metadata": {
        "colab": {
          "base_uri": "https://localhost:8080/"
        },
        "id": "z5xK-yf9SXEv",
        "outputId": "4ebb3ed5-d37a-4c6d-941c-806da14056f5"
      },
      "outputs": [
        {
          "name": "stdout",
          "output_type": "stream",
          "text": [
            "[[1 2 3]\n",
            " [4 5 6]\n",
            " [7 8 9]]\n"
          ]
        }
      ],
      "source": [
        "m = (np.arange(9) + 1).reshape(3,3)\n",
        "print(m)\n",
        "sparse_m = sp.csc_matrix(m)"
      ]
    },
    {
      "cell_type": "code",
      "execution_count": 39,
      "metadata": {
        "colab": {
          "base_uri": "https://localhost:8080/"
        },
        "id": "e6u8W3eASXEv",
        "outputId": "7cf1bb7c-e706-430c-ab5b-36021e13c8b5"
      },
      "outputs": [
        {
          "name": "stdout",
          "output_type": "stream",
          "text": [
            "a [0 3 6 9]\n",
            "b [0 1 2 0 1 2 0 1 2]\n",
            "c [1 4 7 2 5 8 3 6 9]\n"
          ]
        }
      ],
      "source": [
        "print('a', sparse_m.indptr)\n",
        "print('b', sparse_m.indices)\n",
        "print('c', sparse_m.data)"
      ]
    },
    {
      "cell_type": "code",
      "execution_count": 40,
      "metadata": {
        "colab": {
          "base_uri": "https://localhost:8080/"
        },
        "id": "acsrGx64SXEv",
        "outputId": "18957b2f-4707-4d5a-d054-aa7a4faec01b"
      },
      "outputs": [
        {
          "name": "stdout",
          "output_type": "stream",
          "text": [
            "[[1 0 0]\n",
            " [1 2 0]\n",
            " [1 2 3]]\n"
          ]
        }
      ],
      "source": [
        "m = np.tril(np.arange(1,4))\n",
        "print(m)\n",
        "sparse_m = sp.csc_matrix(m)"
      ]
    },
    {
      "cell_type": "code",
      "execution_count": 41,
      "metadata": {
        "colab": {
          "base_uri": "https://localhost:8080/"
        },
        "id": "ViFP_SD2SXEw",
        "outputId": "af4d2f2b-84cc-43e2-dc09-b9c76487693e"
      },
      "outputs": [
        {
          "name": "stdout",
          "output_type": "stream",
          "text": [
            "a [0 3 5 6]\n",
            "b [0 1 2 1 2 2]\n",
            "c [1 1 1 2 2 3]\n"
          ]
        }
      ],
      "source": [
        "print('a', sparse_m.indptr)\n",
        "print('b', sparse_m.indices)\n",
        "print('c', sparse_m.data)"
      ]
    },
    {
      "cell_type": "markdown",
      "metadata": {
        "id": "OpmwcylvSXEw"
      },
      "source": [
        "## Умножение разреженных матриц\n",
        "\n",
        "Как мы убедились, объём занимаемой памяти практически не отличается для всех вариантов хранения разреженных матриц. В таком случае использование какого из вариантов даёт больше преимуществ? Оказывается, что все три способа кардинально различаются по времени умножения матриц.\n",
        "\n",
        "Для начала вспомним правило умножения матриц:\n",
        "$$C = A\\cdot B$$\n",
        "$$C_{ij} = \\sum_k A_{ik}B_{kj}$$\n",
        "\n",
        "Для нахождения элемента $C_{ij}$ необходимо получить $i$-ую строчку матрицы $A$ и $j$-ый столбец матрицы $B$. Исследуем время выполнения этих операций для каждого из форматов:\n",
        "\n",
        "- **COO.** Стоимость получения строки — $O(n)$. Стоимость получения столбца — $O(n)$. При условии, что тройки отсортированы, время поиска можно сократить, воспользовавшись бинарным поиском.\n",
        "- **CSR.** Стоимость получения строки — $O(1)$. Стоимость получения столбца — $O(n)$.\n",
        "- **CSC.** Стоимость получения строки — $O(n)$. Стоимость получения столбца — $O(1)$.\n",
        "\n",
        "Таким образом, время перемножения матриц будет оптимальным, если матрица $A$ задаётся в формате CSR, а матрица $B$ — в формате CSC."
      ]
    },
    {
      "cell_type": "markdown",
      "metadata": {
        "id": "hIoIP0unSXEx"
      },
      "source": [
        "## Работа с текстовыми данными\n",
        "\n",
        "Разреженные матрицы имеют место в машинном обучении, в частности, в задачах обработки текстов. \n",
        "\n",
        "Как правило, модели машинного обучения действуют в предположении, что матрица \"объект-признак\" является вещественнозначной, поэтому при работе с текстами сперва для каждого из них необходимо составить его признаковое описание. Для этого широко используются техники векторизации, tf-idf и пр. Рассмотрим их на примере датасета отзывов о банках.\n",
        "\n",
        "Сперва загрузим данные:"
      ]
    },
    {
      "cell_type": "code",
      "execution_count": 42,
      "metadata": {
        "id": "Ry-6RmtfSXEx"
      },
      "outputs": [],
      "source": [
        "import json\n",
        "\n",
        "import bz2\n",
        "import regex\n",
        "from tqdm import tqdm"
      ]
    },
    {
      "cell_type": "code",
      "execution_count": 43,
      "metadata": {
        "id": "9HFvQ_KeHCWs"
      },
      "outputs": [],
      "source": [
        "!wget -O banki_responses.json.bz2 -q https://www.dropbox.com/s/7v3s14tu0cy7cnv/banki_responses.json.bz2"
      ]
    },
    {
      "cell_type": "code",
      "execution_count": 44,
      "metadata": {
        "colab": {
          "base_uri": "https://localhost:8080/"
        },
        "id": "4xRPpBmZSXEx",
        "outputId": "d7e5f9c5-a158-49eb-d4a8-e34dfaa6ebd9"
      },
      "outputs": [
        {
          "name": "stderr",
          "output_type": "stream",
          "text": [
            "0it [00:00, ?it/s]"
          ]
        },
        {
          "name": "stderr",
          "output_type": "stream",
          "text": [
            "201030it [03:19, 1008.32it/s]\n"
          ]
        }
      ],
      "source": [
        "responses = []\n",
        "with bz2.BZ2File('banki_responses.json.bz2', 'r') as thefile:\n",
        "    for row in tqdm(thefile):\n",
        "        resp = json.loads(row)\n",
        "        if not resp['rating_not_checked']:\n",
        "            responses.append(resp)"
      ]
    },
    {
      "cell_type": "markdown",
      "metadata": {
        "id": "Gp1dg1NMSXEx"
      },
      "source": [
        "Данные содержат тексты отзывов о банках, некоторую дополнительную информацию, а также оценку банка от 1 до 5. Посмотрим на пример отзыва:"
      ]
    },
    {
      "cell_type": "code",
      "execution_count": 45,
      "metadata": {
        "colab": {
          "base_uri": "https://localhost:8080/"
        },
        "id": "jQcugDl3SXEx",
        "outputId": "dd1e1fe7-e3ca-414a-a553-452e473b799d"
      },
      "outputs": [
        {
          "name": "stdout",
          "output_type": "stream",
          "text": [
            "Банк отказывается возвращать депозит после окончания срока действия договора. Предлагает обращаться в ЦО, где в порядке живой очереди можно забирать не более 500$/день в порядке живой очереди. Налицо отвратительное отношение к вкладчикам. Советую всем обращаться с жалобой в ЦБ и роспотребнадзор.\n"
          ]
        }
      ],
      "source": [
        "interesting_responses = list(filter(lambda r: u'отвратительно' in r['text'], responses))\n",
        "print(interesting_responses[0]['text'])"
      ]
    },
    {
      "cell_type": "markdown",
      "metadata": {
        "id": "XEPkun2qSXEy"
      },
      "source": [
        "Приведём текст отзыва в нижний регистр, а также избавимся от всех символов, кроме кириллицы:"
      ]
    },
    {
      "cell_type": "code",
      "execution_count": 46,
      "metadata": {
        "colab": {
          "base_uri": "https://localhost:8080/"
        },
        "id": "pPUmea4BSXEy",
        "outputId": "bd86ed67-c042-4774-8585-bb40305f47a4"
      },
      "outputs": [
        {
          "name": "stdout",
          "output_type": "stream",
          "text": [
            "банк отказывается возвращать депозит после окончания срока действия договора  предлагает обращаться в цо  где в порядке живой очереди можно забирать не более      день в порядке живой очереди  налицо отвратительное отношение к вкладчикам  советую всем обращаться с жалобой в цб и роспотребнадзор \n"
          ]
        }
      ],
      "source": [
        "print(regex.sub(r'[^\\p{Cyrillic}]', ' ', interesting_responses[0]['text'].lower()))"
      ]
    },
    {
      "cell_type": "markdown",
      "metadata": {
        "id": "bnBYJuXfSXEy"
      },
      "source": [
        "Сформируем выборку отзывов, предобработав их аналогичным образом, и вектор ответов:"
      ]
    },
    {
      "cell_type": "code",
      "execution_count": 47,
      "metadata": {
        "collapsed": true,
        "id": "40mJcmAQSXEy"
      },
      "outputs": [],
      "source": [
        "responses = list(filter(lambda r: r['rating_grade'] is not None, responses))\n",
        "texts = list(map(lambda r: regex.sub(r'[^\\p{Cyrillic}]', ' ', r['text'].lower()), responses))\n",
        "ratings = list(map(lambda r: r['rating_grade'], responses))"
      ]
    },
    {
      "cell_type": "code",
      "execution_count": 48,
      "metadata": {
        "colab": {
          "base_uri": "https://localhost:8080/",
          "height": 430
        },
        "id": "AmC9uovkSXEz",
        "outputId": "0c22cfa9-46be-450b-e7c2-b09235eb0285"
      },
      "outputs": [
        {
          "data": {
            "image/png": "[encoded data removed]",
            "text/plain": [
              "<Figure size 640x480 with 1 Axes>"
            ]
          },
          "metadata": {},
          "output_type": "display_data"
        }
      ],
      "source": [
        "import matplotlib.pyplot as plt\n",
        "%matplotlib inline\n",
        "plt.hist(ratings)\n",
        "plt.grid()"
      ]
    },
    {
      "cell_type": "code",
      "execution_count": 49,
      "metadata": {},
      "outputs": [
        {
          "data": {
            "text/plain": [
              "'мама мыла раму'"
            ]
          },
          "execution_count": 49,
          "metadata": {},
          "output_type": "execute_result"
        }
      ],
      "source": [
        "\"мама мыла раму\"\n",
        "\"папа мыл раму\"\n",
        "[[0, 1, 1, 1],\n",
        " [1, 0, 1, 1]]\n",
        "\"папа мама мыл(а) раму\""
      ]
    },
    {
      "cell_type": "markdown",
      "metadata": {
        "id": "LIKCi4ABSXEz"
      },
      "source": [
        "### Векторизация\n",
        "\n",
        "Самый очевидный способ формирования признакового описания текстов — векторизация. Пусть у нас имеется коллекция текстов $D = \\{d_i\\}_{i=1}^l$ и словарь всех слов, встречающихся в выборке $V = \\{v_j\\}_{j=1}^d.$ В этом случае некоторый текст $d_i$ описывается вектором $(x_{ij})_{j=1}^d,$ где\n",
        "$$x_{ij} = \\sum_{v \\in d_i} [v = v_j].$$\n",
        "\n",
        "Таким образом, текст $d_i$ описывается вектором количества вхождений каждого слова из словаря в данный текст."
      ]
    },
    {
      "cell_type": "code",
      "execution_count": 50,
      "metadata": {
        "id": "RfzOjmnbSXEz"
      },
      "outputs": [],
      "source": [
        "from sklearn.feature_extraction.text import CountVectorizer"
      ]
    },
    {
      "cell_type": "code",
      "execution_count": 51,
      "metadata": {
        "colab": {
          "base_uri": "https://localhost:8080/"
        },
        "id": "AJZ3NTtzSXEz",
        "outputId": "7b95ba3a-386f-41fd-8563-b96e756261e0"
      },
      "outputs": [
        {
          "name": "stdout",
          "output_type": "stream",
          "text": [
            "CPU times: user 18.2 s, sys: 831 ms, total: 19.1 s\n",
            "Wall time: 19.7 s\n"
          ]
        }
      ],
      "source": [
        "%%time\n",
        "vectorizer = CountVectorizer(encoding='utf8')\n",
        "_ = vectorizer.fit(texts)"
      ]
    },
    {
      "cell_type": "markdown",
      "metadata": {
        "id": "1Eua8iy9SXEz"
      },
      "source": [
        "Результатом является разреженная матрица."
      ]
    },
    {
      "cell_type": "code",
      "execution_count": 52,
      "metadata": {
        "colab": {
          "base_uri": "https://localhost:8080/"
        },
        "id": "BsbEmFN0SXEz",
        "outputId": "d2c5b0ed-3be6-4104-868d-dbf396f8d442"
      },
      "outputs": [
        {
          "data": {
            "text/plain": [
              "<1x72477 sparse matrix of type '<class 'numpy.int64'>'\n",
              "\twith 166 stored elements in Compressed Sparse Row format>"
            ]
          },
          "execution_count": 52,
          "metadata": {},
          "output_type": "execute_result"
        }
      ],
      "source": [
        "vectorizer.transform(texts[:1])"
      ]
    },
    {
      "cell_type": "code",
      "execution_count": 53,
      "metadata": {
        "colab": {
          "base_uri": "https://localhost:8080/"
        },
        "id": "7CfNR1phlMSA",
        "outputId": "4cdb3ba0-f4cf-496a-972d-99379939de50"
      },
      "outputs": [
        {
          "data": {
            "text/plain": [
              "array([1, 1, 2, 1, 1, 1, 1, 2, 2, 1, 2, 1, 1, 1, 1, 1, 2, 1, 1, 1, 1, 3,\n",
              "       1, 1, 1, 1, 1, 1, 1, 1, 1, 1, 1, 1, 1, 1, 1, 1, 1, 1, 1, 1, 1, 1,\n",
              "       1, 1, 1, 1, 1, 1, 3, 3, 2, 1, 1, 1, 1, 1, 1, 1, 1, 1, 1, 1, 1, 1,\n",
              "       1, 1, 1, 1, 1, 1, 7, 1, 1, 8, 1, 2, 1, 1, 2, 1, 1, 1, 1, 1, 1, 1,\n",
              "       1, 1, 1, 2, 1, 1, 1, 1, 1, 1, 1, 1, 2, 1, 1, 1, 1, 1, 1, 1, 1, 1,\n",
              "       1, 1, 1, 2, 1, 1, 1, 1, 1, 1, 1, 1, 1, 1, 1, 1, 1, 1, 1, 1, 1, 1,\n",
              "       1, 1, 1, 1, 1, 1, 1, 1, 1, 1, 1, 1, 1, 2, 2, 1, 2, 1, 1, 2, 1, 1,\n",
              "       1, 1, 1, 1, 1, 1, 1, 1, 1, 7, 1, 1])"
            ]
          },
          "execution_count": 53,
          "metadata": {},
          "output_type": "execute_result"
        }
      ],
      "source": [
        "vectorizer.transform(texts[:1]).data"
      ]
    },
    {
      "cell_type": "markdown",
      "metadata": {
        "id": "5Z2HfPB3SXFI"
      },
      "source": [
        "### TF-IDF\n",
        "\n",
        "Ещё один способ работы с текстовыми данными — [TF-IDF](https://en.wikipedia.org/wiki/Tf–idf) (**T**erm **F**requency–**I**nverse **D**ocument **F**requency). Рассмотрим коллекцию текстов $D$.  Для каждого уникального слова $t$ из документа $d \\in D$ вычислим следующие величины:\n",
        "\n",
        "1. Term Frequency – количество вхождений слова в отношении к общему числу слов в тексте:\n",
        "$$\\text{tf}(t, d) = \\frac{n_{td}}{\\sum_{t \\in d} n_{td}},$$\n",
        "где $n_{td}$ — количество вхождений слова $t$ в текст $d$.\n",
        "1. Inverse Document Frequency\n",
        "$$\\text{idf}(t, D) = \\log \\frac{\\left| D \\right|}{\\left| \\{d\\in D: t \\in d\\} \\right|},$$\n",
        "где $\\left| \\{d\\in D: t \\in d\\} \\right|$ – количество текстов в коллекции, содержащих слово $t$.\n",
        "\n",
        "Тогда для каждой пары (слово, текст) $(t, d)$ вычислим величину:\n",
        "$$\\text{tf-idf}(t,d, D) = \\text{tf}(t, d)\\cdot \\text{idf}(t, D).$$\n",
        "\n",
        "Отметим, что значение $\\text{tf}(t, d)$ корректируется для часто встречающихся общеупотребимых слов при помощи значения $\\text{idf}(t, D).$\n",
        "\n",
        "Признаковым описанием одного объекта $d \\in D$ будет вектор $\\bigg(\\text{tf-idf}(t,d, D)\\bigg)_{t\\in V}$, где $V$ – словарь всех слов, встречающихся в коллекции $D$."
      ]
    },
    {
      "cell_type": "code",
      "execution_count": 54,
      "metadata": {
        "collapsed": true,
        "id": "LNUbQw_ASXFI"
      },
      "outputs": [],
      "source": [
        "from sklearn.feature_extraction.text import TfidfVectorizer"
      ]
    },
    {
      "cell_type": "code",
      "execution_count": 55,
      "metadata": {
        "colab": {
          "base_uri": "https://localhost:8080/"
        },
        "collapsed": true,
        "id": "APKjX7IGSXFI",
        "outputId": "88d4566a-aad9-46bf-9de7-db4babf2fb3e"
      },
      "outputs": [
        {
          "name": "stdout",
          "output_type": "stream",
          "text": [
            "CPU times: user 18.9 s, sys: 968 ms, total: 19.8 s\n",
            "Wall time: 20.8 s\n"
          ]
        }
      ],
      "source": [
        "%%time\n",
        "vectorizer = TfidfVectorizer(encoding='utf8', min_df=5)\n",
        "_ = vectorizer.fit(texts)"
      ]
    },
    {
      "cell_type": "markdown",
      "metadata": {
        "id": "e8n9wjgYSXFI"
      },
      "source": [
        "На выходе получаем разреженную матрицу."
      ]
    },
    {
      "cell_type": "code",
      "execution_count": 56,
      "metadata": {
        "colab": {
          "base_uri": "https://localhost:8080/"
        },
        "id": "Bw82zLbzSXFJ",
        "outputId": "45fe790f-5402-4c06-f9c0-6bc33a1afc01"
      },
      "outputs": [
        {
          "data": {
            "text/plain": [
              "<1x72477 sparse matrix of type '<class 'numpy.float64'>'\n",
              "\twith 166 stored elements in Compressed Sparse Row format>"
            ]
          },
          "execution_count": 56,
          "metadata": {},
          "output_type": "execute_result"
        }
      ],
      "source": [
        "vectorizer.transform(texts[:1])"
      ]
    },
    {
      "cell_type": "code",
      "execution_count": 57,
      "metadata": {
        "colab": {
          "base_uri": "https://localhost:8080/"
        },
        "id": "gwby1YXPlQXZ",
        "outputId": "d734a629-e3b3-4bab-80b8-9b8f8344a684"
      },
      "outputs": [
        {
          "data": {
            "text/plain": [
              "array([0.05140577, 0.12668783, 0.10612272, 0.08193637, 0.0248289 ,\n",
              "       0.05166677, 0.03590111, 0.05129787, 0.08873269, 0.09454437,\n",
              "       0.05191242, 0.12550273, 0.03851543, 0.04464916, 0.04226121,\n",
              "       0.08159327, 0.07495108, 0.198989  , 0.08752852, 0.07894877,\n",
              "       0.04408565, 0.07335611, 0.11606197, 0.08795419, 0.04919692,\n",
              "       0.08525054, 0.06207737, 0.04037283, 0.03823641, 0.03951032,\n",
              "       0.12441254, 0.04981359, 0.05392155, 0.10501699, 0.03027151,\n",
              "       0.09732307, 0.10167839, 0.1182089 , 0.11151977, 0.04671403,\n",
              "       0.03496325, 0.12389851, 0.03260637, 0.04823129, 0.07020873,\n",
              "       0.04905738, 0.12389851, 0.08545894, 0.10514369, 0.08125861,\n",
              "       0.09431253, 0.07115122, 0.09173376, 0.03312771, 0.07837006,\n",
              "       0.06430327, 0.08082481, 0.09402818, 0.08202934, 0.08125861,\n",
              "       0.05805574, 0.06574112, 0.06701952, 0.09538836, 0.05215997,\n",
              "       0.13847157, 0.12036393, 0.05724585, 0.12389851, 0.08267406,\n",
              "       0.08738954, 0.06379865, 0.04645995, 0.08528012, 0.03329734,\n",
              "       0.08304587, 0.09908048, 0.04857093, 0.02926569, 0.08335082,\n",
              "       0.06869073, 0.11151977, 0.06790785, 0.09595992, 0.06309544,\n",
              "       0.06822696, 0.04850709, 0.04202423, 0.03946924, 0.12340317,\n",
              "       0.11430331, 0.09932738, 0.09018044, 0.10115269, 0.03931334,\n",
              "       0.04298328, 0.03559308, 0.07772592, 0.0588444 , 0.04010175,\n",
              "       0.06610568, 0.02152751, 0.05476765, 0.10358196, 0.04779564,\n",
              "       0.08799027, 0.03861421, 0.04282763, 0.06173672, 0.07965928,\n",
              "       0.04371637, 0.07803548, 0.10592968, 0.05952014, 0.08545809,\n",
              "       0.0597    , 0.05138855, 0.02459478, 0.07470369, 0.04352039,\n",
              "       0.07523134, 0.07556094, 0.05069349, 0.07149121, 0.09776012,\n",
              "       0.03173102, 0.07917796, 0.07975763, 0.04554608, 0.06076308,\n",
              "       0.02498441, 0.10218103, 0.06624403, 0.03341379, 0.09386037,\n",
              "       0.10476707, 0.08061298, 0.08132489, 0.11193253, 0.09583082,\n",
              "       0.07649131, 0.0654067 , 0.08238374, 0.02135754, 0.08618662,\n",
              "       0.10690796, 0.03282988, 0.07878639, 0.09258752, 0.11940833,\n",
              "       0.06204507, 0.04653723, 0.03428121, 0.0305839 , 0.02886322,\n",
              "       0.06026069, 0.07977738, 0.07192711, 0.12057397, 0.0824317 ,\n",
              "       0.11578113, 0.03902659, 0.0515867 , 0.03691948, 0.0200837 ,\n",
              "       0.07226592])"
            ]
          },
          "execution_count": 57,
          "metadata": {},
          "output_type": "execute_result"
        }
      ],
      "source": [
        "vectorizer.transform(texts[:1]).data"
      ]
    },
    {
      "cell_type": "markdown",
      "metadata": {
        "id": "VqjjORNbSXFJ"
      },
      "source": [
        "Заметим, что оба метода возвращают вектор длины 72477 (размер нашего словаря)."
      ]
    },
    {
      "cell_type": "markdown",
      "metadata": {},
      "source": [
        "## Стоп слова"
      ]
    },
    {
      "cell_type": "code",
      "execution_count": 58,
      "metadata": {},
      "outputs": [],
      "source": [
        "import nltk"
      ]
    },
    {
      "cell_type": "code",
      "execution_count": 59,
      "metadata": {},
      "outputs": [
        {
          "name": "stderr",
          "output_type": "stream",
          "text": [
            "[nltk_data] Error loading stopwords: <urlopen error [SSL:\n",
            "[nltk_data]     CERTIFICATE_VERIFY_FAILED] certificate verify failed:\n",
            "[nltk_data]     unable to get local issuer certificate (_ssl.c:1006)>\n"
          ]
        },
        {
          "data": {
            "text/plain": [
              "False"
            ]
          },
          "execution_count": 59,
          "metadata": {},
          "output_type": "execute_result"
        }
      ],
      "source": [
        "nltk.download(\"stopwords\", quiet=True)"
      ]
    },
    {
      "cell_type": "code",
      "execution_count": 60,
      "metadata": {},
      "outputs": [
        {
          "name": "stdout",
          "output_type": "stream",
          "text": [
            "['и', 'в', 'во', 'не', 'что', 'он', 'на', 'я', 'с', 'со', 'как', 'а', 'то', 'все', 'она', 'так', 'его', 'но', 'да', 'ты', 'к', 'у', 'же', 'вы', 'за', 'бы', 'по', 'только', 'ее', 'мне', 'было', 'вот', 'от', 'меня', 'еще', 'нет', 'о', 'из', 'ему', 'теперь', 'когда', 'даже', 'ну', 'вдруг', 'ли', 'если', 'уже', 'или', 'ни', 'быть', 'был', 'него', 'до', 'вас', 'нибудь', 'опять', 'уж', 'вам', 'ведь', 'там', 'потом', 'себя', 'ничего', 'ей', 'может', 'они', 'тут', 'где', 'есть', 'надо', 'ней', 'для', 'мы', 'тебя', 'их', 'чем', 'была', 'сам', 'чтоб', 'без', 'будто', 'чего', 'раз', 'тоже', 'себе', 'под', 'будет', 'ж', 'тогда', 'кто', 'этот', 'того', 'потому', 'этого', 'какой', 'совсем', 'ним', 'здесь', 'этом', 'один', 'почти', 'мой', 'тем', 'чтобы', 'нее', 'сейчас', 'были', 'куда', 'зачем', 'всех', 'никогда', 'можно', 'при', 'наконец', 'два', 'об', 'другой', 'хоть', 'после', 'над', 'больше', 'тот', 'через', 'эти', 'нас', 'про', 'всего', 'них', 'какая', 'много', 'разве', 'три', 'эту', 'моя', 'впрочем', 'хорошо', 'свою', 'этой', 'перед', 'иногда', 'лучше', 'чуть', 'том', 'нельзя', 'такой', 'им', 'более', 'всегда', 'конечно', 'всю', 'между']\n"
          ]
        }
      ],
      "source": [
        "from nltk.corpus import stopwords\n",
        "\n",
        "print(stopwords.words(\"russian\"))"
      ]
    },
    {
      "cell_type": "code",
      "execution_count": 61,
      "metadata": {},
      "outputs": [
        {
          "name": "stdout",
          "output_type": "stream",
          "text": [
            "['i', 'me', 'my', 'myself', 'we', 'our', 'ours', 'ourselves', 'you', \"you're\", \"you've\", \"you'll\", \"you'd\", 'your', 'yours', 'yourself', 'yourselves', 'he', 'him', 'his', 'himself', 'she', \"she's\", 'her', 'hers', 'herself', 'it', \"it's\", 'its', 'itself', 'they', 'them', 'their', 'theirs', 'themselves', 'what', 'which', 'who', 'whom', 'this', 'that', \"that'll\", 'these', 'those', 'am', 'is', 'are', 'was', 'were', 'be', 'been', 'being', 'have', 'has', 'had', 'having', 'do', 'does', 'did', 'doing', 'a', 'an', 'the', 'and', 'but', 'if', 'or', 'because', 'as', 'until', 'while', 'of', 'at', 'by', 'for', 'with', 'about', 'against', 'between', 'into', 'through', 'during', 'before', 'after', 'above', 'below', 'to', 'from', 'up', 'down', 'in', 'out', 'on', 'off', 'over', 'under', 'again', 'further', 'then', 'once', 'here', 'there', 'when', 'where', 'why', 'how', 'all', 'any', 'both', 'each', 'few', 'more', 'most', 'other', 'some', 'such', 'no', 'nor', 'not', 'only', 'own', 'same', 'so', 'than', 'too', 'very', 's', 't', 'can', 'will', 'just', 'don', \"don't\", 'should', \"should've\", 'now', 'd', 'll', 'm', 'o', 're', 've', 'y', 'ain', 'aren', \"aren't\", 'couldn', \"couldn't\", 'didn', \"didn't\", 'doesn', \"doesn't\", 'hadn', \"hadn't\", 'hasn', \"hasn't\", 'haven', \"haven't\", 'isn', \"isn't\", 'ma', 'mightn', \"mightn't\", 'mustn', \"mustn't\", 'needn', \"needn't\", 'shan', \"shan't\", 'shouldn', \"shouldn't\", 'wasn', \"wasn't\", 'weren', \"weren't\", 'won', \"won't\", 'wouldn', \"wouldn't\"]\n"
          ]
        }
      ],
      "source": [
        "print(stopwords.words(\"english\"))"
      ]
    },
    {
      "cell_type": "markdown",
      "metadata": {
        "id": "M8x4wgTySXFJ"
      },
      "source": [
        "## Лемматизация и стемминг\n",
        "\n",
        "Заметим, что одно и то же слово может встречаться в различных формах (например, \"сотрудник\" и \"сотрудника\"), но описанные выше методы интерпретируют их как различные слова, что делает признаковое описание избыточным. Устранить эту проблему можно при помощи **лемматизации** и **стемминга**.\n",
        "\n",
        "### Стемминг\n",
        "\n",
        "[**Stemming**](https://en.wikipedia.org/wiki/Stemming) –  это процесс нахождения основы слова. В результате применения данной процедуры однокоренные слова, как правило, преобразуются к одинаковому виду.\n",
        "\n",
        "**Примеры стемминга:**\n",
        "\n",
        "| Word        | Stem           |\n",
        "| ----------- |:-------------:|\n",
        "| вагон | вагон |\n",
        "| вагона | вагон |\n",
        "| вагоне | вагон |\n",
        "| вагонов | вагон |\n",
        "| вагоном | вагон |\n",
        "| вагоны | вагон |\n",
        "| важная | важн |\n",
        "| важнее | важн |\n",
        "| важнейшие | важн |\n",
        "| важнейшими | важн |\n",
        "| важничал | важнича |\n",
        "| важно | важн |\n",
        "\n",
        "[Snowball](http://snowball.tartarus.org/) – фрэймворк для написания алгоритмов стемминга. Алгоритмы стемминга отличаются для разных языков и используют знания о конкретном языке – списки окончаний для разных частей речи, разных склонений и т.д. Пример алгоритма для русского языка – [Russian stemming](http://snowballstem.org/algorithms/russian/stemmer.html)."
      ]
    },
    {
      "cell_type": "code",
      "execution_count": 62,
      "metadata": {
        "colab": {
          "base_uri": "https://localhost:8080/"
        },
        "id": "26EDRtPkSXFK",
        "outputId": "d4ee0035-7432-418e-ab27-c5439236b4c1"
      },
      "outputs": [
        {
          "name": "stdout",
          "output_type": "stream",
          "text": [
            "машин обучен\n"
          ]
        }
      ],
      "source": [
        "stemmer = nltk.stem.snowball.RussianStemmer()\n",
        "print(stemmer.stem(u'машинное'), stemmer.stem(u'обучение'))"
      ]
    },
    {
      "cell_type": "code",
      "execution_count": 63,
      "metadata": {
        "colab": {
          "base_uri": "https://localhost:8080/"
        },
        "id": "tV9cWyFsSXFK",
        "outputId": "e22bb454-ab2b-4873-e162-f55f90778e45"
      },
      "outputs": [
        {
          "name": "stderr",
          "output_type": "stream",
          "text": [
            "  0%|          | 0/1000 [00:00<?, ?it/s]"
          ]
        },
        {
          "name": "stderr",
          "output_type": "stream",
          "text": [
            "100%|██████████| 1000/1000 [00:13<00:00, 71.84it/s]\n"
          ]
        }
      ],
      "source": [
        "def stem_text(text, stemmer):\n",
        "    tokens = text.split()\n",
        "    return ' '.join(map(lambda w: stemmer.stem(w), tokens))\n",
        "\n",
        "stemmed_texts = []\n",
        "for t in tqdm(texts[:1000]):\n",
        "    stemmed_texts.append(stem_text(t, stemmer))"
      ]
    },
    {
      "cell_type": "code",
      "execution_count": 64,
      "metadata": {
        "colab": {
          "base_uri": "https://localhost:8080/"
        },
        "id": "7BJw_EExSXFK",
        "outputId": "e5eb27ed-7b3f-42e9-ef65-f0f5c926b713"
      },
      "outputs": [
        {
          "name": "stdout",
          "output_type": "stream",
          "text": [
            "для оплаты коммунальных платежей пользуюсь пластиковой картой и сайтом банка  с некоторых пор оплатить отчисления на капремонт стало невозможно  программа требует ввести лицевой счет  это номер квартиры   а после ввода пишет что счет не найден  при внешнем переводе из другого банка сумма возвращается обратно  т к  счет не найден  прошу проверить наличие счета                      и возможность его пополнения \n"
          ]
        }
      ],
      "source": [
        "print(texts[4])"
      ]
    },
    {
      "cell_type": "code",
      "execution_count": 65,
      "metadata": {
        "colab": {
          "base_uri": "https://localhost:8080/"
        },
        "id": "5CMcDR2WSXFK",
        "outputId": "9b85f617-bfe9-47ad-fea3-89328d740022"
      },
      "outputs": [
        {
          "name": "stdout",
          "output_type": "stream",
          "text": [
            "для оплат коммунальн платеж польз пластиков карт и сайт банк с некотор пор оплат отчислен на капремонт стал невозможн программ треб ввест лицев счет эт номер квартир а посл ввод пишет что счет не найд при внешн перевод из друг банк сумм возвраща обратн т к счет не найд прош провер налич счет и возможн ег пополнен\n"
          ]
        }
      ],
      "source": [
        "print(stemmed_texts[4])"
      ]
    },
    {
      "cell_type": "code",
      "execution_count": 66,
      "metadata": {
        "colab": {
          "base_uri": "https://localhost:8080/"
        },
        "id": "j1VDR99kSXFL",
        "outputId": "d4544de6-b260-4e09-8c17-7ba496329054"
      },
      "outputs": [
        {
          "data": {
            "text/plain": [
              "1000"
            ]
          },
          "execution_count": 66,
          "metadata": {},
          "output_type": "execute_result"
        }
      ],
      "source": [
        "len(stemmed_texts)"
      ]
    },
    {
      "cell_type": "markdown",
      "metadata": {
        "id": "uQGTSSBWSXFL"
      },
      "source": [
        "К сожалению, стеммер русского языка работает довольно медленно, – 1000 отзывов обрабатываются за 7 секунд, поэтому время обработки всей выборки можно грубо оценить в 23 минуты. В связи с этим в рамках семинара мы не будем проводить полную обработку всей выборки, однако вы можете проверить результат работы самостоятельно."
      ]
    },
    {
      "cell_type": "markdown",
      "metadata": {
        "id": "Q0NgA8XySXFL"
      },
      "source": [
        "### Лемматизация\n",
        "\n",
        "[Лемматизация](https://en.wikipedia.org/wiki/Lemmatisation) — процесс приведения слова к его нормальной форме (**лемме**):\n",
        "- для существительных — именительный падеж, единственное число;\n",
        "- для прилагательных — именительный падеж, единственное число, мужской род;\n",
        "- для глаголов, причастий, деепричастий — глагол в инфинитиве."
      ]
    },
    {
      "cell_type": "code",
      "execution_count": 69,
      "metadata": {},
      "outputs": [],
      "source": [
        "from pymorphy2 import MorphAnalyzer"
      ]
    },
    {
      "cell_type": "code",
      "execution_count": 70,
      "metadata": {},
      "outputs": [
        {
          "ename": "AttributeError",
          "evalue": "module 'inspect' has no attribute 'getargspec'",
          "output_type": "error",
          "traceback": [
            "\u001b[0;31m---------------------------------------------------------------------------\u001b[0m",
            "\u001b[0;31mAttributeError\u001b[0m                            Traceback (most recent call last)",
            "Cell \u001b[0;32mIn[70], line 1\u001b[0m\n\u001b[0;32m----> 1\u001b[0m pymorphy2_analyzer \u001b[38;5;241m=\u001b[39m \u001b[43mMorphAnalyzer\u001b[49m\u001b[43m(\u001b[49m\u001b[43m)\u001b[49m\n",
            "File \u001b[0;32m~/DataspellProjects/hse_programming_and_computer_sciences/venv/lib/python3.11/site-packages/pymorphy2/analyzer.py:224\u001b[0m, in \u001b[0;36mMorphAnalyzer.__init__\u001b[0;34m(self, path, lang, result_type, units, probability_estimator_cls, char_substitutes)\u001b[0m\n\u001b[1;32m    222\u001b[0m \u001b[38;5;28mself\u001b[39m\u001b[38;5;241m.\u001b[39m_result_type_orig \u001b[38;5;241m=\u001b[39m result_type\n\u001b[1;32m    223\u001b[0m \u001b[38;5;28mself\u001b[39m\u001b[38;5;241m.\u001b[39m_init_char_substitutes(char_substitutes)\n\u001b[0;32m--> 224\u001b[0m \u001b[38;5;28;43mself\u001b[39;49m\u001b[38;5;241;43m.\u001b[39;49m\u001b[43m_init_units\u001b[49m\u001b[43m(\u001b[49m\u001b[43munits\u001b[49m\u001b[43m)\u001b[49m\n",
            "File \u001b[0;32m~/DataspellProjects/hse_programming_and_computer_sciences/venv/lib/python3.11/site-packages/pymorphy2/analyzer.py:235\u001b[0m, in \u001b[0;36mMorphAnalyzer._init_units\u001b[0;34m(self, units_unbound)\u001b[0m\n\u001b[1;32m    233\u001b[0m \u001b[38;5;28;01mif\u001b[39;00m \u001b[38;5;28misinstance\u001b[39m(item, (\u001b[38;5;28mlist\u001b[39m, \u001b[38;5;28mtuple\u001b[39m)):\n\u001b[1;32m    234\u001b[0m     \u001b[38;5;28;01mfor\u001b[39;00m unit \u001b[38;5;129;01min\u001b[39;00m item[:\u001b[38;5;241m-\u001b[39m\u001b[38;5;241m1\u001b[39m]:\n\u001b[0;32m--> 235\u001b[0m         \u001b[38;5;28mself\u001b[39m\u001b[38;5;241m.\u001b[39m_units\u001b[38;5;241m.\u001b[39mappend((\u001b[38;5;28;43mself\u001b[39;49m\u001b[38;5;241;43m.\u001b[39;49m\u001b[43m_bound_unit\u001b[49m\u001b[43m(\u001b[49m\u001b[43munit\u001b[49m\u001b[43m)\u001b[49m, \u001b[38;5;28;01mFalse\u001b[39;00m))\n\u001b[1;32m    236\u001b[0m     \u001b[38;5;28mself\u001b[39m\u001b[38;5;241m.\u001b[39m_units\u001b[38;5;241m.\u001b[39mappend((\u001b[38;5;28mself\u001b[39m\u001b[38;5;241m.\u001b[39m_bound_unit(item[\u001b[38;5;241m-\u001b[39m\u001b[38;5;241m1\u001b[39m]), \u001b[38;5;28;01mTrue\u001b[39;00m))\n\u001b[1;32m    237\u001b[0m \u001b[38;5;28;01melse\u001b[39;00m:\n",
            "File \u001b[0;32m~/DataspellProjects/hse_programming_and_computer_sciences/venv/lib/python3.11/site-packages/pymorphy2/analyzer.py:246\u001b[0m, in \u001b[0;36mMorphAnalyzer._bound_unit\u001b[0;34m(self, unit)\u001b[0m\n\u001b[1;32m    245\u001b[0m \u001b[38;5;28;01mdef\u001b[39;00m \u001b[38;5;21m_bound_unit\u001b[39m(\u001b[38;5;28mself\u001b[39m, unit):\n\u001b[0;32m--> 246\u001b[0m     unit \u001b[38;5;241m=\u001b[39m \u001b[43munit\u001b[49m\u001b[38;5;241;43m.\u001b[39;49m\u001b[43mclone\u001b[49m\u001b[43m(\u001b[49m\u001b[43m)\u001b[49m\n\u001b[1;32m    247\u001b[0m     unit\u001b[38;5;241m.\u001b[39minit(\u001b[38;5;28mself\u001b[39m)\n\u001b[1;32m    248\u001b[0m     \u001b[38;5;28;01mreturn\u001b[39;00m unit\n",
            "File \u001b[0;32m~/DataspellProjects/hse_programming_and_computer_sciences/venv/lib/python3.11/site-packages/pymorphy2/units/base.py:35\u001b[0m, in \u001b[0;36mBaseAnalyzerUnit.clone\u001b[0;34m(self)\u001b[0m\n\u001b[1;32m     34\u001b[0m \u001b[38;5;28;01mdef\u001b[39;00m \u001b[38;5;21mclone\u001b[39m(\u001b[38;5;28mself\u001b[39m):\n\u001b[0;32m---> 35\u001b[0m     \u001b[38;5;28;01mreturn\u001b[39;00m \u001b[38;5;28mself\u001b[39m\u001b[38;5;241m.\u001b[39m\u001b[38;5;18m__class__\u001b[39m(\u001b[38;5;241m*\u001b[39m\u001b[38;5;241m*\u001b[39m\u001b[38;5;28;43mself\u001b[39;49m\u001b[38;5;241;43m.\u001b[39;49m\u001b[43m_get_params\u001b[49m\u001b[43m(\u001b[49m\u001b[43m)\u001b[49m)\n",
            "File \u001b[0;32m~/DataspellProjects/hse_programming_and_computer_sciences/venv/lib/python3.11/site-packages/pymorphy2/units/base.py:76\u001b[0m, in \u001b[0;36mBaseAnalyzerUnit._get_params\u001b[0;34m(self)\u001b[0m\n\u001b[1;32m     73\u001b[0m \u001b[38;5;28;01mdef\u001b[39;00m \u001b[38;5;21m_get_params\u001b[39m(\u001b[38;5;28mself\u001b[39m):\n\u001b[1;32m     74\u001b[0m \u001b[38;5;250m    \u001b[39m\u001b[38;5;124;03m\"\"\" Return a dict with the parameters for this analyzer unit. \"\"\"\u001b[39;00m\n\u001b[1;32m     75\u001b[0m     \u001b[38;5;28;01mreturn\u001b[39;00m \u001b[38;5;28mdict\u001b[39m(\n\u001b[0;32m---> 76\u001b[0m         (key, \u001b[38;5;28mgetattr\u001b[39m(\u001b[38;5;28mself\u001b[39m, key, \u001b[38;5;28;01mNone\u001b[39;00m)) \u001b[38;5;28;01mfor\u001b[39;00m key \u001b[38;5;129;01min\u001b[39;00m \u001b[38;5;28;43mself\u001b[39;49m\u001b[38;5;241;43m.\u001b[39;49m\u001b[43m_get_param_names\u001b[49m\u001b[43m(\u001b[49m\u001b[43m)\u001b[49m\n\u001b[1;32m     77\u001b[0m     )\n",
            "File \u001b[0;32m~/DataspellProjects/hse_programming_and_computer_sciences/venv/lib/python3.11/site-packages/pymorphy2/units/base.py:70\u001b[0m, in \u001b[0;36mBaseAnalyzerUnit._get_param_names\u001b[0;34m(cls)\u001b[0m\n\u001b[1;32m     68\u001b[0m \u001b[38;5;28;01mif\u001b[39;00m \u001b[38;5;28mcls\u001b[39m\u001b[38;5;241m.\u001b[39m\u001b[38;5;21m__init__\u001b[39m \u001b[38;5;129;01mis\u001b[39;00m \u001b[38;5;28mobject\u001b[39m\u001b[38;5;241m.\u001b[39m\u001b[38;5;21m__init__\u001b[39m:\n\u001b[1;32m     69\u001b[0m     \u001b[38;5;28;01mreturn\u001b[39;00m []\n\u001b[0;32m---> 70\u001b[0m args, varargs, kw, default \u001b[38;5;241m=\u001b[39m \u001b[43minspect\u001b[49m\u001b[38;5;241;43m.\u001b[39;49m\u001b[43mgetargspec\u001b[49m(\u001b[38;5;28mcls\u001b[39m\u001b[38;5;241m.\u001b[39m\u001b[38;5;21m__init__\u001b[39m)\n\u001b[1;32m     71\u001b[0m \u001b[38;5;28;01mreturn\u001b[39;00m \u001b[38;5;28msorted\u001b[39m(args[\u001b[38;5;241m1\u001b[39m:])\n",
            "\u001b[0;31mAttributeError\u001b[0m: module 'inspect' has no attribute 'getargspec'"
          ]
        }
      ],
      "source": [
        "pymorphy2_analyzer = MorphAnalyzer()"
      ]
    },
    {
      "cell_type": "markdown",
      "metadata": {},
      "source": [
        "pymorphy2 работает с отдельными словами. Если дать ему на вход предложение, то он его просто не лемматизирует, т.к. не понимает.\n",
        "\n",
        "Метод MorphAnalyzer.parse() принимает слово и возвращает все возможные его разборы.\n",
        "\n",
        "У каждого разбора есть тег. Тег — это набор граммем, характеризующих данное слово. Например, тег 'VERB,perf,intr plur,past,indc' означает, что слово — глагол (VERB) совершенного вида (perf), непереходный (intr), множественного числа (plur), прошедшего времени (past), изъявительного наклонения (indc)."
      ]
    },
    {
      "cell_type": "code",
      "execution_count": null,
      "metadata": {},
      "outputs": [],
      "source": [
        "print(pymorphy2_analyzer.parse(u'машинное'), pymorphy2_analyzer.parse(u'обучение'))"
      ]
    },
    {
      "cell_type": "markdown",
      "metadata": {},
      "source": [
        "[Parse(word='машинное', tag=OpencorporaTag('ADJ,impf,tran sing,3per,pres,indc'), normal_form='машина', score=1.0, methods_stack=((DictionaryAnalyzer(), 'машинное', 3136, 5),)), Parse(word='обучение', tag=OpencorporaTag('NOUN,impf,tran sing,3per,pres,indc'), normal_form='обучение', score=1.0, methods_stack=((DictionaryAnalyzer(), 'машинное', 3136, 5),))]"
      ]
    },
    {
      "cell_type": "code",
      "execution_count": 72,
      "metadata": {},
      "outputs": [
        {
          "name": "stderr",
          "output_type": "stream",
          "text": [
            "Installing mystem to /Users/user04/.local/bin/mystem from http://download.cdn.yandex.net/mystem/mystem-3.1-macosx.tar.gz\n"
          ]
        }
      ],
      "source": [
        "from pymystem3 import Mystem\n",
        "\n",
        "mystem_analyzer = Mystem()"
      ]
    },
    {
      "cell_type": "code",
      "execution_count": 73,
      "metadata": {},
      "outputs": [
        {
          "name": "stdout",
          "output_type": "stream",
          "text": [
            "['машинный', ' ', 'обучение', '\\n']\n"
          ]
        }
      ],
      "source": [
        "print(mystem_analyzer.lemmatize(\"машинное обучение\"))"
      ]
    },
    {
      "cell_type": "markdown",
      "metadata": {
        "id": "1Y4ZIy_WSXFL"
      },
      "source": [
        "## Классификация\n",
        "\n",
        "Воспользуемся изученными методами обработки текстов для решения задачи классификации отзывов на отзывы с положительной оценкой и отзывы с отрицательной оценкой. Будем считать отзывы с оценками 4-5 положительными, а остальные — отрицательными."
      ]
    },
    {
      "cell_type": "code",
      "execution_count": 74,
      "metadata": {
        "collapsed": true,
        "id": "CZTfwvpHSXFL"
      },
      "outputs": [],
      "source": [
        "vectorizer = CountVectorizer(encoding='utf8', min_df=5)\n",
        "_ = vectorizer.fit(texts)"
      ]
    },
    {
      "cell_type": "code",
      "execution_count": 75,
      "metadata": {
        "id": "9dhNZ9Y4SXFM"
      },
      "outputs": [],
      "source": [
        "X = vectorizer.transform(texts)\n",
        "Y = (np.array(ratings) > 3).astype(int)"
      ]
    },
    {
      "cell_type": "code",
      "execution_count": 76,
      "metadata": {
        "collapsed": true,
        "id": "2M4cxxsKSXFM"
      },
      "outputs": [],
      "source": [
        "from sklearn.model_selection import ShuffleSplit\n",
        "from sklearn.linear_model import LogisticRegression\n",
        "from sklearn.metrics import roc_auc_score, accuracy_score"
      ]
    },
    {
      "cell_type": "code",
      "execution_count": 77,
      "metadata": {
        "colab": {
          "base_uri": "https://localhost:8080/"
        },
        "id": "ET-fvQtSn8Vb",
        "outputId": "66b96ca4-9dc5-4a04-8b39-319a865b4394"
      },
      "outputs": [
        {
          "data": {
            "text/plain": [
              "ShuffleSplit(n_splits=1, random_state=None, test_size=0.3, train_size=None)"
            ]
          },
          "execution_count": 77,
          "metadata": {},
          "output_type": "execute_result"
        }
      ],
      "source": [
        "cv = ShuffleSplit(n_splits=1, test_size=0.3)\n",
        "cv"
      ]
    },
    {
      "cell_type": "code",
      "execution_count": 78,
      "metadata": {
        "colab": {
          "base_uri": "https://localhost:8080/"
        },
        "id": "i8Oqc9zASXFM",
        "outputId": "8b43d709-7962-49e8-e1d6-66b266a4a38a"
      },
      "outputs": [
        {
          "name": "stdout",
          "output_type": "stream",
          "text": [
            "ROC-AUC: 0.966, ACC: 0.940\n"
          ]
        }
      ],
      "source": [
        "cv = ShuffleSplit(n_splits=1, test_size=0.3)\n",
        "for train_ids, test_ids in cv.split(X):\n",
        "    lr = LogisticRegression(solver='liblinear')\n",
        "    lr.fit(X[train_ids], Y[train_ids])\n",
        "    preds = lr.predict_proba(X[test_ids])[:,1]\n",
        "    print('ROC-AUC: %.3f, ACC: %.3f' % (roc_auc_score(Y[test_ids], preds), \n",
        "                                        accuracy_score(Y[test_ids], (preds > 0.5).astype(int))))"
      ]
    },
    {
      "cell_type": "code",
      "execution_count": 79,
      "metadata": {
        "collapsed": true,
        "id": "owf2kxPdSXFN"
      },
      "outputs": [],
      "source": [
        "vectorizer = TfidfVectorizer(encoding='utf8', min_df=5)\n",
        "_ = vectorizer.fit(texts)"
      ]
    },
    {
      "cell_type": "code",
      "execution_count": 80,
      "metadata": {
        "collapsed": true,
        "id": "KhC71bVqSXFN"
      },
      "outputs": [],
      "source": [
        "X = vectorizer.transform(texts)\n",
        "# Y = (np.array(ratings) > 3).astype(int)"
      ]
    },
    {
      "cell_type": "code",
      "execution_count": 81,
      "metadata": {
        "colab": {
          "base_uri": "https://localhost:8080/"
        },
        "id": "czWiIJe1SXFN",
        "outputId": "5b2a288c-e8ba-4d72-9f38-cae6f7434a87"
      },
      "outputs": [
        {
          "name": "stdout",
          "output_type": "stream",
          "text": [
            "ROC-AUC: 0.974, ACC: 0.943\n"
          ]
        }
      ],
      "source": [
        "cv = ShuffleSplit(n_splits=1, test_size=0.3)\n",
        "for train_ids, test_ids in cv.split(X):\n",
        "    lr = LogisticRegression()\n",
        "    lr.fit(X[train_ids], Y[train_ids])\n",
        "    preds = lr.predict_proba(X[test_ids])[:,1]\n",
        "    print('ROC-AUC: %.3f, ACC: %.3f' % (roc_auc_score(Y[test_ids], preds), \n",
        "                                        accuracy_score(Y[test_ids], (preds > 0.5).astype(int))))"
      ]
    },
    {
      "cell_type": "markdown",
      "metadata": {
        "id": "qxf7p8FASXFN"
      },
      "source": [
        "## Важность признаков\n",
        "\n",
        "Как уже упоминалось ранее, веса признаков в линейной модели в случае, если признаки отмасштабированы, характеризуют степень их влияния на значение целевой переменной. В задаче классификации текстов, кроме того, признаки являются хорошо интерпретируемыми, поскольку каждый из них соответствует конкретному слову. Изучим влияние конкретных слов на значение целевой переменной:"
      ]
    },
    {
      "cell_type": "code",
      "execution_count": 82,
      "metadata": {
        "colab": {
          "base_uri": "https://localhost:8080/"
        },
        "id": "YabkwHGZSXFO",
        "outputId": "a3dfff6a-8881-413b-b660-196c3333a961"
      },
      "outputs": [
        {
          "name": "stdout",
          "output_type": "stream",
          "text": [
            "спасибо, 13.05\n",
            "приятно, 10.49\n",
            "благодарность, 9.21\n",
            "быстро, 8.12\n",
            "доволен, 7.14\n",
            "поблагодарить, 6.05\n",
            "оперативно, 5.94\n",
            "очень, 5.65\n",
            "всегда, 5.27\n",
            "очередей, 5.27\n",
            "понравилось, 5.01\n",
            "оперативность, 4.94\n",
            "выразить, 4.79\n",
            "молодцы, 4.77\n",
            "все, 4.73\n",
            "нравится, 4.68\n",
            "проблем, 4.60\n",
            "отметить, 4.55\n",
            "удобно, 4.41\n",
            "сразу, 4.27\n",
            "вопросы, 4.26\n",
            "оценку, 4.12\n",
            "хочу, 4.04\n",
            "банков, 3.91\n",
            "порадовало, 3.89\n",
            "четко, 3.88\n",
            "разу, 3.87\n",
            "большое, 3.79\n",
            "помощь, 3.76\n",
            "...\n",
            "говорят, -2.52\n",
            "звоню, -2.54\n",
            "рублей, -2.54\n",
            "неужели, -2.57\n",
            "могут, -2.57\n",
            "пор, -2.59\n",
            "что, -2.59\n",
            "якобы, -2.61\n",
            "должна, -2.68\n",
            "видимо, -2.72\n",
            "вопрос, -2.75\n",
            "нет, -2.91\n",
            "клиентов, -2.94\n",
            "опять, -3.01\n",
            "ладно, -3.04\n",
            "сказали, -3.13\n",
            "должен, -3.13\n",
            "ничего, -3.16\n",
            "часа, -3.24\n",
            "невозможно, -3.29\n",
            "сегодня, -3.31\n",
            "завтра, -3.40\n",
            "нельзя, -3.44\n",
            "почему, -3.45\n",
            "ответа, -3.64\n",
            "вы, -3.66\n",
            "никто, -3.82\n",
            "зачем, -4.00\n",
            "ответ, -4.34\n"
          ]
        }
      ],
      "source": [
        "f_weights = zip(vectorizer.get_feature_names_out(), lr.coef_[0])\n",
        "f_weights = sorted(f_weights, key=lambda i: i[1])\n",
        "for i in range(1,30):\n",
        "    print('%s, %.2f' % f_weights[-i])\n",
        "    \n",
        "print('...')\n",
        "for i in reversed(range(1,30)):\n",
        "    print('%s, %.2f' % f_weights[i])"
      ]
    },
    {
      "cell_type": "code",
      "execution_count": null,
      "metadata": {
        "id": "47CVS72rpxv9"
      },
      "outputs": [],
      "source": []
    }
  ],
  "metadata": {
    "colab": {
      "provenance": []
    },
    "kernelspec": {
      "display_name": "venv",
      "language": "python",
      "name": "python3"
    },
    "language_info": {
      "codemirror_mode": {
        "name": "ipython",
        "version": 3
      },
      "file_extension": ".py",
      "mimetype": "text/x-python",
      "name": "python",
      "nbconvert_exporter": "python",
      "pygments_lexer": "ipython3",
      "version": "3.11.5"
    }
  },
  "nbformat": 4,
  "nbformat_minor": 0
}
