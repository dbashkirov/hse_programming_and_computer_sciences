{
 "cells": [
  {
   "cell_type": "markdown",
   "source": [
    "## MRO\n",
    "\n",
    "- если имеем ```class A(B, C, D)```, то в MRO однозначно имеем что A идет до В, В до C и С до D (возможно между ними что-то есть)\n",
    "- родители идут до grandparents и т.д.\n",
    "- object всегда последний элемент"
   ],
   "metadata": {
    "collapsed": false
   }
  },
  {
   "cell_type": "code",
   "execution_count": 5,
   "outputs": [
    {
     "name": "stdout",
     "output_type": "stream",
     "text": [
      "[<class '__main__.X'>, <class '__main__.D'>, <class '__main__.E'>, <class '__main__.B'>, <class '__main__.C'>, <class 'object'>]\n"
     ]
    }
   ],
   "source": [
    "class C: pass\n",
    "class B(C): pass\n",
    "class D(B): pass\n",
    "class E(B, C): pass\n",
    "class X(D, E): pass\n",
    "\n",
    "print(X.mro())"
   ],
   "metadata": {
    "collapsed": false
   }
  },
  {
   "cell_type": "code",
   "execution_count": 6,
   "outputs": [
    {
     "ename": "TypeError",
     "evalue": "Cannot create a consistent method resolution\norder (MRO) for bases Y, X",
     "output_type": "error",
     "traceback": [
      "\u001B[0;31m---------------------------------------------------------------------------\u001B[0m",
      "\u001B[0;31mTypeError\u001B[0m                                 Traceback (most recent call last)",
      "Cell \u001B[0;32mIn[6], line 9\u001B[0m\n\u001B[1;32m      7\u001B[0m \u001B[38;5;28;01mclass\u001B[39;00m \u001B[38;5;21;01mB\u001B[39;00m(X, Y):\n\u001B[1;32m      8\u001B[0m     \u001B[38;5;28;01mpass\u001B[39;00m\n\u001B[0;32m----> 9\u001B[0m \u001B[38;5;28;43;01mclass\u001B[39;49;00m\u001B[43m \u001B[49m\u001B[38;5;21;43;01mG\u001B[39;49;00m\u001B[43m(\u001B[49m\u001B[43mA\u001B[49m\u001B[43m,\u001B[49m\u001B[43m \u001B[49m\u001B[43mB\u001B[49m\u001B[43m)\u001B[49m\u001B[43m:\u001B[49m\n\u001B[1;32m     10\u001B[0m \u001B[43m    \u001B[49m\u001B[38;5;28;43;01mpass\u001B[39;49;00m\n\u001B[1;32m     12\u001B[0m \u001B[38;5;66;03m# Что произошло? Придумайте еще похожий пример\u001B[39;00m\n",
      "\u001B[0;31mTypeError\u001B[0m: Cannot create a consistent method resolution\norder (MRO) for bases Y, X"
     ]
    }
   ],
   "source": [
    "class X:\n",
    "    pass\n",
    "class Y:\n",
    "    pass\n",
    "class A(Y, X):\n",
    "    pass\n",
    "class B(X, Y):\n",
    "    pass\n",
    "class G(A, B):\n",
    "    pass\n",
    "\n",
    "# Что произошло? Придумайте еще похожий пример"
   ],
   "metadata": {
    "collapsed": false
   }
  },
  {
   "cell_type": "code",
   "execution_count": 7,
   "outputs": [
    {
     "data": {
      "text/plain": "[__main__.G,\n __main__.A,\n __main__.X,\n __main__.Y,\n __main__.B,\n __main__.C,\n object]"
     },
     "execution_count": 7,
     "metadata": {},
     "output_type": "execute_result"
    }
   ],
   "source": [
    "class X: pass\n",
    "class Y: pass\n",
    "class C: pass\n",
    "class A(X, Y): pass\n",
    "class B(C): pass\n",
    "class G(A, B): pass\n",
    "\n",
    "# какой будет порядок mro()\n",
    "G.mro()"
   ],
   "metadata": {
    "collapsed": false
   }
  },
  {
   "cell_type": "code",
   "execution_count": 8,
   "outputs": [
    {
     "name": "stdout",
     "output_type": "stream",
     "text": [
      "[<class '__main__.D'>, <class '__main__.B'>, <class '__main__.A'>, <class '__main__.Y'>, <class '__main__.C'>, <class 'object'>]\n"
     ]
    }
   ],
   "source": [
    "class C: pass\n",
    "class Y(C): pass\n",
    "class B(Y): pass\n",
    "class A(Y, C): pass\n",
    "class D(B, A): pass\n",
    "\n",
    "print(D.mro())"
   ],
   "metadata": {
    "collapsed": false
   }
  },
  {
   "cell_type": "code",
   "execution_count": 14,
   "outputs": [
    {
     "ename": "TypeError",
     "evalue": "Cannot create a consistent method resolution\norder (MRO) for bases A, B",
     "output_type": "error",
     "traceback": [
      "\u001B[0;31m---------------------------------------------------------------------------\u001B[0m",
      "\u001B[0;31mTypeError\u001B[0m                                 Traceback (most recent call last)",
      "Cell \u001B[0;32mIn[14], line 4\u001B[0m\n\u001B[1;32m      2\u001B[0m \u001B[38;5;28;01mclass\u001B[39;00m \u001B[38;5;21;01mB\u001B[39;00m(A): \u001B[38;5;28;01mpass\u001B[39;00m\n\u001B[1;32m      3\u001B[0m \u001B[38;5;66;03m# class Y(A, B): pass\u001B[39;00m\n\u001B[0;32m----> 4\u001B[0m \u001B[38;5;28;01mclass\u001B[39;00m \u001B[38;5;21;01mX\u001B[39;00m(A, B): \u001B[38;5;28;01mpass\u001B[39;00m\n\u001B[1;32m      5\u001B[0m \u001B[38;5;66;03m# class C(X, Y): pass\u001B[39;00m\n\u001B[1;32m      6\u001B[0m \n\u001B[1;32m      7\u001B[0m \u001B[38;5;66;03m# print(X.mro())\u001B[39;00m\n",
      "\u001B[0;31mTypeError\u001B[0m: Cannot create a consistent method resolution\norder (MRO) for bases A, B"
     ]
    }
   ],
   "source": [
    "class A: pass\n",
    "class B(A): pass\n",
    "# class Y(A, B): pass\n",
    "class X(A, B): pass\n",
    "# class C(X, Y): pass\n",
    "\n",
    "# print(X.mro())"
   ],
   "metadata": {
    "collapsed": false
   }
  },
  {
   "cell_type": "code",
   "execution_count": 15,
   "outputs": [
    {
     "name": "stdout",
     "output_type": "stream",
     "text": [
      "(<class '__main__.C'>, <class 'object'>)\n"
     ]
    }
   ],
   "source": [
    "class C: pass\n",
    "print(C.__mro__)"
   ],
   "metadata": {
    "collapsed": false
   }
  },
  {
   "cell_type": "markdown",
   "source": [
    "## @staticmethod\n",
    "\n",
    "Встроенный декоратор для определения статичных методов - без превязки к классу или его экземпляра. Идея в том что этот метод логично связан с нашим классом, но ему не нужны ни класс, ни экземпляр.\n",
    "\n",
    "## @classmethod\n",
    "\n",
    "Встроенный декоратор для определения метода класса. В данном случае, первым аргументов идет не экземпляр **self**, а сам класс **cls**. Позволяет доставать аттрибуты класса и часто используется как альтернативный конструктор\n",
    "\n",
    "\n",
    "Оба декоратора еще хороши тем, что само их наличие сразу говорит о том какой тип метода написан."
   ],
   "metadata": {
    "collapsed": false
   }
  },
  {
   "cell_type": "code",
   "execution_count": 21,
   "metadata": {
    "collapsed": true
   },
   "outputs": [],
   "source": [
    "class A:\n",
    "    def f():\n",
    "        print(\"hi\")"
   ]
  },
  {
   "cell_type": "code",
   "execution_count": 22,
   "outputs": [
    {
     "name": "stdout",
     "output_type": "stream",
     "text": [
      "hi\n"
     ]
    }
   ],
   "source": [
    "A.f()"
   ],
   "metadata": {
    "collapsed": false
   }
  },
  {
   "cell_type": "code",
   "execution_count": 23,
   "outputs": [
    {
     "ename": "TypeError",
     "evalue": "A.f() takes 0 positional arguments but 1 was given",
     "output_type": "error",
     "traceback": [
      "\u001B[0;31m---------------------------------------------------------------------------\u001B[0m",
      "\u001B[0;31mTypeError\u001B[0m                                 Traceback (most recent call last)",
      "Cell \u001B[0;32mIn[23], line 1\u001B[0m\n\u001B[0;32m----> 1\u001B[0m \u001B[43mA\u001B[49m\u001B[43m(\u001B[49m\u001B[43m)\u001B[49m\u001B[38;5;241;43m.\u001B[39;49m\u001B[43mf\u001B[49m\u001B[43m(\u001B[49m\u001B[43m)\u001B[49m\n",
      "\u001B[0;31mTypeError\u001B[0m: A.f() takes 0 positional arguments but 1 was given"
     ]
    }
   ],
   "source": [
    "A().f()"
   ],
   "metadata": {
    "collapsed": false
   }
  },
  {
   "cell_type": "code",
   "execution_count": 31,
   "outputs": [],
   "source": [
    "class A:\n",
    "    @staticmethod\n",
    "    def f():\n",
    "        print(\"hi\")"
   ],
   "metadata": {
    "collapsed": false
   }
  },
  {
   "cell_type": "code",
   "execution_count": 32,
   "outputs": [
    {
     "name": "stdout",
     "output_type": "stream",
     "text": [
      "hi\n",
      "hi\n"
     ]
    }
   ],
   "source": [
    "A.f()\n",
    "A().f()"
   ],
   "metadata": {
    "collapsed": false
   }
  },
  {
   "cell_type": "code",
   "execution_count": 34,
   "outputs": [],
   "source": [
    "class Date(object):\n",
    "\n",
    "    constant = 1\n",
    "\n",
    "    def __init__(self, day=0, month=0, year=0):\n",
    "        self.day = day\n",
    "        self.month = month\n",
    "        self.year = year\n",
    "\n",
    "    @classmethod\n",
    "    def from_string(cls, date_as_string):\n",
    "        day, month, year = map(int, date_as_string.split('-'))\n",
    "        date1 = cls(day, month, year)\n",
    "        return date1\n",
    "\n",
    "    @staticmethod\n",
    "    def is_date_valid(date_as_string):\n",
    "        day, month, year = map(int, date_as_string.split('-'))\n",
    "        return day <= 31 and month <= 12 and year <= 3999\n",
    "\n",
    "date2 = Date.from_string('30-11-2022')\n",
    "is_date = Date.is_date_valid('30-11-2022')"
   ],
   "metadata": {
    "collapsed": false
   }
  },
  {
   "cell_type": "code",
   "execution_count": 35,
   "outputs": [
    {
     "data": {
      "text/plain": "(30, 11, 2022, True)"
     },
     "execution_count": 35,
     "metadata": {},
     "output_type": "execute_result"
    }
   ],
   "source": [
    "date2.day, date2.month, date2.year, is_date"
   ],
   "metadata": {
    "collapsed": false
   }
  },
  {
   "cell_type": "markdown",
   "source": [
    "## Датаклассы\n",
    "\n",
    "Рассмотрим случай, когда наш класс совсем прост - есть лишь поля (аттрибуты) экземпляров и нет никаких методов:"
   ],
   "metadata": {
    "collapsed": false
   }
  },
  {
   "cell_type": "code",
   "execution_count": 36,
   "outputs": [],
   "source": [
    "class Person:\n",
    "    def __init__(self, name, surname, email):\n",
    "        self.name = name\n",
    "        self.surname = surname\n",
    "        self.email = email"
   ],
   "metadata": {
    "collapsed": false
   }
  },
  {
   "cell_type": "code",
   "execution_count": 37,
   "outputs": [],
   "source": [
    "p = Person('Ivan', 'Ivanov', 'abc@gmail.com')"
   ],
   "metadata": {
    "collapsed": false
   }
  },
  {
   "cell_type": "code",
   "execution_count": 38,
   "outputs": [],
   "source": [
    "class Point:\n",
    "    def __init__(self, x, y):\n",
    "        self.x = x\n",
    "        self.y = y"
   ],
   "metadata": {
    "collapsed": false
   }
  },
  {
   "cell_type": "markdown",
   "source": [
    "В таких случаях Python предлагает альтернативный синтаксис с помощью декоратора **@dataclass**:"
   ],
   "metadata": {
    "collapsed": false
   }
  },
  {
   "cell_type": "code",
   "execution_count": 40,
   "outputs": [],
   "source": [
    "from dataclasses import dataclass\n",
    "\n",
    "@dataclass\n",
    "class Person:\n",
    "    name: str\n",
    "    surname: str\n",
    "    email: str  = 'Person_Email'"
   ],
   "metadata": {
    "collapsed": false
   }
  },
  {
   "cell_type": "code",
   "execution_count": 41,
   "outputs": [],
   "source": [
    "p = Person('Ivan', 'Ivanov') # (name, surname, email)"
   ],
   "metadata": {
    "collapsed": false
   }
  },
  {
   "cell_type": "code",
   "execution_count": 43,
   "outputs": [
    {
     "data": {
      "text/plain": "'Person_Email'"
     },
     "execution_count": 43,
     "metadata": {},
     "output_type": "execute_result"
    }
   ],
   "source": [
    "p.email"
   ],
   "metadata": {
    "collapsed": false
   }
  },
  {
   "cell_type": "markdown",
   "source": [
    "Можно задавать параметры в декораторе, например делать аттрибуты неизменяемыми"
   ],
   "metadata": {
    "collapsed": false
   }
  },
  {
   "cell_type": "code",
   "execution_count": 45,
   "outputs": [],
   "source": [
    "@dataclass(frozen=True)\n",
    "class Person:\n",
    "    name: str\n",
    "    surname: str\n",
    "    email: str"
   ],
   "metadata": {
    "collapsed": false
   }
  },
  {
   "cell_type": "code",
   "execution_count": 46,
   "outputs": [],
   "source": [
    "p = Person('Ivan', 'Ivanov', 'abc@gmail.com')"
   ],
   "metadata": {
    "collapsed": false
   }
  },
  {
   "cell_type": "code",
   "execution_count": 47,
   "outputs": [
    {
     "ename": "FrozenInstanceError",
     "evalue": "cannot assign to field 'name'",
     "output_type": "error",
     "traceback": [
      "\u001B[0;31m---------------------------------------------------------------------------\u001B[0m",
      "\u001B[0;31mFrozenInstanceError\u001B[0m                       Traceback (most recent call last)",
      "Cell \u001B[0;32mIn[47], line 1\u001B[0m\n\u001B[0;32m----> 1\u001B[0m \u001B[43mp\u001B[49m\u001B[38;5;241;43m.\u001B[39;49m\u001B[43mname\u001B[49m \u001B[38;5;241m=\u001B[39m \u001B[38;5;124m'\u001B[39m\u001B[38;5;124mOleg\u001B[39m\u001B[38;5;124m'\u001B[39m\n",
      "File \u001B[0;32m<string>:4\u001B[0m, in \u001B[0;36m__setattr__\u001B[0;34m(self, name, value)\u001B[0m\n",
      "\u001B[0;31mFrozenInstanceError\u001B[0m: cannot assign to field 'name'"
     ]
    }
   ],
   "source": [
    "p.name = 'Oleg'"
   ],
   "metadata": {
    "collapsed": false
   }
  },
  {
   "cell_type": "markdown",
   "source": [
    "Предположим, что в университете есть экзамен и для его сдачи предоставляется 3 попытки. Нужно отсортировать студентов в порядке возрастания по количеству попыток, оценкам за экзамен и ФИО."
   ],
   "metadata": {
    "collapsed": false
   }
  },
  {
   "cell_type": "code",
   "execution_count": 49,
   "outputs": [],
   "source": [
    "@dataclass(order=True)\n",
    "class Student:\n",
    "    exam1: float = float('infinity')\n",
    "    exam2: float = float('infinity')\n",
    "    exam3: float = float('infinity')\n",
    "    name: str = ''"
   ],
   "metadata": {
    "collapsed": false
   }
  },
  {
   "cell_type": "code",
   "execution_count": null,
   "outputs": [],
   "source": [],
   "metadata": {
    "collapsed": false
   }
  },
  {
   "cell_type": "code",
   "execution_count": 50,
   "outputs": [],
   "source": [
    "n = int(input())\n",
    "students = []\n",
    "for _ in range(n):\n",
    "    s = input().split()\n",
    "    if len(s) < 3:\n",
    "        st = Student(exam1=int(s[0]), name=s[1])\n",
    "    elif len(s) < 4:\n",
    "        st = Student(exam1=int(s[0]), exam2=int(s[1]), name=s[2])\n",
    "    else:\n",
    "        st = Student(exam1=int(s[0]), exam2=int(s[1]), exam3=int(s[2]), name=s[3])\n",
    "    students.append(st)"
   ],
   "metadata": {
    "collapsed": false
   }
  },
  {
   "cell_type": "code",
   "execution_count": 55,
   "outputs": [
    {
     "name": "stdout",
     "output_type": "stream",
     "text": [
      "Student(exam1=5, exam2=inf, exam3=inf, name='a') Student(exam1=2, exam2=2, exam3=5, name='c') Student(exam1=1, exam2=3, exam3=inf, name='b')\n",
      "Student(exam1=1, exam2=3, exam3=inf, name='b') Student(exam1=2, exam2=2, exam3=5, name='c') Student(exam1=5, exam2=inf, exam3=inf, name='a')\n"
     ]
    }
   ],
   "source": [
    "print(*students)\n",
    "students.sort()\n",
    "print(*students)"
   ],
   "metadata": {
    "collapsed": false
   }
  },
  {
   "cell_type": "code",
   "execution_count": null,
   "outputs": [],
   "source": [],
   "metadata": {
    "collapsed": false
   }
  }
 ],
 "metadata": {
  "kernelspec": {
   "display_name": "Python 3",
   "language": "python",
   "name": "python3"
  },
  "language_info": {
   "codemirror_mode": {
    "name": "ipython",
    "version": 2
   },
   "file_extension": ".py",
   "mimetype": "text/x-python",
   "name": "python",
   "nbconvert_exporter": "python",
   "pygments_lexer": "ipython2",
   "version": "2.7.6"
  }
 },
 "nbformat": 4,
 "nbformat_minor": 0
}
