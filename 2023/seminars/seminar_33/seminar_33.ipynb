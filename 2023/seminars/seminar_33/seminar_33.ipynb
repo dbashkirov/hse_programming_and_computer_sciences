{
  "cells": [
    {
      "cell_type": "code",
      "execution_count": 28,
      "metadata": {
        "execution": {
          "iopub.execute_input": "2023-11-04T00:49:44.457229Z",
          "iopub.status.busy": "2023-11-04T00:49:44.456884Z",
          "iopub.status.idle": "2023-11-04T00:49:53.315448Z",
          "shell.execute_reply": "2023-11-04T00:49:53.314600Z",
          "shell.execute_reply.started": "2023-11-04T00:49:44.457200Z"
        },
        "id": "Re4-mY8xuc_d",
        "trusted": true
      },
      "outputs": [],
      "source": [
        "import pandas as pd\n",
        "import numpy as np\n",
        "from tqdm import tqdm\n",
        "import random\n",
        "import matplotlib.pyplot as plt\n",
        "\n",
        "import nltk\n",
        "from nltk.tokenize import word_tokenize\n",
        "from nltk.corpus import stopwords\n",
        "\n",
        "import torch\n",
        "import torch.nn as nn\n",
        "from torch.utils.data import TensorDataset, DataLoader\n",
        "import torch.nn.functional as F\n",
        "from torchtext.vocab import build_vocab_from_iterator\n",
        "from torchtext.data.functional import to_map_style_dataset\n",
        "\n",
        "from sklearn.metrics import roc_auc_score\n",
        "from sklearn.model_selection import train_test_split\n",
        "from typing import List"
      ]
    },
    {
      "cell_type": "code",
      "execution_count": 2,
      "metadata": {
        "execution": {
          "iopub.execute_input": "2023-11-04T00:49:55.044127Z",
          "iopub.status.busy": "2023-11-04T00:49:55.043188Z",
          "iopub.status.idle": "2023-11-04T00:49:55.048314Z",
          "shell.execute_reply": "2023-11-04T00:49:55.047445Z",
          "shell.execute_reply.started": "2023-11-04T00:49:55.044092Z"
        },
        "id": "6mECi6O5uc_f",
        "trusted": true
      },
      "outputs": [],
      "source": [
        "TEST_SIZE = 0.2\n",
        "RANDOM_STATE = 42"
      ]
    },
    {
      "cell_type": "code",
      "execution_count": 3,
      "metadata": {
        "colab": {
          "base_uri": "https://localhost:8080/",
          "height": 35
        },
        "execution": {
          "iopub.execute_input": "2023-11-04T00:49:55.443341Z",
          "iopub.status.busy": "2023-11-04T00:49:55.442977Z",
          "iopub.status.idle": "2023-11-04T00:49:55.519419Z",
          "shell.execute_reply": "2023-11-04T00:49:55.518324Z",
          "shell.execute_reply.started": "2023-11-04T00:49:55.443315Z"
        },
        "id": "SXMMkY62uc_g",
        "outputId": "3ac49372-5057-41f8-c8e5-aacaac8922bd",
        "trusted": true
      },
      "outputs": [
        {
          "data": {
            "application/vnd.google.colaboratory.intrinsic+json": {
              "type": "string"
            },
            "text/plain": [
              "'cuda:0'"
            ]
          },
          "execution_count": 3,
          "metadata": {},
          "output_type": "execute_result"
        }
      ],
      "source": [
        "device = \"cuda:0\" if torch.cuda.is_available() else \"cpu\"\n",
        "device"
      ]
    },
    {
      "cell_type": "code",
      "execution_count": 4,
      "metadata": {
        "colab": {
          "base_uri": "https://localhost:8080/"
        },
        "execution": {
          "iopub.execute_input": "2023-11-04T00:49:56.274266Z",
          "iopub.status.busy": "2023-11-04T00:49:56.273557Z",
          "iopub.status.idle": "2023-11-04T00:49:56.287131Z",
          "shell.execute_reply": "2023-11-04T00:49:56.286304Z",
          "shell.execute_reply.started": "2023-11-04T00:49:56.274236Z"
        },
        "id": "thqeqN6muc_g",
        "outputId": "e3b4e93f-ddeb-4c46-81fb-39dee30d1bf3",
        "trusted": true
      },
      "outputs": [
        {
          "data": {
            "text/plain": [
              "<torch._C.Generator at 0x7bd161922d70>"
            ]
          },
          "execution_count": 4,
          "metadata": {},
          "output_type": "execute_result"
        }
      ],
      "source": [
        "random.seed(RANDOM_STATE)\n",
        "np.random.seed(RANDOM_STATE)\n",
        "torch.manual_seed(RANDOM_STATE)"
      ]
    },
    {
      "cell_type": "code",
      "execution_count": 6,
      "metadata": {
        "execution": {
          "iopub.execute_input": "2023-11-04T00:49:57.667666Z",
          "iopub.status.busy": "2023-11-04T00:49:57.666723Z",
          "iopub.status.idle": "2023-11-04T00:50:00.225693Z",
          "shell.execute_reply": "2023-11-04T00:50:00.224871Z",
          "shell.execute_reply.started": "2023-11-04T00:49:57.667630Z"
        },
        "id": "k9fPXy_Xuc_g",
        "trusted": true
      },
      "outputs": [],
      "source": [
        "data_fake = pd.read_csv(\"Fake.csv\")\n",
        "data_true = pd.read_csv(\"True.csv\")"
      ]
    },
    {
      "cell_type": "code",
      "execution_count": 7,
      "metadata": {
        "colab": {
          "base_uri": "https://localhost:8080/"
        },
        "execution": {
          "iopub.execute_input": "2023-11-04T00:50:00.227493Z",
          "iopub.status.busy": "2023-11-04T00:50:00.227162Z",
          "iopub.status.idle": "2023-11-04T00:50:00.280227Z",
          "shell.execute_reply": "2023-11-04T00:50:00.279279Z",
          "shell.execute_reply.started": "2023-11-04T00:50:00.227466Z"
        },
        "id": "ouUYyxlWuc_h",
        "outputId": "4dd874c1-84cb-467a-ea9b-fcf012ae91ca",
        "trusted": true
      },
      "outputs": [
        {
          "name": "stdout",
          "output_type": "stream",
          "text": [
            "<class 'pandas.core.frame.DataFrame'>\n",
            "RangeIndex: 23481 entries, 0 to 23480\n",
            "Data columns (total 4 columns):\n",
            " #   Column   Non-Null Count  Dtype \n",
            "---  ------   --------------  ----- \n",
            " 0   title    23481 non-null  object\n",
            " 1   text     23481 non-null  object\n",
            " 2   subject  23481 non-null  object\n",
            " 3   date     23481 non-null  object\n",
            "dtypes: object(4)\n",
            "memory usage: 733.9+ KB\n"
          ]
        }
      ],
      "source": [
        "data_fake.info()"
      ]
    },
    {
      "cell_type": "code",
      "execution_count": 8,
      "metadata": {
        "execution": {
          "iopub.execute_input": "2023-11-04T00:50:01.446416Z",
          "iopub.status.busy": "2023-11-04T00:50:01.446057Z",
          "iopub.status.idle": "2023-11-04T00:50:01.464615Z",
          "shell.execute_reply": "2023-11-04T00:50:01.463751Z",
          "shell.execute_reply.started": "2023-11-04T00:50:01.446385Z"
        },
        "id": "R4eepMuguc_h",
        "trusted": true
      },
      "outputs": [],
      "source": [
        "data_fake.drop(labels=[\"title\", \"subject\", \"date\"], axis=1, inplace=True)\n",
        "data_fake[\"target\"] = 1"
      ]
    },
    {
      "cell_type": "code",
      "execution_count": 9,
      "metadata": {
        "colab": {
          "base_uri": "https://localhost:8080/"
        },
        "execution": {
          "iopub.execute_input": "2023-11-04T00:50:09.650637Z",
          "iopub.status.busy": "2023-11-04T00:50:09.650031Z",
          "iopub.status.idle": "2023-11-04T00:50:09.668901Z",
          "shell.execute_reply": "2023-11-04T00:50:09.667931Z",
          "shell.execute_reply.started": "2023-11-04T00:50:09.650606Z"
        },
        "id": "mgDjBIt0uc_i",
        "outputId": "91d589f1-84a4-4ecb-f1bf-c74d778ff408",
        "trusted": true
      },
      "outputs": [
        {
          "name": "stdout",
          "output_type": "stream",
          "text": [
            "<class 'pandas.core.frame.DataFrame'>\n",
            "RangeIndex: 21417 entries, 0 to 21416\n",
            "Data columns (total 4 columns):\n",
            " #   Column   Non-Null Count  Dtype \n",
            "---  ------   --------------  ----- \n",
            " 0   title    21417 non-null  object\n",
            " 1   text     21417 non-null  object\n",
            " 2   subject  21417 non-null  object\n",
            " 3   date     21417 non-null  object\n",
            "dtypes: object(4)\n",
            "memory usage: 669.4+ KB\n"
          ]
        }
      ],
      "source": [
        "data_true.info()"
      ]
    },
    {
      "cell_type": "code",
      "execution_count": 10,
      "metadata": {
        "execution": {
          "iopub.execute_input": "2023-11-04T00:50:11.570971Z",
          "iopub.status.busy": "2023-11-04T00:50:11.570285Z",
          "iopub.status.idle": "2023-11-04T00:50:11.579273Z",
          "shell.execute_reply": "2023-11-04T00:50:11.578332Z",
          "shell.execute_reply.started": "2023-11-04T00:50:11.570937Z"
        },
        "id": "Eqb8hGoRuc_i",
        "trusted": true
      },
      "outputs": [],
      "source": [
        "data_true.drop(labels=[\"title\", \"subject\", \"date\"], axis=1, inplace=True)\n",
        "data_true[\"target\"] = 0"
      ]
    },
    {
      "cell_type": "code",
      "execution_count": 11,
      "metadata": {
        "colab": {
          "base_uri": "https://localhost:8080/"
        },
        "execution": {
          "iopub.execute_input": "2023-11-04T00:50:32.443505Z",
          "iopub.status.busy": "2023-11-04T00:50:32.443154Z",
          "iopub.status.idle": "2023-11-04T00:50:32.468445Z",
          "shell.execute_reply": "2023-11-04T00:50:32.467296Z",
          "shell.execute_reply.started": "2023-11-04T00:50:32.443477Z"
        },
        "id": "V4jtSGLSuc_i",
        "outputId": "61c1f8fb-e375-435d-c4a5-4330c675379d",
        "trusted": true
      },
      "outputs": [
        {
          "name": "stdout",
          "output_type": "stream",
          "text": [
            "<class 'pandas.core.frame.DataFrame'>\n",
            "Int64Index: 44898 entries, 0 to 23480\n",
            "Data columns (total 2 columns):\n",
            " #   Column  Non-Null Count  Dtype \n",
            "---  ------  --------------  ----- \n",
            " 0   text    44898 non-null  object\n",
            " 1   target  44898 non-null  int64 \n",
            "dtypes: int64(1), object(1)\n",
            "memory usage: 1.0+ MB\n"
          ]
        }
      ],
      "source": [
        "data = pd.concat((data_true, data_fake), axis=0)\n",
        "data.info()"
      ]
    },
    {
      "cell_type": "code",
      "execution_count": 18,
      "metadata": {
        "execution": {
          "iopub.execute_input": "2023-11-04T00:51:08.224363Z",
          "iopub.status.busy": "2023-11-04T00:51:08.223659Z",
          "iopub.status.idle": "2023-11-04T00:51:08.234445Z",
          "shell.execute_reply": "2023-11-04T00:51:08.233613Z",
          "shell.execute_reply.started": "2023-11-04T00:51:08.224332Z"
        },
        "id": "D7EfUkOauc_j",
        "trusted": true
      },
      "outputs": [],
      "source": [
        "data_sample = data.sample(10000, random_state=RANDOM_STATE)\n",
        "X, y = data_sample.text.values, data_sample.target.values"
      ]
    },
    {
      "cell_type": "code",
      "execution_count": 29,
      "metadata": {
        "colab": {
          "base_uri": "https://localhost:8080/"
        },
        "execution": {
          "iopub.execute_input": "2023-11-04T00:51:09.017470Z",
          "iopub.status.busy": "2023-11-04T00:51:09.017023Z",
          "iopub.status.idle": "2023-11-04T00:51:09.148414Z",
          "shell.execute_reply": "2023-11-04T00:51:09.147539Z",
          "shell.execute_reply.started": "2023-11-04T00:51:09.017430Z"
        },
        "id": "uch3X4ebQ9nC",
        "outputId": "24c2b5a1-f4ee-40ea-90ab-86bad7f0ef74",
        "trusted": true
      },
      "outputs": [
        {
          "name": "stderr",
          "output_type": "stream",
          "text": [
            "[nltk_data] Downloading package stopwords to /root/nltk_data...\n",
            "[nltk_data]   Package stopwords is already up-to-date!\n",
            "[nltk_data] Downloading package punkt to /root/nltk_data...\n",
            "[nltk_data]   Package punkt is already up-to-date!\n"
          ]
        },
        {
          "data": {
            "text/plain": [
              "True"
            ]
          },
          "execution_count": 29,
          "metadata": {},
          "output_type": "execute_result"
        }
      ],
      "source": [
        "nltk.download(\"stopwords\")\n",
        "nltk.download('punkt')"
      ]
    },
    {
      "cell_type": "code",
      "execution_count": 30,
      "metadata": {
        "execution": {
          "iopub.execute_input": "2023-11-04T00:51:50.111282Z",
          "iopub.status.busy": "2023-11-04T00:51:50.110426Z",
          "iopub.status.idle": "2023-11-04T00:51:50.117985Z",
          "shell.execute_reply": "2023-11-04T00:51:50.116851Z",
          "shell.execute_reply.started": "2023-11-04T00:51:50.111245Z"
        },
        "id": "qr92qaa0Q9nC",
        "trusted": true
      },
      "outputs": [],
      "source": [
        "def text_tokenization(texts: List[str]):\n",
        "    tokenized_texts = []\n",
        "    for text in tqdm(texts):\n",
        "        tokenized_text = word_tokenize(text.lower())\n",
        "        tokenized_texts.append(tokenized_text)\n",
        "    return tokenized_texts\n",
        "\n",
        "\n",
        "sw = stopwords.words(\"english\")\n",
        "\n",
        "\n",
        "def del_stopwords(texts: List[List[str]]):\n",
        "    cleaned_texts = []\n",
        "    for text in tqdm(texts):\n",
        "        cleaned_text = [word for word in text if word not in sw]\n",
        "        cleaned_texts.append(cleaned_text)\n",
        "    return cleaned_texts"
      ]
    },
    {
      "cell_type": "code",
      "execution_count": 31,
      "metadata": {
        "colab": {
          "base_uri": "https://localhost:8080/"
        },
        "execution": {
          "iopub.execute_input": "2023-11-04T00:51:57.350496Z",
          "iopub.status.busy": "2023-11-04T00:51:57.349615Z",
          "iopub.status.idle": "2023-11-04T01:02:02.608693Z",
          "shell.execute_reply": "2023-11-04T01:02:02.607686Z",
          "shell.execute_reply.started": "2023-11-04T00:51:57.350462Z"
        },
        "id": "cb28Xu7Iuc_j",
        "outputId": "23fd1b6e-0203-42ca-da6c-68d600c11d0b",
        "trusted": true
      },
      "outputs": [
        {
          "name": "stderr",
          "output_type": "stream",
          "text": [
            "100%|██████████| 10000/10000 [00:28<00:00, 352.92it/s]\n",
            "100%|██████████| 10000/10000 [00:07<00:00, 1253.58it/s]\n"
          ]
        }
      ],
      "source": [
        "X_tokenized = text_tokenization(X)\n",
        "X_cleaned = del_stopwords(X_tokenized)"
      ]
    },
    {
      "cell_type": "code",
      "execution_count": 37,
      "metadata": {
        "execution": {
          "iopub.execute_input": "2023-11-04T01:02:08.647590Z",
          "iopub.status.busy": "2023-11-04T01:02:08.647217Z",
          "iopub.status.idle": "2023-11-04T01:02:08.666023Z",
          "shell.execute_reply": "2023-11-04T01:02:08.664921Z",
          "shell.execute_reply.started": "2023-11-04T01:02:08.647561Z"
        },
        "id": "EuqkKvrOuc_j",
        "trusted": true
      },
      "outputs": [],
      "source": [
        "X_train, X_test, y_train, y_test = train_test_split(\n",
        "    X_cleaned, y, test_size=TEST_SIZE, shuffle=True, stratify=y, random_state=RANDOM_STATE\n",
        ")"
      ]
    },
    {
      "cell_type": "code",
      "execution_count": 38,
      "metadata": {
        "execution": {
          "iopub.execute_input": "2023-11-04T01:02:10.079297Z",
          "iopub.status.busy": "2023-11-04T01:02:10.078906Z",
          "iopub.status.idle": "2023-11-04T01:02:10.084322Z",
          "shell.execute_reply": "2023-11-04T01:02:10.083091Z",
          "shell.execute_reply.started": "2023-11-04T01:02:10.079268Z"
        },
        "id": "l10ohD27uc_j",
        "trusted": true
      },
      "outputs": [],
      "source": [
        "max_tokens = 2000"
      ]
    },
    {
      "cell_type": "code",
      "execution_count": 39,
      "metadata": {
        "execution": {
          "iopub.execute_input": "2023-11-04T01:02:11.230426Z",
          "iopub.status.busy": "2023-11-04T01:02:11.229637Z",
          "iopub.status.idle": "2023-11-04T01:02:14.899670Z",
          "shell.execute_reply": "2023-11-04T01:02:14.898636Z",
          "shell.execute_reply.started": "2023-11-04T01:02:11.230389Z"
        },
        "id": "93Liq139uc_k",
        "trusted": true
      },
      "outputs": [],
      "source": [
        "def yield_tokens(data_iter):\n",
        "    for text in data_iter:\n",
        "        yield text\n",
        "\n",
        "\n",
        "train_iter = iter(X_train)\n",
        "vocab = build_vocab_from_iterator(\n",
        "    yield_tokens(train_iter), specials=[\"<unk>\"], max_tokens=max_tokens\n",
        ")\n",
        "vocab.set_default_index(vocab[\"<unk>\"])"
      ]
    },
    {
      "cell_type": "code",
      "execution_count": 49,
      "metadata": {
        "colab": {
          "base_uri": "https://localhost:8080/"
        },
        "execution": {
          "iopub.execute_input": "2023-11-04T01:02:19.415433Z",
          "iopub.status.busy": "2023-11-04T01:02:19.415058Z",
          "iopub.status.idle": "2023-11-04T01:02:21.755963Z",
          "shell.execute_reply": "2023-11-04T01:02:21.755065Z",
          "shell.execute_reply.started": "2023-11-04T01:02:19.415405Z"
        },
        "id": "7ZacgTeKuc_k",
        "outputId": "59c9d962-d73a-4a4e-b7d3-079aceba001b",
        "trusted": true
      },
      "outputs": [
        {
          "data": {
            "text/plain": [
              "1000"
            ]
          },
          "execution_count": 49,
          "metadata": {},
          "output_type": "execute_result"
        }
      ],
      "source": [
        "# MAX_LEN = max([len(text) for text in X_train])\n",
        "MAX_LEN = 1000\n",
        "MAX_LEN"
      ]
    },
    {
      "cell_type": "code",
      "execution_count": 50,
      "metadata": {
        "execution": {
          "iopub.execute_input": "2023-11-04T01:02:28.440547Z",
          "iopub.status.busy": "2023-11-04T01:02:28.440178Z",
          "iopub.status.idle": "2023-11-04T01:02:28.447472Z",
          "shell.execute_reply": "2023-11-04T01:02:28.446257Z",
          "shell.execute_reply.started": "2023-11-04T01:02:28.440518Z"
        },
        "id": "KJ6cm3DAuc_k",
        "trusted": true
      },
      "outputs": [],
      "source": [
        "def tokens2idx(batch):\n",
        "    texts, labels = [], []\n",
        "    for text, label in batch:\n",
        "        processed_text = torch.tensor(vocab(text), dtype=torch.int64)\n",
        "        processed_text = processed_text[: MAX_LEN]\n",
        "        texts.append(F.pad(processed_text, (0, MAX_LEN - processed_text.shape[0])))\n",
        "        labels.append(label)\n",
        "    texts = torch.stack(texts)\n",
        "    labels = torch.tensor(labels, dtype=torch.float32)\n",
        "    return texts.to(device), labels.to(device)"
      ]
    },
    {
      "cell_type": "code",
      "execution_count": 51,
      "metadata": {
        "execution": {
          "iopub.execute_input": "2023-11-04T01:02:32.973274Z",
          "iopub.status.busy": "2023-11-04T01:02:32.972633Z",
          "iopub.status.idle": "2023-11-04T01:02:32.977794Z",
          "shell.execute_reply": "2023-11-04T01:02:32.976852Z",
          "shell.execute_reply.started": "2023-11-04T01:02:32.973244Z"
        },
        "id": "EjQ28P7puc_k",
        "trusted": true
      },
      "outputs": [],
      "source": [
        "def yield_data(texts, labels):\n",
        "    for text, label in zip(texts, labels):\n",
        "        yield text, label"
      ]
    },
    {
      "cell_type": "code",
      "execution_count": 52,
      "metadata": {
        "execution": {
          "iopub.execute_input": "2023-11-04T01:02:34.804675Z",
          "iopub.status.busy": "2023-11-04T01:02:34.803731Z",
          "iopub.status.idle": "2023-11-04T01:02:34.808958Z",
          "shell.execute_reply": "2023-11-04T01:02:34.807923Z",
          "shell.execute_reply.started": "2023-11-04T01:02:34.804643Z"
        },
        "id": "72LFSBIh2f5A",
        "trusted": true
      },
      "outputs": [],
      "source": [
        "BATCH_SIZE = 32"
      ]
    },
    {
      "cell_type": "code",
      "execution_count": 53,
      "metadata": {
        "execution": {
          "iopub.execute_input": "2023-11-04T01:02:35.218473Z",
          "iopub.status.busy": "2023-11-04T01:02:35.218120Z",
          "iopub.status.idle": "2023-11-04T01:02:35.306392Z",
          "shell.execute_reply": "2023-11-04T01:02:35.305251Z",
          "shell.execute_reply.started": "2023-11-04T01:02:35.218448Z"
        },
        "id": "Qxy_CqHEuc_k",
        "trusted": true
      },
      "outputs": [],
      "source": [
        "train_dataset = to_map_style_dataset(yield_data(X_train, y_train))\n",
        "test_dataset = to_map_style_dataset(yield_data(X_test, y_test))\n",
        "\n",
        "num_train = int(len(train_dataset) * 0.9)\n",
        "train_dataset, val_dataset = torch.utils.data.dataset.random_split(\n",
        "    train_dataset, [num_train, len(train_dataset) - num_train]\n",
        ")\n",
        "\n",
        "train_dataloader = DataLoader(\n",
        "    train_dataset, batch_size=BATCH_SIZE, shuffle=True, collate_fn=tokens2idx\n",
        ")\n",
        "val_dataloader = DataLoader(\n",
        "    val_dataset, batch_size=BATCH_SIZE, shuffle=True, collate_fn=tokens2idx\n",
        ")\n",
        "test_dataloader = DataLoader(\n",
        "    test_dataset, batch_size=BATCH_SIZE, shuffle=True, collate_fn=tokens2idx\n",
        ")"
      ]
    },
    {
      "cell_type": "code",
      "execution_count": 54,
      "metadata": {
        "execution": {
          "iopub.execute_input": "2023-11-04T01:02:36.762819Z",
          "iopub.status.busy": "2023-11-04T01:02:36.762083Z",
          "iopub.status.idle": "2023-11-04T01:02:36.773624Z",
          "shell.execute_reply": "2023-11-04T01:02:36.772720Z",
          "shell.execute_reply.started": "2023-11-04T01:02:36.762763Z"
        },
        "id": "KpjRQVPiuc_l",
        "trusted": true
      },
      "outputs": [],
      "source": [
        "def train(model, optimizer, criterion, epochs):\n",
        "    train_losses, val_losses = [], []\n",
        "    for epoch in range(epochs):\n",
        "        model.train()\n",
        "        with tqdm(train_dataloader, unit=\"batch\") as tepoch:\n",
        "            for i, (x_batch, y_batch) in enumerate(tepoch):\n",
        "                optimizer.zero_grad()\n",
        "                y_pred = model(x_batch).squeeze()\n",
        "                loss = criterion(y_pred, y_batch)\n",
        "                train_losses.append(loss.item())\n",
        "                loss.backward()\n",
        "                optimizer.step()\n",
        "                roc_auc = roc_auc_score(\n",
        "                    y_batch.cpu().detach().numpy(), y_pred.cpu().detach().numpy()\n",
        "                )\n",
        "                tepoch.set_postfix(train_loss=loss.item(), train_roc_auc=roc_auc)\n",
        "        model.eval()\n",
        "        with torch.no_grad():\n",
        "            with tqdm(val_dataloader, unit=\"batch\") as tepoch:\n",
        "                for i, (x_batch, y_batch) in enumerate(tepoch):\n",
        "                    y_pred = model(x_batch).squeeze()\n",
        "                    loss = criterion(y_pred, y_batch).item()\n",
        "                    val_losses.append(loss)\n",
        "                    roc_auc = roc_auc_score(\n",
        "                        y_batch.cpu().detach().numpy(), y_pred.cpu().detach().numpy()\n",
        "                    )\n",
        "                    tepoch.set_postfix(val_loss=loss, val_roc_auc=roc_auc)\n",
        "    return train_losses, val_losses"
      ]
    },
    {
      "cell_type": "code",
      "execution_count": 55,
      "metadata": {
        "execution": {
          "iopub.execute_input": "2023-11-04T01:02:38.272566Z",
          "iopub.status.busy": "2023-11-04T01:02:38.271636Z",
          "iopub.status.idle": "2023-11-04T01:02:38.276593Z",
          "shell.execute_reply": "2023-11-04T01:02:38.275655Z",
          "shell.execute_reply.started": "2023-11-04T01:02:38.272530Z"
        },
        "id": "do0Z_erQHHSF",
        "trusted": true
      },
      "outputs": [],
      "source": [
        "emb_size = 128"
      ]
    },
    {
      "cell_type": "code",
      "execution_count": 83,
      "metadata": {
        "execution": {
          "iopub.execute_input": "2023-11-04T01:02:38.761484Z",
          "iopub.status.busy": "2023-11-04T01:02:38.760626Z",
          "iopub.status.idle": "2023-11-04T01:02:38.770076Z",
          "shell.execute_reply": "2023-11-04T01:02:38.768987Z",
          "shell.execute_reply.started": "2023-11-04T01:02:38.761449Z"
        },
        "id": "cJoDy79Vuc_l",
        "trusted": true
      },
      "outputs": [],
      "source": [
        "class LSTMModel(nn.Module):\n",
        "    def __init__(self, input_size=max_tokens, emb_size=emb_size, hidden_size=64):\n",
        "        super(LSTMModel, self).__init__()\n",
        "        self.hidden_size = hidden_size\n",
        "        self.emb = nn.Embedding(num_embeddings=input_size, embedding_dim=emb_size)\n",
        "        self.lstm = nn.LSTM(\n",
        "            input_size=emb_size,\n",
        "            hidden_size=self.hidden_size,\n",
        "            dropout=0.3,\n",
        "            num_layers=2,\n",
        "            bidirectional=True,\n",
        "            batch_first=True,\n",
        "        )\n",
        "        self.fc1 = nn.Linear(2 * hidden_size, 1)\n",
        "\n",
        "    def forward(self, x):\n",
        "        out = self.emb(x)\n",
        "        out, (h_n, c_n) = self.lstm(out)\n",
        "        out = self.fc1(out[:, -1])\n",
        "        return out"
      ]
    },
    {
      "cell_type": "code",
      "execution_count": 97,
      "metadata": {
        "execution": {
          "iopub.execute_input": "2023-11-04T01:02:40.715508Z",
          "iopub.status.busy": "2023-11-04T01:02:40.714598Z",
          "iopub.status.idle": "2023-11-04T01:02:49.946596Z",
          "shell.execute_reply": "2023-11-04T01:02:49.945726Z",
          "shell.execute_reply.started": "2023-11-04T01:02:40.715475Z"
        },
        "id": "QdydTHT-uc_l",
        "trusted": true
      },
      "outputs": [],
      "source": [
        "epochs = 7\n",
        "lstm_model = LSTMModel()\n",
        "lstm_model.to(device)\n",
        "\n",
        "optimizer = torch.optim.Adam(lstm_model.parameters(), lr=0.03)\n",
        "criterion = nn.BCEWithLogitsLoss()"
      ]
    },
    {
      "cell_type": "code",
      "execution_count": 98,
      "metadata": {
        "colab": {
          "base_uri": "https://localhost:8080/"
        },
        "execution": {
          "iopub.execute_input": "2023-11-04T01:02:49.949106Z",
          "iopub.status.busy": "2023-11-04T01:02:49.948385Z",
          "iopub.status.idle": "2023-11-04T01:22:33.473536Z",
          "shell.execute_reply": "2023-11-04T01:22:33.472499Z",
          "shell.execute_reply.started": "2023-11-04T01:02:49.949059Z"
        },
        "id": "KhUTmOY6uc_l",
        "outputId": "afc9c69c-7d36-4b89-e220-96cc6a359993",
        "trusted": true
      },
      "outputs": [
        {
          "name": "stderr",
          "output_type": "stream",
          "text": [
            "100%|██████████| 225/225 [00:07<00:00, 32.13batch/s, train_loss=0.689, train_roc_auc=0.524]\n",
            "100%|██████████| 25/25 [00:00<00:00, 52.74batch/s, val_loss=0.679, val_roc_auc=0.5]\n",
            "100%|██████████| 225/225 [00:06<00:00, 34.59batch/s, train_loss=0.659, train_roc_auc=0.494]\n",
            "100%|██████████| 25/25 [00:00<00:00, 75.12batch/s, val_loss=0.696, val_roc_auc=0.641]\n",
            "100%|██████████| 225/225 [00:06<00:00, 37.16batch/s, train_loss=0.389, train_roc_auc=0.871]\n",
            "100%|██████████| 25/25 [00:00<00:00, 56.37batch/s, val_loss=0.203, val_roc_auc=0.965]\n",
            "100%|██████████| 225/225 [00:06<00:00, 37.18batch/s, train_loss=0.314, train_roc_auc=0.952]\n",
            "100%|██████████| 25/25 [00:00<00:00, 70.53batch/s, val_loss=0.255, val_roc_auc=0.96]\n",
            "100%|██████████| 225/225 [00:06<00:00, 33.94batch/s, train_loss=0.269, train_roc_auc=0.929]\n",
            "100%|██████████| 25/25 [00:00<00:00, 62.10batch/s, val_loss=0.0857, val_roc_auc=1]\n",
            "100%|██████████| 225/225 [00:06<00:00, 34.88batch/s, train_loss=0.0975, train_roc_auc=1]\n",
            "100%|██████████| 25/25 [00:00<00:00, 55.17batch/s, val_loss=0.316, val_roc_auc=0.917]\n",
            "100%|██████████| 225/225 [00:06<00:00, 37.22batch/s, train_loss=0.346, train_roc_auc=0.929]\n",
            "100%|██████████| 25/25 [00:00<00:00, 64.18batch/s, val_loss=0.303, val_roc_auc=0.905]\n"
          ]
        }
      ],
      "source": [
        "history = train(lstm_model, optimizer, criterion, epochs)"
      ]
    },
    {
      "cell_type": "code",
      "execution_count": 99,
      "metadata": {
        "execution": {
          "iopub.execute_input": "2023-11-04T01:47:20.021612Z",
          "iopub.status.busy": "2023-11-04T01:47:20.021245Z",
          "iopub.status.idle": "2023-11-04T01:47:20.025858Z",
          "shell.execute_reply": "2023-11-04T01:47:20.024961Z",
          "shell.execute_reply.started": "2023-11-04T01:47:20.021582Z"
        },
        "id": "wg5n4js1Q9nE",
        "trusted": true
      },
      "outputs": [],
      "source": [
        "train_losses, val_losses = history"
      ]
    },
    {
      "cell_type": "code",
      "execution_count": 100,
      "metadata": {
        "colab": {
          "base_uri": "https://localhost:8080/",
          "height": 452
        },
        "execution": {
          "iopub.execute_input": "2023-11-04T01:47:43.164304Z",
          "iopub.status.busy": "2023-11-04T01:47:43.163441Z",
          "iopub.status.idle": "2023-11-04T01:47:43.446973Z",
          "shell.execute_reply": "2023-11-04T01:47:43.446071Z",
          "shell.execute_reply.started": "2023-11-04T01:47:43.164262Z"
        },
        "id": "9_2XeRiFQ9nF",
        "outputId": "e022f8d1-fb2b-4fa4-e619-58658041b223",
        "trusted": true
      },
      "outputs": [
        {
          "data": {
            "image/png": "[encoded data removed]",
            "text/plain": [
              "<Figure size 640x480 with 1 Axes>"
            ]
          },
          "metadata": {},
          "output_type": "display_data"
        }
      ],
      "source": [
        "plt.plot(train_losses)\n",
        "plt.plot(val_losses)\n",
        "plt.legend([\"train_loss\", \"val_loss\"])\n",
        "plt.title(\"BiLSTM\")\n",
        "plt.grid()"
      ]
    },
    {
      "cell_type": "code",
      "execution_count": 66,
      "metadata": {
        "execution": {
          "iopub.execute_input": "2023-11-04T01:48:50.844454Z",
          "iopub.status.busy": "2023-11-04T01:48:50.843590Z",
          "iopub.status.idle": "2023-11-04T01:48:50.873645Z",
          "shell.execute_reply": "2023-11-04T01:48:50.872770Z",
          "shell.execute_reply.started": "2023-11-04T01:48:50.844419Z"
        },
        "id": "SafjuPcPuc_l",
        "trusted": true
      },
      "outputs": [],
      "source": [
        "torch.cuda.empty_cache()"
      ]
    },
    {
      "cell_type": "code",
      "execution_count": 93,
      "metadata": {
        "execution": {
          "iopub.execute_input": "2023-11-04T02:01:01.961268Z",
          "iopub.status.busy": "2023-11-04T02:01:01.960913Z",
          "iopub.status.idle": "2023-11-04T02:01:01.971190Z",
          "shell.execute_reply": "2023-11-04T02:01:01.970270Z",
          "shell.execute_reply.started": "2023-11-04T02:01:01.961239Z"
        },
        "id": "jI6T21cQbaLV",
        "trusted": true
      },
      "outputs": [],
      "source": [
        "class CNNModel(nn.Module):\n",
        "    def __init__(self, input_size):\n",
        "        self.input_size = input_size\n",
        "        super(CNNModel, self).__init__()\n",
        "        self.conv1 = nn.Conv1d(in_channels=1, out_channels=1, kernel_size=5)\n",
        "        self.conv2 = nn.Conv1d(in_channels=1, out_channels=1, kernel_size=5)\n",
        "        self.mp = nn.MaxPool1d(kernel_size=2, stride=1)\n",
        "        self.do = nn.Dropout(0.3)\n",
        "        self.fc1 = nn.Linear(self.input_size - 9, 1)\n",
        "\n",
        "    def forward(self, x):\n",
        "        x = x.float()\n",
        "        x = x.unsqueeze(1)\n",
        "        x = self.conv1(x)\n",
        "        x = self.conv2(x)\n",
        "        x = self.mp(x)\n",
        "        x = self.do(x)\n",
        "        x = x.view(BATCH_SIZE, -1)\n",
        "        x = self.fc1(x)\n",
        "        return x"
      ]
    },
    {
      "cell_type": "code",
      "execution_count": 94,
      "metadata": {
        "execution": {
          "iopub.execute_input": "2023-11-04T02:01:03.007495Z",
          "iopub.status.busy": "2023-11-04T02:01:03.007028Z",
          "iopub.status.idle": "2023-11-04T02:01:03.034918Z",
          "shell.execute_reply": "2023-11-04T02:01:03.034184Z",
          "shell.execute_reply.started": "2023-11-04T02:01:03.007468Z"
        },
        "id": "CsAbWeW5CQ1B",
        "trusted": true
      },
      "outputs": [],
      "source": [
        "epochs = 7\n",
        "cnn_model = CNNModel(MAX_LEN)\n",
        "cnn_model.to(device)\n",
        "\n",
        "optimizer = torch.optim.Adam(cnn_model.parameters(), lr=0.001)\n",
        "criterion = nn.BCEWithLogitsLoss()"
      ]
    },
    {
      "cell_type": "code",
      "execution_count": 95,
      "metadata": {
        "colab": {
          "base_uri": "https://localhost:8080/"
        },
        "execution": {
          "iopub.execute_input": "2023-11-04T02:01:04.053747Z",
          "iopub.status.busy": "2023-11-04T02:01:04.053369Z",
          "iopub.status.idle": "2023-11-04T02:01:58.148304Z",
          "shell.execute_reply": "2023-11-04T02:01:58.147402Z",
          "shell.execute_reply.started": "2023-11-04T02:01:04.053718Z"
        },
        "id": "hlUyWXYaQ9nF",
        "jupyter": {
          "outputs_hidden": false
        },
        "outputId": "84f034ad-564c-4893-9489-cdc2a75adc54",
        "trusted": true
      },
      "outputs": [
        {
          "name": "stderr",
          "output_type": "stream",
          "text": [
            "100%|██████████| 225/225 [00:02<00:00, 106.45batch/s, train_loss=1.41, train_roc_auc=0.462]\n",
            "100%|██████████| 25/25 [00:00<00:00, 123.55batch/s, val_loss=2.02, val_roc_auc=0.7]\n",
            "100%|██████████| 225/225 [00:02<00:00, 100.45batch/s, train_loss=1.34, train_roc_auc=0.721]\n",
            "100%|██████████| 25/25 [00:00<00:00, 97.38batch/s, val_loss=1.34, val_roc_auc=0.611]\n",
            "100%|██████████| 225/225 [00:03<00:00, 74.35batch/s, train_loss=1.27, train_roc_auc=0.533]\n",
            "100%|██████████| 25/25 [00:00<00:00, 47.14batch/s, val_loss=0.541, val_roc_auc=0.792]\n",
            "100%|██████████| 225/225 [00:03<00:00, 60.20batch/s, train_loss=0.61, train_roc_auc=0.718]\n",
            "100%|██████████| 25/25 [00:00<00:00, 117.62batch/s, val_loss=0.606, val_roc_auc=0.698]\n",
            "100%|██████████| 225/225 [00:03<00:00, 70.91batch/s, train_loss=0.644, train_roc_auc=0.702]\n",
            "100%|██████████| 25/25 [00:00<00:00, 130.83batch/s, val_loss=0.662, val_roc_auc=0.643]\n",
            "100%|██████████| 225/225 [00:02<00:00, 110.16batch/s, train_loss=0.652, train_roc_auc=0.753]\n",
            "100%|██████████| 25/25 [00:00<00:00, 123.54batch/s, val_loss=0.639, val_roc_auc=0.68]\n",
            "100%|██████████| 225/225 [00:02<00:00, 98.86batch/s, train_loss=0.649, train_roc_auc=0.709]\n",
            "100%|██████████| 25/25 [00:00<00:00, 111.25batch/s, val_loss=0.53, val_roc_auc=0.827]\n"
          ]
        }
      ],
      "source": [
        "history_cnn = train(cnn_model, optimizer, criterion, epochs)"
      ]
    },
    {
      "cell_type": "code",
      "execution_count": 96,
      "metadata": {
        "colab": {
          "base_uri": "https://localhost:8080/",
          "height": 452
        },
        "execution": {
          "iopub.execute_input": "2023-11-04T02:02:02.566623Z",
          "iopub.status.busy": "2023-11-04T02:02:02.566283Z",
          "iopub.status.idle": "2023-11-04T02:02:02.828038Z",
          "shell.execute_reply": "2023-11-04T02:02:02.827102Z",
          "shell.execute_reply.started": "2023-11-04T02:02:02.566598Z"
        },
        "id": "8lxudZotQ9nG",
        "jupyter": {
          "outputs_hidden": false
        },
        "outputId": "e9a4ddd6-53ed-4d97-df06-ab1dc3503c47",
        "trusted": true
      },
      "outputs": [
        {
          "data": {
            "image/png": "[encoded data removed]",
            "text/plain": [
              "<Figure size 640x480 with 1 Axes>"
            ]
          },
          "metadata": {},
          "output_type": "display_data"
        }
      ],
      "source": [
        "train_losses, val_losses = history_cnn\n",
        "plt.plot(train_losses)\n",
        "plt.plot(val_losses)\n",
        "plt.legend([\"train_loss\", \"val_loss\"])\n",
        "plt.title(\"CNN\")\n",
        "plt.grid()"
      ]
    },
    {
      "cell_type": "code",
      "execution_count": null,
      "metadata": {
        "id": "1RlGwW49Q9nG"
      },
      "outputs": [],
      "source": []
    }
  ],
  "metadata": {
    "accelerator": "GPU",
    "colab": {
      "gpuType": "T4",
      "provenance": []
    },
    "kernelspec": {
      "display_name": "Python 3",
      "language": "python",
      "name": "python3"
    },
    "language_info": {
      "codemirror_mode": {
        "name": "ipython",
        "version": 3
      },
      "file_extension": ".py",
      "mimetype": "text/x-python",
      "name": "python",
      "nbconvert_exporter": "python",
      "pygments_lexer": "ipython3",
      "version": "3.10.11"
    }
  },
  "nbformat": 4,
  "nbformat_minor": 0
}
