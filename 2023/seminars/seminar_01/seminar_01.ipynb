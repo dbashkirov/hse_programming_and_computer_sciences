{
 "nbformat": 4,
 "nbformat_minor": 0,
 "metadata": {
  "colab": {
   "provenance": []
  },
  "kernelspec": {
   "name": "python3",
   "display_name": "Python 3"
  },
  "language_info": {
   "name": "python"
  }
 },
 "cells": [
  {
   "cell_type": "markdown",
   "source": [
    "# Cеминар 1\n",
    "* Функции\n",
    "  * lambda и map\n",
    "  * рекурсия\n",
    "* Чтение из файла\n",
    "* Задачи\n"
   ],
   "metadata": {
    "id": "3HNFo-M6y0A6"
   }
  },
  {
   "cell_type": "markdown",
   "source": [
    "## Функции"
   ],
   "metadata": {
    "id": "p7h3vCoLV2i8"
   }
  },
  {
   "cell_type": "markdown",
   "source": [
    "### lambda-функции и map"
   ],
   "metadata": {
    "id": "TtzLbnIoV7Mq"
   }
  },
  {
   "cell_type": "markdown",
   "source": [
    "Чтобы обработать элементы последовательности, можно проитерироваться по ним циклом и обработать каждый элемент отдельно:"
   ],
   "metadata": {
    "id": "rL186ZLZV94r"
   }
  },
  {
   "cell_type": "code",
   "source": [
    "def f(x):\n",
    "  return x + 1\n",
    "\n",
    "a = [1, 2, 3, 4]\n",
    "\n",
    "for i in range(len(a)):\n",
    "  a[i] = f(a[i])\n",
    "\n",
    "print(a)"
   ],
   "metadata": {
    "colab": {
     "base_uri": "https://localhost:8080/"
    },
    "id": "6Frg2ko-W8lH",
    "outputId": "b39488fa-50b3-4f17-fc2b-80d7bc964a8f"
   },
   "execution_count": 34,
   "outputs": [
    {
     "name": "stdout",
     "output_type": "stream",
     "text": [
      "[2, 3, 4, 5]\n"
     ]
    }
   ]
  },
  {
   "cell_type": "markdown",
   "source": [
    "Или же можно воспользоваться функцией `map`, которая принимает на вход последовательность и функцию, которую нужно применить к каждому эелементу этой последовательности"
   ],
   "metadata": {
    "id": "u3xCBPePXIYW"
   }
  },
  {
   "cell_type": "code",
   "source": [
    "a = [1, 2, 3, 4]\n",
    "map(f, a)"
   ],
   "metadata": {
    "colab": {
     "base_uri": "https://localhost:8080/"
    },
    "id": "sbufHgcXXTqS",
    "outputId": "34448be6-6805-4859-9473-db962deb36c8"
   },
   "execution_count": 36,
   "outputs": [
    {
     "data": {
      "text/plain": "<map at 0x10f89d030>"
     },
     "execution_count": 36,
     "metadata": {},
     "output_type": "execute_result"
    }
   ]
  },
  {
   "cell_type": "code",
   "source": [
    "list(map(f, a))"
   ],
   "metadata": {
    "colab": {
     "base_uri": "https://localhost:8080/"
    },
    "id": "yjArMw-eXcwq",
    "outputId": "dd26525a-b759-47df-a7b7-ad66e7786175"
   },
   "execution_count": 37,
   "outputs": [
    {
     "data": {
      "text/plain": "[2, 3, 4, 5]"
     },
     "execution_count": 37,
     "metadata": {},
     "output_type": "execute_result"
    }
   ]
  },
  {
   "cell_type": "code",
   "execution_count": 38,
   "outputs": [],
   "source": [
    "a, b, c, d = map(f, a)"
   ],
   "metadata": {
    "collapsed": false
   }
  },
  {
   "cell_type": "code",
   "execution_count": 39,
   "outputs": [
    {
     "data": {
      "text/plain": "(2, 3, 4, 5)"
     },
     "execution_count": 39,
     "metadata": {},
     "output_type": "execute_result"
    }
   ],
   "source": [
    "a, b, c, d"
   ],
   "metadata": {
    "collapsed": false
   }
  },
  {
   "cell_type": "markdown",
   "source": [
    "Еще `map` удобно использовать при чтении массивов в одну строку"
   ],
   "metadata": {
    "id": "udaj5BSNXwdX"
   }
  },
  {
   "cell_type": "code",
   "source": [
    "a = list(map(int, input().split()))"
   ],
   "metadata": {
    "id": "qoajjyAAXjEV",
    "colab": {
     "base_uri": "https://localhost:8080/"
    },
    "outputId": "36aefc66-5a04-4d10-fd3b-c6e987c0db6d"
   },
   "execution_count": 41,
   "outputs": []
  },
  {
   "cell_type": "code",
   "source": [
    "a"
   ],
   "metadata": {
    "colab": {
     "base_uri": "https://localhost:8080/"
    },
    "id": "X2NuCBGYDQ-7",
    "outputId": "b263ac7f-b902-4166-9a09-36a73855bdfe"
   },
   "execution_count": 42,
   "outputs": [
    {
     "data": {
      "text/plain": "[1, 2, 3, 4, 5]"
     },
     "execution_count": 42,
     "metadata": {},
     "output_type": "execute_result"
    }
   ]
  },
  {
   "cell_type": "code",
   "execution_count": null,
   "outputs": [],
   "source": [
    "import sys"
   ],
   "metadata": {
    "collapsed": false
   }
  },
  {
   "cell_type": "code",
   "execution_count": null,
   "outputs": [],
   "source": [
    "for line in sys.stdin:\n",
    "  ..."
   ],
   "metadata": {
    "collapsed": false
   }
  },
  {
   "cell_type": "markdown",
   "source": [
    "Когда нам нужно как-то минимально обработать элементы последовательности и мы не хотим определять для этого отдельную функцию, можно воспользоваться `lambda-функцией`"
   ],
   "metadata": {
    "id": "xLkE7ymHX71p"
   }
  },
  {
   "cell_type": "code",
   "execution_count": null,
   "outputs": [],
   "source": [
    "lambda x: str(x)"
   ],
   "metadata": {
    "collapsed": false
   }
  },
  {
   "cell_type": "code",
   "source": [
    "a = [1, 2, 3, 4]\n",
    "list(map(lambda x: x + 1, a))"
   ],
   "metadata": {
    "colab": {
     "base_uri": "https://localhost:8080/"
    },
    "id": "lqDFRCSQYMXd",
    "outputId": "5307e3ab-77f6-468b-9f1e-aba59d597661"
   },
   "execution_count": 43,
   "outputs": [
    {
     "data": {
      "text/plain": "[2, 3, 4, 5]"
     },
     "execution_count": 43,
     "metadata": {},
     "output_type": "execute_result"
    }
   ]
  },
  {
   "cell_type": "markdown",
   "source": [
    "Ей удобно пользоваться когда, например, нужно отсортировать последовательность состоящую из последовательностей"
   ],
   "metadata": {
    "id": "OzO2P7fLYYni"
   }
  },
  {
   "cell_type": "code",
   "source": [
    "a = [(1, 5), (2, 4), (3, 3), (4, 2), (5, 1)]\n",
    "print(sorted(a, key=lambda x: x[1], reverse=True))"
   ],
   "metadata": {
    "colab": {
     "base_uri": "https://localhost:8080/"
    },
    "id": "zahJUg_rYUQ6",
    "outputId": "77dfb85f-1a73-4f31-99fb-ff3d498f5dcf"
   },
   "execution_count": 45,
   "outputs": [
    {
     "name": "stdout",
     "output_type": "stream",
     "text": [
      "[(1, 5), (2, 4), (3, 3), (4, 2), (5, 1)]\n"
     ]
    }
   ]
  },
  {
   "cell_type": "markdown",
   "source": [
    "### Рекурсия"
   ],
   "metadata": {
    "id": "UnXk8OMzZIuC"
   }
  },
  {
   "cell_type": "markdown",
   "source": [
    "Функция называется рекурсивной, если она использует себя же в своем теле."
   ],
   "metadata": {
    "id": "Abo5cY5hZMrX"
   }
  },
  {
   "cell_type": "code",
   "source": [
    "def f(x):\n",
    "  return f(x - 1)"
   ],
   "metadata": {
    "id": "ossut7FVYtby"
   },
   "execution_count": 46,
   "outputs": []
  },
  {
   "cell_type": "code",
   "source": [
    "f(1)"
   ],
   "metadata": {
    "colab": {
     "base_uri": "https://localhost:8080/",
     "height": 293
    },
    "id": "w6eyZK0fZhKF",
    "outputId": "397bb765-ecb9-43ab-84d6-91bd71f30102"
   },
   "execution_count": 47,
   "outputs": [
    {
     "ename": "RecursionError",
     "evalue": "maximum recursion depth exceeded",
     "output_type": "error",
     "traceback": [
      "\u001B[0;31m---------------------------------------------------------------------------\u001B[0m",
      "\u001B[0;31mRecursionError\u001B[0m                            Traceback (most recent call last)",
      "Cell \u001B[0;32mIn[47], line 1\u001B[0m\n\u001B[0;32m----> 1\u001B[0m \u001B[43mf\u001B[49m\u001B[43m(\u001B[49m\u001B[38;5;241;43m1\u001B[39;49m\u001B[43m)\u001B[49m\n",
      "Cell \u001B[0;32mIn[46], line 2\u001B[0m, in \u001B[0;36mf\u001B[0;34m(x)\u001B[0m\n\u001B[1;32m      1\u001B[0m \u001B[38;5;28;01mdef\u001B[39;00m \u001B[38;5;21mf\u001B[39m(x):\n\u001B[0;32m----> 2\u001B[0m   \u001B[38;5;28;01mreturn\u001B[39;00m \u001B[43mf\u001B[49m\u001B[43m(\u001B[49m\u001B[43mx\u001B[49m\u001B[43m \u001B[49m\u001B[38;5;241;43m-\u001B[39;49m\u001B[43m \u001B[49m\u001B[38;5;241;43m1\u001B[39;49m\u001B[43m)\u001B[49m\n",
      "Cell \u001B[0;32mIn[46], line 2\u001B[0m, in \u001B[0;36mf\u001B[0;34m(x)\u001B[0m\n\u001B[1;32m      1\u001B[0m \u001B[38;5;28;01mdef\u001B[39;00m \u001B[38;5;21mf\u001B[39m(x):\n\u001B[0;32m----> 2\u001B[0m   \u001B[38;5;28;01mreturn\u001B[39;00m \u001B[43mf\u001B[49m\u001B[43m(\u001B[49m\u001B[43mx\u001B[49m\u001B[43m \u001B[49m\u001B[38;5;241;43m-\u001B[39;49m\u001B[43m \u001B[49m\u001B[38;5;241;43m1\u001B[39;49m\u001B[43m)\u001B[49m\n",
      "    \u001B[0;31m[... skipping similar frames: f at line 2 (9971 times)]\u001B[0m\n",
      "Cell \u001B[0;32mIn[46], line 2\u001B[0m, in \u001B[0;36mf\u001B[0;34m(x)\u001B[0m\n\u001B[1;32m      1\u001B[0m \u001B[38;5;28;01mdef\u001B[39;00m \u001B[38;5;21mf\u001B[39m(x):\n\u001B[0;32m----> 2\u001B[0m   \u001B[38;5;28;01mreturn\u001B[39;00m \u001B[43mf\u001B[49m\u001B[43m(\u001B[49m\u001B[43mx\u001B[49m\u001B[43m \u001B[49m\u001B[38;5;241;43m-\u001B[39;49m\u001B[43m \u001B[49m\u001B[38;5;241;43m1\u001B[39;49m\u001B[43m)\u001B[49m\n",
      "\u001B[0;31mRecursionError\u001B[0m: maximum recursion depth exceeded"
     ]
    }
   ]
  },
  {
   "cell_type": "markdown",
   "source": [
    "Важно не забывать прописывать условие выхода, иначе функция будет выполняться бесконечно. Давайте посчитаем `n!`"
   ],
   "metadata": {
    "id": "Ek5BfyVXZlVO"
   }
  },
  {
   "cell_type": "markdown",
   "source": [
    "$n! = n * (n - 1) * (n - 2) * (n - 3) * ... * (n - (n - 2)) * (n - (n - 1))$"
   ],
   "metadata": {
    "id": "V_iwSTS5EC9H"
   }
  },
  {
   "cell_type": "code",
   "source": [
    "def f(n):\n",
    "  if n == 0:\n",
    "    return 1\n",
    "  return n * f(n - 1)"
   ],
   "metadata": {
    "id": "SauLOn0fZi5w"
   },
   "execution_count": 48,
   "outputs": []
  },
  {
   "cell_type": "code",
   "source": [
    "f(10)"
   ],
   "metadata": {
    "colab": {
     "base_uri": "https://localhost:8080/"
    },
    "id": "5GDk33K4Z95C",
    "outputId": "bf20e616-ed93-47a4-c733-0e514c073833"
   },
   "execution_count": 49,
   "outputs": [
    {
     "data": {
      "text/plain": "3628800"
     },
     "execution_count": 49,
     "metadata": {},
     "output_type": "execute_result"
    }
   ]
  },
  {
   "cell_type": "markdown",
   "source": [
    "Если рекурсивная функция будет выполняться слишком долго, то мы получим ошибку "
   ],
   "metadata": {
    "id": "Nmiga7iEaA0i"
   }
  },
  {
   "cell_type": "code",
   "source": [
    "f(2000)"
   ],
   "metadata": {
    "colab": {
     "base_uri": "https://localhost:8080/",
     "height": 311
    },
    "id": "-mWCY93cZ_TP",
    "outputId": "5a6d8ca1-dd38-46a3-d034-d8a228b9b723"
   },
   "execution_count": 55,
   "outputs": [
    {
     "data": {
      "text/plain": "331627509245063324117539338057632403828111720810578039457193543706038077905600822400273230859732592255402352941225834109258084817415293796131386633526343688905634058556163940605117252571870647856393544045405243957467037674108722970434684158343752431580877533645127487995436859247408032408946561507233250652797655757179671536718689359056112815871601717232657156110004214012420433842573712700175883547796899921283528996665853405579854903657366350133386550401172012152635488038268152152246920995206031564418565480675946497051552288205234899995726450814065536678969532101467622671332026831552205194494461618239275204026529722631502574752048296064750927394165856283531779574482876314596450373991327334177263608852490093506621610144459709412707821313732563831572302019949914958316470942774473870327985549674298608839376326824152478834387469595829257740574539837501585815468136294217949972399813599481016556563876034227312912250384709872909626622461971076605931550201895135583165357871492290916779049702247094611937607785165110684432255905648736266530377384650390788049524600712549402614566072254136302754913671583406097831074945282217490781347709693241556111339828051358600690594619965257310741177081519922564516778571458056602185654760952377463016679422488444485798349801548032620829890965857381751888619376692828279888453584639896594213952984465291092009103710046149449915828588050761867924946385180879874512891408019340074625920057098729578599643650655895612410231018690556060308783629110505601245908998383410799367902052076858669183477906558544700148692656924631933337612428097420067172846361939249698628468719993450393889367270487127172734561700354867477509102955523953547941107421913301356819541091941462766417542161587625262858089801222443890248677182054959415751991701271767571787495861619665931878855141835782092601482071777331735396034304969082070589958701381980813035590160762908388574561288217698136182483576739218303118414719133986892842344000779246691209766731651433494437473235636572048844478331854941693030124531676232745367879322847473824485092283139952509732505979127031047683601481191102229253372697693823670057565612400290576043852852902937606479533458179666123839605262549107186663869354766108455046198102084050635827676526589492393249519685954171672419329530683673495544004586359838161043059449826627530605423580755894108278880427825951089880635410567917950974017780688782869810219010900148352061688883720250310665922068601483649830532782088263536558043605686781284169217133047141176312175895777122637584753123517230990549829210134687304205898014418063875382664169897704237759406280877253702265426530580862379301422675821187143502918637636340300173251818262076039747369595202642632364145446851113427202150458383851010136941313034856221916631623892632765815355011276307825059969158824533457435437863683173730673296589355199694458236873508830278657700879749889992343555566240682834763784685183844973648873952475103224222110561201295829657191368108693825475764118886879346725191246192151144738836269591643672490071653428228152661247800463922544945170363723627940757784542091048305461656190622174286981602973324046520201992813854882681951007282869701070737500927666487502174775372742351508748246720274170031581122805896178122160747437947510950620938556674581252518376682157712807861499255876132352950422346387878954850885764466136290394127665978044202092281337987115900896264878942413210454925003566670632909441579372986743421470507213588932019580723064781498429522595589012754823971773325722910325760929790733299545056388362640474650245080809469116072632087494143973000704111418595530278827357654819182002449697761111346318195282761590964189790958117338627206088910432945244978535147014112442143055486089639578378347325323595763291438925288393986256273242862775563140463830389168421633113445636309571965978466338551492316196335675355138403425804162919837822266909521770153175338730284610841886554138329171951332117895728541662084823682817932512931237521541926970269703299477643823386483008871530373405666383868294088487730721762268849023084934661194260180272613802108005078215741006054848201347859578102770707780655512772540501674332396066253216415004808772403047611929032210154385353138685538486425570790795341176519571188683739880683895792743749683498142923292196309777090143936843655333359307820181312993455024206044563340578606962471961505603394899523321800434359967256623927196435402872055475012079854331970674797313126813523653744085662263206768837585132782896252333284341812977624697079543436003492343159239674763638912115285406657783646213911247447051255226342701239527018127045491648045932248108858674600952306793175967755581011679940005249806303763141344412269037034987355799916009259248075052485541568266281760815446308305406677412630124441864204108373119093130001154470560277773724378067188899770851056727276781247198832857695844217588895160467868204810010047816462358220838532488134270834079868486632162720208823308727819085378845469131556021728873121907393965209260229101477527080930865364979858554010577450279289814603688431821508637246216967872282169347370599286277112447690920902988320166830170273420259765671709863311216349502171264426827119650264054228231759630874475301847194095524263411498469508073390080000000000000000000000000000000000000000000000000000000000000000000000000000000000000000000000000000000000000000000000000000000000000000000000000000000000000000000000000000000000000000000000000000000000000000000000000000000000000000000000000000000000000000000000000000000000000000000000000000000000000000000000000000000000000000000000000000000000000000000000000000000000000000000000000000000000000000000000000000000000000000000000000000000000000000000000000000000000000000000000000000000000000000000"
     },
     "execution_count": 55,
     "metadata": {},
     "output_type": "execute_result"
    }
   ]
  },
  {
   "cell_type": "markdown",
   "source": [
    "Это можно исправить, подключив модуль `sys` и прописав строчки  <br>\n",
    "```\n",
    "sys.setrecursionlimit(10000)\n",
    "sys.set_int_max_str_digits(10000)\n",
    "```"
   ],
   "metadata": {
    "id": "8VD2VnIhaRP4"
   }
  },
  {
   "cell_type": "code",
   "source": [
    "import sys\n",
    "sys.setrecursionlimit(10000)\n",
    "sys.set_int_max_str_digits(10000)"
   ],
   "metadata": {
    "id": "KWMFwgj6aPBE"
   },
   "execution_count": 54,
   "outputs": []
  },
  {
   "cell_type": "code",
   "source": [
    "%%time\n",
    "\n",
    "res = f(2000)\n",
    "len(str(res))"
   ],
   "metadata": {
    "colab": {
     "base_uri": "https://localhost:8080/"
    },
    "id": "QzbDtIivanEg",
    "outputId": "94863d88-234f-4c6b-9cb5-d660803cf7b2"
   },
   "execution_count": 56,
   "outputs": [
    {
     "name": "stdout",
     "output_type": "stream",
     "text": [
      "CPU times: user 1.84 ms, sys: 280 µs, total: 2.12 ms\n",
      "Wall time: 2.13 ms\n"
     ]
    },
    {
     "data": {
      "text/plain": "5736"
     },
     "execution_count": 56,
     "metadata": {},
     "output_type": "execute_result"
    }
   ]
  },
  {
   "cell_type": "markdown",
   "source": [
    "Важно помнить про ресурсы своего компьютера, иначе если вы выделите слишком много ресурсов, ваша рекурсия съест всю оперативную память"
   ],
   "metadata": {
    "id": "9_or9wuBauiw"
   }
  },
  {
   "cell_type": "markdown",
   "source": [
    "### Области видимости"
   ],
   "metadata": {
    "id": "NgMtT9Zeckj3"
   }
  },
  {
   "cell_type": "markdown",
   "source": [
    "Давайте создадим функцию, которая будет выводить глобальную переменную `x`"
   ],
   "metadata": {
    "id": "ArWhKElCdC9m"
   }
  },
  {
   "cell_type": "code",
   "source": [
    "x = 10\n",
    "\n",
    "def g():\n",
    "  print(x)\n",
    "\n",
    "g()"
   ],
   "metadata": {
    "colab": {
     "base_uri": "https://localhost:8080/"
    },
    "id": "nlMMCuz4cqp4",
    "outputId": "b6bcf0a3-1936-4a71-c1f2-d01e80c8ad08"
   },
   "execution_count": 57,
   "outputs": [
    {
     "name": "stdout",
     "output_type": "stream",
     "text": [
      "10\n"
     ]
    }
   ]
  },
  {
   "cell_type": "markdown",
   "source": [
    "Теперь добавим изменение переменной в функцию"
   ],
   "metadata": {
    "id": "NmtvOyqOd_ID"
   }
  },
  {
   "cell_type": "code",
   "source": [
    "x = 10\n",
    "\n",
    "def g():\n",
    "  x *= 10\n",
    "  print(x)\n",
    "\n",
    "g()"
   ],
   "metadata": {
    "colab": {
     "base_uri": "https://localhost:8080/",
     "height": 321
    },
    "id": "rdXEVURieHla",
    "outputId": "b44c0a1d-9eea-45df-df3e-bd797e33dc08"
   },
   "execution_count": 58,
   "outputs": [
    {
     "ename": "UnboundLocalError",
     "evalue": "cannot access local variable 'x' where it is not associated with a value",
     "output_type": "error",
     "traceback": [
      "\u001B[0;31m---------------------------------------------------------------------------\u001B[0m",
      "\u001B[0;31mUnboundLocalError\u001B[0m                         Traceback (most recent call last)",
      "Cell \u001B[0;32mIn[58], line 7\u001B[0m\n\u001B[1;32m      4\u001B[0m   x \u001B[38;5;241m*\u001B[39m\u001B[38;5;241m=\u001B[39m \u001B[38;5;241m10\u001B[39m\n\u001B[1;32m      5\u001B[0m   \u001B[38;5;28mprint\u001B[39m(x)\n\u001B[0;32m----> 7\u001B[0m \u001B[43mg\u001B[49m\u001B[43m(\u001B[49m\u001B[43m)\u001B[49m\n",
      "Cell \u001B[0;32mIn[58], line 4\u001B[0m, in \u001B[0;36mg\u001B[0;34m()\u001B[0m\n\u001B[1;32m      3\u001B[0m \u001B[38;5;28;01mdef\u001B[39;00m \u001B[38;5;21mg\u001B[39m():\n\u001B[0;32m----> 4\u001B[0m   \u001B[43mx\u001B[49m \u001B[38;5;241m*\u001B[39m\u001B[38;5;241m=\u001B[39m \u001B[38;5;241m10\u001B[39m\n\u001B[1;32m      5\u001B[0m   \u001B[38;5;28mprint\u001B[39m(x)\n",
      "\u001B[0;31mUnboundLocalError\u001B[0m: cannot access local variable 'x' where it is not associated with a value"
     ]
    }
   ]
  },
  {
   "cell_type": "markdown",
   "source": [
    " Все дело в том, что для локального пространства переменных такая переменная как x не определена. Чтобы функция понимала, что нужно использовать глобальную переменную, нужно использовать ключеваое слово global"
   ],
   "metadata": {
    "id": "B45K-okYeM2p"
   }
  },
  {
   "cell_type": "code",
   "source": [
    "x = 10\n",
    "y = 10\n",
    "\n",
    "def g():\n",
    "  global x\n",
    "  x *= 10\n",
    "  print(x)\n",
    "\n",
    "g()"
   ],
   "metadata": {
    "colab": {
     "base_uri": "https://localhost:8080/"
    },
    "id": "4mB4fTWfeuNC",
    "outputId": "5976be90-c95f-45a3-ca2c-d56209b290c1"
   },
   "execution_count": 59,
   "outputs": [
    {
     "name": "stdout",
     "output_type": "stream",
     "text": [
      "100\n"
     ]
    }
   ]
  },
  {
   "cell_type": "markdown",
   "source": [
    "Если же мы хотим, чтобы функция использовала локальную переменную, нужно обозначить эту переменную локально. Тогда у нас будет две переменных `x` - локальная в функции и глобальная"
   ],
   "metadata": {
    "id": "kS0QI2CSe-_q"
   }
  },
  {
   "cell_type": "code",
   "source": [
    "x = 10\n",
    "y = 10\n",
    "\n",
    "def g():\n",
    "  x = 10\n",
    "  x *= 10\n",
    "  print(x)\n",
    "\n",
    "g()\n",
    "print(x)"
   ],
   "metadata": {
    "colab": {
     "base_uri": "https://localhost:8080/"
    },
    "id": "nnRZstPpfQd2",
    "outputId": "fea5d023-9cf0-4d81-a74e-97493c8cae7e"
   },
   "execution_count": 18,
   "outputs": [
    {
     "name": "stdout",
     "output_type": "stream",
     "text": [
      "100\n",
      "10\n"
     ]
    }
   ]
  },
  {
   "cell_type": "code",
   "source": [
    "x = 10\n",
    "\n",
    "def g(x):\n",
    "  x *= 10\n",
    "\n",
    "print(x)"
   ],
   "metadata": {
    "colab": {
     "base_uri": "https://localhost:8080/"
    },
    "id": "Q60Xu9KfGImV",
    "outputId": "16027a11-5030-4400-cc2d-c81f3349ba3e"
   },
   "execution_count": 60,
   "outputs": [
    {
     "name": "stdout",
     "output_type": "stream",
     "text": [
      "10\n"
     ]
    }
   ]
  },
  {
   "cell_type": "markdown",
   "source": [
    "## Работа с файлами"
   ],
   "metadata": {
    "id": "U3r32N5t7PDa"
   }
  },
  {
   "cell_type": "markdown",
   "source": [
    "Давайте откроем файл на чтение "
   ],
   "metadata": {
    "id": "BOz896vt7wXm"
   }
  },
  {
   "cell_type": "markdown",
   "source": [],
   "metadata": {
    "id": "WFHCB318OMht"
   }
  },
  {
   "cell_type": "markdown",
   "source": [
    "r - чтение\n",
    "w - запись\n",
    "r+ - чтение и запись\n",
    "w+ - чтение и запись\n",
    "a+ - чтение и запись "
   ],
   "metadata": {
    "id": "lowOmA_tOTgq"
   }
  },
  {
   "cell_type": "code",
   "source": [
    "f = open('input.txt', 'r')"
   ],
   "metadata": {
    "id": "V3ysH6gC6Dzp"
   },
   "execution_count": 62,
   "outputs": []
  },
  {
   "cell_type": "markdown",
   "source": [
    "Построчно считаем файл"
   ],
   "metadata": {
    "id": "zptZHwWR9N74"
   }
  },
  {
   "cell_type": "code",
   "source": [
    "for line in f.readlines():\n",
    "  print(line)"
   ],
   "metadata": {
    "colab": {
     "base_uri": "https://localhost:8080/"
    },
    "id": "Z5D_jT0t7pfB",
    "outputId": "a1ab66a9-11c1-4fff-cd58-a21392a231c7"
   },
   "execution_count": null,
   "outputs": [
    {
     "output_type": "stream",
     "name": "stdout",
     "text": [
      "1 2\n",
      "\n",
      "3 4\n"
     ]
    }
   ]
  },
  {
   "cell_type": "markdown",
   "source": [
    "Не забываем закрывать файл после чтения. Иначе мы будет зря тратить оперативную память и можем потерять данные из файла"
   ],
   "metadata": {
    "id": "oN0Izq8P8x5F"
   }
  },
  {
   "cell_type": "code",
   "source": [
    "f.close()"
   ],
   "metadata": {
    "id": "hPsaZlnA8w91"
   },
   "execution_count": null,
   "outputs": []
  },
  {
   "cell_type": "markdown",
   "source": [
    "Теперь считаем файл одной строкой"
   ],
   "metadata": {
    "id": "BcDHSZXV9Rtf"
   }
  },
  {
   "cell_type": "code",
   "source": [
    "f = open('input.txt', 'r')\n",
    "f.read()"
   ],
   "metadata": {
    "colab": {
     "base_uri": "https://localhost:8080/",
     "height": 36
    },
    "id": "azq963up7-nB",
    "outputId": "19e29fc9-396f-456d-c425-7d4e3a22d33c"
   },
   "execution_count": null,
   "outputs": [
    {
     "output_type": "execute_result",
     "data": {
      "text/plain": [
       "'1 2\\n3 4'"
      ],
      "application/vnd.google.colaboratory.intrinsic+json": {
       "type": "string"
      }
     },
     "metadata": {},
     "execution_count": 88
    }
   ]
  },
  {
   "cell_type": "code",
   "source": [
    "f.close()"
   ],
   "metadata": {
    "id": "rudfS_ix9Hlj"
   },
   "execution_count": null,
   "outputs": []
  },
  {
   "cell_type": "markdown",
   "source": [
    "Чаще всего пользуются конструкцией `with` так как она автоматически закрывает файл"
   ],
   "metadata": {
    "id": "AnyPDXQT9W15"
   }
  },
  {
   "cell_type": "code",
   "source": [
    "with open('input.txt', 'r') as f:\n",
    "  data = f.readlines()\n",
    "print(data)"
   ],
   "metadata": {
    "id": "cA_6xqVB9JHl",
    "colab": {
     "base_uri": "https://localhost:8080/"
    },
    "outputId": "4a973668-ad7f-48c1-b5e8-f4a04168d90c"
   },
   "execution_count": null,
   "outputs": [
    {
     "output_type": "stream",
     "name": "stdout",
     "text": [
      "['1 2\\n', '3 4']\n"
     ]
    }
   ]
  },
  {
   "cell_type": "markdown",
   "source": [],
   "metadata": {
    "id": "acjtQ9TX_Msl"
   }
  },
  {
   "cell_type": "markdown",
   "source": [
    "Дается две последовательности\n",
    "* первая последовательность из функций непоределенной\n",
    "длины\n",
    "* вторая последовательность стостоит из функций неопределенной длины\n",
    "Нужно посчитать попарную суперпозицию функций"
   ],
   "metadata": {
    "id": "gNBjHaaQPeFS"
   }
  },
  {
   "cell_type": "code",
   "source": [
    "from math import log, sqrt, exp, pi"
   ],
   "metadata": {
    "id": "eIJ6HCHcQKW3"
   },
   "execution_count": 20,
   "outputs": []
  },
  {
   "cell_type": "code",
   "source": [
    "a = [log, abs, sqrt, exp, abs]\n",
    "b = [abs, sqrt, exp, log, sqrt]\n",
    "x = pi\n",
    "\n",
    "\n",
    "def superposition(x, *args):\n",
    "  print(len(args))\n",
    "  for i in range(0, len(args) // 2):\n",
    "    print(args[i](args[i + (len(args) // 2)](x)))\n",
    "\n",
    "superposition(x, *(a + b))"
   ],
   "metadata": {
    "id": "0Q20y-pv_BN_",
    "colab": {
     "base_uri": "https://localhost:8080/",
     "height": 359
    },
    "outputId": "548eac21-d903-403e-e6e3-d682459ff06c"
   },
   "execution_count": 33,
   "outputs": [
    {
     "name": "stdout",
     "output_type": "stream",
     "text": [
      "10\n",
      "1.1447298858494002\n",
      "1.7724538509055159\n",
      "4.810477380965351\n",
      "3.141592653589793\n",
      "1.7724538509055159\n"
     ]
    }
   ]
  },
  {
   "cell_type": "code",
   "execution_count": null,
   "outputs": [],
   "source": [],
   "metadata": {
    "collapsed": false
   }
  }
 ]
}
