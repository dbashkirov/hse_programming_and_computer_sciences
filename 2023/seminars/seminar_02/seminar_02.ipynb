{
 "cells": [
  {
   "cell_type": "markdown",
   "source": [
    "## Декораторы\n",
    "\n",
    "Декоратор - инструмент для добавления функционала к уже существующим функциям. Используется, например, для логирования, авторизации и т.д."
   ],
   "metadata": {
    "collapsed": false
   }
  },
  {
   "cell_type": "code",
   "execution_count": 1,
   "metadata": {
    "collapsed": true
   },
   "outputs": [],
   "source": [
    "def f():\n",
    "    pass"
   ]
  },
  {
   "cell_type": "code",
   "execution_count": 2,
   "outputs": [],
   "source": [
    "def decorator_hello(f):\n",
    "    def wrapper(*args, **kwargs):\n",
    "        print(\"Привет, я функция!\")\n",
    "        res = f(*args, **kwargs)\n",
    "        return res\n",
    "\n",
    "    return wrapper"
   ],
   "metadata": {
    "collapsed": false
   }
  },
  {
   "cell_type": "code",
   "execution_count": 3,
   "outputs": [],
   "source": [
    "@decorator_hello\n",
    "def add(a, b):\n",
    "    return a + b\n",
    "\n",
    "\n",
    "@decorator_hello\n",
    "def multiply(a, b):\n",
    "    return a * b"
   ],
   "metadata": {
    "collapsed": false
   }
  },
  {
   "cell_type": "code",
   "execution_count": 4,
   "outputs": [
    {
     "name": "stdout",
     "output_type": "stream",
     "text": [
      "Привет, я функция!\n"
     ]
    },
    {
     "data": {
      "text/plain": "30"
     },
     "execution_count": 4,
     "metadata": {},
     "output_type": "execute_result"
    }
   ],
   "source": [
    "add(10, 20)"
   ],
   "metadata": {
    "collapsed": false
   }
  },
  {
   "cell_type": "code",
   "execution_count": 5,
   "outputs": [
    {
     "name": "stdout",
     "output_type": "stream",
     "text": [
      "Привет, я функция!\n"
     ]
    },
    {
     "data": {
      "text/plain": "200"
     },
     "execution_count": 5,
     "metadata": {},
     "output_type": "execute_result"
    }
   ],
   "source": [
    "multiply(10, 20)"
   ],
   "metadata": {
    "collapsed": false
   }
  },
  {
   "cell_type": "markdown",
   "source": [],
   "metadata": {
    "collapsed": false
   }
  },
  {
   "cell_type": "code",
   "execution_count": 9,
   "outputs": [],
   "source": [
    "multiply = decorator_hello(multiply)"
   ],
   "metadata": {
    "collapsed": false
   }
  },
  {
   "cell_type": "code",
   "execution_count": 10,
   "outputs": [
    {
     "name": "stdout",
     "output_type": "stream",
     "text": [
      "Привет, я функция!\n"
     ]
    },
    {
     "data": {
      "text/plain": "200"
     },
     "execution_count": 10,
     "metadata": {},
     "output_type": "execute_result"
    }
   ],
   "source": [
    "multiply(10, 20)"
   ],
   "metadata": {
    "collapsed": false
   }
  },
  {
   "cell_type": "code",
   "execution_count": 11,
   "outputs": [],
   "source": [
    "def decorator(f):\n",
    "    def wrapper(*args, **kwargs):\n",
    "        print(\"=== Start ===\")\n",
    "        res = f(*args, **kwargs)\n",
    "        print(\"=== Finish ===\")\n",
    "        return res\n",
    "\n",
    "    return wrapper\n",
    "\n",
    "\n",
    "@decorator\n",
    "def f(a, b):\n",
    "    return a + b\n",
    "\n",
    "\n",
    "@decorator\n",
    "def g(s):\n",
    "    print(\"function g running\")\n",
    "    return s.upper()"
   ],
   "metadata": {
    "collapsed": false
   }
  },
  {
   "cell_type": "code",
   "execution_count": 12,
   "outputs": [
    {
     "name": "stdout",
     "output_type": "stream",
     "text": [
      "=== Start ===\n",
      "function g running\n",
      "=== Finish ===\n"
     ]
    },
    {
     "data": {
      "text/plain": "'HELLO'"
     },
     "execution_count": 12,
     "metadata": {},
     "output_type": "execute_result"
    }
   ],
   "source": [
    "g(\"hello\")"
   ],
   "metadata": {
    "collapsed": false
   }
  },
  {
   "cell_type": "code",
   "execution_count": 13,
   "outputs": [
    {
     "name": "stdout",
     "output_type": "stream",
     "text": [
      "=== Start ===\n",
      "=== Finish ===\n"
     ]
    },
    {
     "data": {
      "text/plain": "21"
     },
     "execution_count": 13,
     "metadata": {},
     "output_type": "execute_result"
    }
   ],
   "source": [
    "f(10, 11)"
   ],
   "metadata": {
    "collapsed": false
   }
  },
  {
   "cell_type": "markdown",
   "source": [
    "Давайте напишем декоратор таймер:"
   ],
   "metadata": {
    "collapsed": false
   }
  },
  {
   "cell_type": "code",
   "execution_count": 14,
   "outputs": [],
   "source": [
    "import time\n",
    "\n",
    "\n",
    "def timer(f):\n",
    "    def wrapper(*args, **kwargs):\n",
    "        start = time.time()\n",
    "        time.sleep(2)\n",
    "        res = f(*args, **kwargs)\n",
    "        end = time.time()\n",
    "        print(f\"Наша функция {f.__name__} работала {end - start:.4f} секунд\")\n",
    "        return res\n",
    "\n",
    "    return wrapper"
   ],
   "metadata": {
    "collapsed": false
   }
  },
  {
   "cell_type": "code",
   "execution_count": 15,
   "outputs": [],
   "source": [
    "@timer\n",
    "def add(a, b):\n",
    "    return a + b\n",
    "\n",
    "\n",
    "@timer\n",
    "def multiply(a, b):\n",
    "    return a * b"
   ],
   "metadata": {
    "collapsed": false
   }
  },
  {
   "cell_type": "code",
   "execution_count": 16,
   "outputs": [
    {
     "name": "stdout",
     "output_type": "stream",
     "text": [
      "Наша функция add работала 2.0050 секунд\n"
     ]
    },
    {
     "data": {
      "text/plain": "3"
     },
     "execution_count": 16,
     "metadata": {},
     "output_type": "execute_result"
    }
   ],
   "source": [
    "add(1, 2)"
   ],
   "metadata": {
    "collapsed": false
   }
  },
  {
   "cell_type": "code",
   "execution_count": 17,
   "outputs": [
    {
     "name": "stdout",
     "output_type": "stream",
     "text": [
      "Наша функция multiply работала 2.0041 секунд\n"
     ]
    },
    {
     "data": {
      "text/plain": "2"
     },
     "execution_count": 17,
     "metadata": {},
     "output_type": "execute_result"
    }
   ],
   "source": [
    "multiply(1, 2)"
   ],
   "metadata": {
    "collapsed": false
   }
  },
  {
   "cell_type": "markdown",
   "source": [
    "@wraps - декоратор используемый для сохранения названия, описания, списка аргументов и т.д. \\\n",
    "Очень полезная вещь, так как без нее мы бы получали данные обертки, а не исходной функции"
   ],
   "metadata": {
    "collapsed": false
   }
  },
  {
   "cell_type": "code",
   "execution_count": 18,
   "outputs": [],
   "source": [
    "from functools import wraps"
   ],
   "metadata": {
    "collapsed": false
   }
  },
  {
   "cell_type": "code",
   "execution_count": 26,
   "outputs": [],
   "source": [
    "def introduce_first(func):\n",
    "    @wraps(func)\n",
    "    def wrapped_function(*args, print_name=False, **kwargs):\n",
    "        if print_name:\n",
    "            print(func.__name__)\n",
    "        return func(*args, **kwargs)\n",
    "\n",
    "    return wrapped_function"
   ],
   "metadata": {
    "collapsed": false
   }
  },
  {
   "cell_type": "code",
   "execution_count": 27,
   "outputs": [],
   "source": [
    "@introduce_first\n",
    "def test_func(a, b):\n",
    "    \"\"\"\n",
    "    some simple sum\n",
    "    \"\"\"\n",
    "    return 5 * a + 3 * b"
   ],
   "metadata": {
    "collapsed": false
   }
  },
  {
   "cell_type": "code",
   "execution_count": 28,
   "outputs": [
    {
     "name": "stdout",
     "output_type": "stream",
     "text": [
      "test_func\n"
     ]
    },
    {
     "data": {
      "text/plain": "65"
     },
     "execution_count": 28,
     "metadata": {},
     "output_type": "execute_result"
    }
   ],
   "source": [
    "test_func(10, 5, print_name=True)"
   ],
   "metadata": {
    "collapsed": false
   }
  },
  {
   "cell_type": "code",
   "execution_count": 29,
   "outputs": [
    {
     "name": "stdout",
     "output_type": "stream",
     "text": [
      "test_func\n",
      "\n",
      "    some simple sum\n",
      "    \n"
     ]
    }
   ],
   "source": [
    "print(test_func.__name__)\n",
    "print(test_func.__doc__)"
   ],
   "metadata": {
    "collapsed": false
   }
  }
 ],
 "metadata": {
  "kernelspec": {
   "display_name": "Python 3",
   "language": "python",
   "name": "python3"
  },
  "language_info": {
   "codemirror_mode": {
    "name": "ipython",
    "version": 2
   },
   "file_extension": ".py",
   "mimetype": "text/x-python",
   "name": "python",
   "nbconvert_exporter": "python",
   "pygments_lexer": "ipython2",
   "version": "2.7.6"
  }
 },
 "nbformat": 4,
 "nbformat_minor": 0
}
